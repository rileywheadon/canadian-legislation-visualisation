{
 "cells": [
  {
   "cell_type": "markdown",
   "id": "831c6a7f-989d-42ff-a94d-c65e9078f000",
   "metadata": {},
   "source": [
    "## Exploratory Data Analysis of Canadian Bill Data (1994 - 2022)"
   ]
  },
  {
   "cell_type": "code",
   "execution_count": 499,
   "id": "5a186a8c-093e-4334-8f54-68264fb5aa54",
   "metadata": {},
   "outputs": [],
   "source": [
    "# Import Python libraries\n",
    "import pandas as pd\n",
    "import numpy as np\n",
    "import plotly.express as px"
   ]
  },
  {
   "cell_type": "code",
   "execution_count": 500,
   "id": "5402e03e-1a93-4167-8cfa-ef5d08187d6f",
   "metadata": {},
   "outputs": [
    {
     "data": {
      "text/html": [
       "<div>\n",
       "<style scoped>\n",
       "    .dataframe tbody tr th:only-of-type {\n",
       "        vertical-align: middle;\n",
       "    }\n",
       "\n",
       "    .dataframe tbody tr th {\n",
       "        vertical-align: top;\n",
       "    }\n",
       "\n",
       "    .dataframe thead th {\n",
       "        text-align: right;\n",
       "    }\n",
       "</style>\n",
       "<table border=\"1\" class=\"dataframe\">\n",
       "  <thead>\n",
       "    <tr style=\"text-align: right;\">\n",
       "      <th></th>\n",
       "      <th>Id</th>\n",
       "      <th>SponsorName</th>\n",
       "      <th>SponsorTitle</th>\n",
       "      <th>Constituency</th>\n",
       "      <th>Political Affiliation</th>\n",
       "      <th>Code</th>\n",
       "      <th>Title</th>\n",
       "      <th>LatestStageName</th>\n",
       "      <th>ParliamentNumber</th>\n",
       "      <th>SessionNumber</th>\n",
       "      <th>BillType</th>\n",
       "      <th>ReceivedRoyalAssent</th>\n",
       "      <th>Ongoing</th>\n",
       "      <th>ReadingsPassed</th>\n",
       "      <th>BillOrigin</th>\n",
       "      <th>FirstStageDate</th>\n",
       "      <th>LastStageDate</th>\n",
       "      <th>TimeAlive</th>\n",
       "    </tr>\n",
       "  </thead>\n",
       "  <tbody>\n",
       "    <tr>\n",
       "      <th>0</th>\n",
       "      <td>44-1/S-1</td>\n",
       "      <td>Yuen Pau Woo</td>\n",
       "      <td>Senator</td>\n",
       "      <td>None</td>\n",
       "      <td>NaN</td>\n",
       "      <td>S-1</td>\n",
       "      <td>An Act relating to railways</td>\n",
       "      <td>First reading in the Senate</td>\n",
       "      <td>44</td>\n",
       "      <td>1</td>\n",
       "      <td>Senate Public Bill</td>\n",
       "      <td>False</td>\n",
       "      <td>True</td>\n",
       "      <td>1</td>\n",
       "      <td>IsSenateBill</td>\n",
       "      <td>2021-11-22</td>\n",
       "      <td>2021-11-22</td>\n",
       "      <td>0 days</td>\n",
       "    </tr>\n",
       "    <tr>\n",
       "      <th>1</th>\n",
       "      <td>43-2/S-1</td>\n",
       "      <td>Marc Gold</td>\n",
       "      <td>Senator</td>\n",
       "      <td>None</td>\n",
       "      <td>NaN</td>\n",
       "      <td>S-1</td>\n",
       "      <td>An Act relating to railways</td>\n",
       "      <td>First reading in the Senate</td>\n",
       "      <td>43</td>\n",
       "      <td>2</td>\n",
       "      <td>Senate Public Bill</td>\n",
       "      <td>False</td>\n",
       "      <td>False</td>\n",
       "      <td>1</td>\n",
       "      <td>IsSenateBill</td>\n",
       "      <td>2020-09-22</td>\n",
       "      <td>2020-09-22</td>\n",
       "      <td>0 days</td>\n",
       "    </tr>\n",
       "    <tr>\n",
       "      <th>2</th>\n",
       "      <td>43-1/S-1</td>\n",
       "      <td>Joseph Day</td>\n",
       "      <td>Senator</td>\n",
       "      <td>None</td>\n",
       "      <td>NaN</td>\n",
       "      <td>S-1</td>\n",
       "      <td>An Act relating to railways</td>\n",
       "      <td>First reading in the Senate</td>\n",
       "      <td>43</td>\n",
       "      <td>1</td>\n",
       "      <td>Senate Public Bill</td>\n",
       "      <td>False</td>\n",
       "      <td>False</td>\n",
       "      <td>1</td>\n",
       "      <td>IsSenateBill</td>\n",
       "      <td>2019-12-04</td>\n",
       "      <td>2019-12-04</td>\n",
       "      <td>0 days</td>\n",
       "    </tr>\n",
       "  </tbody>\n",
       "</table>\n",
       "</div>"
      ],
      "text/plain": [
       "         Id   SponsorName SponsorTitle Constituency Political Affiliation  \\\n",
       "0  44-1/S-1  Yuen Pau Woo      Senator         None                   NaN   \n",
       "1  43-2/S-1     Marc Gold      Senator         None                   NaN   \n",
       "2  43-1/S-1    Joseph Day      Senator         None                   NaN   \n",
       "\n",
       "  Code                        Title              LatestStageName  \\\n",
       "0  S-1  An Act relating to railways  First reading in the Senate   \n",
       "1  S-1  An Act relating to railways  First reading in the Senate   \n",
       "2  S-1  An Act relating to railways  First reading in the Senate   \n",
       "\n",
       "   ParliamentNumber  SessionNumber            BillType  ReceivedRoyalAssent  \\\n",
       "0                44              1  Senate Public Bill                False   \n",
       "1                43              2  Senate Public Bill                False   \n",
       "2                43              1  Senate Public Bill                False   \n",
       "\n",
       "   Ongoing  ReadingsPassed    BillOrigin FirstStageDate LastStageDate  \\\n",
       "0     True               1  IsSenateBill     2021-11-22    2021-11-22   \n",
       "1    False               1  IsSenateBill     2020-09-22    2020-09-22   \n",
       "2    False               1  IsSenateBill     2019-12-04    2019-12-04   \n",
       "\n",
       "  TimeAlive  \n",
       "0    0 days  \n",
       "1    0 days  \n",
       "2    0 days  "
      ]
     },
     "metadata": {},
     "output_type": "display_data"
    }
   ],
   "source": [
    "# Read aggregated datasets\n",
    "data = pd.read_csv('../data/cleaned/bill_data.csv')\n",
    "parliaments = pd.read_csv('../data/cleaned/parliament_data.csv')\n",
    "\n",
    "# Change parliaments columns back to datetime format\n",
    "for col in ['StartDate', 'EndDate']:\n",
    "    parliaments[col] = pd.to_datetime(parliaments[col])\n",
    "\n",
    "parliaments['Duration'] = pd.to_timedelta(parliaments['Duration'])\n",
    "\n",
    "# Display all columns\n",
    "with pd.option_context('display.max_columns', None): \n",
    "    display(data.head(3))"
   ]
  },
  {
   "cell_type": "markdown",
   "id": "6b7b7890-e03a-4123-a542-650d98f32ce3",
   "metadata": {},
   "source": [
    "Visualization Ideas:\n",
    "1. Number of bills in each parliament (do parliaments have consistent length?)\n",
    "2. Number and percentage of bills by type\n",
    "3. Number of bills that made it to each stage (bar chart)\n",
    "4. Mean, median, and outliers of the time spent debating (amongst bills that received royal assent)\n",
    "5. Number of bills sponsored by political affiliation (take a subset of years as well, compare Harper and Trudeau eras)\n",
    "6. Group the bills by title if possible\n",
    "\n",
    "Out of Curiosity:\n",
    "- Which person sponsored the greatest number of bills, also sort by role (Senator, MP, other?)\n",
    "- Which constituency sponsored the greatest number of bills"
   ]
  },
  {
   "cell_type": "markdown",
   "id": "1a913966-1967-4113-b471-cf3129ee0463",
   "metadata": {},
   "source": [
    "### Part 1: Bills by Parliament Number"
   ]
  },
  {
   "cell_type": "code",
   "execution_count": 501,
   "id": "db182928-ceb7-4a1e-ba76-5d86d785a0f1",
   "metadata": {},
   "outputs": [
    {
     "data": {
      "text/html": [
       "<div>\n",
       "<style scoped>\n",
       "    .dataframe tbody tr th:only-of-type {\n",
       "        vertical-align: middle;\n",
       "    }\n",
       "\n",
       "    .dataframe tbody tr th {\n",
       "        vertical-align: top;\n",
       "    }\n",
       "\n",
       "    .dataframe thead th {\n",
       "        text-align: right;\n",
       "    }\n",
       "</style>\n",
       "<table border=\"1\" class=\"dataframe\">\n",
       "  <thead>\n",
       "    <tr style=\"text-align: right;\">\n",
       "      <th></th>\n",
       "      <th>ParliamentNumber</th>\n",
       "      <th>SessionNumber</th>\n",
       "      <th>BillsPassed</th>\n",
       "      <th>TotalReadingsPassed</th>\n",
       "      <th>UniqueBills</th>\n",
       "    </tr>\n",
       "  </thead>\n",
       "  <tbody>\n",
       "    <tr>\n",
       "      <th>0</th>\n",
       "      <td>35</td>\n",
       "      <td>1</td>\n",
       "      <td>101</td>\n",
       "      <td>845</td>\n",
       "      <td>300</td>\n",
       "    </tr>\n",
       "    <tr>\n",
       "      <th>1</th>\n",
       "      <td>35</td>\n",
       "      <td>2</td>\n",
       "      <td>69</td>\n",
       "      <td>755</td>\n",
       "      <td>358</td>\n",
       "    </tr>\n",
       "    <tr>\n",
       "      <th>2</th>\n",
       "      <td>36</td>\n",
       "      <td>1</td>\n",
       "      <td>86</td>\n",
       "      <td>907</td>\n",
       "      <td>438</td>\n",
       "    </tr>\n",
       "    <tr>\n",
       "      <th>3</th>\n",
       "      <td>36</td>\n",
       "      <td>2</td>\n",
       "      <td>38</td>\n",
       "      <td>625</td>\n",
       "      <td>390</td>\n",
       "    </tr>\n",
       "  </tbody>\n",
       "</table>\n",
       "</div>"
      ],
      "text/plain": [
       "   ParliamentNumber  SessionNumber  BillsPassed  TotalReadingsPassed  \\\n",
       "0                35              1          101                  845   \n",
       "1                35              2           69                  755   \n",
       "2                36              1           86                  907   \n",
       "3                36              2           38                  625   \n",
       "\n",
       "   UniqueBills  \n",
       "0          300  \n",
       "1          358  \n",
       "2          438  \n",
       "3          390  "
      ]
     },
     "metadata": {},
     "output_type": "display_data"
    }
   ],
   "source": [
    "# Number of bills in each parliament\n",
    "plot_1 = data[[\n",
    "    'ParliamentNumber',\n",
    "    'SessionNumber',\n",
    "    'ReceivedRoyalAssent', \n",
    "    'ReadingsPassed'\n",
    "]].groupby([\n",
    "    'ParliamentNumber',\n",
    "    'SessionNumber'\n",
    "])\n",
    "\n",
    "plot_1 = pd.concat([\n",
    "    plot_1.sum(), \n",
    "    plot_1.size()], \n",
    "    axis = 1\n",
    ")\n",
    "\n",
    "plot_1.rename(columns = {\n",
    "    'ReceivedRoyalAssent': 'BillsPassed',\n",
    "    'ReadingsPassed': 'TotalReadingsPassed',\n",
    "    0: 'UniqueBills'\n",
    "}, inplace = True)\n",
    "\n",
    "plot_1.reset_index(inplace = True)\n",
    "\n",
    "display(plot_1.head(4))"
   ]
  },
  {
   "cell_type": "code",
   "execution_count": 502,
   "id": "b502915b-e789-491f-8fca-147b7ed6f67f",
   "metadata": {},
   "outputs": [
    {
     "data": {
      "text/html": [
       "<div>\n",
       "<style scoped>\n",
       "    .dataframe tbody tr th:only-of-type {\n",
       "        vertical-align: middle;\n",
       "    }\n",
       "\n",
       "    .dataframe tbody tr th {\n",
       "        vertical-align: top;\n",
       "    }\n",
       "\n",
       "    .dataframe thead th {\n",
       "        text-align: right;\n",
       "    }\n",
       "</style>\n",
       "<table border=\"1\" class=\"dataframe\">\n",
       "  <thead>\n",
       "    <tr style=\"text-align: right;\">\n",
       "      <th></th>\n",
       "      <th>ParliamentNumber</th>\n",
       "      <th>SessionNumber</th>\n",
       "      <th>BillsPassed</th>\n",
       "      <th>TotalReadingsPassed</th>\n",
       "      <th>UniqueBills</th>\n",
       "      <th>Party</th>\n",
       "      <th>PrimeMinister</th>\n",
       "      <th>Minority</th>\n",
       "      <th>StartDate</th>\n",
       "      <th>EndDate</th>\n",
       "      <th>Duration</th>\n",
       "      <th>SenateSittings</th>\n",
       "      <th>HouseSittings</th>\n",
       "    </tr>\n",
       "  </thead>\n",
       "  <tbody>\n",
       "    <tr>\n",
       "      <th>0</th>\n",
       "      <td>35</td>\n",
       "      <td>1</td>\n",
       "      <td>101</td>\n",
       "      <td>845</td>\n",
       "      <td>300</td>\n",
       "      <td>Liberal Party</td>\n",
       "      <td>Jean Chrétien</td>\n",
       "      <td>False</td>\n",
       "      <td>1994-01-17</td>\n",
       "      <td>1996-02-02</td>\n",
       "      <td>746 days</td>\n",
       "      <td>133.0</td>\n",
       "      <td>278</td>\n",
       "    </tr>\n",
       "    <tr>\n",
       "      <th>1</th>\n",
       "      <td>35</td>\n",
       "      <td>2</td>\n",
       "      <td>69</td>\n",
       "      <td>755</td>\n",
       "      <td>358</td>\n",
       "      <td>Liberal Party</td>\n",
       "      <td>Jean Chrétien</td>\n",
       "      <td>False</td>\n",
       "      <td>1996-02-27</td>\n",
       "      <td>1997-04-27</td>\n",
       "      <td>425 days</td>\n",
       "      <td>96.0</td>\n",
       "      <td>164</td>\n",
       "    </tr>\n",
       "    <tr>\n",
       "      <th>2</th>\n",
       "      <td>36</td>\n",
       "      <td>1</td>\n",
       "      <td>86</td>\n",
       "      <td>907</td>\n",
       "      <td>438</td>\n",
       "      <td>Liberal Party</td>\n",
       "      <td>Jean Chrétien</td>\n",
       "      <td>False</td>\n",
       "      <td>1997-09-22</td>\n",
       "      <td>1999-09-18</td>\n",
       "      <td>726 days</td>\n",
       "      <td>158.0</td>\n",
       "      <td>243</td>\n",
       "    </tr>\n",
       "    <tr>\n",
       "      <th>3</th>\n",
       "      <td>36</td>\n",
       "      <td>2</td>\n",
       "      <td>38</td>\n",
       "      <td>625</td>\n",
       "      <td>390</td>\n",
       "      <td>Liberal Party</td>\n",
       "      <td>Jean Chrétien</td>\n",
       "      <td>False</td>\n",
       "      <td>1999-10-12</td>\n",
       "      <td>2000-10-22</td>\n",
       "      <td>376 days</td>\n",
       "      <td>84.0</td>\n",
       "      <td>133</td>\n",
       "    </tr>\n",
       "  </tbody>\n",
       "</table>\n",
       "</div>"
      ],
      "text/plain": [
       "   ParliamentNumber  SessionNumber  BillsPassed  TotalReadingsPassed  \\\n",
       "0                35              1          101                  845   \n",
       "1                35              2           69                  755   \n",
       "2                36              1           86                  907   \n",
       "3                36              2           38                  625   \n",
       "\n",
       "   UniqueBills          Party  PrimeMinister  Minority  StartDate    EndDate  \\\n",
       "0          300  Liberal Party  Jean Chrétien     False 1994-01-17 1996-02-02   \n",
       "1          358  Liberal Party  Jean Chrétien     False 1996-02-27 1997-04-27   \n",
       "2          438  Liberal Party  Jean Chrétien     False 1997-09-22 1999-09-18   \n",
       "3          390  Liberal Party  Jean Chrétien     False 1999-10-12 2000-10-22   \n",
       "\n",
       "  Duration  SenateSittings  HouseSittings  \n",
       "0 746 days           133.0            278  \n",
       "1 425 days            96.0            164  \n",
       "2 726 days           158.0            243  \n",
       "3 376 days            84.0            133  "
      ]
     },
     "metadata": {},
     "output_type": "display_data"
    }
   ],
   "source": [
    "# Merge with parliament data\n",
    "plot_1 = pd.merge(plot_1, parliaments, on = ['ParliamentNumber', 'SessionNumber'], how = 'left')\n",
    "display(plot_1.head(4))"
   ]
  },
  {
   "cell_type": "code",
   "execution_count": 503,
   "id": "977e4bf4-8f3d-48eb-a5ea-759dcd3df9fc",
   "metadata": {},
   "outputs": [
    {
     "data": {
      "text/html": [
       "<div>\n",
       "<style scoped>\n",
       "    .dataframe tbody tr th:only-of-type {\n",
       "        vertical-align: middle;\n",
       "    }\n",
       "\n",
       "    .dataframe tbody tr th {\n",
       "        vertical-align: top;\n",
       "    }\n",
       "\n",
       "    .dataframe thead th {\n",
       "        text-align: right;\n",
       "    }\n",
       "</style>\n",
       "<table border=\"1\" class=\"dataframe\">\n",
       "  <thead>\n",
       "    <tr style=\"text-align: right;\">\n",
       "      <th></th>\n",
       "      <th>ParliamentNumber</th>\n",
       "      <th>SessionNumber</th>\n",
       "      <th>BillsPassed</th>\n",
       "      <th>TotalReadingsPassed</th>\n",
       "      <th>UniqueBills</th>\n",
       "      <th>Party</th>\n",
       "      <th>PrimeMinister</th>\n",
       "      <th>Minority</th>\n",
       "      <th>StartDate</th>\n",
       "      <th>EndDate</th>\n",
       "      <th>Duration</th>\n",
       "      <th>SenateSittings</th>\n",
       "      <th>HouseSittings</th>\n",
       "      <th>ReadingsPerDay</th>\n",
       "      <th>BillsPerDay</th>\n",
       "    </tr>\n",
       "  </thead>\n",
       "  <tbody>\n",
       "    <tr>\n",
       "      <th>0</th>\n",
       "      <td>35</td>\n",
       "      <td>1</td>\n",
       "      <td>101</td>\n",
       "      <td>845</td>\n",
       "      <td>300</td>\n",
       "      <td>Liberal Party</td>\n",
       "      <td>Jean Chrétien</td>\n",
       "      <td>False</td>\n",
       "      <td>1994-01-17</td>\n",
       "      <td>1996-02-02</td>\n",
       "      <td>746 days</td>\n",
       "      <td>133.0</td>\n",
       "      <td>278</td>\n",
       "      <td>1.132708</td>\n",
       "      <td>0.135389</td>\n",
       "    </tr>\n",
       "    <tr>\n",
       "      <th>1</th>\n",
       "      <td>35</td>\n",
       "      <td>2</td>\n",
       "      <td>69</td>\n",
       "      <td>755</td>\n",
       "      <td>358</td>\n",
       "      <td>Liberal Party</td>\n",
       "      <td>Jean Chrétien</td>\n",
       "      <td>False</td>\n",
       "      <td>1996-02-27</td>\n",
       "      <td>1997-04-27</td>\n",
       "      <td>425 days</td>\n",
       "      <td>96.0</td>\n",
       "      <td>164</td>\n",
       "      <td>1.776471</td>\n",
       "      <td>0.162353</td>\n",
       "    </tr>\n",
       "    <tr>\n",
       "      <th>2</th>\n",
       "      <td>36</td>\n",
       "      <td>1</td>\n",
       "      <td>86</td>\n",
       "      <td>907</td>\n",
       "      <td>438</td>\n",
       "      <td>Liberal Party</td>\n",
       "      <td>Jean Chrétien</td>\n",
       "      <td>False</td>\n",
       "      <td>1997-09-22</td>\n",
       "      <td>1999-09-18</td>\n",
       "      <td>726 days</td>\n",
       "      <td>158.0</td>\n",
       "      <td>243</td>\n",
       "      <td>1.249311</td>\n",
       "      <td>0.118457</td>\n",
       "    </tr>\n",
       "  </tbody>\n",
       "</table>\n",
       "</div>"
      ],
      "text/plain": [
       "   ParliamentNumber  SessionNumber  BillsPassed  TotalReadingsPassed  \\\n",
       "0                35              1          101                  845   \n",
       "1                35              2           69                  755   \n",
       "2                36              1           86                  907   \n",
       "\n",
       "   UniqueBills          Party  PrimeMinister  Minority  StartDate    EndDate  \\\n",
       "0          300  Liberal Party  Jean Chrétien     False 1994-01-17 1996-02-02   \n",
       "1          358  Liberal Party  Jean Chrétien     False 1996-02-27 1997-04-27   \n",
       "2          438  Liberal Party  Jean Chrétien     False 1997-09-22 1999-09-18   \n",
       "\n",
       "  Duration  SenateSittings  HouseSittings  ReadingsPerDay  BillsPerDay  \n",
       "0 746 days           133.0            278        1.132708     0.135389  \n",
       "1 425 days            96.0            164        1.776471     0.162353  \n",
       "2 726 days           158.0            243        1.249311     0.118457  "
      ]
     },
     "metadata": {},
     "output_type": "display_data"
    }
   ],
   "source": [
    "# Create readings per day and bills per day columns\n",
    "plot_1['ReadingsPerDay'] = plot_1['TotalReadingsPassed'] / plot_1['Duration'].dt.days\n",
    "plot_1['BillsPerDay'] = plot_1['BillsPassed'] / plot_1['Duration'].dt.days\n",
    "\n",
    "display(plot_1.head(3))"
   ]
  },
  {
   "cell_type": "code",
   "execution_count": 504,
   "id": "59569691-2923-49cf-9620-4a85b2be69a6",
   "metadata": {},
   "outputs": [
    {
     "data": {
      "text/html": [
       "<div>\n",
       "<style scoped>\n",
       "    .dataframe tbody tr th:only-of-type {\n",
       "        vertical-align: middle;\n",
       "    }\n",
       "\n",
       "    .dataframe tbody tr th {\n",
       "        vertical-align: top;\n",
       "    }\n",
       "\n",
       "    .dataframe thead th {\n",
       "        text-align: right;\n",
       "    }\n",
       "</style>\n",
       "<table border=\"1\" class=\"dataframe\">\n",
       "  <thead>\n",
       "    <tr style=\"text-align: right;\">\n",
       "      <th></th>\n",
       "      <th>index</th>\n",
       "      <th>ParliamentNumber</th>\n",
       "      <th>SessionNumber</th>\n",
       "      <th>BillsPassed</th>\n",
       "      <th>TotalReadingsPassed</th>\n",
       "      <th>UniqueBills</th>\n",
       "      <th>Party</th>\n",
       "      <th>PrimeMinister</th>\n",
       "      <th>Minority</th>\n",
       "      <th>StartDate</th>\n",
       "      <th>EndDate</th>\n",
       "      <th>Duration</th>\n",
       "      <th>SenateSittings</th>\n",
       "      <th>HouseSittings</th>\n",
       "      <th>ReadingsPerDay</th>\n",
       "      <th>BillsPerDay</th>\n",
       "      <th>Government</th>\n",
       "      <th>StartYear</th>\n",
       "    </tr>\n",
       "  </thead>\n",
       "  <tbody>\n",
       "    <tr>\n",
       "      <th>0</th>\n",
       "      <td>0</td>\n",
       "      <td>35</td>\n",
       "      <td>1</td>\n",
       "      <td>101</td>\n",
       "      <td>845</td>\n",
       "      <td>300</td>\n",
       "      <td>Liberal</td>\n",
       "      <td>Jean Chrétien</td>\n",
       "      <td>Majority</td>\n",
       "      <td>1994-01-17</td>\n",
       "      <td>1996-02-02</td>\n",
       "      <td>746 days</td>\n",
       "      <td>133.0</td>\n",
       "      <td>278</td>\n",
       "      <td>1.132708</td>\n",
       "      <td>0.135389</td>\n",
       "      <td>Liberal Majority</td>\n",
       "      <td>1994</td>\n",
       "    </tr>\n",
       "    <tr>\n",
       "      <th>1</th>\n",
       "      <td>1</td>\n",
       "      <td>35</td>\n",
       "      <td>2</td>\n",
       "      <td>69</td>\n",
       "      <td>755</td>\n",
       "      <td>358</td>\n",
       "      <td>Liberal</td>\n",
       "      <td>Jean Chrétien</td>\n",
       "      <td>Majority</td>\n",
       "      <td>1996-02-27</td>\n",
       "      <td>1997-04-27</td>\n",
       "      <td>425 days</td>\n",
       "      <td>96.0</td>\n",
       "      <td>164</td>\n",
       "      <td>1.776471</td>\n",
       "      <td>0.162353</td>\n",
       "      <td>Liberal Majority</td>\n",
       "      <td>1996</td>\n",
       "    </tr>\n",
       "    <tr>\n",
       "      <th>2</th>\n",
       "      <td>2</td>\n",
       "      <td>36</td>\n",
       "      <td>1</td>\n",
       "      <td>86</td>\n",
       "      <td>907</td>\n",
       "      <td>438</td>\n",
       "      <td>Liberal</td>\n",
       "      <td>Jean Chrétien</td>\n",
       "      <td>Majority</td>\n",
       "      <td>1997-09-22</td>\n",
       "      <td>1999-09-18</td>\n",
       "      <td>726 days</td>\n",
       "      <td>158.0</td>\n",
       "      <td>243</td>\n",
       "      <td>1.249311</td>\n",
       "      <td>0.118457</td>\n",
       "      <td>Liberal Majority</td>\n",
       "      <td>1997</td>\n",
       "    </tr>\n",
       "  </tbody>\n",
       "</table>\n",
       "</div>"
      ],
      "text/plain": [
       "   index  ParliamentNumber  SessionNumber  BillsPassed  TotalReadingsPassed  \\\n",
       "0      0                35              1          101                  845   \n",
       "1      1                35              2           69                  755   \n",
       "2      2                36              1           86                  907   \n",
       "\n",
       "   UniqueBills    Party  PrimeMinister  Minority  StartDate    EndDate  \\\n",
       "0          300  Liberal  Jean Chrétien  Majority 1994-01-17 1996-02-02   \n",
       "1          358  Liberal  Jean Chrétien  Majority 1996-02-27 1997-04-27   \n",
       "2          438  Liberal  Jean Chrétien  Majority 1997-09-22 1999-09-18   \n",
       "\n",
       "  Duration  SenateSittings  HouseSittings  ReadingsPerDay  BillsPerDay  \\\n",
       "0 746 days           133.0            278        1.132708     0.135389   \n",
       "1 425 days            96.0            164        1.776471     0.162353   \n",
       "2 726 days           158.0            243        1.249311     0.118457   \n",
       "\n",
       "         Government StartYear  \n",
       "0  Liberal Majority      1994  \n",
       "1  Liberal Majority      1996  \n",
       "2  Liberal Majority      1997  "
      ]
     },
     "metadata": {},
     "output_type": "display_data"
    }
   ],
   "source": [
    "# Removing sessions lasting less than 150 days due to the unstable nature of these parliaments\n",
    "\n",
    "plot_1 = plot_1.loc[plot_1['Duration'].dt.days > 150, :]\n",
    "\n",
    "# Create new column that aggregates party and minority status\n",
    "\n",
    "plot_1['Party'] = plot_1['Party'].apply(lambda x: x.split(' ', 1)[0])\n",
    "plot_1['Minority'] = plot_1['Minority'].apply(lambda x: 'Minority' if x == True else 'Majority')\n",
    "plot_1['Government'] = plot_1['Party'] + ' ' + plot_1['Minority']\n",
    "\n",
    "# Create middle date column\n",
    "\n",
    "plot_1['StartYear'] = pd.DatetimeIndex(plot_1['StartDate']).year.astype(str)\n",
    "plot_1 = plot_1.reset_index()\n",
    "\n",
    "display(plot_1.head(3))"
   ]
  },
  {
   "cell_type": "code",
   "execution_count": 505,
   "id": "df3e2db7-75c6-408d-8c17-e2aadcc8c9a4",
   "metadata": {},
   "outputs": [
    {
     "data": {
      "application/vnd.plotly.v1+json": {
       "config": {
        "plotlyServerURL": "https://plot.ly"
       },
       "data": [
        {
         "alignmentgroup": "True",
         "hovertemplate": "Government=Liberal Majority<br>First Year of Parliament Session=%{x}<br>Readings / Day=%{y}<extra></extra>",
         "legendgroup": "Liberal Majority",
         "marker": {
          "color": "#c91c1c",
          "pattern": {
           "shape": ""
          }
         },
         "name": "Liberal Majority",
         "offsetgroup": "Liberal Majority",
         "orientation": "v",
         "showlegend": true,
         "textposition": "auto",
         "type": "bar",
         "x": [
          "1994",
          "1996",
          "1997",
          "1999",
          "2001",
          "2002",
          "2015"
         ],
         "xaxis": "x",
         "y": [
          1.1327077747989276,
          1.776470588235294,
          1.2493112947658402,
          1.6622340425531914,
          1.292436974789916,
          1.5465686274509804,
          0.8149492017416545
         ],
         "yaxis": "y"
        },
        {
         "alignmentgroup": "True",
         "hovertemplate": "Government=Liberal Minority<br>First Year of Parliament Session=%{x}<br>Readings / Day=%{y}<extra></extra>",
         "legendgroup": "Liberal Minority",
         "marker": {
          "color": "#fa6e6e",
          "pattern": {
           "shape": ""
          }
         },
         "name": "Liberal Minority",
         "offsetgroup": "Liberal Minority",
         "orientation": "v",
         "showlegend": true,
         "textposition": "auto",
         "type": "bar",
         "x": [
          "2004",
          "2019",
          "2020",
          "2021"
         ],
         "xaxis": "x",
         "y": [
          1.7648456057007127,
          0.5719844357976653,
          1.2085889570552146,
          1.1146341463414635
         ],
         "yaxis": "y"
        },
        {
         "alignmentgroup": "True",
         "hovertemplate": "Government=Conservative Minority<br>First Year of Parliament Session=%{x}<br>Readings / Day=%{y}<extra></extra>",
         "legendgroup": "Conservative Minority",
         "marker": {
          "color": "#7f9bf5",
          "pattern": {
           "shape": ""
          }
         },
         "name": "Conservative Minority",
         "offsetgroup": "Conservative Minority",
         "orientation": "v",
         "showlegend": true,
         "textposition": "auto",
         "type": "bar",
         "x": [
          "2006",
          "2007",
          "2009",
          "2010"
         ],
         "xaxis": "x",
         "y": [
          1.2986767485822306,
          2.3333333333333335,
          1.982248520710059,
          2.1752577319587627
         ],
         "yaxis": "y"
        },
        {
         "alignmentgroup": "True",
         "hovertemplate": "Government=Conservative Majority<br>First Year of Parliament Session=%{x}<br>Readings / Day=%{y}<extra></extra>",
         "legendgroup": "Conservative Majority",
         "marker": {
          "color": "#153dbf",
          "pattern": {
           "shape": ""
          }
         },
         "name": "Conservative Majority",
         "offsetgroup": "Conservative Majority",
         "orientation": "v",
         "showlegend": true,
         "textposition": "auto",
         "type": "bar",
         "x": [
          "2011",
          "2013"
         ],
         "xaxis": "x",
         "y": [
          1.1235011990407673,
          1.618320610687023
         ],
         "yaxis": "y"
        }
       ],
       "layout": {
        "autosize": true,
        "barmode": "relative",
        "legend": {
         "title": {
          "text": "Government"
         },
         "tracegroupgap": 0
        },
        "template": {
         "data": {
          "bar": [
           {
            "error_x": {
             "color": "#2a3f5f"
            },
            "error_y": {
             "color": "#2a3f5f"
            },
            "marker": {
             "line": {
              "color": "#E5ECF6",
              "width": 0.5
             },
             "pattern": {
              "fillmode": "overlay",
              "size": 10,
              "solidity": 0.2
             }
            },
            "type": "bar"
           }
          ],
          "barpolar": [
           {
            "marker": {
             "line": {
              "color": "#E5ECF6",
              "width": 0.5
             },
             "pattern": {
              "fillmode": "overlay",
              "size": 10,
              "solidity": 0.2
             }
            },
            "type": "barpolar"
           }
          ],
          "carpet": [
           {
            "aaxis": {
             "endlinecolor": "#2a3f5f",
             "gridcolor": "white",
             "linecolor": "white",
             "minorgridcolor": "white",
             "startlinecolor": "#2a3f5f"
            },
            "baxis": {
             "endlinecolor": "#2a3f5f",
             "gridcolor": "white",
             "linecolor": "white",
             "minorgridcolor": "white",
             "startlinecolor": "#2a3f5f"
            },
            "type": "carpet"
           }
          ],
          "choropleth": [
           {
            "colorbar": {
             "outlinewidth": 0,
             "ticks": ""
            },
            "type": "choropleth"
           }
          ],
          "contour": [
           {
            "colorbar": {
             "outlinewidth": 0,
             "ticks": ""
            },
            "colorscale": [
             [
              0,
              "#0d0887"
             ],
             [
              0.1111111111111111,
              "#46039f"
             ],
             [
              0.2222222222222222,
              "#7201a8"
             ],
             [
              0.3333333333333333,
              "#9c179e"
             ],
             [
              0.4444444444444444,
              "#bd3786"
             ],
             [
              0.5555555555555556,
              "#d8576b"
             ],
             [
              0.6666666666666666,
              "#ed7953"
             ],
             [
              0.7777777777777778,
              "#fb9f3a"
             ],
             [
              0.8888888888888888,
              "#fdca26"
             ],
             [
              1,
              "#f0f921"
             ]
            ],
            "type": "contour"
           }
          ],
          "contourcarpet": [
           {
            "colorbar": {
             "outlinewidth": 0,
             "ticks": ""
            },
            "type": "contourcarpet"
           }
          ],
          "heatmap": [
           {
            "colorbar": {
             "outlinewidth": 0,
             "ticks": ""
            },
            "colorscale": [
             [
              0,
              "#0d0887"
             ],
             [
              0.1111111111111111,
              "#46039f"
             ],
             [
              0.2222222222222222,
              "#7201a8"
             ],
             [
              0.3333333333333333,
              "#9c179e"
             ],
             [
              0.4444444444444444,
              "#bd3786"
             ],
             [
              0.5555555555555556,
              "#d8576b"
             ],
             [
              0.6666666666666666,
              "#ed7953"
             ],
             [
              0.7777777777777778,
              "#fb9f3a"
             ],
             [
              0.8888888888888888,
              "#fdca26"
             ],
             [
              1,
              "#f0f921"
             ]
            ],
            "type": "heatmap"
           }
          ],
          "heatmapgl": [
           {
            "colorbar": {
             "outlinewidth": 0,
             "ticks": ""
            },
            "colorscale": [
             [
              0,
              "#0d0887"
             ],
             [
              0.1111111111111111,
              "#46039f"
             ],
             [
              0.2222222222222222,
              "#7201a8"
             ],
             [
              0.3333333333333333,
              "#9c179e"
             ],
             [
              0.4444444444444444,
              "#bd3786"
             ],
             [
              0.5555555555555556,
              "#d8576b"
             ],
             [
              0.6666666666666666,
              "#ed7953"
             ],
             [
              0.7777777777777778,
              "#fb9f3a"
             ],
             [
              0.8888888888888888,
              "#fdca26"
             ],
             [
              1,
              "#f0f921"
             ]
            ],
            "type": "heatmapgl"
           }
          ],
          "histogram": [
           {
            "marker": {
             "pattern": {
              "fillmode": "overlay",
              "size": 10,
              "solidity": 0.2
             }
            },
            "type": "histogram"
           }
          ],
          "histogram2d": [
           {
            "colorbar": {
             "outlinewidth": 0,
             "ticks": ""
            },
            "colorscale": [
             [
              0,
              "#0d0887"
             ],
             [
              0.1111111111111111,
              "#46039f"
             ],
             [
              0.2222222222222222,
              "#7201a8"
             ],
             [
              0.3333333333333333,
              "#9c179e"
             ],
             [
              0.4444444444444444,
              "#bd3786"
             ],
             [
              0.5555555555555556,
              "#d8576b"
             ],
             [
              0.6666666666666666,
              "#ed7953"
             ],
             [
              0.7777777777777778,
              "#fb9f3a"
             ],
             [
              0.8888888888888888,
              "#fdca26"
             ],
             [
              1,
              "#f0f921"
             ]
            ],
            "type": "histogram2d"
           }
          ],
          "histogram2dcontour": [
           {
            "colorbar": {
             "outlinewidth": 0,
             "ticks": ""
            },
            "colorscale": [
             [
              0,
              "#0d0887"
             ],
             [
              0.1111111111111111,
              "#46039f"
             ],
             [
              0.2222222222222222,
              "#7201a8"
             ],
             [
              0.3333333333333333,
              "#9c179e"
             ],
             [
              0.4444444444444444,
              "#bd3786"
             ],
             [
              0.5555555555555556,
              "#d8576b"
             ],
             [
              0.6666666666666666,
              "#ed7953"
             ],
             [
              0.7777777777777778,
              "#fb9f3a"
             ],
             [
              0.8888888888888888,
              "#fdca26"
             ],
             [
              1,
              "#f0f921"
             ]
            ],
            "type": "histogram2dcontour"
           }
          ],
          "mesh3d": [
           {
            "colorbar": {
             "outlinewidth": 0,
             "ticks": ""
            },
            "type": "mesh3d"
           }
          ],
          "parcoords": [
           {
            "line": {
             "colorbar": {
              "outlinewidth": 0,
              "ticks": ""
             }
            },
            "type": "parcoords"
           }
          ],
          "pie": [
           {
            "automargin": true,
            "type": "pie"
           }
          ],
          "scatter": [
           {
            "fillpattern": {
             "fillmode": "overlay",
             "size": 10,
             "solidity": 0.2
            },
            "type": "scatter"
           }
          ],
          "scatter3d": [
           {
            "line": {
             "colorbar": {
              "outlinewidth": 0,
              "ticks": ""
             }
            },
            "marker": {
             "colorbar": {
              "outlinewidth": 0,
              "ticks": ""
             }
            },
            "type": "scatter3d"
           }
          ],
          "scattercarpet": [
           {
            "marker": {
             "colorbar": {
              "outlinewidth": 0,
              "ticks": ""
             }
            },
            "type": "scattercarpet"
           }
          ],
          "scattergeo": [
           {
            "marker": {
             "colorbar": {
              "outlinewidth": 0,
              "ticks": ""
             }
            },
            "type": "scattergeo"
           }
          ],
          "scattergl": [
           {
            "marker": {
             "colorbar": {
              "outlinewidth": 0,
              "ticks": ""
             }
            },
            "type": "scattergl"
           }
          ],
          "scattermapbox": [
           {
            "marker": {
             "colorbar": {
              "outlinewidth": 0,
              "ticks": ""
             }
            },
            "type": "scattermapbox"
           }
          ],
          "scatterpolar": [
           {
            "marker": {
             "colorbar": {
              "outlinewidth": 0,
              "ticks": ""
             }
            },
            "type": "scatterpolar"
           }
          ],
          "scatterpolargl": [
           {
            "marker": {
             "colorbar": {
              "outlinewidth": 0,
              "ticks": ""
             }
            },
            "type": "scatterpolargl"
           }
          ],
          "scatterternary": [
           {
            "marker": {
             "colorbar": {
              "outlinewidth": 0,
              "ticks": ""
             }
            },
            "type": "scatterternary"
           }
          ],
          "surface": [
           {
            "colorbar": {
             "outlinewidth": 0,
             "ticks": ""
            },
            "colorscale": [
             [
              0,
              "#0d0887"
             ],
             [
              0.1111111111111111,
              "#46039f"
             ],
             [
              0.2222222222222222,
              "#7201a8"
             ],
             [
              0.3333333333333333,
              "#9c179e"
             ],
             [
              0.4444444444444444,
              "#bd3786"
             ],
             [
              0.5555555555555556,
              "#d8576b"
             ],
             [
              0.6666666666666666,
              "#ed7953"
             ],
             [
              0.7777777777777778,
              "#fb9f3a"
             ],
             [
              0.8888888888888888,
              "#fdca26"
             ],
             [
              1,
              "#f0f921"
             ]
            ],
            "type": "surface"
           }
          ],
          "table": [
           {
            "cells": {
             "fill": {
              "color": "#EBF0F8"
             },
             "line": {
              "color": "white"
             }
            },
            "header": {
             "fill": {
              "color": "#C8D4E3"
             },
             "line": {
              "color": "white"
             }
            },
            "type": "table"
           }
          ]
         },
         "layout": {
          "annotationdefaults": {
           "arrowcolor": "#2a3f5f",
           "arrowhead": 0,
           "arrowwidth": 1
          },
          "autotypenumbers": "strict",
          "coloraxis": {
           "colorbar": {
            "outlinewidth": 0,
            "ticks": ""
           }
          },
          "colorscale": {
           "diverging": [
            [
             0,
             "#8e0152"
            ],
            [
             0.1,
             "#c51b7d"
            ],
            [
             0.2,
             "#de77ae"
            ],
            [
             0.3,
             "#f1b6da"
            ],
            [
             0.4,
             "#fde0ef"
            ],
            [
             0.5,
             "#f7f7f7"
            ],
            [
             0.6,
             "#e6f5d0"
            ],
            [
             0.7,
             "#b8e186"
            ],
            [
             0.8,
             "#7fbc41"
            ],
            [
             0.9,
             "#4d9221"
            ],
            [
             1,
             "#276419"
            ]
           ],
           "sequential": [
            [
             0,
             "#0d0887"
            ],
            [
             0.1111111111111111,
             "#46039f"
            ],
            [
             0.2222222222222222,
             "#7201a8"
            ],
            [
             0.3333333333333333,
             "#9c179e"
            ],
            [
             0.4444444444444444,
             "#bd3786"
            ],
            [
             0.5555555555555556,
             "#d8576b"
            ],
            [
             0.6666666666666666,
             "#ed7953"
            ],
            [
             0.7777777777777778,
             "#fb9f3a"
            ],
            [
             0.8888888888888888,
             "#fdca26"
            ],
            [
             1,
             "#f0f921"
            ]
           ],
           "sequentialminus": [
            [
             0,
             "#0d0887"
            ],
            [
             0.1111111111111111,
             "#46039f"
            ],
            [
             0.2222222222222222,
             "#7201a8"
            ],
            [
             0.3333333333333333,
             "#9c179e"
            ],
            [
             0.4444444444444444,
             "#bd3786"
            ],
            [
             0.5555555555555556,
             "#d8576b"
            ],
            [
             0.6666666666666666,
             "#ed7953"
            ],
            [
             0.7777777777777778,
             "#fb9f3a"
            ],
            [
             0.8888888888888888,
             "#fdca26"
            ],
            [
             1,
             "#f0f921"
            ]
           ]
          },
          "colorway": [
           "#636efa",
           "#EF553B",
           "#00cc96",
           "#ab63fa",
           "#FFA15A",
           "#19d3f3",
           "#FF6692",
           "#B6E880",
           "#FF97FF",
           "#FECB52"
          ],
          "font": {
           "color": "#2a3f5f"
          },
          "geo": {
           "bgcolor": "white",
           "lakecolor": "white",
           "landcolor": "#E5ECF6",
           "showlakes": true,
           "showland": true,
           "subunitcolor": "white"
          },
          "hoverlabel": {
           "align": "left"
          },
          "hovermode": "closest",
          "mapbox": {
           "style": "light"
          },
          "paper_bgcolor": "white",
          "plot_bgcolor": "#E5ECF6",
          "polar": {
           "angularaxis": {
            "gridcolor": "white",
            "linecolor": "white",
            "ticks": ""
           },
           "bgcolor": "#E5ECF6",
           "radialaxis": {
            "gridcolor": "white",
            "linecolor": "white",
            "ticks": ""
           }
          },
          "scene": {
           "xaxis": {
            "backgroundcolor": "#E5ECF6",
            "gridcolor": "white",
            "gridwidth": 2,
            "linecolor": "white",
            "showbackground": true,
            "ticks": "",
            "zerolinecolor": "white"
           },
           "yaxis": {
            "backgroundcolor": "#E5ECF6",
            "gridcolor": "white",
            "gridwidth": 2,
            "linecolor": "white",
            "showbackground": true,
            "ticks": "",
            "zerolinecolor": "white"
           },
           "zaxis": {
            "backgroundcolor": "#E5ECF6",
            "gridcolor": "white",
            "gridwidth": 2,
            "linecolor": "white",
            "showbackground": true,
            "ticks": "",
            "zerolinecolor": "white"
           }
          },
          "shapedefaults": {
           "line": {
            "color": "#2a3f5f"
           }
          },
          "ternary": {
           "aaxis": {
            "gridcolor": "white",
            "linecolor": "white",
            "ticks": ""
           },
           "baxis": {
            "gridcolor": "white",
            "linecolor": "white",
            "ticks": ""
           },
           "bgcolor": "#E5ECF6",
           "caxis": {
            "gridcolor": "white",
            "linecolor": "white",
            "ticks": ""
           }
          },
          "title": {
           "x": 0.05
          },
          "xaxis": {
           "automargin": true,
           "gridcolor": "white",
           "linecolor": "white",
           "ticks": "",
           "title": {
            "standoff": 15
           },
           "zerolinecolor": "white",
           "zerolinewidth": 2
          },
          "yaxis": {
           "automargin": true,
           "gridcolor": "white",
           "linecolor": "white",
           "ticks": "",
           "title": {
            "standoff": 15
           },
           "zerolinecolor": "white",
           "zerolinewidth": 2
          }
         }
        },
        "title": {
         "text": "Readings Per Day in the House of Commons by Parliament Session (1994 - 2022)"
        },
        "xaxis": {
         "anchor": "y",
         "autorange": true,
         "categoryorder": "category ascending",
         "domain": [
          0,
          1
         ],
         "range": [
          -0.5,
          16.5
         ],
         "title": {
          "text": "First Year of Parliament Session"
         },
         "type": "category"
        },
        "yaxis": {
         "anchor": "x",
         "autorange": true,
         "domain": [
          0,
          1
         ],
         "range": [
          0,
          2.456140350877193
         ],
         "title": {
          "text": "Readings / Day"
         },
         "type": "linear"
        }
       }
      },
      "image/png": "[encoded data removed]",
      "text/html": [
       "<div>                            <div id=\"73a698e0-8352-4c47-9ff5-2cbd641b545d\" class=\"plotly-graph-div\" style=\"height:525px; width:100%;\"></div>            <script type=\"text/javascript\">                require([\"plotly\"], function(Plotly) {                    window.PLOTLYENV=window.PLOTLYENV || {};                                    if (document.getElementById(\"73a698e0-8352-4c47-9ff5-2cbd641b545d\")) {                    Plotly.newPlot(                        \"73a698e0-8352-4c47-9ff5-2cbd641b545d\",                        [{\"alignmentgroup\":\"True\",\"hovertemplate\":\"Government=Liberal Majority<br>First Year of Parliament Session=%{x}<br>Readings / Day=%{y}<extra></extra>\",\"legendgroup\":\"Liberal Majority\",\"marker\":{\"color\":\"#c91c1c\",\"pattern\":{\"shape\":\"\"}},\"name\":\"Liberal Majority\",\"offsetgroup\":\"Liberal Majority\",\"orientation\":\"v\",\"showlegend\":true,\"textposition\":\"auto\",\"x\":[\"1994\",\"1996\",\"1997\",\"1999\",\"2001\",\"2002\",\"2015\"],\"xaxis\":\"x\",\"y\":[1.1327077747989276,1.776470588235294,1.2493112947658402,1.6622340425531914,1.292436974789916,1.5465686274509804,0.8149492017416545],\"yaxis\":\"y\",\"type\":\"bar\"},{\"alignmentgroup\":\"True\",\"hovertemplate\":\"Government=Liberal Minority<br>First Year of Parliament Session=%{x}<br>Readings / Day=%{y}<extra></extra>\",\"legendgroup\":\"Liberal Minority\",\"marker\":{\"color\":\"#fa6e6e\",\"pattern\":{\"shape\":\"\"}},\"name\":\"Liberal Minority\",\"offsetgroup\":\"Liberal Minority\",\"orientation\":\"v\",\"showlegend\":true,\"textposition\":\"auto\",\"x\":[\"2004\",\"2019\",\"2020\",\"2021\"],\"xaxis\":\"x\",\"y\":[1.7648456057007127,0.5719844357976653,1.2085889570552146,1.1146341463414635],\"yaxis\":\"y\",\"type\":\"bar\"},{\"alignmentgroup\":\"True\",\"hovertemplate\":\"Government=Conservative Minority<br>First Year of Parliament Session=%{x}<br>Readings / Day=%{y}<extra></extra>\",\"legendgroup\":\"Conservative Minority\",\"marker\":{\"color\":\"#7f9bf5\",\"pattern\":{\"shape\":\"\"}},\"name\":\"Conservative Minority\",\"offsetgroup\":\"Conservative Minority\",\"orientation\":\"v\",\"showlegend\":true,\"textposition\":\"auto\",\"x\":[\"2006\",\"2007\",\"2009\",\"2010\"],\"xaxis\":\"x\",\"y\":[1.2986767485822306,2.3333333333333335,1.982248520710059,2.1752577319587627],\"yaxis\":\"y\",\"type\":\"bar\"},{\"alignmentgroup\":\"True\",\"hovertemplate\":\"Government=Conservative Majority<br>First Year of Parliament Session=%{x}<br>Readings / Day=%{y}<extra></extra>\",\"legendgroup\":\"Conservative Majority\",\"marker\":{\"color\":\"#153dbf\",\"pattern\":{\"shape\":\"\"}},\"name\":\"Conservative Majority\",\"offsetgroup\":\"Conservative Majority\",\"orientation\":\"v\",\"showlegend\":true,\"textposition\":\"auto\",\"x\":[\"2011\",\"2013\"],\"xaxis\":\"x\",\"y\":[1.1235011990407673,1.618320610687023],\"yaxis\":\"y\",\"type\":\"bar\"}],                        {\"template\":{\"data\":{\"histogram2dcontour\":[{\"type\":\"histogram2dcontour\",\"colorbar\":{\"outlinewidth\":0,\"ticks\":\"\"},\"colorscale\":[[0.0,\"#0d0887\"],[0.1111111111111111,\"#46039f\"],[0.2222222222222222,\"#7201a8\"],[0.3333333333333333,\"#9c179e\"],[0.4444444444444444,\"#bd3786\"],[0.5555555555555556,\"#d8576b\"],[0.6666666666666666,\"#ed7953\"],[0.7777777777777778,\"#fb9f3a\"],[0.8888888888888888,\"#fdca26\"],[1.0,\"#f0f921\"]]}],\"choropleth\":[{\"type\":\"choropleth\",\"colorbar\":{\"outlinewidth\":0,\"ticks\":\"\"}}],\"histogram2d\":[{\"type\":\"histogram2d\",\"colorbar\":{\"outlinewidth\":0,\"ticks\":\"\"},\"colorscale\":[[0.0,\"#0d0887\"],[0.1111111111111111,\"#46039f\"],[0.2222222222222222,\"#7201a8\"],[0.3333333333333333,\"#9c179e\"],[0.4444444444444444,\"#bd3786\"],[0.5555555555555556,\"#d8576b\"],[0.6666666666666666,\"#ed7953\"],[0.7777777777777778,\"#fb9f3a\"],[0.8888888888888888,\"#fdca26\"],[1.0,\"#f0f921\"]]}],\"heatmap\":[{\"type\":\"heatmap\",\"colorbar\":{\"outlinewidth\":0,\"ticks\":\"\"},\"colorscale\":[[0.0,\"#0d0887\"],[0.1111111111111111,\"#46039f\"],[0.2222222222222222,\"#7201a8\"],[0.3333333333333333,\"#9c179e\"],[0.4444444444444444,\"#bd3786\"],[0.5555555555555556,\"#d8576b\"],[0.6666666666666666,\"#ed7953\"],[0.7777777777777778,\"#fb9f3a\"],[0.8888888888888888,\"#fdca26\"],[1.0,\"#f0f921\"]]}],\"heatmapgl\":[{\"type\":\"heatmapgl\",\"colorbar\":{\"outlinewidth\":0,\"ticks\":\"\"},\"colorscale\":[[0.0,\"#0d0887\"],[0.1111111111111111,\"#46039f\"],[0.2222222222222222,\"#7201a8\"],[0.3333333333333333,\"#9c179e\"],[0.4444444444444444,\"#bd3786\"],[0.5555555555555556,\"#d8576b\"],[0.6666666666666666,\"#ed7953\"],[0.7777777777777778,\"#fb9f3a\"],[0.8888888888888888,\"#fdca26\"],[1.0,\"#f0f921\"]]}],\"contourcarpet\":[{\"type\":\"contourcarpet\",\"colorbar\":{\"outlinewidth\":0,\"ticks\":\"\"}}],\"contour\":[{\"type\":\"contour\",\"colorbar\":{\"outlinewidth\":0,\"ticks\":\"\"},\"colorscale\":[[0.0,\"#0d0887\"],[0.1111111111111111,\"#46039f\"],[0.2222222222222222,\"#7201a8\"],[0.3333333333333333,\"#9c179e\"],[0.4444444444444444,\"#bd3786\"],[0.5555555555555556,\"#d8576b\"],[0.6666666666666666,\"#ed7953\"],[0.7777777777777778,\"#fb9f3a\"],[0.8888888888888888,\"#fdca26\"],[1.0,\"#f0f921\"]]}],\"surface\":[{\"type\":\"surface\",\"colorbar\":{\"outlinewidth\":0,\"ticks\":\"\"},\"colorscale\":[[0.0,\"#0d0887\"],[0.1111111111111111,\"#46039f\"],[0.2222222222222222,\"#7201a8\"],[0.3333333333333333,\"#9c179e\"],[0.4444444444444444,\"#bd3786\"],[0.5555555555555556,\"#d8576b\"],[0.6666666666666666,\"#ed7953\"],[0.7777777777777778,\"#fb9f3a\"],[0.8888888888888888,\"#fdca26\"],[1.0,\"#f0f921\"]]}],\"mesh3d\":[{\"type\":\"mesh3d\",\"colorbar\":{\"outlinewidth\":0,\"ticks\":\"\"}}],\"scatter\":[{\"fillpattern\":{\"fillmode\":\"overlay\",\"size\":10,\"solidity\":0.2},\"type\":\"scatter\"}],\"parcoords\":[{\"type\":\"parcoords\",\"line\":{\"colorbar\":{\"outlinewidth\":0,\"ticks\":\"\"}}}],\"scatterpolargl\":[{\"type\":\"scatterpolargl\",\"marker\":{\"colorbar\":{\"outlinewidth\":0,\"ticks\":\"\"}}}],\"bar\":[{\"error_x\":{\"color\":\"#2a3f5f\"},\"error_y\":{\"color\":\"#2a3f5f\"},\"marker\":{\"line\":{\"color\":\"#E5ECF6\",\"width\":0.5},\"pattern\":{\"fillmode\":\"overlay\",\"size\":10,\"solidity\":0.2}},\"type\":\"bar\"}],\"scattergeo\":[{\"type\":\"scattergeo\",\"marker\":{\"colorbar\":{\"outlinewidth\":0,\"ticks\":\"\"}}}],\"scatterpolar\":[{\"type\":\"scatterpolar\",\"marker\":{\"colorbar\":{\"outlinewidth\":0,\"ticks\":\"\"}}}],\"histogram\":[{\"marker\":{\"pattern\":{\"fillmode\":\"overlay\",\"size\":10,\"solidity\":0.2}},\"type\":\"histogram\"}],\"scattergl\":[{\"type\":\"scattergl\",\"marker\":{\"colorbar\":{\"outlinewidth\":0,\"ticks\":\"\"}}}],\"scatter3d\":[{\"type\":\"scatter3d\",\"line\":{\"colorbar\":{\"outlinewidth\":0,\"ticks\":\"\"}},\"marker\":{\"colorbar\":{\"outlinewidth\":0,\"ticks\":\"\"}}}],\"scattermapbox\":[{\"type\":\"scattermapbox\",\"marker\":{\"colorbar\":{\"outlinewidth\":0,\"ticks\":\"\"}}}],\"scatterternary\":[{\"type\":\"scatterternary\",\"marker\":{\"colorbar\":{\"outlinewidth\":0,\"ticks\":\"\"}}}],\"scattercarpet\":[{\"type\":\"scattercarpet\",\"marker\":{\"colorbar\":{\"outlinewidth\":0,\"ticks\":\"\"}}}],\"carpet\":[{\"aaxis\":{\"endlinecolor\":\"#2a3f5f\",\"gridcolor\":\"white\",\"linecolor\":\"white\",\"minorgridcolor\":\"white\",\"startlinecolor\":\"#2a3f5f\"},\"baxis\":{\"endlinecolor\":\"#2a3f5f\",\"gridcolor\":\"white\",\"linecolor\":\"white\",\"minorgridcolor\":\"white\",\"startlinecolor\":\"#2a3f5f\"},\"type\":\"carpet\"}],\"table\":[{\"cells\":{\"fill\":{\"color\":\"#EBF0F8\"},\"line\":{\"color\":\"white\"}},\"header\":{\"fill\":{\"color\":\"#C8D4E3\"},\"line\":{\"color\":\"white\"}},\"type\":\"table\"}],\"barpolar\":[{\"marker\":{\"line\":{\"color\":\"#E5ECF6\",\"width\":0.5},\"pattern\":{\"fillmode\":\"overlay\",\"size\":10,\"solidity\":0.2}},\"type\":\"barpolar\"}],\"pie\":[{\"automargin\":true,\"type\":\"pie\"}]},\"layout\":{\"autotypenumbers\":\"strict\",\"colorway\":[\"#636efa\",\"#EF553B\",\"#00cc96\",\"#ab63fa\",\"#FFA15A\",\"#19d3f3\",\"#FF6692\",\"#B6E880\",\"#FF97FF\",\"#FECB52\"],\"font\":{\"color\":\"#2a3f5f\"},\"hovermode\":\"closest\",\"hoverlabel\":{\"align\":\"left\"},\"paper_bgcolor\":\"white\",\"plot_bgcolor\":\"#E5ECF6\",\"polar\":{\"bgcolor\":\"#E5ECF6\",\"angularaxis\":{\"gridcolor\":\"white\",\"linecolor\":\"white\",\"ticks\":\"\"},\"radialaxis\":{\"gridcolor\":\"white\",\"linecolor\":\"white\",\"ticks\":\"\"}},\"ternary\":{\"bgcolor\":\"#E5ECF6\",\"aaxis\":{\"gridcolor\":\"white\",\"linecolor\":\"white\",\"ticks\":\"\"},\"baxis\":{\"gridcolor\":\"white\",\"linecolor\":\"white\",\"ticks\":\"\"},\"caxis\":{\"gridcolor\":\"white\",\"linecolor\":\"white\",\"ticks\":\"\"}},\"coloraxis\":{\"colorbar\":{\"outlinewidth\":0,\"ticks\":\"\"}},\"colorscale\":{\"sequential\":[[0.0,\"#0d0887\"],[0.1111111111111111,\"#46039f\"],[0.2222222222222222,\"#7201a8\"],[0.3333333333333333,\"#9c179e\"],[0.4444444444444444,\"#bd3786\"],[0.5555555555555556,\"#d8576b\"],[0.6666666666666666,\"#ed7953\"],[0.7777777777777778,\"#fb9f3a\"],[0.8888888888888888,\"#fdca26\"],[1.0,\"#f0f921\"]],\"sequentialminus\":[[0.0,\"#0d0887\"],[0.1111111111111111,\"#46039f\"],[0.2222222222222222,\"#7201a8\"],[0.3333333333333333,\"#9c179e\"],[0.4444444444444444,\"#bd3786\"],[0.5555555555555556,\"#d8576b\"],[0.6666666666666666,\"#ed7953\"],[0.7777777777777778,\"#fb9f3a\"],[0.8888888888888888,\"#fdca26\"],[1.0,\"#f0f921\"]],\"diverging\":[[0,\"#8e0152\"],[0.1,\"#c51b7d\"],[0.2,\"#de77ae\"],[0.3,\"#f1b6da\"],[0.4,\"#fde0ef\"],[0.5,\"#f7f7f7\"],[0.6,\"#e6f5d0\"],[0.7,\"#b8e186\"],[0.8,\"#7fbc41\"],[0.9,\"#4d9221\"],[1,\"#276419\"]]},\"xaxis\":{\"gridcolor\":\"white\",\"linecolor\":\"white\",\"ticks\":\"\",\"title\":{\"standoff\":15},\"zerolinecolor\":\"white\",\"automargin\":true,\"zerolinewidth\":2},\"yaxis\":{\"gridcolor\":\"white\",\"linecolor\":\"white\",\"ticks\":\"\",\"title\":{\"standoff\":15},\"zerolinecolor\":\"white\",\"automargin\":true,\"zerolinewidth\":2},\"scene\":{\"xaxis\":{\"backgroundcolor\":\"#E5ECF6\",\"gridcolor\":\"white\",\"linecolor\":\"white\",\"showbackground\":true,\"ticks\":\"\",\"zerolinecolor\":\"white\",\"gridwidth\":2},\"yaxis\":{\"backgroundcolor\":\"#E5ECF6\",\"gridcolor\":\"white\",\"linecolor\":\"white\",\"showbackground\":true,\"ticks\":\"\",\"zerolinecolor\":\"white\",\"gridwidth\":2},\"zaxis\":{\"backgroundcolor\":\"#E5ECF6\",\"gridcolor\":\"white\",\"linecolor\":\"white\",\"showbackground\":true,\"ticks\":\"\",\"zerolinecolor\":\"white\",\"gridwidth\":2}},\"shapedefaults\":{\"line\":{\"color\":\"#2a3f5f\"}},\"annotationdefaults\":{\"arrowcolor\":\"#2a3f5f\",\"arrowhead\":0,\"arrowwidth\":1},\"geo\":{\"bgcolor\":\"white\",\"landcolor\":\"#E5ECF6\",\"subunitcolor\":\"white\",\"showland\":true,\"showlakes\":true,\"lakecolor\":\"white\"},\"title\":{\"x\":0.05},\"mapbox\":{\"style\":\"light\"}}},\"xaxis\":{\"anchor\":\"y\",\"domain\":[0.0,1.0],\"title\":{\"text\":\"First Year of Parliament Session\"},\"categoryorder\":\"category ascending\"},\"yaxis\":{\"anchor\":\"x\",\"domain\":[0.0,1.0],\"title\":{\"text\":\"Readings / Day\"}},\"legend\":{\"title\":{\"text\":\"Government\"},\"tracegroupgap\":0},\"title\":{\"text\":\"Readings Per Day in the House of Commons by Parliament Session (1994 - 2022)\"},\"barmode\":\"relative\"},                        {\"responsive\": true}                    ).then(function(){\n",
       "                            \n",
       "var gd = document.getElementById('73a698e0-8352-4c47-9ff5-2cbd641b545d');\n",
       "var x = new MutationObserver(function (mutations, observer) {{\n",
       "        var display = window.getComputedStyle(gd).display;\n",
       "        if (!display || display === 'none') {{\n",
       "            console.log([gd, 'removed!']);\n",
       "            Plotly.purge(gd);\n",
       "            observer.disconnect();\n",
       "        }}\n",
       "}});\n",
       "\n",
       "// Listen for the removal of the full notebook cells\n",
       "var notebookContainer = gd.closest('#notebook-container');\n",
       "if (notebookContainer) {{\n",
       "    x.observe(notebookContainer, {childList: true});\n",
       "}}\n",
       "\n",
       "// Listen for the clearing of the current output cell\n",
       "var outputEl = gd.closest('.output');\n",
       "if (outputEl) {{\n",
       "    x.observe(outputEl, {childList: true});\n",
       "}}\n",
       "\n",
       "                        })                };                });            </script>        </div>"
      ]
     },
     "metadata": {},
     "output_type": "display_data"
    }
   ],
   "source": [
    "color_map =  { \n",
    "    \"Liberal Majority\": \"#c91c1c\", \n",
    "    \"Liberal Minority\": \"#fa6e6e\",\n",
    "    \"Conservative Minority\": \"#7f9bf5\",\n",
    "    \"Conservative Majority\": \"#153dbf\"\n",
    "}\n",
    "\n",
    "fig = px.bar(\n",
    "    plot_1, \n",
    "    x = \"StartYear\", \n",
    "    y = \"ReadingsPerDay\", \n",
    "    color= \"Government\",\n",
    "    color_discrete_map = color_map,\n",
    "    title = \"Readings Per Day in the House of Commons by Parliament Session (1994 - 2022)\",\n",
    "    labels = {\n",
    "        \"StartYear\": \"First Year of Parliament Session\",\n",
    "        \"ReadingsPerDay\": \"Readings / Day\"\n",
    "    }\n",
    ")\n",
    "\n",
    "fig.update_layout(xaxis={'categoryorder':'category ascending'})\n",
    "\n",
    "fig.show()"
   ]
  },
  {
   "cell_type": "code",
   "execution_count": 506,
   "id": "aa92e552-9337-410a-b134-f74ff965de10",
   "metadata": {},
   "outputs": [
    {
     "data": {
      "application/vnd.plotly.v1+json": {
       "config": {
        "plotlyServerURL": "https://plot.ly"
       },
       "data": [
        {
         "alignmentgroup": "True",
         "hovertemplate": "Government=Liberal Majority<br>First Year of Parliament Session=%{x}<br>Bills / Day=%{y}<extra></extra>",
         "legendgroup": "Liberal Majority",
         "marker": {
          "color": "#c91c1c",
          "pattern": {
           "shape": ""
          }
         },
         "name": "Liberal Majority",
         "offsetgroup": "Liberal Majority",
         "orientation": "v",
         "showlegend": true,
         "textposition": "auto",
         "type": "bar",
         "x": [
          "1994",
          "1996",
          "1997",
          "1999",
          "2001",
          "2002",
          "2015"
         ],
         "xaxis": "x",
         "y": [
          0.1353887399463807,
          0.1623529411764706,
          0.1184573002754821,
          0.10106382978723404,
          0.11260504201680673,
          0.0857843137254902,
          0.08055152394775036
         ],
         "yaxis": "y"
        },
        {
         "alignmentgroup": "True",
         "hovertemplate": "Government=Liberal Minority<br>First Year of Parliament Session=%{x}<br>Bills / Day=%{y}<extra></extra>",
         "legendgroup": "Liberal Minority",
         "marker": {
          "color": "#fa6e6e",
          "pattern": {
           "shape": ""
          }
         },
         "name": "Liberal Minority",
         "offsetgroup": "Liberal Minority",
         "orientation": "v",
         "showlegend": true,
         "textposition": "auto",
         "type": "bar",
         "x": [
          "2004",
          "2019",
          "2020",
          "2021"
         ],
         "xaxis": "x",
         "y": [
          0.14251781472684086,
          0.04669260700389105,
          0.08588957055214724,
          0.06097560975609756
         ],
         "yaxis": "y"
        },
        {
         "alignmentgroup": "True",
         "hovertemplate": "Government=Conservative Minority<br>First Year of Parliament Session=%{x}<br>Bills / Day=%{y}<extra></extra>",
         "legendgroup": "Conservative Minority",
         "marker": {
          "color": "#7f9bf5",
          "pattern": {
           "shape": ""
          }
         },
         "name": "Conservative Minority",
         "offsetgroup": "Conservative Minority",
         "orientation": "v",
         "showlegend": true,
         "textposition": "auto",
         "type": "bar",
         "x": [
          "2006",
          "2007",
          "2009",
          "2010"
         ],
         "xaxis": "x",
         "y": [
          0.08506616257088846,
          0.12232415902140673,
          0.10059171597633136,
          0.10051546391752578
         ],
         "yaxis": "y"
        },
        {
         "alignmentgroup": "True",
         "hovertemplate": "Government=Conservative Majority<br>First Year of Parliament Session=%{x}<br>Bills / Day=%{y}<extra></extra>",
         "legendgroup": "Conservative Majority",
         "marker": {
          "color": "#153dbf",
          "pattern": {
           "shape": ""
          }
         },
         "name": "Conservative Majority",
         "offsetgroup": "Conservative Majority",
         "orientation": "v",
         "showlegend": true,
         "textposition": "auto",
         "type": "bar",
         "x": [
          "2011",
          "2013"
         ],
         "xaxis": "x",
         "y": [
          0.09952038369304557,
          0.13129770992366413
         ],
         "yaxis": "y"
        }
       ],
       "layout": {
        "autosize": true,
        "barmode": "relative",
        "legend": {
         "title": {
          "text": "Government"
         },
         "tracegroupgap": 0
        },
        "template": {
         "data": {
          "bar": [
           {
            "error_x": {
             "color": "#2a3f5f"
            },
            "error_y": {
             "color": "#2a3f5f"
            },
            "marker": {
             "line": {
              "color": "#E5ECF6",
              "width": 0.5
             },
             "pattern": {
              "fillmode": "overlay",
              "size": 10,
              "solidity": 0.2
             }
            },
            "type": "bar"
           }
          ],
          "barpolar": [
           {
            "marker": {
             "line": {
              "color": "#E5ECF6",
              "width": 0.5
             },
             "pattern": {
              "fillmode": "overlay",
              "size": 10,
              "solidity": 0.2
             }
            },
            "type": "barpolar"
           }
          ],
          "carpet": [
           {
            "aaxis": {
             "endlinecolor": "#2a3f5f",
             "gridcolor": "white",
             "linecolor": "white",
             "minorgridcolor": "white",
             "startlinecolor": "#2a3f5f"
            },
            "baxis": {
             "endlinecolor": "#2a3f5f",
             "gridcolor": "white",
             "linecolor": "white",
             "minorgridcolor": "white",
             "startlinecolor": "#2a3f5f"
            },
            "type": "carpet"
           }
          ],
          "choropleth": [
           {
            "colorbar": {
             "outlinewidth": 0,
             "ticks": ""
            },
            "type": "choropleth"
           }
          ],
          "contour": [
           {
            "colorbar": {
             "outlinewidth": 0,
             "ticks": ""
            },
            "colorscale": [
             [
              0,
              "#0d0887"
             ],
             [
              0.1111111111111111,
              "#46039f"
             ],
             [
              0.2222222222222222,
              "#7201a8"
             ],
             [
              0.3333333333333333,
              "#9c179e"
             ],
             [
              0.4444444444444444,
              "#bd3786"
             ],
             [
              0.5555555555555556,
              "#d8576b"
             ],
             [
              0.6666666666666666,
              "#ed7953"
             ],
             [
              0.7777777777777778,
              "#fb9f3a"
             ],
             [
              0.8888888888888888,
              "#fdca26"
             ],
             [
              1,
              "#f0f921"
             ]
            ],
            "type": "contour"
           }
          ],
          "contourcarpet": [
           {
            "colorbar": {
             "outlinewidth": 0,
             "ticks": ""
            },
            "type": "contourcarpet"
           }
          ],
          "heatmap": [
           {
            "colorbar": {
             "outlinewidth": 0,
             "ticks": ""
            },
            "colorscale": [
             [
              0,
              "#0d0887"
             ],
             [
              0.1111111111111111,
              "#46039f"
             ],
             [
              0.2222222222222222,
              "#7201a8"
             ],
             [
              0.3333333333333333,
              "#9c179e"
             ],
             [
              0.4444444444444444,
              "#bd3786"
             ],
             [
              0.5555555555555556,
              "#d8576b"
             ],
             [
              0.6666666666666666,
              "#ed7953"
             ],
             [
              0.7777777777777778,
              "#fb9f3a"
             ],
             [
              0.8888888888888888,
              "#fdca26"
             ],
             [
              1,
              "#f0f921"
             ]
            ],
            "type": "heatmap"
           }
          ],
          "heatmapgl": [
           {
            "colorbar": {
             "outlinewidth": 0,
             "ticks": ""
            },
            "colorscale": [
             [
              0,
              "#0d0887"
             ],
             [
              0.1111111111111111,
              "#46039f"
             ],
             [
              0.2222222222222222,
              "#7201a8"
             ],
             [
              0.3333333333333333,
              "#9c179e"
             ],
             [
              0.4444444444444444,
              "#bd3786"
             ],
             [
              0.5555555555555556,
              "#d8576b"
             ],
             [
              0.6666666666666666,
              "#ed7953"
             ],
             [
              0.7777777777777778,
              "#fb9f3a"
             ],
             [
              0.8888888888888888,
              "#fdca26"
             ],
             [
              1,
              "#f0f921"
             ]
            ],
            "type": "heatmapgl"
           }
          ],
          "histogram": [
           {
            "marker": {
             "pattern": {
              "fillmode": "overlay",
              "size": 10,
              "solidity": 0.2
             }
            },
            "type": "histogram"
           }
          ],
          "histogram2d": [
           {
            "colorbar": {
             "outlinewidth": 0,
             "ticks": ""
            },
            "colorscale": [
             [
              0,
              "#0d0887"
             ],
             [
              0.1111111111111111,
              "#46039f"
             ],
             [
              0.2222222222222222,
              "#7201a8"
             ],
             [
              0.3333333333333333,
              "#9c179e"
             ],
             [
              0.4444444444444444,
              "#bd3786"
             ],
             [
              0.5555555555555556,
              "#d8576b"
             ],
             [
              0.6666666666666666,
              "#ed7953"
             ],
             [
              0.7777777777777778,
              "#fb9f3a"
             ],
             [
              0.8888888888888888,
              "#fdca26"
             ],
             [
              1,
              "#f0f921"
             ]
            ],
            "type": "histogram2d"
           }
          ],
          "histogram2dcontour": [
           {
            "colorbar": {
             "outlinewidth": 0,
             "ticks": ""
            },
            "colorscale": [
             [
              0,
              "#0d0887"
             ],
             [
              0.1111111111111111,
              "#46039f"
             ],
             [
              0.2222222222222222,
              "#7201a8"
             ],
             [
              0.3333333333333333,
              "#9c179e"
             ],
             [
              0.4444444444444444,
              "#bd3786"
             ],
             [
              0.5555555555555556,
              "#d8576b"
             ],
             [
              0.6666666666666666,
              "#ed7953"
             ],
             [
              0.7777777777777778,
              "#fb9f3a"
             ],
             [
              0.8888888888888888,
              "#fdca26"
             ],
             [
              1,
              "#f0f921"
             ]
            ],
            "type": "histogram2dcontour"
           }
          ],
          "mesh3d": [
           {
            "colorbar": {
             "outlinewidth": 0,
             "ticks": ""
            },
            "type": "mesh3d"
           }
          ],
          "parcoords": [
           {
            "line": {
             "colorbar": {
              "outlinewidth": 0,
              "ticks": ""
             }
            },
            "type": "parcoords"
           }
          ],
          "pie": [
           {
            "automargin": true,
            "type": "pie"
           }
          ],
          "scatter": [
           {
            "fillpattern": {
             "fillmode": "overlay",
             "size": 10,
             "solidity": 0.2
            },
            "type": "scatter"
           }
          ],
          "scatter3d": [
           {
            "line": {
             "colorbar": {
              "outlinewidth": 0,
              "ticks": ""
             }
            },
            "marker": {
             "colorbar": {
              "outlinewidth": 0,
              "ticks": ""
             }
            },
            "type": "scatter3d"
           }
          ],
          "scattercarpet": [
           {
            "marker": {
             "colorbar": {
              "outlinewidth": 0,
              "ticks": ""
             }
            },
            "type": "scattercarpet"
           }
          ],
          "scattergeo": [
           {
            "marker": {
             "colorbar": {
              "outlinewidth": 0,
              "ticks": ""
             }
            },
            "type": "scattergeo"
           }
          ],
          "scattergl": [
           {
            "marker": {
             "colorbar": {
              "outlinewidth": 0,
              "ticks": ""
             }
            },
            "type": "scattergl"
           }
          ],
          "scattermapbox": [
           {
            "marker": {
             "colorbar": {
              "outlinewidth": 0,
              "ticks": ""
             }
            },
            "type": "scattermapbox"
           }
          ],
          "scatterpolar": [
           {
            "marker": {
             "colorbar": {
              "outlinewidth": 0,
              "ticks": ""
             }
            },
            "type": "scatterpolar"
           }
          ],
          "scatterpolargl": [
           {
            "marker": {
             "colorbar": {
              "outlinewidth": 0,
              "ticks": ""
             }
            },
            "type": "scatterpolargl"
           }
          ],
          "scatterternary": [
           {
            "marker": {
             "colorbar": {
              "outlinewidth": 0,
              "ticks": ""
             }
            },
            "type": "scatterternary"
           }
          ],
          "surface": [
           {
            "colorbar": {
             "outlinewidth": 0,
             "ticks": ""
            },
            "colorscale": [
             [
              0,
              "#0d0887"
             ],
             [
              0.1111111111111111,
              "#46039f"
             ],
             [
              0.2222222222222222,
              "#7201a8"
             ],
             [
              0.3333333333333333,
              "#9c179e"
             ],
             [
              0.4444444444444444,
              "#bd3786"
             ],
             [
              0.5555555555555556,
              "#d8576b"
             ],
             [
              0.6666666666666666,
              "#ed7953"
             ],
             [
              0.7777777777777778,
              "#fb9f3a"
             ],
             [
              0.8888888888888888,
              "#fdca26"
             ],
             [
              1,
              "#f0f921"
             ]
            ],
            "type": "surface"
           }
          ],
          "table": [
           {
            "cells": {
             "fill": {
              "color": "#EBF0F8"
             },
             "line": {
              "color": "white"
             }
            },
            "header": {
             "fill": {
              "color": "#C8D4E3"
             },
             "line": {
              "color": "white"
             }
            },
            "type": "table"
           }
          ]
         },
         "layout": {
          "annotationdefaults": {
           "arrowcolor": "#2a3f5f",
           "arrowhead": 0,
           "arrowwidth": 1
          },
          "autotypenumbers": "strict",
          "coloraxis": {
           "colorbar": {
            "outlinewidth": 0,
            "ticks": ""
           }
          },
          "colorscale": {
           "diverging": [
            [
             0,
             "#8e0152"
            ],
            [
             0.1,
             "#c51b7d"
            ],
            [
             0.2,
             "#de77ae"
            ],
            [
             0.3,
             "#f1b6da"
            ],
            [
             0.4,
             "#fde0ef"
            ],
            [
             0.5,
             "#f7f7f7"
            ],
            [
             0.6,
             "#e6f5d0"
            ],
            [
             0.7,
             "#b8e186"
            ],
            [
             0.8,
             "#7fbc41"
            ],
            [
             0.9,
             "#4d9221"
            ],
            [
             1,
             "#276419"
            ]
           ],
           "sequential": [
            [
             0,
             "#0d0887"
            ],
            [
             0.1111111111111111,
             "#46039f"
            ],
            [
             0.2222222222222222,
             "#7201a8"
            ],
            [
             0.3333333333333333,
             "#9c179e"
            ],
            [
             0.4444444444444444,
             "#bd3786"
            ],
            [
             0.5555555555555556,
             "#d8576b"
            ],
            [
             0.6666666666666666,
             "#ed7953"
            ],
            [
             0.7777777777777778,
             "#fb9f3a"
            ],
            [
             0.8888888888888888,
             "#fdca26"
            ],
            [
             1,
             "#f0f921"
            ]
           ],
           "sequentialminus": [
            [
             0,
             "#0d0887"
            ],
            [
             0.1111111111111111,
             "#46039f"
            ],
            [
             0.2222222222222222,
             "#7201a8"
            ],
            [
             0.3333333333333333,
             "#9c179e"
            ],
            [
             0.4444444444444444,
             "#bd3786"
            ],
            [
             0.5555555555555556,
             "#d8576b"
            ],
            [
             0.6666666666666666,
             "#ed7953"
            ],
            [
             0.7777777777777778,
             "#fb9f3a"
            ],
            [
             0.8888888888888888,
             "#fdca26"
            ],
            [
             1,
             "#f0f921"
            ]
           ]
          },
          "colorway": [
           "#636efa",
           "#EF553B",
           "#00cc96",
           "#ab63fa",
           "#FFA15A",
           "#19d3f3",
           "#FF6692",
           "#B6E880",
           "#FF97FF",
           "#FECB52"
          ],
          "font": {
           "color": "#2a3f5f"
          },
          "geo": {
           "bgcolor": "white",
           "lakecolor": "white",
           "landcolor": "#E5ECF6",
           "showlakes": true,
           "showland": true,
           "subunitcolor": "white"
          },
          "hoverlabel": {
           "align": "left"
          },
          "hovermode": "closest",
          "mapbox": {
           "style": "light"
          },
          "paper_bgcolor": "white",
          "plot_bgcolor": "#E5ECF6",
          "polar": {
           "angularaxis": {
            "gridcolor": "white",
            "linecolor": "white",
            "ticks": ""
           },
           "bgcolor": "#E5ECF6",
           "radialaxis": {
            "gridcolor": "white",
            "linecolor": "white",
            "ticks": ""
           }
          },
          "scene": {
           "xaxis": {
            "backgroundcolor": "#E5ECF6",
            "gridcolor": "white",
            "gridwidth": 2,
            "linecolor": "white",
            "showbackground": true,
            "ticks": "",
            "zerolinecolor": "white"
           },
           "yaxis": {
            "backgroundcolor": "#E5ECF6",
            "gridcolor": "white",
            "gridwidth": 2,
            "linecolor": "white",
            "showbackground": true,
            "ticks": "",
            "zerolinecolor": "white"
           },
           "zaxis": {
            "backgroundcolor": "#E5ECF6",
            "gridcolor": "white",
            "gridwidth": 2,
            "linecolor": "white",
            "showbackground": true,
            "ticks": "",
            "zerolinecolor": "white"
           }
          },
          "shapedefaults": {
           "line": {
            "color": "#2a3f5f"
           }
          },
          "ternary": {
           "aaxis": {
            "gridcolor": "white",
            "linecolor": "white",
            "ticks": ""
           },
           "baxis": {
            "gridcolor": "white",
            "linecolor": "white",
            "ticks": ""
           },
           "bgcolor": "#E5ECF6",
           "caxis": {
            "gridcolor": "white",
            "linecolor": "white",
            "ticks": ""
           }
          },
          "title": {
           "x": 0.05
          },
          "xaxis": {
           "automargin": true,
           "gridcolor": "white",
           "linecolor": "white",
           "ticks": "",
           "title": {
            "standoff": 15
           },
           "zerolinecolor": "white",
           "zerolinewidth": 2
          },
          "yaxis": {
           "automargin": true,
           "gridcolor": "white",
           "linecolor": "white",
           "ticks": "",
           "title": {
            "standoff": 15
           },
           "zerolinecolor": "white",
           "zerolinewidth": 2
          }
         }
        },
        "title": {
         "text": "Bills Passed Per Day in the House of Commons by Parliament Session (1994 - 2022)"
        },
        "xaxis": {
         "anchor": "y",
         "autorange": true,
         "categoryorder": "category ascending",
         "domain": [
          0,
          1
         ],
         "range": [
          -0.5,
          16.5
         ],
         "title": {
          "text": "First Year of Parliament Session"
         },
         "type": "category"
        },
        "yaxis": {
         "anchor": "x",
         "autorange": true,
         "domain": [
          0,
          1
         ],
         "range": [
          0,
          0.17089783281733745
         ],
         "title": {
          "text": "Bills / Day"
         },
         "type": "linear"
        }
       }
      },
      "image/png": "[encoded data removed]",
      "text/html": [
       "<div>                            <div id=\"5e962f7d-d2e0-4315-b291-c09b9177d2eb\" class=\"plotly-graph-div\" style=\"height:525px; width:100%;\"></div>            <script type=\"text/javascript\">                require([\"plotly\"], function(Plotly) {                    window.PLOTLYENV=window.PLOTLYENV || {};                                    if (document.getElementById(\"5e962f7d-d2e0-4315-b291-c09b9177d2eb\")) {                    Plotly.newPlot(                        \"5e962f7d-d2e0-4315-b291-c09b9177d2eb\",                        [{\"alignmentgroup\":\"True\",\"hovertemplate\":\"Government=Liberal Majority<br>First Year of Parliament Session=%{x}<br>Bills / Day=%{y}<extra></extra>\",\"legendgroup\":\"Liberal Majority\",\"marker\":{\"color\":\"#c91c1c\",\"pattern\":{\"shape\":\"\"}},\"name\":\"Liberal Majority\",\"offsetgroup\":\"Liberal Majority\",\"orientation\":\"v\",\"showlegend\":true,\"textposition\":\"auto\",\"x\":[\"1994\",\"1996\",\"1997\",\"1999\",\"2001\",\"2002\",\"2015\"],\"xaxis\":\"x\",\"y\":[0.1353887399463807,0.1623529411764706,0.1184573002754821,0.10106382978723404,0.11260504201680673,0.0857843137254902,0.08055152394775036],\"yaxis\":\"y\",\"type\":\"bar\"},{\"alignmentgroup\":\"True\",\"hovertemplate\":\"Government=Liberal Minority<br>First Year of Parliament Session=%{x}<br>Bills / Day=%{y}<extra></extra>\",\"legendgroup\":\"Liberal Minority\",\"marker\":{\"color\":\"#fa6e6e\",\"pattern\":{\"shape\":\"\"}},\"name\":\"Liberal Minority\",\"offsetgroup\":\"Liberal Minority\",\"orientation\":\"v\",\"showlegend\":true,\"textposition\":\"auto\",\"x\":[\"2004\",\"2019\",\"2020\",\"2021\"],\"xaxis\":\"x\",\"y\":[0.14251781472684086,0.04669260700389105,0.08588957055214724,0.06097560975609756],\"yaxis\":\"y\",\"type\":\"bar\"},{\"alignmentgroup\":\"True\",\"hovertemplate\":\"Government=Conservative Minority<br>First Year of Parliament Session=%{x}<br>Bills / Day=%{y}<extra></extra>\",\"legendgroup\":\"Conservative Minority\",\"marker\":{\"color\":\"#7f9bf5\",\"pattern\":{\"shape\":\"\"}},\"name\":\"Conservative Minority\",\"offsetgroup\":\"Conservative Minority\",\"orientation\":\"v\",\"showlegend\":true,\"textposition\":\"auto\",\"x\":[\"2006\",\"2007\",\"2009\",\"2010\"],\"xaxis\":\"x\",\"y\":[0.08506616257088846,0.12232415902140673,0.10059171597633136,0.10051546391752578],\"yaxis\":\"y\",\"type\":\"bar\"},{\"alignmentgroup\":\"True\",\"hovertemplate\":\"Government=Conservative Majority<br>First Year of Parliament Session=%{x}<br>Bills / Day=%{y}<extra></extra>\",\"legendgroup\":\"Conservative Majority\",\"marker\":{\"color\":\"#153dbf\",\"pattern\":{\"shape\":\"\"}},\"name\":\"Conservative Majority\",\"offsetgroup\":\"Conservative Majority\",\"orientation\":\"v\",\"showlegend\":true,\"textposition\":\"auto\",\"x\":[\"2011\",\"2013\"],\"xaxis\":\"x\",\"y\":[0.09952038369304557,0.13129770992366413],\"yaxis\":\"y\",\"type\":\"bar\"}],                        {\"template\":{\"data\":{\"histogram2dcontour\":[{\"type\":\"histogram2dcontour\",\"colorbar\":{\"outlinewidth\":0,\"ticks\":\"\"},\"colorscale\":[[0.0,\"#0d0887\"],[0.1111111111111111,\"#46039f\"],[0.2222222222222222,\"#7201a8\"],[0.3333333333333333,\"#9c179e\"],[0.4444444444444444,\"#bd3786\"],[0.5555555555555556,\"#d8576b\"],[0.6666666666666666,\"#ed7953\"],[0.7777777777777778,\"#fb9f3a\"],[0.8888888888888888,\"#fdca26\"],[1.0,\"#f0f921\"]]}],\"choropleth\":[{\"type\":\"choropleth\",\"colorbar\":{\"outlinewidth\":0,\"ticks\":\"\"}}],\"histogram2d\":[{\"type\":\"histogram2d\",\"colorbar\":{\"outlinewidth\":0,\"ticks\":\"\"},\"colorscale\":[[0.0,\"#0d0887\"],[0.1111111111111111,\"#46039f\"],[0.2222222222222222,\"#7201a8\"],[0.3333333333333333,\"#9c179e\"],[0.4444444444444444,\"#bd3786\"],[0.5555555555555556,\"#d8576b\"],[0.6666666666666666,\"#ed7953\"],[0.7777777777777778,\"#fb9f3a\"],[0.8888888888888888,\"#fdca26\"],[1.0,\"#f0f921\"]]}],\"heatmap\":[{\"type\":\"heatmap\",\"colorbar\":{\"outlinewidth\":0,\"ticks\":\"\"},\"colorscale\":[[0.0,\"#0d0887\"],[0.1111111111111111,\"#46039f\"],[0.2222222222222222,\"#7201a8\"],[0.3333333333333333,\"#9c179e\"],[0.4444444444444444,\"#bd3786\"],[0.5555555555555556,\"#d8576b\"],[0.6666666666666666,\"#ed7953\"],[0.7777777777777778,\"#fb9f3a\"],[0.8888888888888888,\"#fdca26\"],[1.0,\"#f0f921\"]]}],\"heatmapgl\":[{\"type\":\"heatmapgl\",\"colorbar\":{\"outlinewidth\":0,\"ticks\":\"\"},\"colorscale\":[[0.0,\"#0d0887\"],[0.1111111111111111,\"#46039f\"],[0.2222222222222222,\"#7201a8\"],[0.3333333333333333,\"#9c179e\"],[0.4444444444444444,\"#bd3786\"],[0.5555555555555556,\"#d8576b\"],[0.6666666666666666,\"#ed7953\"],[0.7777777777777778,\"#fb9f3a\"],[0.8888888888888888,\"#fdca26\"],[1.0,\"#f0f921\"]]}],\"contourcarpet\":[{\"type\":\"contourcarpet\",\"colorbar\":{\"outlinewidth\":0,\"ticks\":\"\"}}],\"contour\":[{\"type\":\"contour\",\"colorbar\":{\"outlinewidth\":0,\"ticks\":\"\"},\"colorscale\":[[0.0,\"#0d0887\"],[0.1111111111111111,\"#46039f\"],[0.2222222222222222,\"#7201a8\"],[0.3333333333333333,\"#9c179e\"],[0.4444444444444444,\"#bd3786\"],[0.5555555555555556,\"#d8576b\"],[0.6666666666666666,\"#ed7953\"],[0.7777777777777778,\"#fb9f3a\"],[0.8888888888888888,\"#fdca26\"],[1.0,\"#f0f921\"]]}],\"surface\":[{\"type\":\"surface\",\"colorbar\":{\"outlinewidth\":0,\"ticks\":\"\"},\"colorscale\":[[0.0,\"#0d0887\"],[0.1111111111111111,\"#46039f\"],[0.2222222222222222,\"#7201a8\"],[0.3333333333333333,\"#9c179e\"],[0.4444444444444444,\"#bd3786\"],[0.5555555555555556,\"#d8576b\"],[0.6666666666666666,\"#ed7953\"],[0.7777777777777778,\"#fb9f3a\"],[0.8888888888888888,\"#fdca26\"],[1.0,\"#f0f921\"]]}],\"mesh3d\":[{\"type\":\"mesh3d\",\"colorbar\":{\"outlinewidth\":0,\"ticks\":\"\"}}],\"scatter\":[{\"fillpattern\":{\"fillmode\":\"overlay\",\"size\":10,\"solidity\":0.2},\"type\":\"scatter\"}],\"parcoords\":[{\"type\":\"parcoords\",\"line\":{\"colorbar\":{\"outlinewidth\":0,\"ticks\":\"\"}}}],\"scatterpolargl\":[{\"type\":\"scatterpolargl\",\"marker\":{\"colorbar\":{\"outlinewidth\":0,\"ticks\":\"\"}}}],\"bar\":[{\"error_x\":{\"color\":\"#2a3f5f\"},\"error_y\":{\"color\":\"#2a3f5f\"},\"marker\":{\"line\":{\"color\":\"#E5ECF6\",\"width\":0.5},\"pattern\":{\"fillmode\":\"overlay\",\"size\":10,\"solidity\":0.2}},\"type\":\"bar\"}],\"scattergeo\":[{\"type\":\"scattergeo\",\"marker\":{\"colorbar\":{\"outlinewidth\":0,\"ticks\":\"\"}}}],\"scatterpolar\":[{\"type\":\"scatterpolar\",\"marker\":{\"colorbar\":{\"outlinewidth\":0,\"ticks\":\"\"}}}],\"histogram\":[{\"marker\":{\"pattern\":{\"fillmode\":\"overlay\",\"size\":10,\"solidity\":0.2}},\"type\":\"histogram\"}],\"scattergl\":[{\"type\":\"scattergl\",\"marker\":{\"colorbar\":{\"outlinewidth\":0,\"ticks\":\"\"}}}],\"scatter3d\":[{\"type\":\"scatter3d\",\"line\":{\"colorbar\":{\"outlinewidth\":0,\"ticks\":\"\"}},\"marker\":{\"colorbar\":{\"outlinewidth\":0,\"ticks\":\"\"}}}],\"scattermapbox\":[{\"type\":\"scattermapbox\",\"marker\":{\"colorbar\":{\"outlinewidth\":0,\"ticks\":\"\"}}}],\"scatterternary\":[{\"type\":\"scatterternary\",\"marker\":{\"colorbar\":{\"outlinewidth\":0,\"ticks\":\"\"}}}],\"scattercarpet\":[{\"type\":\"scattercarpet\",\"marker\":{\"colorbar\":{\"outlinewidth\":0,\"ticks\":\"\"}}}],\"carpet\":[{\"aaxis\":{\"endlinecolor\":\"#2a3f5f\",\"gridcolor\":\"white\",\"linecolor\":\"white\",\"minorgridcolor\":\"white\",\"startlinecolor\":\"#2a3f5f\"},\"baxis\":{\"endlinecolor\":\"#2a3f5f\",\"gridcolor\":\"white\",\"linecolor\":\"white\",\"minorgridcolor\":\"white\",\"startlinecolor\":\"#2a3f5f\"},\"type\":\"carpet\"}],\"table\":[{\"cells\":{\"fill\":{\"color\":\"#EBF0F8\"},\"line\":{\"color\":\"white\"}},\"header\":{\"fill\":{\"color\":\"#C8D4E3\"},\"line\":{\"color\":\"white\"}},\"type\":\"table\"}],\"barpolar\":[{\"marker\":{\"line\":{\"color\":\"#E5ECF6\",\"width\":0.5},\"pattern\":{\"fillmode\":\"overlay\",\"size\":10,\"solidity\":0.2}},\"type\":\"barpolar\"}],\"pie\":[{\"automargin\":true,\"type\":\"pie\"}]},\"layout\":{\"autotypenumbers\":\"strict\",\"colorway\":[\"#636efa\",\"#EF553B\",\"#00cc96\",\"#ab63fa\",\"#FFA15A\",\"#19d3f3\",\"#FF6692\",\"#B6E880\",\"#FF97FF\",\"#FECB52\"],\"font\":{\"color\":\"#2a3f5f\"},\"hovermode\":\"closest\",\"hoverlabel\":{\"align\":\"left\"},\"paper_bgcolor\":\"white\",\"plot_bgcolor\":\"#E5ECF6\",\"polar\":{\"bgcolor\":\"#E5ECF6\",\"angularaxis\":{\"gridcolor\":\"white\",\"linecolor\":\"white\",\"ticks\":\"\"},\"radialaxis\":{\"gridcolor\":\"white\",\"linecolor\":\"white\",\"ticks\":\"\"}},\"ternary\":{\"bgcolor\":\"#E5ECF6\",\"aaxis\":{\"gridcolor\":\"white\",\"linecolor\":\"white\",\"ticks\":\"\"},\"baxis\":{\"gridcolor\":\"white\",\"linecolor\":\"white\",\"ticks\":\"\"},\"caxis\":{\"gridcolor\":\"white\",\"linecolor\":\"white\",\"ticks\":\"\"}},\"coloraxis\":{\"colorbar\":{\"outlinewidth\":0,\"ticks\":\"\"}},\"colorscale\":{\"sequential\":[[0.0,\"#0d0887\"],[0.1111111111111111,\"#46039f\"],[0.2222222222222222,\"#7201a8\"],[0.3333333333333333,\"#9c179e\"],[0.4444444444444444,\"#bd3786\"],[0.5555555555555556,\"#d8576b\"],[0.6666666666666666,\"#ed7953\"],[0.7777777777777778,\"#fb9f3a\"],[0.8888888888888888,\"#fdca26\"],[1.0,\"#f0f921\"]],\"sequentialminus\":[[0.0,\"#0d0887\"],[0.1111111111111111,\"#46039f\"],[0.2222222222222222,\"#7201a8\"],[0.3333333333333333,\"#9c179e\"],[0.4444444444444444,\"#bd3786\"],[0.5555555555555556,\"#d8576b\"],[0.6666666666666666,\"#ed7953\"],[0.7777777777777778,\"#fb9f3a\"],[0.8888888888888888,\"#fdca26\"],[1.0,\"#f0f921\"]],\"diverging\":[[0,\"#8e0152\"],[0.1,\"#c51b7d\"],[0.2,\"#de77ae\"],[0.3,\"#f1b6da\"],[0.4,\"#fde0ef\"],[0.5,\"#f7f7f7\"],[0.6,\"#e6f5d0\"],[0.7,\"#b8e186\"],[0.8,\"#7fbc41\"],[0.9,\"#4d9221\"],[1,\"#276419\"]]},\"xaxis\":{\"gridcolor\":\"white\",\"linecolor\":\"white\",\"ticks\":\"\",\"title\":{\"standoff\":15},\"zerolinecolor\":\"white\",\"automargin\":true,\"zerolinewidth\":2},\"yaxis\":{\"gridcolor\":\"white\",\"linecolor\":\"white\",\"ticks\":\"\",\"title\":{\"standoff\":15},\"zerolinecolor\":\"white\",\"automargin\":true,\"zerolinewidth\":2},\"scene\":{\"xaxis\":{\"backgroundcolor\":\"#E5ECF6\",\"gridcolor\":\"white\",\"linecolor\":\"white\",\"showbackground\":true,\"ticks\":\"\",\"zerolinecolor\":\"white\",\"gridwidth\":2},\"yaxis\":{\"backgroundcolor\":\"#E5ECF6\",\"gridcolor\":\"white\",\"linecolor\":\"white\",\"showbackground\":true,\"ticks\":\"\",\"zerolinecolor\":\"white\",\"gridwidth\":2},\"zaxis\":{\"backgroundcolor\":\"#E5ECF6\",\"gridcolor\":\"white\",\"linecolor\":\"white\",\"showbackground\":true,\"ticks\":\"\",\"zerolinecolor\":\"white\",\"gridwidth\":2}},\"shapedefaults\":{\"line\":{\"color\":\"#2a3f5f\"}},\"annotationdefaults\":{\"arrowcolor\":\"#2a3f5f\",\"arrowhead\":0,\"arrowwidth\":1},\"geo\":{\"bgcolor\":\"white\",\"landcolor\":\"#E5ECF6\",\"subunitcolor\":\"white\",\"showland\":true,\"showlakes\":true,\"lakecolor\":\"white\"},\"title\":{\"x\":0.05},\"mapbox\":{\"style\":\"light\"}}},\"xaxis\":{\"anchor\":\"y\",\"domain\":[0.0,1.0],\"title\":{\"text\":\"First Year of Parliament Session\"},\"categoryorder\":\"category ascending\"},\"yaxis\":{\"anchor\":\"x\",\"domain\":[0.0,1.0],\"title\":{\"text\":\"Bills / Day\"}},\"legend\":{\"title\":{\"text\":\"Government\"},\"tracegroupgap\":0},\"title\":{\"text\":\"Bills Passed Per Day in the House of Commons by Parliament Session (1994 - 2022)\"},\"barmode\":\"relative\"},                        {\"responsive\": true}                    ).then(function(){\n",
       "                            \n",
       "var gd = document.getElementById('5e962f7d-d2e0-4315-b291-c09b9177d2eb');\n",
       "var x = new MutationObserver(function (mutations, observer) {{\n",
       "        var display = window.getComputedStyle(gd).display;\n",
       "        if (!display || display === 'none') {{\n",
       "            console.log([gd, 'removed!']);\n",
       "            Plotly.purge(gd);\n",
       "            observer.disconnect();\n",
       "        }}\n",
       "}});\n",
       "\n",
       "// Listen for the removal of the full notebook cells\n",
       "var notebookContainer = gd.closest('#notebook-container');\n",
       "if (notebookContainer) {{\n",
       "    x.observe(notebookContainer, {childList: true});\n",
       "}}\n",
       "\n",
       "// Listen for the clearing of the current output cell\n",
       "var outputEl = gd.closest('.output');\n",
       "if (outputEl) {{\n",
       "    x.observe(outputEl, {childList: true});\n",
       "}}\n",
       "\n",
       "                        })                };                });            </script>        </div>"
      ]
     },
     "metadata": {},
     "output_type": "display_data"
    }
   ],
   "source": [
    "fig = px.bar(\n",
    "    plot_1, \n",
    "    x = \"StartYear\", \n",
    "    y = \"BillsPerDay\", \n",
    "    color=\"Government\",\n",
    "    color_discrete_map = color_map,\n",
    "    title = \"Bills Passed Per Day in the House of Commons by Parliament Session (1994 - 2022)\",\n",
    "    labels = {\n",
    "        \"StartYear\": \"First Year of Parliament Session\",\n",
    "        \"BillsPerDay\": \"Bills / Day\"\n",
    "    }\n",
    ")\n",
    "\n",
    "fig.update_layout(xaxis={'categoryorder':'category ascending'})\n",
    "\n",
    "fig.show()"
   ]
  },
  {
   "cell_type": "markdown",
   "id": "6a6da49d-0511-4571-88d6-04e01613b1d4",
   "metadata": {},
   "source": [
    "### Part 2: Bills By Type and Origin"
   ]
  },
  {
   "cell_type": "code",
   "execution_count": 507,
   "id": "e852cf34-7ff1-45ce-a88a-aa885e44b111",
   "metadata": {},
   "outputs": [],
   "source": [
    "plot_2 = pd.DataFrame(data['BillType'].value_counts())\n",
    "plot_2.reset_index(inplace = True)\n",
    "\n",
    "plot_2.rename(\n",
    "    columns = {\n",
    "        \"index\": \"Bill Type\",\n",
    "        \"BillType\": \"Count\"\n",
    "    }, \n",
    "    inplace = True\n",
    ")\n",
    "\n",
    "def getOrigin(x):\n",
    "    x = x.split(' ')[0]\n",
    "    return x\n",
    "\n",
    "plot_2[\"Origin\"] = plot_2[\"Bill Type\"].apply(lambda x: getOrigin(x))"
   ]
  },
  {
   "cell_type": "code",
   "execution_count": 508,
   "id": "d07fb459-cafc-41ce-9af3-e7838fa4ecf8",
   "metadata": {},
   "outputs": [
    {
     "data": {
      "application/vnd.plotly.v1+json": {
       "config": {
        "plotlyServerURL": "https://plot.ly"
       },
       "data": [
        {
         "alignmentgroup": "True",
         "hovertemplate": "Origin=Private<br>Bill Type=%{x}<br>Count=%{text}<extra></extra>",
         "legendgroup": "Private",
         "marker": {
          "color": "#028000",
          "pattern": {
           "shape": ""
          }
         },
         "name": "Private",
         "offsetgroup": "Private",
         "orientation": "v",
         "showlegend": true,
         "text": [
          4865
         ],
         "textposition": "auto",
         "type": "bar",
         "x": [
          "Private Member’s Bill"
         ],
         "xaxis": "x",
         "y": [
          4865
         ],
         "yaxis": "y"
        },
        {
         "alignmentgroup": "True",
         "hovertemplate": "Origin=House<br>Bill Type=%{x}<br>Count=%{text}<extra></extra>",
         "legendgroup": "House",
         "marker": {
          "color": "#4e0899",
          "pattern": {
           "shape": ""
          }
         },
         "name": "House",
         "offsetgroup": "House",
         "orientation": "v",
         "showlegend": true,
         "text": [
          1189
         ],
         "textposition": "auto",
         "type": "bar",
         "x": [
          "House Government Bill"
         ],
         "xaxis": "x",
         "y": [
          1189
         ],
         "yaxis": "y"
        },
        {
         "alignmentgroup": "True",
         "hovertemplate": "Origin=Senate<br>Bill Type=%{x}<br>Count=%{text}<extra></extra>",
         "legendgroup": "Senate",
         "marker": {
          "color": "#ad7803",
          "pattern": {
           "shape": ""
          }
         },
         "name": "Senate",
         "offsetgroup": "Senate",
         "orientation": "v",
         "showlegend": true,
         "text": [
          550,
          128,
          31
         ],
         "textposition": "auto",
         "type": "bar",
         "x": [
          "Senate Public Bill",
          "Senate Government Bill",
          "Senate Private Bill"
         ],
         "xaxis": "x",
         "y": [
          550,
          128,
          31
         ],
         "yaxis": "y"
        }
       ],
       "layout": {
        "autosize": true,
        "barmode": "relative",
        "legend": {
         "title": {
          "text": "Origin"
         },
         "tracegroupgap": 0
        },
        "template": {
         "data": {
          "bar": [
           {
            "error_x": {
             "color": "#2a3f5f"
            },
            "error_y": {
             "color": "#2a3f5f"
            },
            "marker": {
             "line": {
              "color": "#E5ECF6",
              "width": 0.5
             },
             "pattern": {
              "fillmode": "overlay",
              "size": 10,
              "solidity": 0.2
             }
            },
            "type": "bar"
           }
          ],
          "barpolar": [
           {
            "marker": {
             "line": {
              "color": "#E5ECF6",
              "width": 0.5
             },
             "pattern": {
              "fillmode": "overlay",
              "size": 10,
              "solidity": 0.2
             }
            },
            "type": "barpolar"
           }
          ],
          "carpet": [
           {
            "aaxis": {
             "endlinecolor": "#2a3f5f",
             "gridcolor": "white",
             "linecolor": "white",
             "minorgridcolor": "white",
             "startlinecolor": "#2a3f5f"
            },
            "baxis": {
             "endlinecolor": "#2a3f5f",
             "gridcolor": "white",
             "linecolor": "white",
             "minorgridcolor": "white",
             "startlinecolor": "#2a3f5f"
            },
            "type": "carpet"
           }
          ],
          "choropleth": [
           {
            "colorbar": {
             "outlinewidth": 0,
             "ticks": ""
            },
            "type": "choropleth"
           }
          ],
          "contour": [
           {
            "colorbar": {
             "outlinewidth": 0,
             "ticks": ""
            },
            "colorscale": [
             [
              0,
              "#0d0887"
             ],
             [
              0.1111111111111111,
              "#46039f"
             ],
             [
              0.2222222222222222,
              "#7201a8"
             ],
             [
              0.3333333333333333,
              "#9c179e"
             ],
             [
              0.4444444444444444,
              "#bd3786"
             ],
             [
              0.5555555555555556,
              "#d8576b"
             ],
             [
              0.6666666666666666,
              "#ed7953"
             ],
             [
              0.7777777777777778,
              "#fb9f3a"
             ],
             [
              0.8888888888888888,
              "#fdca26"
             ],
             [
              1,
              "#f0f921"
             ]
            ],
            "type": "contour"
           }
          ],
          "contourcarpet": [
           {
            "colorbar": {
             "outlinewidth": 0,
             "ticks": ""
            },
            "type": "contourcarpet"
           }
          ],
          "heatmap": [
           {
            "colorbar": {
             "outlinewidth": 0,
             "ticks": ""
            },
            "colorscale": [
             [
              0,
              "#0d0887"
             ],
             [
              0.1111111111111111,
              "#46039f"
             ],
             [
              0.2222222222222222,
              "#7201a8"
             ],
             [
              0.3333333333333333,
              "#9c179e"
             ],
             [
              0.4444444444444444,
              "#bd3786"
             ],
             [
              0.5555555555555556,
              "#d8576b"
             ],
             [
              0.6666666666666666,
              "#ed7953"
             ],
             [
              0.7777777777777778,
              "#fb9f3a"
             ],
             [
              0.8888888888888888,
              "#fdca26"
             ],
             [
              1,
              "#f0f921"
             ]
            ],
            "type": "heatmap"
           }
          ],
          "heatmapgl": [
           {
            "colorbar": {
             "outlinewidth": 0,
             "ticks": ""
            },
            "colorscale": [
             [
              0,
              "#0d0887"
             ],
             [
              0.1111111111111111,
              "#46039f"
             ],
             [
              0.2222222222222222,
              "#7201a8"
             ],
             [
              0.3333333333333333,
              "#9c179e"
             ],
             [
              0.4444444444444444,
              "#bd3786"
             ],
             [
              0.5555555555555556,
              "#d8576b"
             ],
             [
              0.6666666666666666,
              "#ed7953"
             ],
             [
              0.7777777777777778,
              "#fb9f3a"
             ],
             [
              0.8888888888888888,
              "#fdca26"
             ],
             [
              1,
              "#f0f921"
             ]
            ],
            "type": "heatmapgl"
           }
          ],
          "histogram": [
           {
            "marker": {
             "pattern": {
              "fillmode": "overlay",
              "size": 10,
              "solidity": 0.2
             }
            },
            "type": "histogram"
           }
          ],
          "histogram2d": [
           {
            "colorbar": {
             "outlinewidth": 0,
             "ticks": ""
            },
            "colorscale": [
             [
              0,
              "#0d0887"
             ],
             [
              0.1111111111111111,
              "#46039f"
             ],
             [
              0.2222222222222222,
              "#7201a8"
             ],
             [
              0.3333333333333333,
              "#9c179e"
             ],
             [
              0.4444444444444444,
              "#bd3786"
             ],
             [
              0.5555555555555556,
              "#d8576b"
             ],
             [
              0.6666666666666666,
              "#ed7953"
             ],
             [
              0.7777777777777778,
              "#fb9f3a"
             ],
             [
              0.8888888888888888,
              "#fdca26"
             ],
             [
              1,
              "#f0f921"
             ]
            ],
            "type": "histogram2d"
           }
          ],
          "histogram2dcontour": [
           {
            "colorbar": {
             "outlinewidth": 0,
             "ticks": ""
            },
            "colorscale": [
             [
              0,
              "#0d0887"
             ],
             [
              0.1111111111111111,
              "#46039f"
             ],
             [
              0.2222222222222222,
              "#7201a8"
             ],
             [
              0.3333333333333333,
              "#9c179e"
             ],
             [
              0.4444444444444444,
              "#bd3786"
             ],
             [
              0.5555555555555556,
              "#d8576b"
             ],
             [
              0.6666666666666666,
              "#ed7953"
             ],
             [
              0.7777777777777778,
              "#fb9f3a"
             ],
             [
              0.8888888888888888,
              "#fdca26"
             ],
             [
              1,
              "#f0f921"
             ]
            ],
            "type": "histogram2dcontour"
           }
          ],
          "mesh3d": [
           {
            "colorbar": {
             "outlinewidth": 0,
             "ticks": ""
            },
            "type": "mesh3d"
           }
          ],
          "parcoords": [
           {
            "line": {
             "colorbar": {
              "outlinewidth": 0,
              "ticks": ""
             }
            },
            "type": "parcoords"
           }
          ],
          "pie": [
           {
            "automargin": true,
            "type": "pie"
           }
          ],
          "scatter": [
           {
            "fillpattern": {
             "fillmode": "overlay",
             "size": 10,
             "solidity": 0.2
            },
            "type": "scatter"
           }
          ],
          "scatter3d": [
           {
            "line": {
             "colorbar": {
              "outlinewidth": 0,
              "ticks": ""
             }
            },
            "marker": {
             "colorbar": {
              "outlinewidth": 0,
              "ticks": ""
             }
            },
            "type": "scatter3d"
           }
          ],
          "scattercarpet": [
           {
            "marker": {
             "colorbar": {
              "outlinewidth": 0,
              "ticks": ""
             }
            },
            "type": "scattercarpet"
           }
          ],
          "scattergeo": [
           {
            "marker": {
             "colorbar": {
              "outlinewidth": 0,
              "ticks": ""
             }
            },
            "type": "scattergeo"
           }
          ],
          "scattergl": [
           {
            "marker": {
             "colorbar": {
              "outlinewidth": 0,
              "ticks": ""
             }
            },
            "type": "scattergl"
           }
          ],
          "scattermapbox": [
           {
            "marker": {
             "colorbar": {
              "outlinewidth": 0,
              "ticks": ""
             }
            },
            "type": "scattermapbox"
           }
          ],
          "scatterpolar": [
           {
            "marker": {
             "colorbar": {
              "outlinewidth": 0,
              "ticks": ""
             }
            },
            "type": "scatterpolar"
           }
          ],
          "scatterpolargl": [
           {
            "marker": {
             "colorbar": {
              "outlinewidth": 0,
              "ticks": ""
             }
            },
            "type": "scatterpolargl"
           }
          ],
          "scatterternary": [
           {
            "marker": {
             "colorbar": {
              "outlinewidth": 0,
              "ticks": ""
             }
            },
            "type": "scatterternary"
           }
          ],
          "surface": [
           {
            "colorbar": {
             "outlinewidth": 0,
             "ticks": ""
            },
            "colorscale": [
             [
              0,
              "#0d0887"
             ],
             [
              0.1111111111111111,
              "#46039f"
             ],
             [
              0.2222222222222222,
              "#7201a8"
             ],
             [
              0.3333333333333333,
              "#9c179e"
             ],
             [
              0.4444444444444444,
              "#bd3786"
             ],
             [
              0.5555555555555556,
              "#d8576b"
             ],
             [
              0.6666666666666666,
              "#ed7953"
             ],
             [
              0.7777777777777778,
              "#fb9f3a"
             ],
             [
              0.8888888888888888,
              "#fdca26"
             ],
             [
              1,
              "#f0f921"
             ]
            ],
            "type": "surface"
           }
          ],
          "table": [
           {
            "cells": {
             "fill": {
              "color": "#EBF0F8"
             },
             "line": {
              "color": "white"
             }
            },
            "header": {
             "fill": {
              "color": "#C8D4E3"
             },
             "line": {
              "color": "white"
             }
            },
            "type": "table"
           }
          ]
         },
         "layout": {
          "annotationdefaults": {
           "arrowcolor": "#2a3f5f",
           "arrowhead": 0,
           "arrowwidth": 1
          },
          "autotypenumbers": "strict",
          "coloraxis": {
           "colorbar": {
            "outlinewidth": 0,
            "ticks": ""
           }
          },
          "colorscale": {
           "diverging": [
            [
             0,
             "#8e0152"
            ],
            [
             0.1,
             "#c51b7d"
            ],
            [
             0.2,
             "#de77ae"
            ],
            [
             0.3,
             "#f1b6da"
            ],
            [
             0.4,
             "#fde0ef"
            ],
            [
             0.5,
             "#f7f7f7"
            ],
            [
             0.6,
             "#e6f5d0"
            ],
            [
             0.7,
             "#b8e186"
            ],
            [
             0.8,
             "#7fbc41"
            ],
            [
             0.9,
             "#4d9221"
            ],
            [
             1,
             "#276419"
            ]
           ],
           "sequential": [
            [
             0,
             "#0d0887"
            ],
            [
             0.1111111111111111,
             "#46039f"
            ],
            [
             0.2222222222222222,
             "#7201a8"
            ],
            [
             0.3333333333333333,
             "#9c179e"
            ],
            [
             0.4444444444444444,
             "#bd3786"
            ],
            [
             0.5555555555555556,
             "#d8576b"
            ],
            [
             0.6666666666666666,
             "#ed7953"
            ],
            [
             0.7777777777777778,
             "#fb9f3a"
            ],
            [
             0.8888888888888888,
             "#fdca26"
            ],
            [
             1,
             "#f0f921"
            ]
           ],
           "sequentialminus": [
            [
             0,
             "#0d0887"
            ],
            [
             0.1111111111111111,
             "#46039f"
            ],
            [
             0.2222222222222222,
             "#7201a8"
            ],
            [
             0.3333333333333333,
             "#9c179e"
            ],
            [
             0.4444444444444444,
             "#bd3786"
            ],
            [
             0.5555555555555556,
             "#d8576b"
            ],
            [
             0.6666666666666666,
             "#ed7953"
            ],
            [
             0.7777777777777778,
             "#fb9f3a"
            ],
            [
             0.8888888888888888,
             "#fdca26"
            ],
            [
             1,
             "#f0f921"
            ]
           ]
          },
          "colorway": [
           "#636efa",
           "#EF553B",
           "#00cc96",
           "#ab63fa",
           "#FFA15A",
           "#19d3f3",
           "#FF6692",
           "#B6E880",
           "#FF97FF",
           "#FECB52"
          ],
          "font": {
           "color": "#2a3f5f"
          },
          "geo": {
           "bgcolor": "white",
           "lakecolor": "white",
           "landcolor": "#E5ECF6",
           "showlakes": true,
           "showland": true,
           "subunitcolor": "white"
          },
          "hoverlabel": {
           "align": "left"
          },
          "hovermode": "closest",
          "mapbox": {
           "style": "light"
          },
          "paper_bgcolor": "white",
          "plot_bgcolor": "#E5ECF6",
          "polar": {
           "angularaxis": {
            "gridcolor": "white",
            "linecolor": "white",
            "ticks": ""
           },
           "bgcolor": "#E5ECF6",
           "radialaxis": {
            "gridcolor": "white",
            "linecolor": "white",
            "ticks": ""
           }
          },
          "scene": {
           "xaxis": {
            "backgroundcolor": "#E5ECF6",
            "gridcolor": "white",
            "gridwidth": 2,
            "linecolor": "white",
            "showbackground": true,
            "ticks": "",
            "zerolinecolor": "white"
           },
           "yaxis": {
            "backgroundcolor": "#E5ECF6",
            "gridcolor": "white",
            "gridwidth": 2,
            "linecolor": "white",
            "showbackground": true,
            "ticks": "",
            "zerolinecolor": "white"
           },
           "zaxis": {
            "backgroundcolor": "#E5ECF6",
            "gridcolor": "white",
            "gridwidth": 2,
            "linecolor": "white",
            "showbackground": true,
            "ticks": "",
            "zerolinecolor": "white"
           }
          },
          "shapedefaults": {
           "line": {
            "color": "#2a3f5f"
           }
          },
          "ternary": {
           "aaxis": {
            "gridcolor": "white",
            "linecolor": "white",
            "ticks": ""
           },
           "baxis": {
            "gridcolor": "white",
            "linecolor": "white",
            "ticks": ""
           },
           "bgcolor": "#E5ECF6",
           "caxis": {
            "gridcolor": "white",
            "linecolor": "white",
            "ticks": ""
           }
          },
          "title": {
           "x": 0.05
          },
          "xaxis": {
           "automargin": true,
           "gridcolor": "white",
           "linecolor": "white",
           "ticks": "",
           "title": {
            "standoff": 15
           },
           "zerolinecolor": "white",
           "zerolinewidth": 2
          },
          "yaxis": {
           "automargin": true,
           "gridcolor": "white",
           "linecolor": "white",
           "ticks": "",
           "title": {
            "standoff": 15
           },
           "zerolinecolor": "white",
           "zerolinewidth": 2
          }
         }
        },
        "title": {
         "text": "Number of Bills by Type and Origin in the Canadian Parliament (1994 - 2022)"
        },
        "xaxis": {
         "anchor": "y",
         "autorange": true,
         "domain": [
          0,
          1
         ],
         "range": [
          -0.5,
          4.5
         ],
         "title": {
          "text": "Bill Type"
         },
         "type": "category"
        },
        "yaxis": {
         "anchor": "x",
         "autorange": true,
         "domain": [
          0,
          1
         ],
         "range": [
          0,
          5121.0526315789475
         ],
         "title": {
          "text": "Count"
         },
         "type": "linear"
        }
       }
      },
      "image/png": "[encoded data removed]",
      "text/html": [
       "<div>                            <div id=\"69ba16cb-eada-4f9e-8d0b-a6832d78e153\" class=\"plotly-graph-div\" style=\"height:525px; width:100%;\"></div>            <script type=\"text/javascript\">                require([\"plotly\"], function(Plotly) {                    window.PLOTLYENV=window.PLOTLYENV || {};                                    if (document.getElementById(\"69ba16cb-eada-4f9e-8d0b-a6832d78e153\")) {                    Plotly.newPlot(                        \"69ba16cb-eada-4f9e-8d0b-a6832d78e153\",                        [{\"alignmentgroup\":\"True\",\"hovertemplate\":\"Origin=Private<br>Bill Type=%{x}<br>Count=%{text}<extra></extra>\",\"legendgroup\":\"Private\",\"marker\":{\"color\":\"#028000\",\"pattern\":{\"shape\":\"\"}},\"name\":\"Private\",\"offsetgroup\":\"Private\",\"orientation\":\"v\",\"showlegend\":true,\"text\":[4865.0],\"textposition\":\"auto\",\"x\":[\"Private Member\\u2019s Bill\"],\"xaxis\":\"x\",\"y\":[4865],\"yaxis\":\"y\",\"type\":\"bar\"},{\"alignmentgroup\":\"True\",\"hovertemplate\":\"Origin=House<br>Bill Type=%{x}<br>Count=%{text}<extra></extra>\",\"legendgroup\":\"House\",\"marker\":{\"color\":\"#4e0899\",\"pattern\":{\"shape\":\"\"}},\"name\":\"House\",\"offsetgroup\":\"House\",\"orientation\":\"v\",\"showlegend\":true,\"text\":[1189.0],\"textposition\":\"auto\",\"x\":[\"House Government Bill\"],\"xaxis\":\"x\",\"y\":[1189],\"yaxis\":\"y\",\"type\":\"bar\"},{\"alignmentgroup\":\"True\",\"hovertemplate\":\"Origin=Senate<br>Bill Type=%{x}<br>Count=%{text}<extra></extra>\",\"legendgroup\":\"Senate\",\"marker\":{\"color\":\"#ad7803\",\"pattern\":{\"shape\":\"\"}},\"name\":\"Senate\",\"offsetgroup\":\"Senate\",\"orientation\":\"v\",\"showlegend\":true,\"text\":[550.0,128.0,31.0],\"textposition\":\"auto\",\"x\":[\"Senate Public Bill\",\"Senate Government Bill\",\"Senate Private Bill\"],\"xaxis\":\"x\",\"y\":[550,128,31],\"yaxis\":\"y\",\"type\":\"bar\"}],                        {\"template\":{\"data\":{\"histogram2dcontour\":[{\"type\":\"histogram2dcontour\",\"colorbar\":{\"outlinewidth\":0,\"ticks\":\"\"},\"colorscale\":[[0.0,\"#0d0887\"],[0.1111111111111111,\"#46039f\"],[0.2222222222222222,\"#7201a8\"],[0.3333333333333333,\"#9c179e\"],[0.4444444444444444,\"#bd3786\"],[0.5555555555555556,\"#d8576b\"],[0.6666666666666666,\"#ed7953\"],[0.7777777777777778,\"#fb9f3a\"],[0.8888888888888888,\"#fdca26\"],[1.0,\"#f0f921\"]]}],\"choropleth\":[{\"type\":\"choropleth\",\"colorbar\":{\"outlinewidth\":0,\"ticks\":\"\"}}],\"histogram2d\":[{\"type\":\"histogram2d\",\"colorbar\":{\"outlinewidth\":0,\"ticks\":\"\"},\"colorscale\":[[0.0,\"#0d0887\"],[0.1111111111111111,\"#46039f\"],[0.2222222222222222,\"#7201a8\"],[0.3333333333333333,\"#9c179e\"],[0.4444444444444444,\"#bd3786\"],[0.5555555555555556,\"#d8576b\"],[0.6666666666666666,\"#ed7953\"],[0.7777777777777778,\"#fb9f3a\"],[0.8888888888888888,\"#fdca26\"],[1.0,\"#f0f921\"]]}],\"heatmap\":[{\"type\":\"heatmap\",\"colorbar\":{\"outlinewidth\":0,\"ticks\":\"\"},\"colorscale\":[[0.0,\"#0d0887\"],[0.1111111111111111,\"#46039f\"],[0.2222222222222222,\"#7201a8\"],[0.3333333333333333,\"#9c179e\"],[0.4444444444444444,\"#bd3786\"],[0.5555555555555556,\"#d8576b\"],[0.6666666666666666,\"#ed7953\"],[0.7777777777777778,\"#fb9f3a\"],[0.8888888888888888,\"#fdca26\"],[1.0,\"#f0f921\"]]}],\"heatmapgl\":[{\"type\":\"heatmapgl\",\"colorbar\":{\"outlinewidth\":0,\"ticks\":\"\"},\"colorscale\":[[0.0,\"#0d0887\"],[0.1111111111111111,\"#46039f\"],[0.2222222222222222,\"#7201a8\"],[0.3333333333333333,\"#9c179e\"],[0.4444444444444444,\"#bd3786\"],[0.5555555555555556,\"#d8576b\"],[0.6666666666666666,\"#ed7953\"],[0.7777777777777778,\"#fb9f3a\"],[0.8888888888888888,\"#fdca26\"],[1.0,\"#f0f921\"]]}],\"contourcarpet\":[{\"type\":\"contourcarpet\",\"colorbar\":{\"outlinewidth\":0,\"ticks\":\"\"}}],\"contour\":[{\"type\":\"contour\",\"colorbar\":{\"outlinewidth\":0,\"ticks\":\"\"},\"colorscale\":[[0.0,\"#0d0887\"],[0.1111111111111111,\"#46039f\"],[0.2222222222222222,\"#7201a8\"],[0.3333333333333333,\"#9c179e\"],[0.4444444444444444,\"#bd3786\"],[0.5555555555555556,\"#d8576b\"],[0.6666666666666666,\"#ed7953\"],[0.7777777777777778,\"#fb9f3a\"],[0.8888888888888888,\"#fdca26\"],[1.0,\"#f0f921\"]]}],\"surface\":[{\"type\":\"surface\",\"colorbar\":{\"outlinewidth\":0,\"ticks\":\"\"},\"colorscale\":[[0.0,\"#0d0887\"],[0.1111111111111111,\"#46039f\"],[0.2222222222222222,\"#7201a8\"],[0.3333333333333333,\"#9c179e\"],[0.4444444444444444,\"#bd3786\"],[0.5555555555555556,\"#d8576b\"],[0.6666666666666666,\"#ed7953\"],[0.7777777777777778,\"#fb9f3a\"],[0.8888888888888888,\"#fdca26\"],[1.0,\"#f0f921\"]]}],\"mesh3d\":[{\"type\":\"mesh3d\",\"colorbar\":{\"outlinewidth\":0,\"ticks\":\"\"}}],\"scatter\":[{\"fillpattern\":{\"fillmode\":\"overlay\",\"size\":10,\"solidity\":0.2},\"type\":\"scatter\"}],\"parcoords\":[{\"type\":\"parcoords\",\"line\":{\"colorbar\":{\"outlinewidth\":0,\"ticks\":\"\"}}}],\"scatterpolargl\":[{\"type\":\"scatterpolargl\",\"marker\":{\"colorbar\":{\"outlinewidth\":0,\"ticks\":\"\"}}}],\"bar\":[{\"error_x\":{\"color\":\"#2a3f5f\"},\"error_y\":{\"color\":\"#2a3f5f\"},\"marker\":{\"line\":{\"color\":\"#E5ECF6\",\"width\":0.5},\"pattern\":{\"fillmode\":\"overlay\",\"size\":10,\"solidity\":0.2}},\"type\":\"bar\"}],\"scattergeo\":[{\"type\":\"scattergeo\",\"marker\":{\"colorbar\":{\"outlinewidth\":0,\"ticks\":\"\"}}}],\"scatterpolar\":[{\"type\":\"scatterpolar\",\"marker\":{\"colorbar\":{\"outlinewidth\":0,\"ticks\":\"\"}}}],\"histogram\":[{\"marker\":{\"pattern\":{\"fillmode\":\"overlay\",\"size\":10,\"solidity\":0.2}},\"type\":\"histogram\"}],\"scattergl\":[{\"type\":\"scattergl\",\"marker\":{\"colorbar\":{\"outlinewidth\":0,\"ticks\":\"\"}}}],\"scatter3d\":[{\"type\":\"scatter3d\",\"line\":{\"colorbar\":{\"outlinewidth\":0,\"ticks\":\"\"}},\"marker\":{\"colorbar\":{\"outlinewidth\":0,\"ticks\":\"\"}}}],\"scattermapbox\":[{\"type\":\"scattermapbox\",\"marker\":{\"colorbar\":{\"outlinewidth\":0,\"ticks\":\"\"}}}],\"scatterternary\":[{\"type\":\"scatterternary\",\"marker\":{\"colorbar\":{\"outlinewidth\":0,\"ticks\":\"\"}}}],\"scattercarpet\":[{\"type\":\"scattercarpet\",\"marker\":{\"colorbar\":{\"outlinewidth\":0,\"ticks\":\"\"}}}],\"carpet\":[{\"aaxis\":{\"endlinecolor\":\"#2a3f5f\",\"gridcolor\":\"white\",\"linecolor\":\"white\",\"minorgridcolor\":\"white\",\"startlinecolor\":\"#2a3f5f\"},\"baxis\":{\"endlinecolor\":\"#2a3f5f\",\"gridcolor\":\"white\",\"linecolor\":\"white\",\"minorgridcolor\":\"white\",\"startlinecolor\":\"#2a3f5f\"},\"type\":\"carpet\"}],\"table\":[{\"cells\":{\"fill\":{\"color\":\"#EBF0F8\"},\"line\":{\"color\":\"white\"}},\"header\":{\"fill\":{\"color\":\"#C8D4E3\"},\"line\":{\"color\":\"white\"}},\"type\":\"table\"}],\"barpolar\":[{\"marker\":{\"line\":{\"color\":\"#E5ECF6\",\"width\":0.5},\"pattern\":{\"fillmode\":\"overlay\",\"size\":10,\"solidity\":0.2}},\"type\":\"barpolar\"}],\"pie\":[{\"automargin\":true,\"type\":\"pie\"}]},\"layout\":{\"autotypenumbers\":\"strict\",\"colorway\":[\"#636efa\",\"#EF553B\",\"#00cc96\",\"#ab63fa\",\"#FFA15A\",\"#19d3f3\",\"#FF6692\",\"#B6E880\",\"#FF97FF\",\"#FECB52\"],\"font\":{\"color\":\"#2a3f5f\"},\"hovermode\":\"closest\",\"hoverlabel\":{\"align\":\"left\"},\"paper_bgcolor\":\"white\",\"plot_bgcolor\":\"#E5ECF6\",\"polar\":{\"bgcolor\":\"#E5ECF6\",\"angularaxis\":{\"gridcolor\":\"white\",\"linecolor\":\"white\",\"ticks\":\"\"},\"radialaxis\":{\"gridcolor\":\"white\",\"linecolor\":\"white\",\"ticks\":\"\"}},\"ternary\":{\"bgcolor\":\"#E5ECF6\",\"aaxis\":{\"gridcolor\":\"white\",\"linecolor\":\"white\",\"ticks\":\"\"},\"baxis\":{\"gridcolor\":\"white\",\"linecolor\":\"white\",\"ticks\":\"\"},\"caxis\":{\"gridcolor\":\"white\",\"linecolor\":\"white\",\"ticks\":\"\"}},\"coloraxis\":{\"colorbar\":{\"outlinewidth\":0,\"ticks\":\"\"}},\"colorscale\":{\"sequential\":[[0.0,\"#0d0887\"],[0.1111111111111111,\"#46039f\"],[0.2222222222222222,\"#7201a8\"],[0.3333333333333333,\"#9c179e\"],[0.4444444444444444,\"#bd3786\"],[0.5555555555555556,\"#d8576b\"],[0.6666666666666666,\"#ed7953\"],[0.7777777777777778,\"#fb9f3a\"],[0.8888888888888888,\"#fdca26\"],[1.0,\"#f0f921\"]],\"sequentialminus\":[[0.0,\"#0d0887\"],[0.1111111111111111,\"#46039f\"],[0.2222222222222222,\"#7201a8\"],[0.3333333333333333,\"#9c179e\"],[0.4444444444444444,\"#bd3786\"],[0.5555555555555556,\"#d8576b\"],[0.6666666666666666,\"#ed7953\"],[0.7777777777777778,\"#fb9f3a\"],[0.8888888888888888,\"#fdca26\"],[1.0,\"#f0f921\"]],\"diverging\":[[0,\"#8e0152\"],[0.1,\"#c51b7d\"],[0.2,\"#de77ae\"],[0.3,\"#f1b6da\"],[0.4,\"#fde0ef\"],[0.5,\"#f7f7f7\"],[0.6,\"#e6f5d0\"],[0.7,\"#b8e186\"],[0.8,\"#7fbc41\"],[0.9,\"#4d9221\"],[1,\"#276419\"]]},\"xaxis\":{\"gridcolor\":\"white\",\"linecolor\":\"white\",\"ticks\":\"\",\"title\":{\"standoff\":15},\"zerolinecolor\":\"white\",\"automargin\":true,\"zerolinewidth\":2},\"yaxis\":{\"gridcolor\":\"white\",\"linecolor\":\"white\",\"ticks\":\"\",\"title\":{\"standoff\":15},\"zerolinecolor\":\"white\",\"automargin\":true,\"zerolinewidth\":2},\"scene\":{\"xaxis\":{\"backgroundcolor\":\"#E5ECF6\",\"gridcolor\":\"white\",\"linecolor\":\"white\",\"showbackground\":true,\"ticks\":\"\",\"zerolinecolor\":\"white\",\"gridwidth\":2},\"yaxis\":{\"backgroundcolor\":\"#E5ECF6\",\"gridcolor\":\"white\",\"linecolor\":\"white\",\"showbackground\":true,\"ticks\":\"\",\"zerolinecolor\":\"white\",\"gridwidth\":2},\"zaxis\":{\"backgroundcolor\":\"#E5ECF6\",\"gridcolor\":\"white\",\"linecolor\":\"white\",\"showbackground\":true,\"ticks\":\"\",\"zerolinecolor\":\"white\",\"gridwidth\":2}},\"shapedefaults\":{\"line\":{\"color\":\"#2a3f5f\"}},\"annotationdefaults\":{\"arrowcolor\":\"#2a3f5f\",\"arrowhead\":0,\"arrowwidth\":1},\"geo\":{\"bgcolor\":\"white\",\"landcolor\":\"#E5ECF6\",\"subunitcolor\":\"white\",\"showland\":true,\"showlakes\":true,\"lakecolor\":\"white\"},\"title\":{\"x\":0.05},\"mapbox\":{\"style\":\"light\"}}},\"xaxis\":{\"anchor\":\"y\",\"domain\":[0.0,1.0],\"title\":{\"text\":\"Bill Type\"}},\"yaxis\":{\"anchor\":\"x\",\"domain\":[0.0,1.0],\"title\":{\"text\":\"Count\"}},\"legend\":{\"title\":{\"text\":\"Origin\"},\"tracegroupgap\":0},\"title\":{\"text\":\"Number of Bills by Type and Origin in the Canadian Parliament (1994 - 2022)\"},\"barmode\":\"relative\"},                        {\"responsive\": true}                    ).then(function(){\n",
       "                            \n",
       "var gd = document.getElementById('69ba16cb-eada-4f9e-8d0b-a6832d78e153');\n",
       "var x = new MutationObserver(function (mutations, observer) {{\n",
       "        var display = window.getComputedStyle(gd).display;\n",
       "        if (!display || display === 'none') {{\n",
       "            console.log([gd, 'removed!']);\n",
       "            Plotly.purge(gd);\n",
       "            observer.disconnect();\n",
       "        }}\n",
       "}});\n",
       "\n",
       "// Listen for the removal of the full notebook cells\n",
       "var notebookContainer = gd.closest('#notebook-container');\n",
       "if (notebookContainer) {{\n",
       "    x.observe(notebookContainer, {childList: true});\n",
       "}}\n",
       "\n",
       "// Listen for the clearing of the current output cell\n",
       "var outputEl = gd.closest('.output');\n",
       "if (outputEl) {{\n",
       "    x.observe(outputEl, {childList: true});\n",
       "}}\n",
       "\n",
       "                        })                };                });            </script>        </div>"
      ]
     },
     "metadata": {},
     "output_type": "display_data"
    }
   ],
   "source": [
    "color_map = {\n",
    "    \"Private\": \"#028000\",\n",
    "    \"House\": \"#4e0899\",\n",
    "    \"Senate\": \"#ad7803\"\n",
    "}\n",
    "\n",
    "fig = px.bar(\n",
    "    plot_2, \n",
    "    x = \"Bill Type\",\n",
    "    y = \"Count\",\n",
    "    text = \"Count\",\n",
    "    color = \"Origin\",\n",
    "    color_discrete_map = color_map,\n",
    "    title = \"Number of Bills by Type and Origin in the Canadian Parliament (1994 - 2022)\"\n",
    ")\n",
    "\n",
    "fig.show()"
   ]
  },
  {
   "cell_type": "markdown",
   "id": "7390bb2f-d887-491d-9ee5-6772f9ac4565",
   "metadata": {},
   "source": [
    "### Part 3: Bills by Stage"
   ]
  },
  {
   "cell_type": "code",
   "execution_count": 509,
   "id": "851faf2e-5325-4ca1-ae5f-41d642f15e6d",
   "metadata": {},
   "outputs": [
    {
     "data": {
      "text/html": [
       "<div>\n",
       "<style scoped>\n",
       "    .dataframe tbody tr th:only-of-type {\n",
       "        vertical-align: middle;\n",
       "    }\n",
       "\n",
       "    .dataframe tbody tr th {\n",
       "        vertical-align: top;\n",
       "    }\n",
       "\n",
       "    .dataframe thead th {\n",
       "        text-align: right;\n",
       "    }\n",
       "</style>\n",
       "<table border=\"1\" class=\"dataframe\">\n",
       "  <thead>\n",
       "    <tr style=\"text-align: right;\">\n",
       "      <th></th>\n",
       "      <th>Id</th>\n",
       "      <th>SponsorName</th>\n",
       "      <th>SponsorTitle</th>\n",
       "      <th>Constituency</th>\n",
       "      <th>Political Affiliation</th>\n",
       "      <th>Code</th>\n",
       "      <th>Title</th>\n",
       "      <th>LatestStageName</th>\n",
       "      <th>ParliamentNumber</th>\n",
       "      <th>SessionNumber</th>\n",
       "      <th>BillType</th>\n",
       "      <th>ReceivedRoyalAssent</th>\n",
       "      <th>Ongoing</th>\n",
       "      <th>ReadingsPassed</th>\n",
       "      <th>BillOrigin</th>\n",
       "      <th>FirstStageDate</th>\n",
       "      <th>LastStageDate</th>\n",
       "      <th>TimeAlive</th>\n",
       "    </tr>\n",
       "  </thead>\n",
       "  <tbody>\n",
       "    <tr>\n",
       "      <th>0</th>\n",
       "      <td>44-1/S-1</td>\n",
       "      <td>Yuen Pau Woo</td>\n",
       "      <td>Senator</td>\n",
       "      <td>None</td>\n",
       "      <td>NaN</td>\n",
       "      <td>S-1</td>\n",
       "      <td>An Act relating to railways</td>\n",
       "      <td>First reading in the Senate</td>\n",
       "      <td>44</td>\n",
       "      <td>1</td>\n",
       "      <td>Senate Public Bill</td>\n",
       "      <td>False</td>\n",
       "      <td>True</td>\n",
       "      <td>1</td>\n",
       "      <td>IsSenateBill</td>\n",
       "      <td>2021-11-22</td>\n",
       "      <td>2021-11-22</td>\n",
       "      <td>0 days</td>\n",
       "    </tr>\n",
       "    <tr>\n",
       "      <th>1</th>\n",
       "      <td>43-2/S-1</td>\n",
       "      <td>Marc Gold</td>\n",
       "      <td>Senator</td>\n",
       "      <td>None</td>\n",
       "      <td>NaN</td>\n",
       "      <td>S-1</td>\n",
       "      <td>An Act relating to railways</td>\n",
       "      <td>First reading in the Senate</td>\n",
       "      <td>43</td>\n",
       "      <td>2</td>\n",
       "      <td>Senate Public Bill</td>\n",
       "      <td>False</td>\n",
       "      <td>False</td>\n",
       "      <td>1</td>\n",
       "      <td>IsSenateBill</td>\n",
       "      <td>2020-09-22</td>\n",
       "      <td>2020-09-22</td>\n",
       "      <td>0 days</td>\n",
       "    </tr>\n",
       "    <tr>\n",
       "      <th>2</th>\n",
       "      <td>43-1/S-1</td>\n",
       "      <td>Joseph Day</td>\n",
       "      <td>Senator</td>\n",
       "      <td>None</td>\n",
       "      <td>NaN</td>\n",
       "      <td>S-1</td>\n",
       "      <td>An Act relating to railways</td>\n",
       "      <td>First reading in the Senate</td>\n",
       "      <td>43</td>\n",
       "      <td>1</td>\n",
       "      <td>Senate Public Bill</td>\n",
       "      <td>False</td>\n",
       "      <td>False</td>\n",
       "      <td>1</td>\n",
       "      <td>IsSenateBill</td>\n",
       "      <td>2019-12-04</td>\n",
       "      <td>2019-12-04</td>\n",
       "      <td>0 days</td>\n",
       "    </tr>\n",
       "  </tbody>\n",
       "</table>\n",
       "</div>"
      ],
      "text/plain": [
       "         Id   SponsorName SponsorTitle Constituency Political Affiliation  \\\n",
       "0  44-1/S-1  Yuen Pau Woo      Senator         None                   NaN   \n",
       "1  43-2/S-1     Marc Gold      Senator         None                   NaN   \n",
       "2  43-1/S-1    Joseph Day      Senator         None                   NaN   \n",
       "\n",
       "  Code                        Title              LatestStageName  \\\n",
       "0  S-1  An Act relating to railways  First reading in the Senate   \n",
       "1  S-1  An Act relating to railways  First reading in the Senate   \n",
       "2  S-1  An Act relating to railways  First reading in the Senate   \n",
       "\n",
       "   ParliamentNumber  SessionNumber            BillType  ReceivedRoyalAssent  \\\n",
       "0                44              1  Senate Public Bill                False   \n",
       "1                43              2  Senate Public Bill                False   \n",
       "2                43              1  Senate Public Bill                False   \n",
       "\n",
       "   Ongoing  ReadingsPassed    BillOrigin FirstStageDate LastStageDate  \\\n",
       "0     True               1  IsSenateBill     2021-11-22    2021-11-22   \n",
       "1    False               1  IsSenateBill     2020-09-22    2020-09-22   \n",
       "2    False               1  IsSenateBill     2019-12-04    2019-12-04   \n",
       "\n",
       "  TimeAlive  \n",
       "0    0 days  \n",
       "1    0 days  \n",
       "2    0 days  "
      ]
     },
     "metadata": {},
     "output_type": "display_data"
    }
   ],
   "source": [
    "display(data.head(3))"
   ]
  },
  {
   "cell_type": "code",
   "execution_count": 510,
   "id": "e8bac9ba-5904-4903-8f38-7d7ac69976ed",
   "metadata": {},
   "outputs": [
    {
     "data": {
      "text/html": [
       "<div>\n",
       "<style scoped>\n",
       "    .dataframe tbody tr th:only-of-type {\n",
       "        vertical-align: middle;\n",
       "    }\n",
       "\n",
       "    .dataframe tbody tr th {\n",
       "        vertical-align: top;\n",
       "    }\n",
       "\n",
       "    .dataframe thead th {\n",
       "        text-align: right;\n",
       "    }\n",
       "</style>\n",
       "<table border=\"1\" class=\"dataframe\">\n",
       "  <thead>\n",
       "    <tr style=\"text-align: right;\">\n",
       "      <th></th>\n",
       "      <th>Reading</th>\n",
       "      <th>Failed</th>\n",
       "      <th>Passed</th>\n",
       "      <th>Stage</th>\n",
       "    </tr>\n",
       "  </thead>\n",
       "  <tbody>\n",
       "    <tr>\n",
       "      <th>0</th>\n",
       "      <td>1</td>\n",
       "      <td>5085</td>\n",
       "      <td>1678</td>\n",
       "      <td>1st Reading</td>\n",
       "    </tr>\n",
       "    <tr>\n",
       "      <th>1</th>\n",
       "      <td>2</td>\n",
       "      <td>467</td>\n",
       "      <td>1211</td>\n",
       "      <td>2nd Reading</td>\n",
       "    </tr>\n",
       "    <tr>\n",
       "      <th>2</th>\n",
       "      <td>3</td>\n",
       "      <td>24</td>\n",
       "      <td>1187</td>\n",
       "      <td>3rd Reading</td>\n",
       "    </tr>\n",
       "    <tr>\n",
       "      <th>3</th>\n",
       "      <td>4</td>\n",
       "      <td>100</td>\n",
       "      <td>1087</td>\n",
       "      <td>4th Reading</td>\n",
       "    </tr>\n",
       "    <tr>\n",
       "      <th>4</th>\n",
       "      <td>5</td>\n",
       "      <td>92</td>\n",
       "      <td>995</td>\n",
       "      <td>5th Reading</td>\n",
       "    </tr>\n",
       "    <tr>\n",
       "      <th>5</th>\n",
       "      <td>6</td>\n",
       "      <td>11</td>\n",
       "      <td>984</td>\n",
       "      <td>6th Reading</td>\n",
       "    </tr>\n",
       "    <tr>\n",
       "      <th>6</th>\n",
       "      <td>N/A</td>\n",
       "      <td>0</td>\n",
       "      <td>984</td>\n",
       "      <td>Royal Assent</td>\n",
       "    </tr>\n",
       "  </tbody>\n",
       "</table>\n",
       "</div>"
      ],
      "text/plain": [
       "  Reading  Failed  Passed         Stage\n",
       "0       1    5085    1678   1st Reading\n",
       "1       2     467    1211   2nd Reading\n",
       "2       3      24    1187   3rd Reading\n",
       "3       4     100    1087   4th Reading\n",
       "4       5      92     995   5th Reading\n",
       "5       6      11     984   6th Reading\n",
       "6     N/A       0     984  Royal Assent"
      ]
     },
     "metadata": {},
     "output_type": "display_data"
    }
   ],
   "source": [
    "# Get data and group by 'ReadingsPassed'\n",
    "plot_3 = data[['ReadingsPassed']].groupby('ReadingsPassed')\n",
    "\n",
    "# Count the number of entries in each category of 'ReadingsPassed'\n",
    "plot_3 = pd.concat(\n",
    "    [plot_3.value_counts()],\n",
    "    axis = 1\n",
    ")\n",
    "\n",
    "plot_3.reset_index(inplace = True)\n",
    "\n",
    "# Rename columsn for clarity\n",
    "plot_3 = plot_3.rename(columns = {\n",
    "    'ReadingsPassed': 'Reading',\n",
    "    0: 'Failed'\n",
    "})\n",
    "\n",
    "# Get the number of bills that have received royal assent from the original dataframe\n",
    "assent = data.ReceivedRoyalAssent.sum()\n",
    "\n",
    "# Include royal assent data in the dataframe\n",
    "failed = list(plot_3['Failed'])\n",
    "failed[5] = 995 - assent\n",
    "\n",
    "# Create new column that contains the number of bills that passed the stage\n",
    "passed = list()\n",
    "remaining = 6763\n",
    "for num in failed:\n",
    "    passed.append(remaining - num)\n",
    "    remaining -= num\n",
    "\n",
    "# Update the dataframe with new information\n",
    "plot_3['Failed'] = failed\n",
    "plot_3['Passed'] = passed\n",
    "plot_3['Stage'] = [\n",
    "    '1st Reading',\n",
    "    '2nd Reading',\n",
    "    '3rd Reading',\n",
    "    '4th Reading',\n",
    "    '5th Reading',\n",
    "    '6th Reading'\n",
    "]\n",
    "\n",
    "# Append the Royal Assent row to the dataframe\n",
    "plot_3 = pd.concat([\n",
    "    plot_3,\n",
    "    pd.DataFrame({\n",
    "        'Reading': 'N/A', \n",
    "        'Failed': 0,\n",
    "        'Passed': assent,\n",
    "        'Stage': 'Royal Assent'\n",
    "    }, index = [6])\n",
    "])\n",
    "\n",
    "# Display the dataset\n",
    "display(plot_3)"
   ]
  },
  {
   "cell_type": "code",
   "execution_count": 511,
   "id": "f44db098-a9f2-40f9-8368-bfedffe234c9",
   "metadata": {},
   "outputs": [
    {
     "data": {
      "application/vnd.plotly.v1+json": {
       "config": {
        "plotlyServerURL": "https://plot.ly"
       },
       "data": [
        {
         "alignmentgroup": "True",
         "hovertemplate": "variable=Passed<br>Stage=%{x}<br>Number of Bills=%{y}<extra></extra>",
         "legendgroup": "Passed",
         "marker": {
          "color": "#2bb800",
          "pattern": {
           "shape": ""
          }
         },
         "name": "Passed",
         "offsetgroup": "Passed",
         "orientation": "v",
         "showlegend": true,
         "textposition": "auto",
         "texttemplate": "%{y}",
         "type": "bar",
         "x": [
          "1st Reading",
          "2nd Reading",
          "3rd Reading",
          "4th Reading",
          "5th Reading",
          "6th Reading",
          "Royal Assent"
         ],
         "xaxis": "x",
         "y": [
          1678,
          1211,
          1187,
          1087,
          995,
          984,
          984
         ],
         "yaxis": "y"
        },
        {
         "alignmentgroup": "True",
         "hovertemplate": "variable=Failed<br>Stage=%{x}<br>Number of Bills=%{y}<extra></extra>",
         "legendgroup": "Failed",
         "marker": {
          "color": "#b80f00",
          "pattern": {
           "shape": ""
          }
         },
         "name": "Failed",
         "offsetgroup": "Failed",
         "orientation": "v",
         "showlegend": true,
         "textposition": "auto",
         "texttemplate": "%{y}",
         "type": "bar",
         "x": [
          "1st Reading",
          "2nd Reading",
          "3rd Reading",
          "4th Reading",
          "5th Reading",
          "6th Reading",
          "Royal Assent"
         ],
         "xaxis": "x",
         "y": [
          5085,
          467,
          24,
          100,
          92,
          11,
          0
         ],
         "yaxis": "y"
        }
       ],
       "layout": {
        "autosize": true,
        "barmode": "relative",
        "legend": {
         "title": {
          "text": "variable"
         },
         "tracegroupgap": 0
        },
        "template": {
         "data": {
          "bar": [
           {
            "error_x": {
             "color": "#2a3f5f"
            },
            "error_y": {
             "color": "#2a3f5f"
            },
            "marker": {
             "line": {
              "color": "#E5ECF6",
              "width": 0.5
             },
             "pattern": {
              "fillmode": "overlay",
              "size": 10,
              "solidity": 0.2
             }
            },
            "type": "bar"
           }
          ],
          "barpolar": [
           {
            "marker": {
             "line": {
              "color": "#E5ECF6",
              "width": 0.5
             },
             "pattern": {
              "fillmode": "overlay",
              "size": 10,
              "solidity": 0.2
             }
            },
            "type": "barpolar"
           }
          ],
          "carpet": [
           {
            "aaxis": {
             "endlinecolor": "#2a3f5f",
             "gridcolor": "white",
             "linecolor": "white",
             "minorgridcolor": "white",
             "startlinecolor": "#2a3f5f"
            },
            "baxis": {
             "endlinecolor": "#2a3f5f",
             "gridcolor": "white",
             "linecolor": "white",
             "minorgridcolor": "white",
             "startlinecolor": "#2a3f5f"
            },
            "type": "carpet"
           }
          ],
          "choropleth": [
           {
            "colorbar": {
             "outlinewidth": 0,
             "ticks": ""
            },
            "type": "choropleth"
           }
          ],
          "contour": [
           {
            "colorbar": {
             "outlinewidth": 0,
             "ticks": ""
            },
            "colorscale": [
             [
              0,
              "#0d0887"
             ],
             [
              0.1111111111111111,
              "#46039f"
             ],
             [
              0.2222222222222222,
              "#7201a8"
             ],
             [
              0.3333333333333333,
              "#9c179e"
             ],
             [
              0.4444444444444444,
              "#bd3786"
             ],
             [
              0.5555555555555556,
              "#d8576b"
             ],
             [
              0.6666666666666666,
              "#ed7953"
             ],
             [
              0.7777777777777778,
              "#fb9f3a"
             ],
             [
              0.8888888888888888,
              "#fdca26"
             ],
             [
              1,
              "#f0f921"
             ]
            ],
            "type": "contour"
           }
          ],
          "contourcarpet": [
           {
            "colorbar": {
             "outlinewidth": 0,
             "ticks": ""
            },
            "type": "contourcarpet"
           }
          ],
          "heatmap": [
           {
            "colorbar": {
             "outlinewidth": 0,
             "ticks": ""
            },
            "colorscale": [
             [
              0,
              "#0d0887"
             ],
             [
              0.1111111111111111,
              "#46039f"
             ],
             [
              0.2222222222222222,
              "#7201a8"
             ],
             [
              0.3333333333333333,
              "#9c179e"
             ],
             [
              0.4444444444444444,
              "#bd3786"
             ],
             [
              0.5555555555555556,
              "#d8576b"
             ],
             [
              0.6666666666666666,
              "#ed7953"
             ],
             [
              0.7777777777777778,
              "#fb9f3a"
             ],
             [
              0.8888888888888888,
              "#fdca26"
             ],
             [
              1,
              "#f0f921"
             ]
            ],
            "type": "heatmap"
           }
          ],
          "heatmapgl": [
           {
            "colorbar": {
             "outlinewidth": 0,
             "ticks": ""
            },
            "colorscale": [
             [
              0,
              "#0d0887"
             ],
             [
              0.1111111111111111,
              "#46039f"
             ],
             [
              0.2222222222222222,
              "#7201a8"
             ],
             [
              0.3333333333333333,
              "#9c179e"
             ],
             [
              0.4444444444444444,
              "#bd3786"
             ],
             [
              0.5555555555555556,
              "#d8576b"
             ],
             [
              0.6666666666666666,
              "#ed7953"
             ],
             [
              0.7777777777777778,
              "#fb9f3a"
             ],
             [
              0.8888888888888888,
              "#fdca26"
             ],
             [
              1,
              "#f0f921"
             ]
            ],
            "type": "heatmapgl"
           }
          ],
          "histogram": [
           {
            "marker": {
             "pattern": {
              "fillmode": "overlay",
              "size": 10,
              "solidity": 0.2
             }
            },
            "type": "histogram"
           }
          ],
          "histogram2d": [
           {
            "colorbar": {
             "outlinewidth": 0,
             "ticks": ""
            },
            "colorscale": [
             [
              0,
              "#0d0887"
             ],
             [
              0.1111111111111111,
              "#46039f"
             ],
             [
              0.2222222222222222,
              "#7201a8"
             ],
             [
              0.3333333333333333,
              "#9c179e"
             ],
             [
              0.4444444444444444,
              "#bd3786"
             ],
             [
              0.5555555555555556,
              "#d8576b"
             ],
             [
              0.6666666666666666,
              "#ed7953"
             ],
             [
              0.7777777777777778,
              "#fb9f3a"
             ],
             [
              0.8888888888888888,
              "#fdca26"
             ],
             [
              1,
              "#f0f921"
             ]
            ],
            "type": "histogram2d"
           }
          ],
          "histogram2dcontour": [
           {
            "colorbar": {
             "outlinewidth": 0,
             "ticks": ""
            },
            "colorscale": [
             [
              0,
              "#0d0887"
             ],
             [
              0.1111111111111111,
              "#46039f"
             ],
             [
              0.2222222222222222,
              "#7201a8"
             ],
             [
              0.3333333333333333,
              "#9c179e"
             ],
             [
              0.4444444444444444,
              "#bd3786"
             ],
             [
              0.5555555555555556,
              "#d8576b"
             ],
             [
              0.6666666666666666,
              "#ed7953"
             ],
             [
              0.7777777777777778,
              "#fb9f3a"
             ],
             [
              0.8888888888888888,
              "#fdca26"
             ],
             [
              1,
              "#f0f921"
             ]
            ],
            "type": "histogram2dcontour"
           }
          ],
          "mesh3d": [
           {
            "colorbar": {
             "outlinewidth": 0,
             "ticks": ""
            },
            "type": "mesh3d"
           }
          ],
          "parcoords": [
           {
            "line": {
             "colorbar": {
              "outlinewidth": 0,
              "ticks": ""
             }
            },
            "type": "parcoords"
           }
          ],
          "pie": [
           {
            "automargin": true,
            "type": "pie"
           }
          ],
          "scatter": [
           {
            "fillpattern": {
             "fillmode": "overlay",
             "size": 10,
             "solidity": 0.2
            },
            "type": "scatter"
           }
          ],
          "scatter3d": [
           {
            "line": {
             "colorbar": {
              "outlinewidth": 0,
              "ticks": ""
             }
            },
            "marker": {
             "colorbar": {
              "outlinewidth": 0,
              "ticks": ""
             }
            },
            "type": "scatter3d"
           }
          ],
          "scattercarpet": [
           {
            "marker": {
             "colorbar": {
              "outlinewidth": 0,
              "ticks": ""
             }
            },
            "type": "scattercarpet"
           }
          ],
          "scattergeo": [
           {
            "marker": {
             "colorbar": {
              "outlinewidth": 0,
              "ticks": ""
             }
            },
            "type": "scattergeo"
           }
          ],
          "scattergl": [
           {
            "marker": {
             "colorbar": {
              "outlinewidth": 0,
              "ticks": ""
             }
            },
            "type": "scattergl"
           }
          ],
          "scattermapbox": [
           {
            "marker": {
             "colorbar": {
              "outlinewidth": 0,
              "ticks": ""
             }
            },
            "type": "scattermapbox"
           }
          ],
          "scatterpolar": [
           {
            "marker": {
             "colorbar": {
              "outlinewidth": 0,
              "ticks": ""
             }
            },
            "type": "scatterpolar"
           }
          ],
          "scatterpolargl": [
           {
            "marker": {
             "colorbar": {
              "outlinewidth": 0,
              "ticks": ""
             }
            },
            "type": "scatterpolargl"
           }
          ],
          "scatterternary": [
           {
            "marker": {
             "colorbar": {
              "outlinewidth": 0,
              "ticks": ""
             }
            },
            "type": "scatterternary"
           }
          ],
          "surface": [
           {
            "colorbar": {
             "outlinewidth": 0,
             "ticks": ""
            },
            "colorscale": [
             [
              0,
              "#0d0887"
             ],
             [
              0.1111111111111111,
              "#46039f"
             ],
             [
              0.2222222222222222,
              "#7201a8"
             ],
             [
              0.3333333333333333,
              "#9c179e"
             ],
             [
              0.4444444444444444,
              "#bd3786"
             ],
             [
              0.5555555555555556,
              "#d8576b"
             ],
             [
              0.6666666666666666,
              "#ed7953"
             ],
             [
              0.7777777777777778,
              "#fb9f3a"
             ],
             [
              0.8888888888888888,
              "#fdca26"
             ],
             [
              1,
              "#f0f921"
             ]
            ],
            "type": "surface"
           }
          ],
          "table": [
           {
            "cells": {
             "fill": {
              "color": "#EBF0F8"
             },
             "line": {
              "color": "white"
             }
            },
            "header": {
             "fill": {
              "color": "#C8D4E3"
             },
             "line": {
              "color": "white"
             }
            },
            "type": "table"
           }
          ]
         },
         "layout": {
          "annotationdefaults": {
           "arrowcolor": "#2a3f5f",
           "arrowhead": 0,
           "arrowwidth": 1
          },
          "autotypenumbers": "strict",
          "coloraxis": {
           "colorbar": {
            "outlinewidth": 0,
            "ticks": ""
           }
          },
          "colorscale": {
           "diverging": [
            [
             0,
             "#8e0152"
            ],
            [
             0.1,
             "#c51b7d"
            ],
            [
             0.2,
             "#de77ae"
            ],
            [
             0.3,
             "#f1b6da"
            ],
            [
             0.4,
             "#fde0ef"
            ],
            [
             0.5,
             "#f7f7f7"
            ],
            [
             0.6,
             "#e6f5d0"
            ],
            [
             0.7,
             "#b8e186"
            ],
            [
             0.8,
             "#7fbc41"
            ],
            [
             0.9,
             "#4d9221"
            ],
            [
             1,
             "#276419"
            ]
           ],
           "sequential": [
            [
             0,
             "#0d0887"
            ],
            [
             0.1111111111111111,
             "#46039f"
            ],
            [
             0.2222222222222222,
             "#7201a8"
            ],
            [
             0.3333333333333333,
             "#9c179e"
            ],
            [
             0.4444444444444444,
             "#bd3786"
            ],
            [
             0.5555555555555556,
             "#d8576b"
            ],
            [
             0.6666666666666666,
             "#ed7953"
            ],
            [
             0.7777777777777778,
             "#fb9f3a"
            ],
            [
             0.8888888888888888,
             "#fdca26"
            ],
            [
             1,
             "#f0f921"
            ]
           ],
           "sequentialminus": [
            [
             0,
             "#0d0887"
            ],
            [
             0.1111111111111111,
             "#46039f"
            ],
            [
             0.2222222222222222,
             "#7201a8"
            ],
            [
             0.3333333333333333,
             "#9c179e"
            ],
            [
             0.4444444444444444,
             "#bd3786"
            ],
            [
             0.5555555555555556,
             "#d8576b"
            ],
            [
             0.6666666666666666,
             "#ed7953"
            ],
            [
             0.7777777777777778,
             "#fb9f3a"
            ],
            [
             0.8888888888888888,
             "#fdca26"
            ],
            [
             1,
             "#f0f921"
            ]
           ]
          },
          "colorway": [
           "#636efa",
           "#EF553B",
           "#00cc96",
           "#ab63fa",
           "#FFA15A",
           "#19d3f3",
           "#FF6692",
           "#B6E880",
           "#FF97FF",
           "#FECB52"
          ],
          "font": {
           "color": "#2a3f5f"
          },
          "geo": {
           "bgcolor": "white",
           "lakecolor": "white",
           "landcolor": "#E5ECF6",
           "showlakes": true,
           "showland": true,
           "subunitcolor": "white"
          },
          "hoverlabel": {
           "align": "left"
          },
          "hovermode": "closest",
          "mapbox": {
           "style": "light"
          },
          "paper_bgcolor": "white",
          "plot_bgcolor": "#E5ECF6",
          "polar": {
           "angularaxis": {
            "gridcolor": "white",
            "linecolor": "white",
            "ticks": ""
           },
           "bgcolor": "#E5ECF6",
           "radialaxis": {
            "gridcolor": "white",
            "linecolor": "white",
            "ticks": ""
           }
          },
          "scene": {
           "xaxis": {
            "backgroundcolor": "#E5ECF6",
            "gridcolor": "white",
            "gridwidth": 2,
            "linecolor": "white",
            "showbackground": true,
            "ticks": "",
            "zerolinecolor": "white"
           },
           "yaxis": {
            "backgroundcolor": "#E5ECF6",
            "gridcolor": "white",
            "gridwidth": 2,
            "linecolor": "white",
            "showbackground": true,
            "ticks": "",
            "zerolinecolor": "white"
           },
           "zaxis": {
            "backgroundcolor": "#E5ECF6",
            "gridcolor": "white",
            "gridwidth": 2,
            "linecolor": "white",
            "showbackground": true,
            "ticks": "",
            "zerolinecolor": "white"
           }
          },
          "shapedefaults": {
           "line": {
            "color": "#2a3f5f"
           }
          },
          "ternary": {
           "aaxis": {
            "gridcolor": "white",
            "linecolor": "white",
            "ticks": ""
           },
           "baxis": {
            "gridcolor": "white",
            "linecolor": "white",
            "ticks": ""
           },
           "bgcolor": "#E5ECF6",
           "caxis": {
            "gridcolor": "white",
            "linecolor": "white",
            "ticks": ""
           }
          },
          "title": {
           "x": 0.05
          },
          "xaxis": {
           "automargin": true,
           "gridcolor": "white",
           "linecolor": "white",
           "ticks": "",
           "title": {
            "standoff": 15
           },
           "zerolinecolor": "white",
           "zerolinewidth": 2
          },
          "yaxis": {
           "automargin": true,
           "gridcolor": "white",
           "linecolor": "white",
           "ticks": "",
           "title": {
            "standoff": 15
           },
           "zerolinecolor": "white",
           "zerolinewidth": 2
          }
         }
        },
        "title": {
         "text": "Number of Readings that Passed Each Stage in the Canadian Parliament (1994 - 2022)"
        },
        "xaxis": {
         "anchor": "y",
         "autorange": true,
         "domain": [
          0,
          1
         ],
         "range": [
          -0.5,
          6.5
         ],
         "title": {
          "text": "Stage"
         },
         "type": "category"
        },
        "yaxis": {
         "anchor": "x",
         "autorange": true,
         "domain": [
          0,
          1
         ],
         "range": [
          0,
          7118.9473684210525
         ],
         "title": {
          "text": "Number of Bills"
         },
         "type": "linear"
        }
       }
      },
      "image/png": "[encoded data removed]",
      "text/html": [
       "<div>                            <div id=\"7313d1f9-2cf9-476e-aca5-962e97abb3b1\" class=\"plotly-graph-div\" style=\"height:525px; width:100%;\"></div>            <script type=\"text/javascript\">                require([\"plotly\"], function(Plotly) {                    window.PLOTLYENV=window.PLOTLYENV || {};                                    if (document.getElementById(\"7313d1f9-2cf9-476e-aca5-962e97abb3b1\")) {                    Plotly.newPlot(                        \"7313d1f9-2cf9-476e-aca5-962e97abb3b1\",                        [{\"alignmentgroup\":\"True\",\"hovertemplate\":\"variable=Passed<br>Stage=%{x}<br>Number of Bills=%{y}<extra></extra>\",\"legendgroup\":\"Passed\",\"marker\":{\"color\":\"#2bb800\",\"pattern\":{\"shape\":\"\"}},\"name\":\"Passed\",\"offsetgroup\":\"Passed\",\"orientation\":\"v\",\"showlegend\":true,\"textposition\":\"auto\",\"texttemplate\":\"%{y}\",\"x\":[\"1st Reading\",\"2nd Reading\",\"3rd Reading\",\"4th Reading\",\"5th Reading\",\"6th Reading\",\"Royal Assent\"],\"xaxis\":\"x\",\"y\":[1678,1211,1187,1087,995,984,984],\"yaxis\":\"y\",\"type\":\"bar\"},{\"alignmentgroup\":\"True\",\"hovertemplate\":\"variable=Failed<br>Stage=%{x}<br>Number of Bills=%{y}<extra></extra>\",\"legendgroup\":\"Failed\",\"marker\":{\"color\":\"#b80f00\",\"pattern\":{\"shape\":\"\"}},\"name\":\"Failed\",\"offsetgroup\":\"Failed\",\"orientation\":\"v\",\"showlegend\":true,\"textposition\":\"auto\",\"texttemplate\":\"%{y}\",\"x\":[\"1st Reading\",\"2nd Reading\",\"3rd Reading\",\"4th Reading\",\"5th Reading\",\"6th Reading\",\"Royal Assent\"],\"xaxis\":\"x\",\"y\":[5085,467,24,100,92,11,0],\"yaxis\":\"y\",\"type\":\"bar\"}],                        {\"template\":{\"data\":{\"histogram2dcontour\":[{\"type\":\"histogram2dcontour\",\"colorbar\":{\"outlinewidth\":0,\"ticks\":\"\"},\"colorscale\":[[0.0,\"#0d0887\"],[0.1111111111111111,\"#46039f\"],[0.2222222222222222,\"#7201a8\"],[0.3333333333333333,\"#9c179e\"],[0.4444444444444444,\"#bd3786\"],[0.5555555555555556,\"#d8576b\"],[0.6666666666666666,\"#ed7953\"],[0.7777777777777778,\"#fb9f3a\"],[0.8888888888888888,\"#fdca26\"],[1.0,\"#f0f921\"]]}],\"choropleth\":[{\"type\":\"choropleth\",\"colorbar\":{\"outlinewidth\":0,\"ticks\":\"\"}}],\"histogram2d\":[{\"type\":\"histogram2d\",\"colorbar\":{\"outlinewidth\":0,\"ticks\":\"\"},\"colorscale\":[[0.0,\"#0d0887\"],[0.1111111111111111,\"#46039f\"],[0.2222222222222222,\"#7201a8\"],[0.3333333333333333,\"#9c179e\"],[0.4444444444444444,\"#bd3786\"],[0.5555555555555556,\"#d8576b\"],[0.6666666666666666,\"#ed7953\"],[0.7777777777777778,\"#fb9f3a\"],[0.8888888888888888,\"#fdca26\"],[1.0,\"#f0f921\"]]}],\"heatmap\":[{\"type\":\"heatmap\",\"colorbar\":{\"outlinewidth\":0,\"ticks\":\"\"},\"colorscale\":[[0.0,\"#0d0887\"],[0.1111111111111111,\"#46039f\"],[0.2222222222222222,\"#7201a8\"],[0.3333333333333333,\"#9c179e\"],[0.4444444444444444,\"#bd3786\"],[0.5555555555555556,\"#d8576b\"],[0.6666666666666666,\"#ed7953\"],[0.7777777777777778,\"#fb9f3a\"],[0.8888888888888888,\"#fdca26\"],[1.0,\"#f0f921\"]]}],\"heatmapgl\":[{\"type\":\"heatmapgl\",\"colorbar\":{\"outlinewidth\":0,\"ticks\":\"\"},\"colorscale\":[[0.0,\"#0d0887\"],[0.1111111111111111,\"#46039f\"],[0.2222222222222222,\"#7201a8\"],[0.3333333333333333,\"#9c179e\"],[0.4444444444444444,\"#bd3786\"],[0.5555555555555556,\"#d8576b\"],[0.6666666666666666,\"#ed7953\"],[0.7777777777777778,\"#fb9f3a\"],[0.8888888888888888,\"#fdca26\"],[1.0,\"#f0f921\"]]}],\"contourcarpet\":[{\"type\":\"contourcarpet\",\"colorbar\":{\"outlinewidth\":0,\"ticks\":\"\"}}],\"contour\":[{\"type\":\"contour\",\"colorbar\":{\"outlinewidth\":0,\"ticks\":\"\"},\"colorscale\":[[0.0,\"#0d0887\"],[0.1111111111111111,\"#46039f\"],[0.2222222222222222,\"#7201a8\"],[0.3333333333333333,\"#9c179e\"],[0.4444444444444444,\"#bd3786\"],[0.5555555555555556,\"#d8576b\"],[0.6666666666666666,\"#ed7953\"],[0.7777777777777778,\"#fb9f3a\"],[0.8888888888888888,\"#fdca26\"],[1.0,\"#f0f921\"]]}],\"surface\":[{\"type\":\"surface\",\"colorbar\":{\"outlinewidth\":0,\"ticks\":\"\"},\"colorscale\":[[0.0,\"#0d0887\"],[0.1111111111111111,\"#46039f\"],[0.2222222222222222,\"#7201a8\"],[0.3333333333333333,\"#9c179e\"],[0.4444444444444444,\"#bd3786\"],[0.5555555555555556,\"#d8576b\"],[0.6666666666666666,\"#ed7953\"],[0.7777777777777778,\"#fb9f3a\"],[0.8888888888888888,\"#fdca26\"],[1.0,\"#f0f921\"]]}],\"mesh3d\":[{\"type\":\"mesh3d\",\"colorbar\":{\"outlinewidth\":0,\"ticks\":\"\"}}],\"scatter\":[{\"fillpattern\":{\"fillmode\":\"overlay\",\"size\":10,\"solidity\":0.2},\"type\":\"scatter\"}],\"parcoords\":[{\"type\":\"parcoords\",\"line\":{\"colorbar\":{\"outlinewidth\":0,\"ticks\":\"\"}}}],\"scatterpolargl\":[{\"type\":\"scatterpolargl\",\"marker\":{\"colorbar\":{\"outlinewidth\":0,\"ticks\":\"\"}}}],\"bar\":[{\"error_x\":{\"color\":\"#2a3f5f\"},\"error_y\":{\"color\":\"#2a3f5f\"},\"marker\":{\"line\":{\"color\":\"#E5ECF6\",\"width\":0.5},\"pattern\":{\"fillmode\":\"overlay\",\"size\":10,\"solidity\":0.2}},\"type\":\"bar\"}],\"scattergeo\":[{\"type\":\"scattergeo\",\"marker\":{\"colorbar\":{\"outlinewidth\":0,\"ticks\":\"\"}}}],\"scatterpolar\":[{\"type\":\"scatterpolar\",\"marker\":{\"colorbar\":{\"outlinewidth\":0,\"ticks\":\"\"}}}],\"histogram\":[{\"marker\":{\"pattern\":{\"fillmode\":\"overlay\",\"size\":10,\"solidity\":0.2}},\"type\":\"histogram\"}],\"scattergl\":[{\"type\":\"scattergl\",\"marker\":{\"colorbar\":{\"outlinewidth\":0,\"ticks\":\"\"}}}],\"scatter3d\":[{\"type\":\"scatter3d\",\"line\":{\"colorbar\":{\"outlinewidth\":0,\"ticks\":\"\"}},\"marker\":{\"colorbar\":{\"outlinewidth\":0,\"ticks\":\"\"}}}],\"scattermapbox\":[{\"type\":\"scattermapbox\",\"marker\":{\"colorbar\":{\"outlinewidth\":0,\"ticks\":\"\"}}}],\"scatterternary\":[{\"type\":\"scatterternary\",\"marker\":{\"colorbar\":{\"outlinewidth\":0,\"ticks\":\"\"}}}],\"scattercarpet\":[{\"type\":\"scattercarpet\",\"marker\":{\"colorbar\":{\"outlinewidth\":0,\"ticks\":\"\"}}}],\"carpet\":[{\"aaxis\":{\"endlinecolor\":\"#2a3f5f\",\"gridcolor\":\"white\",\"linecolor\":\"white\",\"minorgridcolor\":\"white\",\"startlinecolor\":\"#2a3f5f\"},\"baxis\":{\"endlinecolor\":\"#2a3f5f\",\"gridcolor\":\"white\",\"linecolor\":\"white\",\"minorgridcolor\":\"white\",\"startlinecolor\":\"#2a3f5f\"},\"type\":\"carpet\"}],\"table\":[{\"cells\":{\"fill\":{\"color\":\"#EBF0F8\"},\"line\":{\"color\":\"white\"}},\"header\":{\"fill\":{\"color\":\"#C8D4E3\"},\"line\":{\"color\":\"white\"}},\"type\":\"table\"}],\"barpolar\":[{\"marker\":{\"line\":{\"color\":\"#E5ECF6\",\"width\":0.5},\"pattern\":{\"fillmode\":\"overlay\",\"size\":10,\"solidity\":0.2}},\"type\":\"barpolar\"}],\"pie\":[{\"automargin\":true,\"type\":\"pie\"}]},\"layout\":{\"autotypenumbers\":\"strict\",\"colorway\":[\"#636efa\",\"#EF553B\",\"#00cc96\",\"#ab63fa\",\"#FFA15A\",\"#19d3f3\",\"#FF6692\",\"#B6E880\",\"#FF97FF\",\"#FECB52\"],\"font\":{\"color\":\"#2a3f5f\"},\"hovermode\":\"closest\",\"hoverlabel\":{\"align\":\"left\"},\"paper_bgcolor\":\"white\",\"plot_bgcolor\":\"#E5ECF6\",\"polar\":{\"bgcolor\":\"#E5ECF6\",\"angularaxis\":{\"gridcolor\":\"white\",\"linecolor\":\"white\",\"ticks\":\"\"},\"radialaxis\":{\"gridcolor\":\"white\",\"linecolor\":\"white\",\"ticks\":\"\"}},\"ternary\":{\"bgcolor\":\"#E5ECF6\",\"aaxis\":{\"gridcolor\":\"white\",\"linecolor\":\"white\",\"ticks\":\"\"},\"baxis\":{\"gridcolor\":\"white\",\"linecolor\":\"white\",\"ticks\":\"\"},\"caxis\":{\"gridcolor\":\"white\",\"linecolor\":\"white\",\"ticks\":\"\"}},\"coloraxis\":{\"colorbar\":{\"outlinewidth\":0,\"ticks\":\"\"}},\"colorscale\":{\"sequential\":[[0.0,\"#0d0887\"],[0.1111111111111111,\"#46039f\"],[0.2222222222222222,\"#7201a8\"],[0.3333333333333333,\"#9c179e\"],[0.4444444444444444,\"#bd3786\"],[0.5555555555555556,\"#d8576b\"],[0.6666666666666666,\"#ed7953\"],[0.7777777777777778,\"#fb9f3a\"],[0.8888888888888888,\"#fdca26\"],[1.0,\"#f0f921\"]],\"sequentialminus\":[[0.0,\"#0d0887\"],[0.1111111111111111,\"#46039f\"],[0.2222222222222222,\"#7201a8\"],[0.3333333333333333,\"#9c179e\"],[0.4444444444444444,\"#bd3786\"],[0.5555555555555556,\"#d8576b\"],[0.6666666666666666,\"#ed7953\"],[0.7777777777777778,\"#fb9f3a\"],[0.8888888888888888,\"#fdca26\"],[1.0,\"#f0f921\"]],\"diverging\":[[0,\"#8e0152\"],[0.1,\"#c51b7d\"],[0.2,\"#de77ae\"],[0.3,\"#f1b6da\"],[0.4,\"#fde0ef\"],[0.5,\"#f7f7f7\"],[0.6,\"#e6f5d0\"],[0.7,\"#b8e186\"],[0.8,\"#7fbc41\"],[0.9,\"#4d9221\"],[1,\"#276419\"]]},\"xaxis\":{\"gridcolor\":\"white\",\"linecolor\":\"white\",\"ticks\":\"\",\"title\":{\"standoff\":15},\"zerolinecolor\":\"white\",\"automargin\":true,\"zerolinewidth\":2},\"yaxis\":{\"gridcolor\":\"white\",\"linecolor\":\"white\",\"ticks\":\"\",\"title\":{\"standoff\":15},\"zerolinecolor\":\"white\",\"automargin\":true,\"zerolinewidth\":2},\"scene\":{\"xaxis\":{\"backgroundcolor\":\"#E5ECF6\",\"gridcolor\":\"white\",\"linecolor\":\"white\",\"showbackground\":true,\"ticks\":\"\",\"zerolinecolor\":\"white\",\"gridwidth\":2},\"yaxis\":{\"backgroundcolor\":\"#E5ECF6\",\"gridcolor\":\"white\",\"linecolor\":\"white\",\"showbackground\":true,\"ticks\":\"\",\"zerolinecolor\":\"white\",\"gridwidth\":2},\"zaxis\":{\"backgroundcolor\":\"#E5ECF6\",\"gridcolor\":\"white\",\"linecolor\":\"white\",\"showbackground\":true,\"ticks\":\"\",\"zerolinecolor\":\"white\",\"gridwidth\":2}},\"shapedefaults\":{\"line\":{\"color\":\"#2a3f5f\"}},\"annotationdefaults\":{\"arrowcolor\":\"#2a3f5f\",\"arrowhead\":0,\"arrowwidth\":1},\"geo\":{\"bgcolor\":\"white\",\"landcolor\":\"#E5ECF6\",\"subunitcolor\":\"white\",\"showland\":true,\"showlakes\":true,\"lakecolor\":\"white\"},\"title\":{\"x\":0.05},\"mapbox\":{\"style\":\"light\"}}},\"xaxis\":{\"anchor\":\"y\",\"domain\":[0.0,1.0],\"title\":{\"text\":\"Stage\"}},\"yaxis\":{\"anchor\":\"x\",\"domain\":[0.0,1.0],\"title\":{\"text\":\"Number of Bills\"}},\"legend\":{\"title\":{\"text\":\"variable\"},\"tracegroupgap\":0},\"title\":{\"text\":\"Number of Readings that Passed Each Stage in the Canadian Parliament (1994 - 2022)\"},\"barmode\":\"relative\"},                        {\"responsive\": true}                    ).then(function(){\n",
       "                            \n",
       "var gd = document.getElementById('7313d1f9-2cf9-476e-aca5-962e97abb3b1');\n",
       "var x = new MutationObserver(function (mutations, observer) {{\n",
       "        var display = window.getComputedStyle(gd).display;\n",
       "        if (!display || display === 'none') {{\n",
       "            console.log([gd, 'removed!']);\n",
       "            Plotly.purge(gd);\n",
       "            observer.disconnect();\n",
       "        }}\n",
       "}});\n",
       "\n",
       "// Listen for the removal of the full notebook cells\n",
       "var notebookContainer = gd.closest('#notebook-container');\n",
       "if (notebookContainer) {{\n",
       "    x.observe(notebookContainer, {childList: true});\n",
       "}}\n",
       "\n",
       "// Listen for the clearing of the current output cell\n",
       "var outputEl = gd.closest('.output');\n",
       "if (outputEl) {{\n",
       "    x.observe(outputEl, {childList: true});\n",
       "}}\n",
       "\n",
       "                        })                };                });            </script>        </div>"
      ]
     },
     "metadata": {},
     "output_type": "display_data"
    }
   ],
   "source": [
    "color_map = {\n",
    "    \"Passed\": \"#2bb800\",\n",
    "    \"Failed\": \"#b80f00\",\n",
    "}\n",
    "\n",
    "\n",
    "fig = px.bar(\n",
    "    plot_3, \n",
    "    x = \"Stage\", \n",
    "    y = [\"Passed\", \"Failed\"], \n",
    "    title = \"Number of Readings that Passed Each Stage in the Canadian Parliament (1994 - 2022)\",\n",
    "    color_discrete_map = color_map,\n",
    "    text_auto = True,\n",
    "    labels = {\n",
    "        \"value\": \"Number of Bills\",\n",
    "        \"Reading\": \"Stage\"\n",
    "    }\n",
    ")\n",
    "\n",
    "fig.show()"
   ]
  },
  {
   "cell_type": "markdown",
   "id": "9ab7c78b-49c2-4609-ab4a-2b215016f160",
   "metadata": {},
   "source": [
    "### Part 4: Time Spent Debating (For Passing Bills)"
   ]
  },
  {
   "cell_type": "code",
   "execution_count": 512,
   "id": "7d11dbfe-fff0-4f56-8836-c3fe16b94191",
   "metadata": {},
   "outputs": [
    {
     "data": {
      "text/html": [
       "<div>\n",
       "<style scoped>\n",
       "    .dataframe tbody tr th:only-of-type {\n",
       "        vertical-align: middle;\n",
       "    }\n",
       "\n",
       "    .dataframe tbody tr th {\n",
       "        vertical-align: top;\n",
       "    }\n",
       "\n",
       "    .dataframe thead th {\n",
       "        text-align: right;\n",
       "    }\n",
       "</style>\n",
       "<table border=\"1\" class=\"dataframe\">\n",
       "  <thead>\n",
       "    <tr style=\"text-align: right;\">\n",
       "      <th></th>\n",
       "      <th>index</th>\n",
       "      <th>TimeAlive</th>\n",
       "      <th>Title</th>\n",
       "      <th>Id</th>\n",
       "      <th>ParliamentNumber</th>\n",
       "      <th>Party</th>\n",
       "      <th>PrimeMinister</th>\n",
       "    </tr>\n",
       "  </thead>\n",
       "  <tbody>\n",
       "    <tr>\n",
       "      <th>0</th>\n",
       "      <td>19</td>\n",
       "      <td>659</td>\n",
       "      <td>Strengthening Motor Vehicle Safety for Canadia...</td>\n",
       "      <td>42-1/S-2</td>\n",
       "      <td>42</td>\n",
       "      <td>Liberal Party</td>\n",
       "      <td>Justin Trudeau</td>\n",
       "    </tr>\n",
       "    <tr>\n",
       "      <th>1</th>\n",
       "      <td>20</td>\n",
       "      <td>605</td>\n",
       "      <td>Incorporation by Reference in Regulations Act</td>\n",
       "      <td>41-2/S-2</td>\n",
       "      <td>41</td>\n",
       "      <td>Conservative Party</td>\n",
       "      <td>Stephen Harper</td>\n",
       "    </tr>\n",
       "    <tr>\n",
       "      <th>3</th>\n",
       "      <td>21</td>\n",
       "      <td>630</td>\n",
       "      <td>Family Homes on Reserves and Matrimonial Inter...</td>\n",
       "      <td>41-1/S-2</td>\n",
       "      <td>41</td>\n",
       "      <td>Conservative Party</td>\n",
       "      <td>Stephen Harper</td>\n",
       "    </tr>\n",
       "    <tr>\n",
       "      <th>5</th>\n",
       "      <td>22</td>\n",
       "      <td>273</td>\n",
       "      <td>Protecting Victims From Sex Offenders Act</td>\n",
       "      <td>40-3/S-2</td>\n",
       "      <td>40</td>\n",
       "      <td>Conservative Party</td>\n",
       "      <td>Stephen Harper</td>\n",
       "    </tr>\n",
       "    <tr>\n",
       "      <th>8</th>\n",
       "      <td>23</td>\n",
       "      <td>134</td>\n",
       "      <td>An Act to amend the Customs Act</td>\n",
       "      <td>40-2/S-2</td>\n",
       "      <td>40</td>\n",
       "      <td>Conservative Party</td>\n",
       "      <td>Stephen Harper</td>\n",
       "    </tr>\n",
       "  </tbody>\n",
       "</table>\n",
       "</div>"
      ],
      "text/plain": [
       "   index  TimeAlive                                              Title  \\\n",
       "0     19        659  Strengthening Motor Vehicle Safety for Canadia...   \n",
       "1     20        605      Incorporation by Reference in Regulations Act   \n",
       "3     21        630  Family Homes on Reserves and Matrimonial Inter...   \n",
       "5     22        273          Protecting Victims From Sex Offenders Act   \n",
       "8     23        134                    An Act to amend the Customs Act   \n",
       "\n",
       "         Id  ParliamentNumber               Party   PrimeMinister  \n",
       "0  42-1/S-2                42       Liberal Party  Justin Trudeau  \n",
       "1  41-2/S-2                41  Conservative Party  Stephen Harper  \n",
       "3  41-1/S-2                41  Conservative Party  Stephen Harper  \n",
       "5  40-3/S-2                40  Conservative Party  Stephen Harper  \n",
       "8  40-2/S-2                40  Conservative Party  Stephen Harper  "
      ]
     },
     "metadata": {},
     "output_type": "display_data"
    }
   ],
   "source": [
    "# Get all bills that received Royal Assent\n",
    "plot_4 = data.loc[\n",
    "    data['ReceivedRoyalAssent'] == True, \n",
    "    ['TimeAlive', 'Title', 'Id', 'ParliamentNumber']\n",
    "]\n",
    "\n",
    "plot_4.reset_index(inplace = True)\n",
    "\n",
    "# Convert TimeAlive to an integer\n",
    "plot_4['TimeAlive'] = plot_4['TimeAlive'].apply(lambda x: x.split(' ')[0]).astype(int)\n",
    "\n",
    "# Get party data\n",
    "party = parliaments[['ParliamentNumber', 'Party', 'PrimeMinister']]\n",
    "\n",
    "# Concatenate plot_4 with party data to get Prime Minister and Party\n",
    "plot_4 = pd.merge(plot_4, party, on = ['ParliamentNumber'], how = 'left')\n",
    "plot_4 = plot_4.drop_duplicates()\n",
    "\n",
    "# Display DataFrame\n",
    "display(plot_4.head())"
   ]
  },
  {
   "cell_type": "code",
   "execution_count": 513,
   "id": "343619a8-02c5-4e2b-a7af-8d504c0d3262",
   "metadata": {},
   "outputs": [
    {
     "data": {
      "application/vnd.plotly.v1+json": {
       "config": {
        "plotlyServerURL": "https://plot.ly"
       },
       "data": [
        {
         "alignmentgroup": "True",
         "bingroup": "x",
         "hovertemplate": "Days Deliberated=%{x}<br>count=%{y}<extra></extra>",
         "legendgroup": "",
         "marker": {
          "color": "#636efa",
          "pattern": {
           "shape": ""
          }
         },
         "name": "",
         "nbinsx": 30,
         "offsetgroup": "",
         "orientation": "v",
         "showlegend": false,
         "type": "histogram",
         "x": [
          659,
          605,
          630,
          273,
          134,
          58,
          339,
          212,
          71,
          99,
          261,
          127,
          184,
          413,
          603,
          61,
          267,
          106,
          339,
          415,
          134,
          240,
          254,
          134,
          310,
          44,
          437,
          224,
          206,
          99,
          216,
          547,
          216,
          127,
          343,
          71,
          261,
          99,
          215,
          84,
          223,
          380,
          337,
          59,
          225,
          435,
          173,
          196,
          476,
          14,
          449,
          199,
          190,
          230,
          15,
          58,
          322,
          238,
          168,
          128,
          23,
          134,
          408,
          119,
          127,
          23,
          71,
          114,
          212,
          105,
          147,
          114,
          240,
          100,
          365,
          183,
          158,
          9,
          406,
          198,
          217,
          189,
          79,
          99,
          77,
          128,
          56,
          127,
          28,
          28,
          176,
          91,
          85,
          246,
          191,
          190,
          157,
          92,
          366,
          513,
          534,
          1291,
          184,
          329,
          394,
          246,
          525,
          461,
          926,
          281,
          735,
          390,
          365,
          225,
          266,
          213,
          854,
          363,
          386,
          378,
          92,
          293,
          386,
          113,
          532,
          330,
          479,
          193,
          300,
          139,
          36,
          174,
          18,
          240,
          15,
          176,
          45,
          23,
          1,
          371,
          608,
          12,
          110,
          91,
          133,
          244,
          285,
          222,
          96,
          230,
          84,
          28,
          108,
          21,
          223,
          0,
          416,
          11,
          278,
          134,
          115,
          283,
          258,
          94,
          182,
          131,
          441,
          89,
          58,
          8,
          3,
          44,
          507,
          50,
          146,
          17,
          139,
          50,
          133,
          131,
          62,
          259,
          232,
          106,
          345,
          246,
          237,
          106,
          232,
          68,
          30,
          64,
          371,
          187,
          417,
          52,
          9,
          479,
          376,
          5,
          8,
          166,
          48,
          394,
          316,
          181,
          265,
          269,
          99,
          163,
          466,
          47,
          8,
          145,
          139,
          86,
          379,
          164,
          75,
          106,
          176,
          241,
          3,
          406,
          4,
          122,
          8,
          195,
          72,
          64,
          126,
          222,
          106,
          97,
          17,
          3,
          163,
          4,
          105,
          100,
          136,
          392,
          258,
          92,
          245,
          118,
          175,
          252,
          84,
          97,
          32,
          0,
          89,
          365,
          174,
          34,
          223,
          478,
          217,
          62,
          22,
          0,
          215,
          0,
          89,
          273,
          91,
          134,
          108,
          414,
          413,
          84,
          64,
          252,
          246,
          46,
          83,
          287,
          23,
          222,
          0,
          586,
          15,
          46,
          410,
          217,
          161,
          112,
          245,
          231,
          105,
          128,
          1,
          242,
          383,
          71,
          78,
          212,
          42,
          216,
          47,
          110,
          161,
          29,
          104,
          80,
          91,
          154,
          0,
          63,
          136,
          341,
          117,
          403,
          118,
          71,
          63,
          244,
          350,
          82,
          29,
          7,
          199,
          2,
          62,
          111,
          620,
          46,
          35,
          205,
          92,
          231,
          224,
          82,
          78,
          229,
          7,
          3,
          2,
          397,
          88,
          52,
          106,
          338,
          50,
          49,
          82,
          105,
          3,
          554,
          334,
          49,
          197,
          85,
          90,
          194,
          413,
          91,
          97,
          9,
          374,
          442,
          57,
          101,
          42,
          379,
          142,
          46,
          90,
          211,
          194,
          82,
          89,
          56,
          9,
          7,
          2,
          162,
          182,
          202,
          224,
          101,
          2,
          7,
          7,
          141,
          49,
          141,
          82,
          9,
          199,
          476,
          98,
          2,
          910,
          448,
          323,
          3,
          218,
          65,
          8,
          9,
          3,
          131,
          8,
          48,
          370,
          391,
          24,
          320,
          3,
          246,
          84,
          197,
          7,
          8,
          542,
          134,
          226,
          215,
          246,
          426,
          139,
          13,
          364,
          59,
          13,
          16,
          20,
          631,
          132,
          394,
          48,
          84,
          85,
          107,
          63,
          141,
          257,
          247,
          2,
          59,
          16,
          579,
          113,
          223,
          209,
          70,
          367,
          274,
          69,
          134,
          371,
          212,
          4,
          69,
          476,
          218,
          209,
          345,
          10,
          50,
          133,
          196,
          245,
          42,
          4,
          391,
          489,
          10,
          414,
          233,
          560,
          372,
          41,
          6,
          2,
          482,
          203,
          45,
          23,
          126,
          360,
          49,
          86,
          9,
          190,
          45,
          3,
          50,
          2,
          9,
          45,
          153,
          3,
          1,
          8,
          301,
          368,
          2,
          28,
          60,
          196,
          63,
          295,
          204,
          139,
          44,
          3,
          190,
          8,
          132,
          43,
          58,
          209,
          82,
          132,
          196,
          203,
          241,
          70,
          89,
          105,
          58,
          28,
          41,
          384,
          494,
          135,
          89,
          83,
          551,
          365,
          27,
          4,
          2,
          17,
          206,
          156,
          222,
          14,
          52,
          37,
          4,
          51,
          14,
          22,
          203,
          20,
          6,
          83,
          30,
          14,
          357,
          37,
          13,
          406,
          14,
          287,
          8,
          6,
          211,
          371,
          223,
          21,
          7,
          370,
          154,
          273,
          188,
          157,
          76,
          64,
          91,
          34,
          196,
          156,
          12,
          420,
          129,
          122,
          347,
          176,
          155,
          101,
          244,
          343,
          385,
          8,
          63,
          9,
          1,
          14,
          169,
          54,
          255,
          343,
          191,
          8,
          2,
          9,
          14,
          44,
          17,
          147,
          72,
          343,
          15,
          8,
          313,
          21,
          154,
          73,
          199,
          69,
          47,
          408,
          343,
          13,
          8,
          63,
          21,
          3,
          3,
          2,
          134,
          127,
          308,
          265,
          395,
          253,
          363,
          278,
          31,
          192,
          2,
          136,
          14,
          190,
          182,
          183,
          53,
          363,
          96,
          203,
          329,
          364,
          71,
          177,
          84,
          12,
          3,
          8,
          20,
          363,
          433,
          12,
          56,
          12,
          23,
          148,
          14,
          16,
          9,
          190,
          542,
          433,
          191,
          12,
          54,
          13,
          9,
          317,
          178,
          608,
          79,
          224,
          75,
          112,
          7,
          188,
          7,
          188,
          769,
          216,
          168,
          4,
          2,
          70,
          75,
          147,
          6,
          87,
          371,
          4,
          2,
          7,
          197,
          50,
          371,
          66,
          385,
          4,
          50,
          96,
          7,
          50,
          128,
          66,
          554,
          138,
          196,
          76,
          8,
          272,
          84,
          118,
          196,
          85,
          8,
          71,
          7,
          54,
          179,
          78,
          246,
          265,
          7,
          6,
          177,
          73,
          279,
          710,
          6,
          43,
          127,
          175,
          11,
          252,
          220,
          69,
          42,
          17,
          34,
          52,
          619,
          172,
          140,
          153,
          51,
          731,
          6,
          6,
          13,
          9,
          140,
          730,
          46,
          6,
          42,
          13,
          21,
          7,
          101,
          122,
          69,
          57,
          12,
          15,
          9,
          182,
          111,
          69,
          20,
          19,
          14,
          113,
          76,
          365,
          405,
          18,
          11,
          47,
          14,
          13,
          58,
          7,
          485,
          17,
          13,
          6,
          189,
          368,
          351,
          51,
          211,
          204,
          9,
          50,
          126,
          7,
          9,
          126,
          189,
          499,
          7,
          294,
          497,
          42,
          108,
          126,
          457,
          23,
          93,
          144,
          257,
          7,
          7,
          93,
          139,
          7,
          9,
          31,
          85,
          9,
          1,
          448,
          90,
          226,
          3,
          94,
          406,
          135,
          5,
          394,
          152,
          133,
          63,
          7,
          7,
          7,
          365,
          72,
          76,
          365,
          10,
          70,
          98,
          247,
          234,
          245,
          10,
          64,
          215,
          76,
          44,
          9,
          76,
          8,
          73,
          224,
          8,
          4,
          69,
          7,
          180,
          135,
          59,
          112,
          16,
          56,
          111,
          16,
          200,
          1,
          8,
          2,
          73,
          8,
          182,
          15,
          2,
          166,
          176,
          21,
          34,
          58,
          46,
          65,
          4,
          168,
          356,
          260,
          142,
          145,
          545,
          201,
          741,
          874,
          58,
          93,
          403,
          245,
          131,
          131,
          436,
          175,
          200,
          482,
          311,
          110,
          482,
          214,
          196,
          87,
          392,
          387,
          58,
          425,
          117,
          306,
          33,
          560,
          406,
          280,
          210,
          274,
          401,
          246,
          545,
          226,
          401,
          140,
          635,
          441,
          319,
          87,
          634,
          85,
          440,
          629,
          624,
          268,
          516,
          268,
          437,
          631,
          623,
          409,
          41,
          482,
          557,
          621,
          553,
          245,
          21,
          92,
          14,
          420,
          390,
          230,
          386,
          245,
          122,
          141,
          568,
          226,
          18,
          205,
          286,
          97,
          97,
          83,
          226,
          344,
          498,
          311,
          245,
          343,
          320,
          567,
          441,
          434,
          272
         ],
         "xaxis": "x",
         "yaxis": "y"
        },
        {
         "alignmentgroup": "True",
         "hovertemplate": "Days Deliberated=%{x}<extra></extra>",
         "legendgroup": "",
         "marker": {
          "color": "#636efa"
         },
         "name": "",
         "notched": true,
         "offsetgroup": "",
         "showlegend": false,
         "type": "box",
         "x": [
          659,
          605,
          630,
          273,
          134,
          58,
          339,
          212,
          71,
          99,
          261,
          127,
          184,
          413,
          603,
          61,
          267,
          106,
          339,
          415,
          134,
          240,
          254,
          134,
          310,
          44,
          437,
          224,
          206,
          99,
          216,
          547,
          216,
          127,
          343,
          71,
          261,
          99,
          215,
          84,
          223,
          380,
          337,
          59,
          225,
          435,
          173,
          196,
          476,
          14,
          449,
          199,
          190,
          230,
          15,
          58,
          322,
          238,
          168,
          128,
          23,
          134,
          408,
          119,
          127,
          23,
          71,
          114,
          212,
          105,
          147,
          114,
          240,
          100,
          365,
          183,
          158,
          9,
          406,
          198,
          217,
          189,
          79,
          99,
          77,
          128,
          56,
          127,
          28,
          28,
          176,
          91,
          85,
          246,
          191,
          190,
          157,
          92,
          366,
          513,
          534,
          1291,
          184,
          329,
          394,
          246,
          525,
          461,
          926,
          281,
          735,
          390,
          365,
          225,
          266,
          213,
          854,
          363,
          386,
          378,
          92,
          293,
          386,
          113,
          532,
          330,
          479,
          193,
          300,
          139,
          36,
          174,
          18,
          240,
          15,
          176,
          45,
          23,
          1,
          371,
          608,
          12,
          110,
          91,
          133,
          244,
          285,
          222,
          96,
          230,
          84,
          28,
          108,
          21,
          223,
          0,
          416,
          11,
          278,
          134,
          115,
          283,
          258,
          94,
          182,
          131,
          441,
          89,
          58,
          8,
          3,
          44,
          507,
          50,
          146,
          17,
          139,
          50,
          133,
          131,
          62,
          259,
          232,
          106,
          345,
          246,
          237,
          106,
          232,
          68,
          30,
          64,
          371,
          187,
          417,
          52,
          9,
          479,
          376,
          5,
          8,
          166,
          48,
          394,
          316,
          181,
          265,
          269,
          99,
          163,
          466,
          47,
          8,
          145,
          139,
          86,
          379,
          164,
          75,
          106,
          176,
          241,
          3,
          406,
          4,
          122,
          8,
          195,
          72,
          64,
          126,
          222,
          106,
          97,
          17,
          3,
          163,
          4,
          105,
          100,
          136,
          392,
          258,
          92,
          245,
          118,
          175,
          252,
          84,
          97,
          32,
          0,
          89,
          365,
          174,
          34,
          223,
          478,
          217,
          62,
          22,
          0,
          215,
          0,
          89,
          273,
          91,
          134,
          108,
          414,
          413,
          84,
          64,
          252,
          246,
          46,
          83,
          287,
          23,
          222,
          0,
          586,
          15,
          46,
          410,
          217,
          161,
          112,
          245,
          231,
          105,
          128,
          1,
          242,
          383,
          71,
          78,
          212,
          42,
          216,
          47,
          110,
          161,
          29,
          104,
          80,
          91,
          154,
          0,
          63,
          136,
          341,
          117,
          403,
          118,
          71,
          63,
          244,
          350,
          82,
          29,
          7,
          199,
          2,
          62,
          111,
          620,
          46,
          35,
          205,
          92,
          231,
          224,
          82,
          78,
          229,
          7,
          3,
          2,
          397,
          88,
          52,
          106,
          338,
          50,
          49,
          82,
          105,
          3,
          554,
          334,
          49,
          197,
          85,
          90,
          194,
          413,
          91,
          97,
          9,
          374,
          442,
          57,
          101,
          42,
          379,
          142,
          46,
          90,
          211,
          194,
          82,
          89,
          56,
          9,
          7,
          2,
          162,
          182,
          202,
          224,
          101,
          2,
          7,
          7,
          141,
          49,
          141,
          82,
          9,
          199,
          476,
          98,
          2,
          910,
          448,
          323,
          3,
          218,
          65,
          8,
          9,
          3,
          131,
          8,
          48,
          370,
          391,
          24,
          320,
          3,
          246,
          84,
          197,
          7,
          8,
          542,
          134,
          226,
          215,
          246,
          426,
          139,
          13,
          364,
          59,
          13,
          16,
          20,
          631,
          132,
          394,
          48,
          84,
          85,
          107,
          63,
          141,
          257,
          247,
          2,
          59,
          16,
          579,
          113,
          223,
          209,
          70,
          367,
          274,
          69,
          134,
          371,
          212,
          4,
          69,
          476,
          218,
          209,
          345,
          10,
          50,
          133,
          196,
          245,
          42,
          4,
          391,
          489,
          10,
          414,
          233,
          560,
          372,
          41,
          6,
          2,
          482,
          203,
          45,
          23,
          126,
          360,
          49,
          86,
          9,
          190,
          45,
          3,
          50,
          2,
          9,
          45,
          153,
          3,
          1,
          8,
          301,
          368,
          2,
          28,
          60,
          196,
          63,
          295,
          204,
          139,
          44,
          3,
          190,
          8,
          132,
          43,
          58,
          209,
          82,
          132,
          196,
          203,
          241,
          70,
          89,
          105,
          58,
          28,
          41,
          384,
          494,
          135,
          89,
          83,
          551,
          365,
          27,
          4,
          2,
          17,
          206,
          156,
          222,
          14,
          52,
          37,
          4,
          51,
          14,
          22,
          203,
          20,
          6,
          83,
          30,
          14,
          357,
          37,
          13,
          406,
          14,
          287,
          8,
          6,
          211,
          371,
          223,
          21,
          7,
          370,
          154,
          273,
          188,
          157,
          76,
          64,
          91,
          34,
          196,
          156,
          12,
          420,
          129,
          122,
          347,
          176,
          155,
          101,
          244,
          343,
          385,
          8,
          63,
          9,
          1,
          14,
          169,
          54,
          255,
          343,
          191,
          8,
          2,
          9,
          14,
          44,
          17,
          147,
          72,
          343,
          15,
          8,
          313,
          21,
          154,
          73,
          199,
          69,
          47,
          408,
          343,
          13,
          8,
          63,
          21,
          3,
          3,
          2,
          134,
          127,
          308,
          265,
          395,
          253,
          363,
          278,
          31,
          192,
          2,
          136,
          14,
          190,
          182,
          183,
          53,
          363,
          96,
          203,
          329,
          364,
          71,
          177,
          84,
          12,
          3,
          8,
          20,
          363,
          433,
          12,
          56,
          12,
          23,
          148,
          14,
          16,
          9,
          190,
          542,
          433,
          191,
          12,
          54,
          13,
          9,
          317,
          178,
          608,
          79,
          224,
          75,
          112,
          7,
          188,
          7,
          188,
          769,
          216,
          168,
          4,
          2,
          70,
          75,
          147,
          6,
          87,
          371,
          4,
          2,
          7,
          197,
          50,
          371,
          66,
          385,
          4,
          50,
          96,
          7,
          50,
          128,
          66,
          554,
          138,
          196,
          76,
          8,
          272,
          84,
          118,
          196,
          85,
          8,
          71,
          7,
          54,
          179,
          78,
          246,
          265,
          7,
          6,
          177,
          73,
          279,
          710,
          6,
          43,
          127,
          175,
          11,
          252,
          220,
          69,
          42,
          17,
          34,
          52,
          619,
          172,
          140,
          153,
          51,
          731,
          6,
          6,
          13,
          9,
          140,
          730,
          46,
          6,
          42,
          13,
          21,
          7,
          101,
          122,
          69,
          57,
          12,
          15,
          9,
          182,
          111,
          69,
          20,
          19,
          14,
          113,
          76,
          365,
          405,
          18,
          11,
          47,
          14,
          13,
          58,
          7,
          485,
          17,
          13,
          6,
          189,
          368,
          351,
          51,
          211,
          204,
          9,
          50,
          126,
          7,
          9,
          126,
          189,
          499,
          7,
          294,
          497,
          42,
          108,
          126,
          457,
          23,
          93,
          144,
          257,
          7,
          7,
          93,
          139,
          7,
          9,
          31,
          85,
          9,
          1,
          448,
          90,
          226,
          3,
          94,
          406,
          135,
          5,
          394,
          152,
          133,
          63,
          7,
          7,
          7,
          365,
          72,
          76,
          365,
          10,
          70,
          98,
          247,
          234,
          245,
          10,
          64,
          215,
          76,
          44,
          9,
          76,
          8,
          73,
          224,
          8,
          4,
          69,
          7,
          180,
          135,
          59,
          112,
          16,
          56,
          111,
          16,
          200,
          1,
          8,
          2,
          73,
          8,
          182,
          15,
          2,
          166,
          176,
          21,
          34,
          58,
          46,
          65,
          4,
          168,
          356,
          260,
          142,
          145,
          545,
          201,
          741,
          874,
          58,
          93,
          403,
          245,
          131,
          131,
          436,
          175,
          200,
          482,
          311,
          110,
          482,
          214,
          196,
          87,
          392,
          387,
          58,
          425,
          117,
          306,
          33,
          560,
          406,
          280,
          210,
          274,
          401,
          246,
          545,
          226,
          401,
          140,
          635,
          441,
          319,
          87,
          634,
          85,
          440,
          629,
          624,
          268,
          516,
          268,
          437,
          631,
          623,
          409,
          41,
          482,
          557,
          621,
          553,
          245,
          21,
          92,
          14,
          420,
          390,
          230,
          386,
          245,
          122,
          141,
          568,
          226,
          18,
          205,
          286,
          97,
          97,
          83,
          226,
          344,
          498,
          311,
          245,
          343,
          320,
          567,
          441,
          434,
          272
         ],
         "xaxis": "x2",
         "yaxis": "y2"
        }
       ],
       "layout": {
        "autosize": true,
        "barmode": "relative",
        "legend": {
         "tracegroupgap": 0
        },
        "template": {
         "data": {
          "bar": [
           {
            "error_x": {
             "color": "#2a3f5f"
            },
            "error_y": {
             "color": "#2a3f5f"
            },
            "marker": {
             "line": {
              "color": "#E5ECF6",
              "width": 0.5
             },
             "pattern": {
              "fillmode": "overlay",
              "size": 10,
              "solidity": 0.2
             }
            },
            "type": "bar"
           }
          ],
          "barpolar": [
           {
            "marker": {
             "line": {
              "color": "#E5ECF6",
              "width": 0.5
             },
             "pattern": {
              "fillmode": "overlay",
              "size": 10,
              "solidity": 0.2
             }
            },
            "type": "barpolar"
           }
          ],
          "carpet": [
           {
            "aaxis": {
             "endlinecolor": "#2a3f5f",
             "gridcolor": "white",
             "linecolor": "white",
             "minorgridcolor": "white",
             "startlinecolor": "#2a3f5f"
            },
            "baxis": {
             "endlinecolor": "#2a3f5f",
             "gridcolor": "white",
             "linecolor": "white",
             "minorgridcolor": "white",
             "startlinecolor": "#2a3f5f"
            },
            "type": "carpet"
           }
          ],
          "choropleth": [
           {
            "colorbar": {
             "outlinewidth": 0,
             "ticks": ""
            },
            "type": "choropleth"
           }
          ],
          "contour": [
           {
            "colorbar": {
             "outlinewidth": 0,
             "ticks": ""
            },
            "colorscale": [
             [
              0,
              "#0d0887"
             ],
             [
              0.1111111111111111,
              "#46039f"
             ],
             [
              0.2222222222222222,
              "#7201a8"
             ],
             [
              0.3333333333333333,
              "#9c179e"
             ],
             [
              0.4444444444444444,
              "#bd3786"
             ],
             [
              0.5555555555555556,
              "#d8576b"
             ],
             [
              0.6666666666666666,
              "#ed7953"
             ],
             [
              0.7777777777777778,
              "#fb9f3a"
             ],
             [
              0.8888888888888888,
              "#fdca26"
             ],
             [
              1,
              "#f0f921"
             ]
            ],
            "type": "contour"
           }
          ],
          "contourcarpet": [
           {
            "colorbar": {
             "outlinewidth": 0,
             "ticks": ""
            },
            "type": "contourcarpet"
           }
          ],
          "heatmap": [
           {
            "colorbar": {
             "outlinewidth": 0,
             "ticks": ""
            },
            "colorscale": [
             [
              0,
              "#0d0887"
             ],
             [
              0.1111111111111111,
              "#46039f"
             ],
             [
              0.2222222222222222,
              "#7201a8"
             ],
             [
              0.3333333333333333,
              "#9c179e"
             ],
             [
              0.4444444444444444,
              "#bd3786"
             ],
             [
              0.5555555555555556,
              "#d8576b"
             ],
             [
              0.6666666666666666,
              "#ed7953"
             ],
             [
              0.7777777777777778,
              "#fb9f3a"
             ],
             [
              0.8888888888888888,
              "#fdca26"
             ],
             [
              1,
              "#f0f921"
             ]
            ],
            "type": "heatmap"
           }
          ],
          "heatmapgl": [
           {
            "colorbar": {
             "outlinewidth": 0,
             "ticks": ""
            },
            "colorscale": [
             [
              0,
              "#0d0887"
             ],
             [
              0.1111111111111111,
              "#46039f"
             ],
             [
              0.2222222222222222,
              "#7201a8"
             ],
             [
              0.3333333333333333,
              "#9c179e"
             ],
             [
              0.4444444444444444,
              "#bd3786"
             ],
             [
              0.5555555555555556,
              "#d8576b"
             ],
             [
              0.6666666666666666,
              "#ed7953"
             ],
             [
              0.7777777777777778,
              "#fb9f3a"
             ],
             [
              0.8888888888888888,
              "#fdca26"
             ],
             [
              1,
              "#f0f921"
             ]
            ],
            "type": "heatmapgl"
           }
          ],
          "histogram": [
           {
            "marker": {
             "pattern": {
              "fillmode": "overlay",
              "size": 10,
              "solidity": 0.2
             }
            },
            "type": "histogram"
           }
          ],
          "histogram2d": [
           {
            "colorbar": {
             "outlinewidth": 0,
             "ticks": ""
            },
            "colorscale": [
             [
              0,
              "#0d0887"
             ],
             [
              0.1111111111111111,
              "#46039f"
             ],
             [
              0.2222222222222222,
              "#7201a8"
             ],
             [
              0.3333333333333333,
              "#9c179e"
             ],
             [
              0.4444444444444444,
              "#bd3786"
             ],
             [
              0.5555555555555556,
              "#d8576b"
             ],
             [
              0.6666666666666666,
              "#ed7953"
             ],
             [
              0.7777777777777778,
              "#fb9f3a"
             ],
             [
              0.8888888888888888,
              "#fdca26"
             ],
             [
              1,
              "#f0f921"
             ]
            ],
            "type": "histogram2d"
           }
          ],
          "histogram2dcontour": [
           {
            "colorbar": {
             "outlinewidth": 0,
             "ticks": ""
            },
            "colorscale": [
             [
              0,
              "#0d0887"
             ],
             [
              0.1111111111111111,
              "#46039f"
             ],
             [
              0.2222222222222222,
              "#7201a8"
             ],
             [
              0.3333333333333333,
              "#9c179e"
             ],
             [
              0.4444444444444444,
              "#bd3786"
             ],
             [
              0.5555555555555556,
              "#d8576b"
             ],
             [
              0.6666666666666666,
              "#ed7953"
             ],
             [
              0.7777777777777778,
              "#fb9f3a"
             ],
             [
              0.8888888888888888,
              "#fdca26"
             ],
             [
              1,
              "#f0f921"
             ]
            ],
            "type": "histogram2dcontour"
           }
          ],
          "mesh3d": [
           {
            "colorbar": {
             "outlinewidth": 0,
             "ticks": ""
            },
            "type": "mesh3d"
           }
          ],
          "parcoords": [
           {
            "line": {
             "colorbar": {
              "outlinewidth": 0,
              "ticks": ""
             }
            },
            "type": "parcoords"
           }
          ],
          "pie": [
           {
            "automargin": true,
            "type": "pie"
           }
          ],
          "scatter": [
           {
            "fillpattern": {
             "fillmode": "overlay",
             "size": 10,
             "solidity": 0.2
            },
            "type": "scatter"
           }
          ],
          "scatter3d": [
           {
            "line": {
             "colorbar": {
              "outlinewidth": 0,
              "ticks": ""
             }
            },
            "marker": {
             "colorbar": {
              "outlinewidth": 0,
              "ticks": ""
             }
            },
            "type": "scatter3d"
           }
          ],
          "scattercarpet": [
           {
            "marker": {
             "colorbar": {
              "outlinewidth": 0,
              "ticks": ""
             }
            },
            "type": "scattercarpet"
           }
          ],
          "scattergeo": [
           {
            "marker": {
             "colorbar": {
              "outlinewidth": 0,
              "ticks": ""
             }
            },
            "type": "scattergeo"
           }
          ],
          "scattergl": [
           {
            "marker": {
             "colorbar": {
              "outlinewidth": 0,
              "ticks": ""
             }
            },
            "type": "scattergl"
           }
          ],
          "scattermapbox": [
           {
            "marker": {
             "colorbar": {
              "outlinewidth": 0,
              "ticks": ""
             }
            },
            "type": "scattermapbox"
           }
          ],
          "scatterpolar": [
           {
            "marker": {
             "colorbar": {
              "outlinewidth": 0,
              "ticks": ""
             }
            },
            "type": "scatterpolar"
           }
          ],
          "scatterpolargl": [
           {
            "marker": {
             "colorbar": {
              "outlinewidth": 0,
              "ticks": ""
             }
            },
            "type": "scatterpolargl"
           }
          ],
          "scatterternary": [
           {
            "marker": {
             "colorbar": {
              "outlinewidth": 0,
              "ticks": ""
             }
            },
            "type": "scatterternary"
           }
          ],
          "surface": [
           {
            "colorbar": {
             "outlinewidth": 0,
             "ticks": ""
            },
            "colorscale": [
             [
              0,
              "#0d0887"
             ],
             [
              0.1111111111111111,
              "#46039f"
             ],
             [
              0.2222222222222222,
              "#7201a8"
             ],
             [
              0.3333333333333333,
              "#9c179e"
             ],
             [
              0.4444444444444444,
              "#bd3786"
             ],
             [
              0.5555555555555556,
              "#d8576b"
             ],
             [
              0.6666666666666666,
              "#ed7953"
             ],
             [
              0.7777777777777778,
              "#fb9f3a"
             ],
             [
              0.8888888888888888,
              "#fdca26"
             ],
             [
              1,
              "#f0f921"
             ]
            ],
            "type": "surface"
           }
          ],
          "table": [
           {
            "cells": {
             "fill": {
              "color": "#EBF0F8"
             },
             "line": {
              "color": "white"
             }
            },
            "header": {
             "fill": {
              "color": "#C8D4E3"
             },
             "line": {
              "color": "white"
             }
            },
            "type": "table"
           }
          ]
         },
         "layout": {
          "annotationdefaults": {
           "arrowcolor": "#2a3f5f",
           "arrowhead": 0,
           "arrowwidth": 1
          },
          "autotypenumbers": "strict",
          "coloraxis": {
           "colorbar": {
            "outlinewidth": 0,
            "ticks": ""
           }
          },
          "colorscale": {
           "diverging": [
            [
             0,
             "#8e0152"
            ],
            [
             0.1,
             "#c51b7d"
            ],
            [
             0.2,
             "#de77ae"
            ],
            [
             0.3,
             "#f1b6da"
            ],
            [
             0.4,
             "#fde0ef"
            ],
            [
             0.5,
             "#f7f7f7"
            ],
            [
             0.6,
             "#e6f5d0"
            ],
            [
             0.7,
             "#b8e186"
            ],
            [
             0.8,
             "#7fbc41"
            ],
            [
             0.9,
             "#4d9221"
            ],
            [
             1,
             "#276419"
            ]
           ],
           "sequential": [
            [
             0,
             "#0d0887"
            ],
            [
             0.1111111111111111,
             "#46039f"
            ],
            [
             0.2222222222222222,
             "#7201a8"
            ],
            [
             0.3333333333333333,
             "#9c179e"
            ],
            [
             0.4444444444444444,
             "#bd3786"
            ],
            [
             0.5555555555555556,
             "#d8576b"
            ],
            [
             0.6666666666666666,
             "#ed7953"
            ],
            [
             0.7777777777777778,
             "#fb9f3a"
            ],
            [
             0.8888888888888888,
             "#fdca26"
            ],
            [
             1,
             "#f0f921"
            ]
           ],
           "sequentialminus": [
            [
             0,
             "#0d0887"
            ],
            [
             0.1111111111111111,
             "#46039f"
            ],
            [
             0.2222222222222222,
             "#7201a8"
            ],
            [
             0.3333333333333333,
             "#9c179e"
            ],
            [
             0.4444444444444444,
             "#bd3786"
            ],
            [
             0.5555555555555556,
             "#d8576b"
            ],
            [
             0.6666666666666666,
             "#ed7953"
            ],
            [
             0.7777777777777778,
             "#fb9f3a"
            ],
            [
             0.8888888888888888,
             "#fdca26"
            ],
            [
             1,
             "#f0f921"
            ]
           ]
          },
          "colorway": [
           "#636efa",
           "#EF553B",
           "#00cc96",
           "#ab63fa",
           "#FFA15A",
           "#19d3f3",
           "#FF6692",
           "#B6E880",
           "#FF97FF",
           "#FECB52"
          ],
          "font": {
           "color": "#2a3f5f"
          },
          "geo": {
           "bgcolor": "white",
           "lakecolor": "white",
           "landcolor": "#E5ECF6",
           "showlakes": true,
           "showland": true,
           "subunitcolor": "white"
          },
          "hoverlabel": {
           "align": "left"
          },
          "hovermode": "closest",
          "mapbox": {
           "style": "light"
          },
          "paper_bgcolor": "white",
          "plot_bgcolor": "#E5ECF6",
          "polar": {
           "angularaxis": {
            "gridcolor": "white",
            "linecolor": "white",
            "ticks": ""
           },
           "bgcolor": "#E5ECF6",
           "radialaxis": {
            "gridcolor": "white",
            "linecolor": "white",
            "ticks": ""
           }
          },
          "scene": {
           "xaxis": {
            "backgroundcolor": "#E5ECF6",
            "gridcolor": "white",
            "gridwidth": 2,
            "linecolor": "white",
            "showbackground": true,
            "ticks": "",
            "zerolinecolor": "white"
           },
           "yaxis": {
            "backgroundcolor": "#E5ECF6",
            "gridcolor": "white",
            "gridwidth": 2,
            "linecolor": "white",
            "showbackground": true,
            "ticks": "",
            "zerolinecolor": "white"
           },
           "zaxis": {
            "backgroundcolor": "#E5ECF6",
            "gridcolor": "white",
            "gridwidth": 2,
            "linecolor": "white",
            "showbackground": true,
            "ticks": "",
            "zerolinecolor": "white"
           }
          },
          "shapedefaults": {
           "line": {
            "color": "#2a3f5f"
           }
          },
          "ternary": {
           "aaxis": {
            "gridcolor": "white",
            "linecolor": "white",
            "ticks": ""
           },
           "baxis": {
            "gridcolor": "white",
            "linecolor": "white",
            "ticks": ""
           },
           "bgcolor": "#E5ECF6",
           "caxis": {
            "gridcolor": "white",
            "linecolor": "white",
            "ticks": ""
           }
          },
          "title": {
           "x": 0.05
          },
          "xaxis": {
           "automargin": true,
           "gridcolor": "white",
           "linecolor": "white",
           "ticks": "",
           "title": {
            "standoff": 15
           },
           "zerolinecolor": "white",
           "zerolinewidth": 2
          },
          "yaxis": {
           "automargin": true,
           "gridcolor": "white",
           "linecolor": "white",
           "ticks": "",
           "title": {
            "standoff": 15
           },
           "zerolinecolor": "white",
           "zerolinewidth": 2
          }
         }
        },
        "title": {
         "text": "Time Spent Deliberating for Passing Canadian Bills (1994 - 2022)"
        },
        "xaxis": {
         "anchor": "y",
         "autorange": true,
         "domain": [
          0,
          1
         ],
         "range": [
          0,
          1358.9473684210527
         ],
         "rangemode": "nonnegative",
         "title": {
          "text": "Days Deliberated"
         },
         "type": "linear"
        },
        "xaxis2": {
         "anchor": "y2",
         "autorange": true,
         "domain": [
          0,
          1
         ],
         "matches": "x",
         "range": [
          0,
          1358.9473684210527
         ],
         "rangemode": "nonnegative",
         "showgrid": true,
         "showticklabels": false,
         "type": "linear"
        },
        "yaxis": {
         "anchor": "x",
         "autorange": true,
         "domain": [
          0,
          0.8316
         ],
         "range": [
          0,
          281.05263157894734
         ],
         "title": {
          "text": "count"
         }
        },
        "yaxis2": {
         "anchor": "x2",
         "autorange": true,
         "domain": [
          0.8416,
          1
         ],
         "matches": "y2",
         "range": [
          -0.5,
          0.5
         ],
         "showgrid": false,
         "showline": false,
         "showticklabels": false,
         "ticks": "",
         "type": "category"
        }
       }
      },
      "image/png": "[encoded data removed]",
      "text/html": [
       "<div>                            <div id=\"b69e7989-4b0b-4f3e-8215-9676c4b90f22\" class=\"plotly-graph-div\" style=\"height:600px; width:100%;\"></div>            <script type=\"text/javascript\">                require([\"plotly\"], function(Plotly) {                    window.PLOTLYENV=window.PLOTLYENV || {};                                    if (document.getElementById(\"b69e7989-4b0b-4f3e-8215-9676c4b90f22\")) {                    Plotly.newPlot(                        \"b69e7989-4b0b-4f3e-8215-9676c4b90f22\",                        [{\"alignmentgroup\":\"True\",\"bingroup\":\"x\",\"hovertemplate\":\"Days Deliberated=%{x}<br>count=%{y}<extra></extra>\",\"legendgroup\":\"\",\"marker\":{\"color\":\"#636efa\",\"pattern\":{\"shape\":\"\"}},\"name\":\"\",\"nbinsx\":30,\"offsetgroup\":\"\",\"orientation\":\"v\",\"showlegend\":false,\"x\":[659,605,630,273,134,58,339,212,71,99,261,127,184,413,603,61,267,106,339,415,134,240,254,134,310,44,437,224,206,99,216,547,216,127,343,71,261,99,215,84,223,380,337,59,225,435,173,196,476,14,449,199,190,230,15,58,322,238,168,128,23,134,408,119,127,23,71,114,212,105,147,114,240,100,365,183,158,9,406,198,217,189,79,99,77,128,56,127,28,28,176,91,85,246,191,190,157,92,366,513,534,1291,184,329,394,246,525,461,926,281,735,390,365,225,266,213,854,363,386,378,92,293,386,113,532,330,479,193,300,139,36,174,18,240,15,176,45,23,1,371,608,12,110,91,133,244,285,222,96,230,84,28,108,21,223,0,416,11,278,134,115,283,258,94,182,131,441,89,58,8,3,44,507,50,146,17,139,50,133,131,62,259,232,106,345,246,237,106,232,68,30,64,371,187,417,52,9,479,376,5,8,166,48,394,316,181,265,269,99,163,466,47,8,145,139,86,379,164,75,106,176,241,3,406,4,122,8,195,72,64,126,222,106,97,17,3,163,4,105,100,136,392,258,92,245,118,175,252,84,97,32,0,89,365,174,34,223,478,217,62,22,0,215,0,89,273,91,134,108,414,413,84,64,252,246,46,83,287,23,222,0,586,15,46,410,217,161,112,245,231,105,128,1,242,383,71,78,212,42,216,47,110,161,29,104,80,91,154,0,63,136,341,117,403,118,71,63,244,350,82,29,7,199,2,62,111,620,46,35,205,92,231,224,82,78,229,7,3,2,397,88,52,106,338,50,49,82,105,3,554,334,49,197,85,90,194,413,91,97,9,374,442,57,101,42,379,142,46,90,211,194,82,89,56,9,7,2,162,182,202,224,101,2,7,7,141,49,141,82,9,199,476,98,2,910,448,323,3,218,65,8,9,3,131,8,48,370,391,24,320,3,246,84,197,7,8,542,134,226,215,246,426,139,13,364,59,13,16,20,631,132,394,48,84,85,107,63,141,257,247,2,59,16,579,113,223,209,70,367,274,69,134,371,212,4,69,476,218,209,345,10,50,133,196,245,42,4,391,489,10,414,233,560,372,41,6,2,482,203,45,23,126,360,49,86,9,190,45,3,50,2,9,45,153,3,1,8,301,368,2,28,60,196,63,295,204,139,44,3,190,8,132,43,58,209,82,132,196,203,241,70,89,105,58,28,41,384,494,135,89,83,551,365,27,4,2,17,206,156,222,14,52,37,4,51,14,22,203,20,6,83,30,14,357,37,13,406,14,287,8,6,211,371,223,21,7,370,154,273,188,157,76,64,91,34,196,156,12,420,129,122,347,176,155,101,244,343,385,8,63,9,1,14,169,54,255,343,191,8,2,9,14,44,17,147,72,343,15,8,313,21,154,73,199,69,47,408,343,13,8,63,21,3,3,2,134,127,308,265,395,253,363,278,31,192,2,136,14,190,182,183,53,363,96,203,329,364,71,177,84,12,3,8,20,363,433,12,56,12,23,148,14,16,9,190,542,433,191,12,54,13,9,317,178,608,79,224,75,112,7,188,7,188,769,216,168,4,2,70,75,147,6,87,371,4,2,7,197,50,371,66,385,4,50,96,7,50,128,66,554,138,196,76,8,272,84,118,196,85,8,71,7,54,179,78,246,265,7,6,177,73,279,710,6,43,127,175,11,252,220,69,42,17,34,52,619,172,140,153,51,731,6,6,13,9,140,730,46,6,42,13,21,7,101,122,69,57,12,15,9,182,111,69,20,19,14,113,76,365,405,18,11,47,14,13,58,7,485,17,13,6,189,368,351,51,211,204,9,50,126,7,9,126,189,499,7,294,497,42,108,126,457,23,93,144,257,7,7,93,139,7,9,31,85,9,1,448,90,226,3,94,406,135,5,394,152,133,63,7,7,7,365,72,76,365,10,70,98,247,234,245,10,64,215,76,44,9,76,8,73,224,8,4,69,7,180,135,59,112,16,56,111,16,200,1,8,2,73,8,182,15,2,166,176,21,34,58,46,65,4,168,356,260,142,145,545,201,741,874,58,93,403,245,131,131,436,175,200,482,311,110,482,214,196,87,392,387,58,425,117,306,33,560,406,280,210,274,401,246,545,226,401,140,635,441,319,87,634,85,440,629,624,268,516,268,437,631,623,409,41,482,557,621,553,245,21,92,14,420,390,230,386,245,122,141,568,226,18,205,286,97,97,83,226,344,498,311,245,343,320,567,441,434,272],\"xaxis\":\"x\",\"yaxis\":\"y\",\"type\":\"histogram\"},{\"alignmentgroup\":\"True\",\"hovertemplate\":\"Days Deliberated=%{x}<extra></extra>\",\"legendgroup\":\"\",\"marker\":{\"color\":\"#636efa\"},\"name\":\"\",\"notched\":true,\"offsetgroup\":\"\",\"showlegend\":false,\"x\":[659,605,630,273,134,58,339,212,71,99,261,127,184,413,603,61,267,106,339,415,134,240,254,134,310,44,437,224,206,99,216,547,216,127,343,71,261,99,215,84,223,380,337,59,225,435,173,196,476,14,449,199,190,230,15,58,322,238,168,128,23,134,408,119,127,23,71,114,212,105,147,114,240,100,365,183,158,9,406,198,217,189,79,99,77,128,56,127,28,28,176,91,85,246,191,190,157,92,366,513,534,1291,184,329,394,246,525,461,926,281,735,390,365,225,266,213,854,363,386,378,92,293,386,113,532,330,479,193,300,139,36,174,18,240,15,176,45,23,1,371,608,12,110,91,133,244,285,222,96,230,84,28,108,21,223,0,416,11,278,134,115,283,258,94,182,131,441,89,58,8,3,44,507,50,146,17,139,50,133,131,62,259,232,106,345,246,237,106,232,68,30,64,371,187,417,52,9,479,376,5,8,166,48,394,316,181,265,269,99,163,466,47,8,145,139,86,379,164,75,106,176,241,3,406,4,122,8,195,72,64,126,222,106,97,17,3,163,4,105,100,136,392,258,92,245,118,175,252,84,97,32,0,89,365,174,34,223,478,217,62,22,0,215,0,89,273,91,134,108,414,413,84,64,252,246,46,83,287,23,222,0,586,15,46,410,217,161,112,245,231,105,128,1,242,383,71,78,212,42,216,47,110,161,29,104,80,91,154,0,63,136,341,117,403,118,71,63,244,350,82,29,7,199,2,62,111,620,46,35,205,92,231,224,82,78,229,7,3,2,397,88,52,106,338,50,49,82,105,3,554,334,49,197,85,90,194,413,91,97,9,374,442,57,101,42,379,142,46,90,211,194,82,89,56,9,7,2,162,182,202,224,101,2,7,7,141,49,141,82,9,199,476,98,2,910,448,323,3,218,65,8,9,3,131,8,48,370,391,24,320,3,246,84,197,7,8,542,134,226,215,246,426,139,13,364,59,13,16,20,631,132,394,48,84,85,107,63,141,257,247,2,59,16,579,113,223,209,70,367,274,69,134,371,212,4,69,476,218,209,345,10,50,133,196,245,42,4,391,489,10,414,233,560,372,41,6,2,482,203,45,23,126,360,49,86,9,190,45,3,50,2,9,45,153,3,1,8,301,368,2,28,60,196,63,295,204,139,44,3,190,8,132,43,58,209,82,132,196,203,241,70,89,105,58,28,41,384,494,135,89,83,551,365,27,4,2,17,206,156,222,14,52,37,4,51,14,22,203,20,6,83,30,14,357,37,13,406,14,287,8,6,211,371,223,21,7,370,154,273,188,157,76,64,91,34,196,156,12,420,129,122,347,176,155,101,244,343,385,8,63,9,1,14,169,54,255,343,191,8,2,9,14,44,17,147,72,343,15,8,313,21,154,73,199,69,47,408,343,13,8,63,21,3,3,2,134,127,308,265,395,253,363,278,31,192,2,136,14,190,182,183,53,363,96,203,329,364,71,177,84,12,3,8,20,363,433,12,56,12,23,148,14,16,9,190,542,433,191,12,54,13,9,317,178,608,79,224,75,112,7,188,7,188,769,216,168,4,2,70,75,147,6,87,371,4,2,7,197,50,371,66,385,4,50,96,7,50,128,66,554,138,196,76,8,272,84,118,196,85,8,71,7,54,179,78,246,265,7,6,177,73,279,710,6,43,127,175,11,252,220,69,42,17,34,52,619,172,140,153,51,731,6,6,13,9,140,730,46,6,42,13,21,7,101,122,69,57,12,15,9,182,111,69,20,19,14,113,76,365,405,18,11,47,14,13,58,7,485,17,13,6,189,368,351,51,211,204,9,50,126,7,9,126,189,499,7,294,497,42,108,126,457,23,93,144,257,7,7,93,139,7,9,31,85,9,1,448,90,226,3,94,406,135,5,394,152,133,63,7,7,7,365,72,76,365,10,70,98,247,234,245,10,64,215,76,44,9,76,8,73,224,8,4,69,7,180,135,59,112,16,56,111,16,200,1,8,2,73,8,182,15,2,166,176,21,34,58,46,65,4,168,356,260,142,145,545,201,741,874,58,93,403,245,131,131,436,175,200,482,311,110,482,214,196,87,392,387,58,425,117,306,33,560,406,280,210,274,401,246,545,226,401,140,635,441,319,87,634,85,440,629,624,268,516,268,437,631,623,409,41,482,557,621,553,245,21,92,14,420,390,230,386,245,122,141,568,226,18,205,286,97,97,83,226,344,498,311,245,343,320,567,441,434,272],\"xaxis\":\"x2\",\"yaxis\":\"y2\",\"type\":\"box\"}],                        {\"template\":{\"data\":{\"histogram2dcontour\":[{\"type\":\"histogram2dcontour\",\"colorbar\":{\"outlinewidth\":0,\"ticks\":\"\"},\"colorscale\":[[0.0,\"#0d0887\"],[0.1111111111111111,\"#46039f\"],[0.2222222222222222,\"#7201a8\"],[0.3333333333333333,\"#9c179e\"],[0.4444444444444444,\"#bd3786\"],[0.5555555555555556,\"#d8576b\"],[0.6666666666666666,\"#ed7953\"],[0.7777777777777778,\"#fb9f3a\"],[0.8888888888888888,\"#fdca26\"],[1.0,\"#f0f921\"]]}],\"choropleth\":[{\"type\":\"choropleth\",\"colorbar\":{\"outlinewidth\":0,\"ticks\":\"\"}}],\"histogram2d\":[{\"type\":\"histogram2d\",\"colorbar\":{\"outlinewidth\":0,\"ticks\":\"\"},\"colorscale\":[[0.0,\"#0d0887\"],[0.1111111111111111,\"#46039f\"],[0.2222222222222222,\"#7201a8\"],[0.3333333333333333,\"#9c179e\"],[0.4444444444444444,\"#bd3786\"],[0.5555555555555556,\"#d8576b\"],[0.6666666666666666,\"#ed7953\"],[0.7777777777777778,\"#fb9f3a\"],[0.8888888888888888,\"#fdca26\"],[1.0,\"#f0f921\"]]}],\"heatmap\":[{\"type\":\"heatmap\",\"colorbar\":{\"outlinewidth\":0,\"ticks\":\"\"},\"colorscale\":[[0.0,\"#0d0887\"],[0.1111111111111111,\"#46039f\"],[0.2222222222222222,\"#7201a8\"],[0.3333333333333333,\"#9c179e\"],[0.4444444444444444,\"#bd3786\"],[0.5555555555555556,\"#d8576b\"],[0.6666666666666666,\"#ed7953\"],[0.7777777777777778,\"#fb9f3a\"],[0.8888888888888888,\"#fdca26\"],[1.0,\"#f0f921\"]]}],\"heatmapgl\":[{\"type\":\"heatmapgl\",\"colorbar\":{\"outlinewidth\":0,\"ticks\":\"\"},\"colorscale\":[[0.0,\"#0d0887\"],[0.1111111111111111,\"#46039f\"],[0.2222222222222222,\"#7201a8\"],[0.3333333333333333,\"#9c179e\"],[0.4444444444444444,\"#bd3786\"],[0.5555555555555556,\"#d8576b\"],[0.6666666666666666,\"#ed7953\"],[0.7777777777777778,\"#fb9f3a\"],[0.8888888888888888,\"#fdca26\"],[1.0,\"#f0f921\"]]}],\"contourcarpet\":[{\"type\":\"contourcarpet\",\"colorbar\":{\"outlinewidth\":0,\"ticks\":\"\"}}],\"contour\":[{\"type\":\"contour\",\"colorbar\":{\"outlinewidth\":0,\"ticks\":\"\"},\"colorscale\":[[0.0,\"#0d0887\"],[0.1111111111111111,\"#46039f\"],[0.2222222222222222,\"#7201a8\"],[0.3333333333333333,\"#9c179e\"],[0.4444444444444444,\"#bd3786\"],[0.5555555555555556,\"#d8576b\"],[0.6666666666666666,\"#ed7953\"],[0.7777777777777778,\"#fb9f3a\"],[0.8888888888888888,\"#fdca26\"],[1.0,\"#f0f921\"]]}],\"surface\":[{\"type\":\"surface\",\"colorbar\":{\"outlinewidth\":0,\"ticks\":\"\"},\"colorscale\":[[0.0,\"#0d0887\"],[0.1111111111111111,\"#46039f\"],[0.2222222222222222,\"#7201a8\"],[0.3333333333333333,\"#9c179e\"],[0.4444444444444444,\"#bd3786\"],[0.5555555555555556,\"#d8576b\"],[0.6666666666666666,\"#ed7953\"],[0.7777777777777778,\"#fb9f3a\"],[0.8888888888888888,\"#fdca26\"],[1.0,\"#f0f921\"]]}],\"mesh3d\":[{\"type\":\"mesh3d\",\"colorbar\":{\"outlinewidth\":0,\"ticks\":\"\"}}],\"scatter\":[{\"fillpattern\":{\"fillmode\":\"overlay\",\"size\":10,\"solidity\":0.2},\"type\":\"scatter\"}],\"parcoords\":[{\"type\":\"parcoords\",\"line\":{\"colorbar\":{\"outlinewidth\":0,\"ticks\":\"\"}}}],\"scatterpolargl\":[{\"type\":\"scatterpolargl\",\"marker\":{\"colorbar\":{\"outlinewidth\":0,\"ticks\":\"\"}}}],\"bar\":[{\"error_x\":{\"color\":\"#2a3f5f\"},\"error_y\":{\"color\":\"#2a3f5f\"},\"marker\":{\"line\":{\"color\":\"#E5ECF6\",\"width\":0.5},\"pattern\":{\"fillmode\":\"overlay\",\"size\":10,\"solidity\":0.2}},\"type\":\"bar\"}],\"scattergeo\":[{\"type\":\"scattergeo\",\"marker\":{\"colorbar\":{\"outlinewidth\":0,\"ticks\":\"\"}}}],\"scatterpolar\":[{\"type\":\"scatterpolar\",\"marker\":{\"colorbar\":{\"outlinewidth\":0,\"ticks\":\"\"}}}],\"histogram\":[{\"marker\":{\"pattern\":{\"fillmode\":\"overlay\",\"size\":10,\"solidity\":0.2}},\"type\":\"histogram\"}],\"scattergl\":[{\"type\":\"scattergl\",\"marker\":{\"colorbar\":{\"outlinewidth\":0,\"ticks\":\"\"}}}],\"scatter3d\":[{\"type\":\"scatter3d\",\"line\":{\"colorbar\":{\"outlinewidth\":0,\"ticks\":\"\"}},\"marker\":{\"colorbar\":{\"outlinewidth\":0,\"ticks\":\"\"}}}],\"scattermapbox\":[{\"type\":\"scattermapbox\",\"marker\":{\"colorbar\":{\"outlinewidth\":0,\"ticks\":\"\"}}}],\"scatterternary\":[{\"type\":\"scatterternary\",\"marker\":{\"colorbar\":{\"outlinewidth\":0,\"ticks\":\"\"}}}],\"scattercarpet\":[{\"type\":\"scattercarpet\",\"marker\":{\"colorbar\":{\"outlinewidth\":0,\"ticks\":\"\"}}}],\"carpet\":[{\"aaxis\":{\"endlinecolor\":\"#2a3f5f\",\"gridcolor\":\"white\",\"linecolor\":\"white\",\"minorgridcolor\":\"white\",\"startlinecolor\":\"#2a3f5f\"},\"baxis\":{\"endlinecolor\":\"#2a3f5f\",\"gridcolor\":\"white\",\"linecolor\":\"white\",\"minorgridcolor\":\"white\",\"startlinecolor\":\"#2a3f5f\"},\"type\":\"carpet\"}],\"table\":[{\"cells\":{\"fill\":{\"color\":\"#EBF0F8\"},\"line\":{\"color\":\"white\"}},\"header\":{\"fill\":{\"color\":\"#C8D4E3\"},\"line\":{\"color\":\"white\"}},\"type\":\"table\"}],\"barpolar\":[{\"marker\":{\"line\":{\"color\":\"#E5ECF6\",\"width\":0.5},\"pattern\":{\"fillmode\":\"overlay\",\"size\":10,\"solidity\":0.2}},\"type\":\"barpolar\"}],\"pie\":[{\"automargin\":true,\"type\":\"pie\"}]},\"layout\":{\"autotypenumbers\":\"strict\",\"colorway\":[\"#636efa\",\"#EF553B\",\"#00cc96\",\"#ab63fa\",\"#FFA15A\",\"#19d3f3\",\"#FF6692\",\"#B6E880\",\"#FF97FF\",\"#FECB52\"],\"font\":{\"color\":\"#2a3f5f\"},\"hovermode\":\"closest\",\"hoverlabel\":{\"align\":\"left\"},\"paper_bgcolor\":\"white\",\"plot_bgcolor\":\"#E5ECF6\",\"polar\":{\"bgcolor\":\"#E5ECF6\",\"angularaxis\":{\"gridcolor\":\"white\",\"linecolor\":\"white\",\"ticks\":\"\"},\"radialaxis\":{\"gridcolor\":\"white\",\"linecolor\":\"white\",\"ticks\":\"\"}},\"ternary\":{\"bgcolor\":\"#E5ECF6\",\"aaxis\":{\"gridcolor\":\"white\",\"linecolor\":\"white\",\"ticks\":\"\"},\"baxis\":{\"gridcolor\":\"white\",\"linecolor\":\"white\",\"ticks\":\"\"},\"caxis\":{\"gridcolor\":\"white\",\"linecolor\":\"white\",\"ticks\":\"\"}},\"coloraxis\":{\"colorbar\":{\"outlinewidth\":0,\"ticks\":\"\"}},\"colorscale\":{\"sequential\":[[0.0,\"#0d0887\"],[0.1111111111111111,\"#46039f\"],[0.2222222222222222,\"#7201a8\"],[0.3333333333333333,\"#9c179e\"],[0.4444444444444444,\"#bd3786\"],[0.5555555555555556,\"#d8576b\"],[0.6666666666666666,\"#ed7953\"],[0.7777777777777778,\"#fb9f3a\"],[0.8888888888888888,\"#fdca26\"],[1.0,\"#f0f921\"]],\"sequentialminus\":[[0.0,\"#0d0887\"],[0.1111111111111111,\"#46039f\"],[0.2222222222222222,\"#7201a8\"],[0.3333333333333333,\"#9c179e\"],[0.4444444444444444,\"#bd3786\"],[0.5555555555555556,\"#d8576b\"],[0.6666666666666666,\"#ed7953\"],[0.7777777777777778,\"#fb9f3a\"],[0.8888888888888888,\"#fdca26\"],[1.0,\"#f0f921\"]],\"diverging\":[[0,\"#8e0152\"],[0.1,\"#c51b7d\"],[0.2,\"#de77ae\"],[0.3,\"#f1b6da\"],[0.4,\"#fde0ef\"],[0.5,\"#f7f7f7\"],[0.6,\"#e6f5d0\"],[0.7,\"#b8e186\"],[0.8,\"#7fbc41\"],[0.9,\"#4d9221\"],[1,\"#276419\"]]},\"xaxis\":{\"gridcolor\":\"white\",\"linecolor\":\"white\",\"ticks\":\"\",\"title\":{\"standoff\":15},\"zerolinecolor\":\"white\",\"automargin\":true,\"zerolinewidth\":2},\"yaxis\":{\"gridcolor\":\"white\",\"linecolor\":\"white\",\"ticks\":\"\",\"title\":{\"standoff\":15},\"zerolinecolor\":\"white\",\"automargin\":true,\"zerolinewidth\":2},\"scene\":{\"xaxis\":{\"backgroundcolor\":\"#E5ECF6\",\"gridcolor\":\"white\",\"linecolor\":\"white\",\"showbackground\":true,\"ticks\":\"\",\"zerolinecolor\":\"white\",\"gridwidth\":2},\"yaxis\":{\"backgroundcolor\":\"#E5ECF6\",\"gridcolor\":\"white\",\"linecolor\":\"white\",\"showbackground\":true,\"ticks\":\"\",\"zerolinecolor\":\"white\",\"gridwidth\":2},\"zaxis\":{\"backgroundcolor\":\"#E5ECF6\",\"gridcolor\":\"white\",\"linecolor\":\"white\",\"showbackground\":true,\"ticks\":\"\",\"zerolinecolor\":\"white\",\"gridwidth\":2}},\"shapedefaults\":{\"line\":{\"color\":\"#2a3f5f\"}},\"annotationdefaults\":{\"arrowcolor\":\"#2a3f5f\",\"arrowhead\":0,\"arrowwidth\":1},\"geo\":{\"bgcolor\":\"white\",\"landcolor\":\"#E5ECF6\",\"subunitcolor\":\"white\",\"showland\":true,\"showlakes\":true,\"lakecolor\":\"white\"},\"title\":{\"x\":0.05},\"mapbox\":{\"style\":\"light\"}}},\"xaxis\":{\"anchor\":\"y\",\"domain\":[0.0,1.0],\"title\":{\"text\":\"Days Deliberated\"},\"rangemode\":\"nonnegative\"},\"yaxis\":{\"anchor\":\"x\",\"domain\":[0.0,0.8316],\"title\":{\"text\":\"count\"}},\"xaxis2\":{\"anchor\":\"y2\",\"domain\":[0.0,1.0],\"matches\":\"x\",\"showticklabels\":false,\"showgrid\":true,\"rangemode\":\"nonnegative\"},\"yaxis2\":{\"anchor\":\"x2\",\"domain\":[0.8416,1.0],\"matches\":\"y2\",\"showticklabels\":false,\"showline\":false,\"ticks\":\"\",\"showgrid\":false},\"legend\":{\"tracegroupgap\":0},\"title\":{\"text\":\"Time Spent Deliberating for Passing Canadian Bills (1994 - 2022)\"},\"barmode\":\"relative\",\"height\":600},                        {\"responsive\": true}                    ).then(function(){\n",
       "                            \n",
       "var gd = document.getElementById('b69e7989-4b0b-4f3e-8215-9676c4b90f22');\n",
       "var x = new MutationObserver(function (mutations, observer) {{\n",
       "        var display = window.getComputedStyle(gd).display;\n",
       "        if (!display || display === 'none') {{\n",
       "            console.log([gd, 'removed!']);\n",
       "            Plotly.purge(gd);\n",
       "            observer.disconnect();\n",
       "        }}\n",
       "}});\n",
       "\n",
       "// Listen for the removal of the full notebook cells\n",
       "var notebookContainer = gd.closest('#notebook-container');\n",
       "if (notebookContainer) {{\n",
       "    x.observe(notebookContainer, {childList: true});\n",
       "}}\n",
       "\n",
       "// Listen for the clearing of the current output cell\n",
       "var outputEl = gd.closest('.output');\n",
       "if (outputEl) {{\n",
       "    x.observe(outputEl, {childList: true});\n",
       "}}\n",
       "\n",
       "                        })                };                });            </script>        </div>"
      ]
     },
     "metadata": {},
     "output_type": "display_data"
    }
   ],
   "source": [
    "fig = px.histogram(\n",
    "    plot_4, \n",
    "    x = \"TimeAlive\",\n",
    "    nbins = 30,\n",
    "    marginal = \"box\",\n",
    "    title = \"Time Spent Deliberating for Passing Canadian Bills (1994 - 2022)\",\n",
    "    labels = {\n",
    "        \"count\": \"Count\",\n",
    "        \"TimeAlive\": \"Days Deliberated\"\n",
    "    },\n",
    "    height = 600\n",
    ")\n",
    "\n",
    "fig.update_xaxes(rangemode = \"nonnegative\")\n",
    "\n",
    "fig.show()"
   ]
  },
  {
   "cell_type": "code",
   "execution_count": 514,
   "id": "d9a0177b-b7b9-4f88-805e-c97cba6429c5",
   "metadata": {},
   "outputs": [
    {
     "data": {
      "application/vnd.plotly.v1+json": {
       "config": {
        "plotlyServerURL": "https://plot.ly"
       },
       "data": [
        {
         "alignmentgroup": "True",
         "boxpoints": "outliers",
         "hovertemplate": "Prime Minister=%{x}<br>Days Deliberated=%{y}<extra></extra>",
         "legendgroup": "Justin Trudeau",
         "marker": {
          "color": "#636efa"
         },
         "name": "Justin Trudeau",
         "notched": false,
         "offsetgroup": "Justin Trudeau",
         "orientation": "v",
         "showlegend": true,
         "type": "box",
         "x": [
          "Justin Trudeau",
          "Justin Trudeau",
          "Justin Trudeau",
          "Justin Trudeau",
          "Justin Trudeau",
          "Justin Trudeau",
          "Justin Trudeau",
          "Justin Trudeau",
          "Justin Trudeau",
          "Justin Trudeau",
          "Justin Trudeau",
          "Justin Trudeau",
          "Justin Trudeau",
          "Justin Trudeau",
          "Justin Trudeau",
          "Justin Trudeau",
          "Justin Trudeau",
          "Justin Trudeau",
          "Justin Trudeau",
          "Justin Trudeau",
          "Justin Trudeau",
          "Justin Trudeau",
          "Justin Trudeau",
          "Justin Trudeau",
          "Justin Trudeau",
          "Justin Trudeau",
          "Justin Trudeau",
          "Justin Trudeau",
          "Justin Trudeau",
          "Justin Trudeau",
          "Justin Trudeau",
          "Justin Trudeau",
          "Justin Trudeau",
          "Justin Trudeau",
          "Justin Trudeau",
          "Justin Trudeau",
          "Justin Trudeau",
          "Justin Trudeau",
          "Justin Trudeau",
          "Justin Trudeau",
          "Justin Trudeau",
          "Justin Trudeau",
          "Justin Trudeau",
          "Justin Trudeau",
          "Justin Trudeau",
          "Justin Trudeau",
          "Justin Trudeau",
          "Justin Trudeau",
          "Justin Trudeau",
          "Justin Trudeau",
          "Justin Trudeau",
          "Justin Trudeau",
          "Justin Trudeau",
          "Justin Trudeau",
          "Justin Trudeau",
          "Justin Trudeau",
          "Justin Trudeau",
          "Justin Trudeau",
          "Justin Trudeau",
          "Justin Trudeau",
          "Justin Trudeau",
          "Justin Trudeau",
          "Justin Trudeau",
          "Justin Trudeau",
          "Justin Trudeau",
          "Justin Trudeau",
          "Justin Trudeau",
          "Justin Trudeau",
          "Justin Trudeau",
          "Justin Trudeau",
          "Justin Trudeau",
          "Justin Trudeau",
          "Justin Trudeau",
          "Justin Trudeau",
          "Justin Trudeau",
          "Justin Trudeau",
          "Justin Trudeau",
          "Justin Trudeau",
          "Justin Trudeau",
          "Justin Trudeau",
          "Justin Trudeau",
          "Justin Trudeau",
          "Justin Trudeau",
          "Justin Trudeau",
          "Justin Trudeau",
          "Justin Trudeau",
          "Justin Trudeau",
          "Justin Trudeau",
          "Justin Trudeau",
          "Justin Trudeau",
          "Justin Trudeau",
          "Justin Trudeau",
          "Justin Trudeau",
          "Justin Trudeau",
          "Justin Trudeau",
          "Justin Trudeau",
          "Justin Trudeau",
          "Justin Trudeau",
          "Justin Trudeau",
          "Justin Trudeau",
          "Justin Trudeau",
          "Justin Trudeau",
          "Justin Trudeau",
          "Justin Trudeau",
          "Justin Trudeau",
          "Justin Trudeau",
          "Justin Trudeau",
          "Justin Trudeau",
          "Justin Trudeau",
          "Justin Trudeau",
          "Justin Trudeau",
          "Justin Trudeau",
          "Justin Trudeau",
          "Justin Trudeau",
          "Justin Trudeau",
          "Justin Trudeau",
          "Justin Trudeau",
          "Justin Trudeau",
          "Justin Trudeau",
          "Justin Trudeau",
          "Justin Trudeau",
          "Justin Trudeau",
          "Justin Trudeau",
          "Justin Trudeau",
          "Justin Trudeau",
          "Justin Trudeau",
          "Justin Trudeau",
          "Justin Trudeau",
          "Justin Trudeau",
          "Justin Trudeau",
          "Justin Trudeau",
          "Justin Trudeau",
          "Justin Trudeau",
          "Justin Trudeau",
          "Justin Trudeau",
          "Justin Trudeau",
          "Justin Trudeau",
          "Justin Trudeau",
          "Justin Trudeau",
          "Justin Trudeau",
          "Justin Trudeau",
          "Justin Trudeau",
          "Justin Trudeau",
          "Justin Trudeau",
          "Justin Trudeau",
          "Justin Trudeau",
          "Justin Trudeau",
          "Justin Trudeau",
          "Justin Trudeau",
          "Justin Trudeau",
          "Justin Trudeau",
          "Justin Trudeau",
          "Justin Trudeau",
          "Justin Trudeau",
          "Justin Trudeau",
          "Justin Trudeau",
          "Justin Trudeau",
          "Justin Trudeau",
          "Justin Trudeau",
          "Justin Trudeau",
          "Justin Trudeau",
          "Justin Trudeau",
          "Justin Trudeau",
          "Justin Trudeau",
          "Justin Trudeau",
          "Justin Trudeau",
          "Justin Trudeau",
          "Justin Trudeau",
          "Justin Trudeau",
          "Justin Trudeau",
          "Justin Trudeau",
          "Justin Trudeau",
          "Justin Trudeau",
          "Justin Trudeau",
          "Justin Trudeau",
          "Justin Trudeau"
         ],
         "x0": " ",
         "xaxis": "x",
         "y": [
          659,
          184,
          413,
          310,
          44,
          547,
          223,
          15,
          513,
          1291,
          329,
          525,
          926,
          735,
          854,
          386,
          386,
          113,
          532,
          330,
          479,
          193,
          300,
          139,
          36,
          176,
          23,
          1,
          371,
          21,
          223,
          0,
          8,
          3,
          44,
          507,
          345,
          246,
          9,
          479,
          163,
          466,
          176,
          241,
          3,
          17,
          3,
          32,
          0,
          89,
          0,
          89,
          23,
          222,
          0,
          1,
          242,
          91,
          154,
          0,
          63,
          7,
          199,
          2,
          62,
          7,
          3,
          2,
          397,
          3,
          554,
          97,
          9,
          374,
          56,
          9,
          7,
          7,
          7,
          910,
          370,
          542,
          16,
          20,
          631,
          16,
          579,
          4,
          69,
          4,
          6,
          3,
          50,
          28,
          60,
          196,
          58,
          209,
          41,
          4,
          4,
          13,
          7,
          370,
          156,
          8,
          8,
          71,
          433,
          433,
          608,
          769,
          371,
          385,
          554,
          7,
          7,
          710,
          619,
          731,
          730,
          69,
          69,
          405,
          47,
          485,
          351,
          204,
          7,
          499,
          497,
          42,
          457,
          7,
          7,
          85,
          448,
          226,
          406,
          394,
          133,
          7,
          365,
          365,
          247,
          245,
          215,
          44,
          224,
          4,
          7,
          135,
          112,
          111,
          1,
          2,
          73,
          15,
          2,
          145,
          201,
          741,
          874,
          131,
          131,
          436,
          200,
          482,
          311,
          110,
          482,
          560,
          440,
          629,
          516,
          557
         ],
         "y0": " ",
         "yaxis": "y"
        },
        {
         "alignmentgroup": "True",
         "boxpoints": "outliers",
         "hovertemplate": "Prime Minister=%{x}<br>Days Deliberated=%{y}<extra></extra>",
         "legendgroup": "Stephen Harper",
         "marker": {
          "color": "#EF553B"
         },
         "name": "Stephen Harper",
         "notched": false,
         "offsetgroup": "Stephen Harper",
         "orientation": "v",
         "showlegend": true,
         "type": "box",
         "x": [
          "Stephen Harper",
          "Stephen Harper",
          "Stephen Harper",
          "Stephen Harper",
          "Stephen Harper",
          "Stephen Harper",
          "Stephen Harper",
          "Stephen Harper",
          "Stephen Harper",
          "Stephen Harper",
          "Stephen Harper",
          "Stephen Harper",
          "Stephen Harper",
          "Stephen Harper",
          "Stephen Harper",
          "Stephen Harper",
          "Stephen Harper",
          "Stephen Harper",
          "Stephen Harper",
          "Stephen Harper",
          "Stephen Harper",
          "Stephen Harper",
          "Stephen Harper",
          "Stephen Harper",
          "Stephen Harper",
          "Stephen Harper",
          "Stephen Harper",
          "Stephen Harper",
          "Stephen Harper",
          "Stephen Harper",
          "Stephen Harper",
          "Stephen Harper",
          "Stephen Harper",
          "Stephen Harper",
          "Stephen Harper",
          "Stephen Harper",
          "Stephen Harper",
          "Stephen Harper",
          "Stephen Harper",
          "Stephen Harper",
          "Stephen Harper",
          "Stephen Harper",
          "Stephen Harper",
          "Stephen Harper",
          "Stephen Harper",
          "Stephen Harper",
          "Stephen Harper",
          "Stephen Harper",
          "Stephen Harper",
          "Stephen Harper",
          "Stephen Harper",
          "Stephen Harper",
          "Stephen Harper",
          "Stephen Harper",
          "Stephen Harper",
          "Stephen Harper",
          "Stephen Harper",
          "Stephen Harper",
          "Stephen Harper",
          "Stephen Harper",
          "Stephen Harper",
          "Stephen Harper",
          "Stephen Harper",
          "Stephen Harper",
          "Stephen Harper",
          "Stephen Harper",
          "Stephen Harper",
          "Stephen Harper",
          "Stephen Harper",
          "Stephen Harper",
          "Stephen Harper",
          "Stephen Harper",
          "Stephen Harper",
          "Stephen Harper",
          "Stephen Harper",
          "Stephen Harper",
          "Stephen Harper",
          "Stephen Harper",
          "Stephen Harper",
          "Stephen Harper",
          "Stephen Harper",
          "Stephen Harper",
          "Stephen Harper",
          "Stephen Harper",
          "Stephen Harper",
          "Stephen Harper",
          "Stephen Harper",
          "Stephen Harper",
          "Stephen Harper",
          "Stephen Harper",
          "Stephen Harper",
          "Stephen Harper",
          "Stephen Harper",
          "Stephen Harper",
          "Stephen Harper",
          "Stephen Harper",
          "Stephen Harper",
          "Stephen Harper",
          "Stephen Harper",
          "Stephen Harper",
          "Stephen Harper",
          "Stephen Harper",
          "Stephen Harper",
          "Stephen Harper",
          "Stephen Harper",
          "Stephen Harper",
          "Stephen Harper",
          "Stephen Harper",
          "Stephen Harper",
          "Stephen Harper",
          "Stephen Harper",
          "Stephen Harper",
          "Stephen Harper",
          "Stephen Harper",
          "Stephen Harper",
          "Stephen Harper",
          "Stephen Harper",
          "Stephen Harper",
          "Stephen Harper",
          "Stephen Harper",
          "Stephen Harper",
          "Stephen Harper",
          "Stephen Harper",
          "Stephen Harper",
          "Stephen Harper",
          "Stephen Harper",
          "Stephen Harper",
          "Stephen Harper",
          "Stephen Harper",
          "Stephen Harper",
          "Stephen Harper",
          "Stephen Harper",
          "Stephen Harper",
          "Stephen Harper",
          "Stephen Harper",
          "Stephen Harper",
          "Stephen Harper",
          "Stephen Harper",
          "Stephen Harper",
          "Stephen Harper",
          "Stephen Harper",
          "Stephen Harper",
          "Stephen Harper",
          "Stephen Harper",
          "Stephen Harper",
          "Stephen Harper",
          "Stephen Harper",
          "Stephen Harper",
          "Stephen Harper",
          "Stephen Harper",
          "Stephen Harper",
          "Stephen Harper",
          "Stephen Harper",
          "Stephen Harper",
          "Stephen Harper",
          "Stephen Harper",
          "Stephen Harper",
          "Stephen Harper",
          "Stephen Harper",
          "Stephen Harper",
          "Stephen Harper",
          "Stephen Harper",
          "Stephen Harper",
          "Stephen Harper",
          "Stephen Harper",
          "Stephen Harper",
          "Stephen Harper",
          "Stephen Harper",
          "Stephen Harper",
          "Stephen Harper",
          "Stephen Harper",
          "Stephen Harper",
          "Stephen Harper",
          "Stephen Harper",
          "Stephen Harper",
          "Stephen Harper",
          "Stephen Harper",
          "Stephen Harper",
          "Stephen Harper",
          "Stephen Harper",
          "Stephen Harper",
          "Stephen Harper",
          "Stephen Harper",
          "Stephen Harper",
          "Stephen Harper",
          "Stephen Harper",
          "Stephen Harper",
          "Stephen Harper",
          "Stephen Harper",
          "Stephen Harper",
          "Stephen Harper",
          "Stephen Harper",
          "Stephen Harper",
          "Stephen Harper",
          "Stephen Harper",
          "Stephen Harper",
          "Stephen Harper",
          "Stephen Harper",
          "Stephen Harper",
          "Stephen Harper",
          "Stephen Harper",
          "Stephen Harper",
          "Stephen Harper",
          "Stephen Harper",
          "Stephen Harper",
          "Stephen Harper",
          "Stephen Harper",
          "Stephen Harper",
          "Stephen Harper",
          "Stephen Harper",
          "Stephen Harper",
          "Stephen Harper",
          "Stephen Harper",
          "Stephen Harper",
          "Stephen Harper",
          "Stephen Harper",
          "Stephen Harper",
          "Stephen Harper",
          "Stephen Harper",
          "Stephen Harper",
          "Stephen Harper",
          "Stephen Harper",
          "Stephen Harper",
          "Stephen Harper",
          "Stephen Harper",
          "Stephen Harper",
          "Stephen Harper",
          "Stephen Harper",
          "Stephen Harper",
          "Stephen Harper",
          "Stephen Harper",
          "Stephen Harper",
          "Stephen Harper",
          "Stephen Harper",
          "Stephen Harper",
          "Stephen Harper",
          "Stephen Harper",
          "Stephen Harper",
          "Stephen Harper",
          "Stephen Harper",
          "Stephen Harper",
          "Stephen Harper",
          "Stephen Harper",
          "Stephen Harper",
          "Stephen Harper",
          "Stephen Harper",
          "Stephen Harper",
          "Stephen Harper",
          "Stephen Harper",
          "Stephen Harper",
          "Stephen Harper",
          "Stephen Harper",
          "Stephen Harper",
          "Stephen Harper",
          "Stephen Harper",
          "Stephen Harper",
          "Stephen Harper",
          "Stephen Harper",
          "Stephen Harper",
          "Stephen Harper",
          "Stephen Harper",
          "Stephen Harper",
          "Stephen Harper",
          "Stephen Harper",
          "Stephen Harper",
          "Stephen Harper",
          "Stephen Harper",
          "Stephen Harper",
          "Stephen Harper",
          "Stephen Harper",
          "Stephen Harper",
          "Stephen Harper",
          "Stephen Harper",
          "Stephen Harper",
          "Stephen Harper",
          "Stephen Harper",
          "Stephen Harper",
          "Stephen Harper",
          "Stephen Harper",
          "Stephen Harper",
          "Stephen Harper",
          "Stephen Harper",
          "Stephen Harper",
          "Stephen Harper",
          "Stephen Harper",
          "Stephen Harper",
          "Stephen Harper",
          "Stephen Harper",
          "Stephen Harper",
          "Stephen Harper",
          "Stephen Harper",
          "Stephen Harper",
          "Stephen Harper",
          "Stephen Harper",
          "Stephen Harper",
          "Stephen Harper",
          "Stephen Harper",
          "Stephen Harper",
          "Stephen Harper",
          "Stephen Harper",
          "Stephen Harper",
          "Stephen Harper",
          "Stephen Harper",
          "Stephen Harper",
          "Stephen Harper",
          "Stephen Harper",
          "Stephen Harper",
          "Stephen Harper",
          "Stephen Harper",
          "Stephen Harper",
          "Stephen Harper",
          "Stephen Harper",
          "Stephen Harper",
          "Stephen Harper",
          "Stephen Harper",
          "Stephen Harper",
          "Stephen Harper",
          "Stephen Harper",
          "Stephen Harper",
          "Stephen Harper",
          "Stephen Harper",
          "Stephen Harper",
          "Stephen Harper",
          "Stephen Harper",
          "Stephen Harper",
          "Stephen Harper",
          "Stephen Harper"
         ],
         "x0": " ",
         "xaxis": "x",
         "y": [
          605,
          630,
          273,
          134,
          58,
          339,
          603,
          61,
          267,
          106,
          339,
          437,
          224,
          206,
          216,
          127,
          343,
          71,
          380,
          337,
          59,
          225,
          435,
          476,
          449,
          199,
          168,
          134,
          127,
          105,
          534,
          184,
          394,
          246,
          461,
          281,
          390,
          365,
          225,
          266,
          213,
          363,
          378,
          92,
          293,
          174,
          18,
          240,
          15,
          45,
          608,
          12,
          110,
          91,
          133,
          244,
          416,
          11,
          278,
          134,
          115,
          283,
          50,
          146,
          17,
          237,
          106,
          232,
          376,
          5,
          8,
          47,
          8,
          145,
          406,
          4,
          122,
          8,
          163,
          4,
          105,
          100,
          136,
          392,
          365,
          174,
          34,
          273,
          91,
          134,
          108,
          414,
          586,
          15,
          46,
          410,
          383,
          71,
          78,
          212,
          42,
          136,
          341,
          117,
          403,
          111,
          620,
          46,
          35,
          88,
          52,
          106,
          338,
          334,
          49,
          197,
          442,
          57,
          101,
          42,
          379,
          2,
          162,
          182,
          141,
          49,
          448,
          323,
          3,
          218,
          391,
          24,
          320,
          3,
          134,
          226,
          215,
          13,
          132,
          394,
          48,
          84,
          85,
          113,
          223,
          209,
          70,
          476,
          218,
          209,
          391,
          489,
          2,
          482,
          203,
          45,
          23,
          126,
          2,
          9,
          45,
          63,
          295,
          204,
          82,
          132,
          196,
          203,
          241,
          384,
          494,
          135,
          2,
          17,
          206,
          51,
          14,
          22,
          203,
          20,
          406,
          14,
          287,
          8,
          154,
          273,
          188,
          157,
          12,
          420,
          129,
          122,
          8,
          63,
          9,
          1,
          14,
          8,
          2,
          9,
          14,
          313,
          21,
          154,
          73,
          199,
          63,
          21,
          3,
          3,
          253,
          363,
          278,
          31,
          192,
          53,
          363,
          177,
          84,
          12,
          3,
          12,
          56,
          12,
          191,
          12,
          54,
          79,
          224,
          75,
          112,
          216,
          168,
          4,
          2,
          70,
          4,
          2,
          7,
          4,
          50,
          96,
          7,
          138,
          196,
          76,
          118,
          196,
          85,
          54,
          6,
          6,
          43,
          127,
          42,
          6,
          6,
          13,
          46,
          6,
          42,
          13,
          21,
          57,
          12,
          15,
          20,
          19,
          14,
          18,
          11,
          14,
          13,
          17,
          13,
          6,
          9,
          9,
          7,
          245,
          196,
          392,
          425,
          117,
          406,
          280,
          210,
          274,
          401,
          246,
          545,
          226,
          401,
          140,
          635,
          441,
          634,
          624,
          268,
          268,
          437,
          631,
          623,
          482,
          621,
          553,
          245,
          420,
          390,
          230,
          386,
          245,
          568,
          226,
          205,
          286,
          226,
          344,
          498,
          311,
          245,
          343,
          320,
          567,
          441,
          434,
          272
         ],
         "y0": " ",
         "yaxis": "y"
        },
        {
         "alignmentgroup": "True",
         "boxpoints": "outliers",
         "hovertemplate": "Prime Minister=%{x}<br>Days Deliberated=%{y}<extra></extra>",
         "legendgroup": "Paul Martin",
         "marker": {
          "color": "#00cc96"
         },
         "name": "Paul Martin",
         "notched": false,
         "offsetgroup": "Paul Martin",
         "orientation": "v",
         "showlegend": true,
         "type": "box",
         "x": [
          "Paul Martin",
          "Paul Martin",
          "Paul Martin",
          "Paul Martin",
          "Paul Martin",
          "Paul Martin",
          "Paul Martin",
          "Paul Martin",
          "Paul Martin",
          "Paul Martin",
          "Paul Martin",
          "Paul Martin",
          "Paul Martin",
          "Paul Martin",
          "Paul Martin",
          "Paul Martin",
          "Paul Martin",
          "Paul Martin",
          "Paul Martin",
          "Paul Martin",
          "Paul Martin",
          "Paul Martin",
          "Paul Martin",
          "Paul Martin",
          "Paul Martin",
          "Paul Martin",
          "Paul Martin",
          "Paul Martin",
          "Paul Martin",
          "Paul Martin",
          "Paul Martin",
          "Paul Martin",
          "Paul Martin",
          "Paul Martin",
          "Paul Martin",
          "Paul Martin",
          "Paul Martin",
          "Paul Martin",
          "Paul Martin",
          "Paul Martin",
          "Paul Martin",
          "Paul Martin",
          "Paul Martin",
          "Paul Martin",
          "Paul Martin",
          "Paul Martin",
          "Paul Martin",
          "Paul Martin",
          "Paul Martin",
          "Paul Martin",
          "Paul Martin",
          "Paul Martin",
          "Paul Martin",
          "Paul Martin",
          "Paul Martin",
          "Paul Martin",
          "Paul Martin",
          "Paul Martin",
          "Paul Martin",
          "Paul Martin"
         ],
         "x0": " ",
         "xaxis": "x",
         "y": [
          212,
          415,
          58,
          147,
          240,
          99,
          176,
          191,
          190,
          157,
          285,
          258,
          139,
          68,
          166,
          139,
          195,
          258,
          223,
          413,
          217,
          216,
          118,
          205,
          142,
          141,
          246,
          246,
          107,
          367,
          345,
          360,
          153,
          139,
          156,
          6,
          6,
          76,
          347,
          169,
          44,
          69,
          2,
          2,
          96,
          23,
          75,
          197,
          179,
          177,
          175,
          17,
          172,
          9,
          50,
          23,
          387,
          87,
          85,
          409
         ],
         "y0": " ",
         "yaxis": "y"
        },
        {
         "alignmentgroup": "True",
         "boxpoints": "outliers",
         "hovertemplate": "Prime Minister=%{x}<br>Days Deliberated=%{y}<extra></extra>",
         "legendgroup": "Jean Chrétien",
         "marker": {
          "color": "#ab63fa"
         },
         "name": "Jean Chrétien",
         "notched": false,
         "offsetgroup": "Jean Chrétien",
         "orientation": "v",
         "showlegend": true,
         "type": "box",
         "x": [
          "Jean Chrétien",
          "Jean Chrétien",
          "Jean Chrétien",
          "Jean Chrétien",
          "Jean Chrétien",
          "Jean Chrétien",
          "Jean Chrétien",
          "Jean Chrétien",
          "Jean Chrétien",
          "Jean Chrétien",
          "Jean Chrétien",
          "Jean Chrétien",
          "Jean Chrétien",
          "Jean Chrétien",
          "Jean Chrétien",
          "Jean Chrétien",
          "Jean Chrétien",
          "Jean Chrétien",
          "Jean Chrétien",
          "Jean Chrétien",
          "Jean Chrétien",
          "Jean Chrétien",
          "Jean Chrétien",
          "Jean Chrétien",
          "Jean Chrétien",
          "Jean Chrétien",
          "Jean Chrétien",
          "Jean Chrétien",
          "Jean Chrétien",
          "Jean Chrétien",
          "Jean Chrétien",
          "Jean Chrétien",
          "Jean Chrétien",
          "Jean Chrétien",
          "Jean Chrétien",
          "Jean Chrétien",
          "Jean Chrétien",
          "Jean Chrétien",
          "Jean Chrétien",
          "Jean Chrétien",
          "Jean Chrétien",
          "Jean Chrétien",
          "Jean Chrétien",
          "Jean Chrétien",
          "Jean Chrétien",
          "Jean Chrétien",
          "Jean Chrétien",
          "Jean Chrétien",
          "Jean Chrétien",
          "Jean Chrétien",
          "Jean Chrétien",
          "Jean Chrétien",
          "Jean Chrétien",
          "Jean Chrétien",
          "Jean Chrétien",
          "Jean Chrétien",
          "Jean Chrétien",
          "Jean Chrétien",
          "Jean Chrétien",
          "Jean Chrétien",
          "Jean Chrétien",
          "Jean Chrétien",
          "Jean Chrétien",
          "Jean Chrétien",
          "Jean Chrétien",
          "Jean Chrétien",
          "Jean Chrétien",
          "Jean Chrétien",
          "Jean Chrétien",
          "Jean Chrétien",
          "Jean Chrétien",
          "Jean Chrétien",
          "Jean Chrétien",
          "Jean Chrétien",
          "Jean Chrétien",
          "Jean Chrétien",
          "Jean Chrétien",
          "Jean Chrétien",
          "Jean Chrétien",
          "Jean Chrétien",
          "Jean Chrétien",
          "Jean Chrétien",
          "Jean Chrétien",
          "Jean Chrétien",
          "Jean Chrétien",
          "Jean Chrétien",
          "Jean Chrétien",
          "Jean Chrétien",
          "Jean Chrétien",
          "Jean Chrétien",
          "Jean Chrétien",
          "Jean Chrétien",
          "Jean Chrétien",
          "Jean Chrétien",
          "Jean Chrétien",
          "Jean Chrétien",
          "Jean Chrétien",
          "Jean Chrétien",
          "Jean Chrétien",
          "Jean Chrétien",
          "Jean Chrétien",
          "Jean Chrétien",
          "Jean Chrétien",
          "Jean Chrétien",
          "Jean Chrétien",
          "Jean Chrétien",
          "Jean Chrétien",
          "Jean Chrétien",
          "Jean Chrétien",
          "Jean Chrétien",
          "Jean Chrétien",
          "Jean Chrétien",
          "Jean Chrétien",
          "Jean Chrétien",
          "Jean Chrétien",
          "Jean Chrétien",
          "Jean Chrétien",
          "Jean Chrétien",
          "Jean Chrétien",
          "Jean Chrétien",
          "Jean Chrétien",
          "Jean Chrétien",
          "Jean Chrétien",
          "Jean Chrétien",
          "Jean Chrétien",
          "Jean Chrétien",
          "Jean Chrétien",
          "Jean Chrétien",
          "Jean Chrétien",
          "Jean Chrétien",
          "Jean Chrétien",
          "Jean Chrétien",
          "Jean Chrétien",
          "Jean Chrétien",
          "Jean Chrétien",
          "Jean Chrétien",
          "Jean Chrétien",
          "Jean Chrétien",
          "Jean Chrétien",
          "Jean Chrétien",
          "Jean Chrétien",
          "Jean Chrétien",
          "Jean Chrétien",
          "Jean Chrétien",
          "Jean Chrétien",
          "Jean Chrétien",
          "Jean Chrétien",
          "Jean Chrétien",
          "Jean Chrétien",
          "Jean Chrétien",
          "Jean Chrétien",
          "Jean Chrétien",
          "Jean Chrétien",
          "Jean Chrétien",
          "Jean Chrétien",
          "Jean Chrétien",
          "Jean Chrétien",
          "Jean Chrétien",
          "Jean Chrétien",
          "Jean Chrétien",
          "Jean Chrétien",
          "Jean Chrétien",
          "Jean Chrétien",
          "Jean Chrétien",
          "Jean Chrétien",
          "Jean Chrétien",
          "Jean Chrétien",
          "Jean Chrétien",
          "Jean Chrétien",
          "Jean Chrétien",
          "Jean Chrétien",
          "Jean Chrétien",
          "Jean Chrétien",
          "Jean Chrétien",
          "Jean Chrétien",
          "Jean Chrétien",
          "Jean Chrétien",
          "Jean Chrétien",
          "Jean Chrétien",
          "Jean Chrétien",
          "Jean Chrétien",
          "Jean Chrétien",
          "Jean Chrétien",
          "Jean Chrétien",
          "Jean Chrétien",
          "Jean Chrétien",
          "Jean Chrétien",
          "Jean Chrétien",
          "Jean Chrétien",
          "Jean Chrétien",
          "Jean Chrétien",
          "Jean Chrétien",
          "Jean Chrétien",
          "Jean Chrétien",
          "Jean Chrétien",
          "Jean Chrétien",
          "Jean Chrétien",
          "Jean Chrétien",
          "Jean Chrétien",
          "Jean Chrétien",
          "Jean Chrétien",
          "Jean Chrétien",
          "Jean Chrétien",
          "Jean Chrétien",
          "Jean Chrétien",
          "Jean Chrétien",
          "Jean Chrétien",
          "Jean Chrétien",
          "Jean Chrétien",
          "Jean Chrétien",
          "Jean Chrétien",
          "Jean Chrétien",
          "Jean Chrétien",
          "Jean Chrétien",
          "Jean Chrétien",
          "Jean Chrétien",
          "Jean Chrétien",
          "Jean Chrétien",
          "Jean Chrétien",
          "Jean Chrétien",
          "Jean Chrétien",
          "Jean Chrétien",
          "Jean Chrétien",
          "Jean Chrétien",
          "Jean Chrétien",
          "Jean Chrétien",
          "Jean Chrétien",
          "Jean Chrétien",
          "Jean Chrétien",
          "Jean Chrétien",
          "Jean Chrétien",
          "Jean Chrétien",
          "Jean Chrétien",
          "Jean Chrétien",
          "Jean Chrétien",
          "Jean Chrétien",
          "Jean Chrétien",
          "Jean Chrétien",
          "Jean Chrétien",
          "Jean Chrétien",
          "Jean Chrétien",
          "Jean Chrétien",
          "Jean Chrétien",
          "Jean Chrétien",
          "Jean Chrétien",
          "Jean Chrétien",
          "Jean Chrétien",
          "Jean Chrétien",
          "Jean Chrétien",
          "Jean Chrétien",
          "Jean Chrétien",
          "Jean Chrétien",
          "Jean Chrétien",
          "Jean Chrétien",
          "Jean Chrétien",
          "Jean Chrétien",
          "Jean Chrétien",
          "Jean Chrétien",
          "Jean Chrétien",
          "Jean Chrétien",
          "Jean Chrétien",
          "Jean Chrétien",
          "Jean Chrétien",
          "Jean Chrétien",
          "Jean Chrétien",
          "Jean Chrétien",
          "Jean Chrétien",
          "Jean Chrétien",
          "Jean Chrétien",
          "Jean Chrétien",
          "Jean Chrétien",
          "Jean Chrétien",
          "Jean Chrétien",
          "Jean Chrétien",
          "Jean Chrétien",
          "Jean Chrétien",
          "Jean Chrétien",
          "Jean Chrétien",
          "Jean Chrétien",
          "Jean Chrétien",
          "Jean Chrétien",
          "Jean Chrétien",
          "Jean Chrétien",
          "Jean Chrétien",
          "Jean Chrétien",
          "Jean Chrétien",
          "Jean Chrétien",
          "Jean Chrétien",
          "Jean Chrétien",
          "Jean Chrétien",
          "Jean Chrétien",
          "Jean Chrétien",
          "Jean Chrétien",
          "Jean Chrétien",
          "Jean Chrétien",
          "Jean Chrétien",
          "Jean Chrétien",
          "Jean Chrétien",
          "Jean Chrétien",
          "Jean Chrétien",
          "Jean Chrétien",
          "Jean Chrétien",
          "Jean Chrétien",
          "Jean Chrétien",
          "Jean Chrétien",
          "Jean Chrétien",
          "Jean Chrétien",
          "Jean Chrétien",
          "Jean Chrétien",
          "Jean Chrétien",
          "Jean Chrétien",
          "Jean Chrétien",
          "Jean Chrétien",
          "Jean Chrétien",
          "Jean Chrétien",
          "Jean Chrétien",
          "Jean Chrétien",
          "Jean Chrétien",
          "Jean Chrétien",
          "Jean Chrétien",
          "Jean Chrétien",
          "Jean Chrétien",
          "Jean Chrétien",
          "Jean Chrétien",
          "Jean Chrétien",
          "Jean Chrétien",
          "Jean Chrétien",
          "Jean Chrétien",
          "Jean Chrétien",
          "Jean Chrétien",
          "Jean Chrétien",
          "Jean Chrétien",
          "Jean Chrétien",
          "Jean Chrétien",
          "Jean Chrétien",
          "Jean Chrétien",
          "Jean Chrétien",
          "Jean Chrétien",
          "Jean Chrétien",
          "Jean Chrétien",
          "Jean Chrétien",
          "Jean Chrétien",
          "Jean Chrétien",
          "Jean Chrétien",
          "Jean Chrétien",
          "Jean Chrétien",
          "Jean Chrétien",
          "Jean Chrétien",
          "Jean Chrétien",
          "Jean Chrétien",
          "Jean Chrétien",
          "Jean Chrétien",
          "Jean Chrétien",
          "Jean Chrétien",
          "Jean Chrétien",
          "Jean Chrétien",
          "Jean Chrétien",
          "Jean Chrétien",
          "Jean Chrétien",
          "Jean Chrétien",
          "Jean Chrétien",
          "Jean Chrétien",
          "Jean Chrétien",
          "Jean Chrétien",
          "Jean Chrétien",
          "Jean Chrétien",
          "Jean Chrétien",
          "Jean Chrétien",
          "Jean Chrétien",
          "Jean Chrétien",
          "Jean Chrétien",
          "Jean Chrétien",
          "Jean Chrétien",
          "Jean Chrétien",
          "Jean Chrétien",
          "Jean Chrétien",
          "Jean Chrétien",
          "Jean Chrétien",
          "Jean Chrétien",
          "Jean Chrétien",
          "Jean Chrétien",
          "Jean Chrétien",
          "Jean Chrétien",
          "Jean Chrétien",
          "Jean Chrétien",
          "Jean Chrétien",
          "Jean Chrétien",
          "Jean Chrétien",
          "Jean Chrétien",
          "Jean Chrétien",
          "Jean Chrétien",
          "Jean Chrétien",
          "Jean Chrétien",
          "Jean Chrétien",
          "Jean Chrétien",
          "Jean Chrétien",
          "Jean Chrétien",
          "Jean Chrétien",
          "Jean Chrétien",
          "Jean Chrétien",
          "Jean Chrétien",
          "Jean Chrétien",
          "Jean Chrétien",
          "Jean Chrétien",
          "Jean Chrétien",
          "Jean Chrétien",
          "Jean Chrétien",
          "Jean Chrétien",
          "Jean Chrétien",
          "Jean Chrétien",
          "Jean Chrétien",
          "Jean Chrétien",
          "Jean Chrétien",
          "Jean Chrétien",
          "Jean Chrétien",
          "Jean Chrétien",
          "Jean Chrétien",
          "Jean Chrétien",
          "Jean Chrétien",
          "Jean Chrétien",
          "Jean Chrétien"
         ],
         "x0": " ",
         "xaxis": "x",
         "y": [
          71,
          99,
          261,
          127,
          134,
          240,
          254,
          134,
          99,
          216,
          261,
          99,
          215,
          84,
          173,
          196,
          14,
          190,
          230,
          322,
          238,
          128,
          23,
          408,
          119,
          23,
          71,
          114,
          212,
          114,
          100,
          365,
          183,
          158,
          9,
          406,
          198,
          217,
          189,
          79,
          77,
          128,
          56,
          127,
          28,
          28,
          91,
          85,
          246,
          92,
          366,
          222,
          96,
          230,
          84,
          28,
          108,
          94,
          182,
          131,
          441,
          89,
          58,
          50,
          133,
          131,
          62,
          259,
          232,
          106,
          30,
          64,
          371,
          187,
          417,
          52,
          48,
          394,
          316,
          181,
          265,
          269,
          99,
          86,
          379,
          164,
          75,
          106,
          72,
          64,
          126,
          222,
          106,
          97,
          92,
          245,
          118,
          175,
          252,
          84,
          97,
          478,
          217,
          62,
          22,
          0,
          215,
          84,
          64,
          252,
          246,
          46,
          83,
          287,
          161,
          112,
          245,
          231,
          105,
          128,
          47,
          110,
          161,
          29,
          104,
          80,
          71,
          63,
          244,
          350,
          82,
          29,
          92,
          231,
          224,
          82,
          78,
          229,
          50,
          49,
          82,
          105,
          85,
          90,
          194,
          413,
          91,
          46,
          90,
          211,
          194,
          82,
          89,
          202,
          224,
          101,
          2,
          82,
          9,
          199,
          476,
          98,
          2,
          65,
          8,
          9,
          3,
          131,
          8,
          48,
          84,
          197,
          7,
          8,
          426,
          139,
          13,
          364,
          59,
          63,
          141,
          257,
          247,
          2,
          59,
          274,
          69,
          134,
          371,
          212,
          10,
          50,
          133,
          196,
          245,
          42,
          10,
          414,
          233,
          560,
          372,
          41,
          49,
          86,
          9,
          190,
          45,
          3,
          1,
          8,
          301,
          368,
          2,
          44,
          3,
          190,
          8,
          132,
          43,
          70,
          89,
          105,
          58,
          28,
          89,
          83,
          551,
          365,
          27,
          222,
          14,
          52,
          37,
          83,
          30,
          14,
          357,
          37,
          211,
          371,
          223,
          21,
          64,
          91,
          34,
          196,
          176,
          155,
          101,
          244,
          343,
          385,
          54,
          255,
          343,
          191,
          17,
          147,
          72,
          343,
          15,
          47,
          408,
          343,
          13,
          134,
          127,
          308,
          265,
          395,
          136,
          14,
          190,
          182,
          183,
          203,
          329,
          364,
          8,
          20,
          363,
          148,
          14,
          16,
          9,
          190,
          542,
          13,
          9,
          317,
          178,
          7,
          188,
          7,
          188,
          147,
          6,
          87,
          50,
          371,
          66,
          50,
          128,
          66,
          8,
          272,
          84,
          8,
          71,
          78,
          246,
          265,
          73,
          279,
          11,
          252,
          220,
          69,
          34,
          52,
          140,
          153,
          51,
          140,
          7,
          101,
          122,
          9,
          182,
          111,
          113,
          76,
          365,
          58,
          7,
          189,
          368,
          51,
          211,
          126,
          126,
          189,
          7,
          294,
          108,
          126,
          93,
          144,
          257,
          93,
          139,
          9,
          31,
          9,
          1,
          90,
          3,
          94,
          135,
          5,
          152,
          63,
          7,
          7,
          72,
          76,
          10,
          70,
          98,
          234,
          10,
          64,
          76,
          9,
          76,
          8,
          73,
          8,
          69,
          180,
          59,
          16,
          56,
          16,
          200,
          8,
          8,
          182,
          166,
          176,
          21,
          34,
          58,
          46,
          65,
          4,
          168,
          356,
          260,
          142,
          545,
          58,
          93,
          403,
          175,
          214,
          87,
          58,
          306,
          33,
          319,
          41,
          21,
          92,
          14,
          122,
          141,
          18,
          97,
          97,
          83
         ],
         "y0": " ",
         "yaxis": "y"
        }
       ],
       "layout": {
        "autosize": true,
        "boxmode": "overlay",
        "legend": {
         "title": {
          "text": "Prime Minister"
         },
         "tracegroupgap": 0
        },
        "showlegend": false,
        "template": {
         "data": {
          "bar": [
           {
            "error_x": {
             "color": "#2a3f5f"
            },
            "error_y": {
             "color": "#2a3f5f"
            },
            "marker": {
             "line": {
              "color": "#E5ECF6",
              "width": 0.5
             },
             "pattern": {
              "fillmode": "overlay",
              "size": 10,
              "solidity": 0.2
             }
            },
            "type": "bar"
           }
          ],
          "barpolar": [
           {
            "marker": {
             "line": {
              "color": "#E5ECF6",
              "width": 0.5
             },
             "pattern": {
              "fillmode": "overlay",
              "size": 10,
              "solidity": 0.2
             }
            },
            "type": "barpolar"
           }
          ],
          "carpet": [
           {
            "aaxis": {
             "endlinecolor": "#2a3f5f",
             "gridcolor": "white",
             "linecolor": "white",
             "minorgridcolor": "white",
             "startlinecolor": "#2a3f5f"
            },
            "baxis": {
             "endlinecolor": "#2a3f5f",
             "gridcolor": "white",
             "linecolor": "white",
             "minorgridcolor": "white",
             "startlinecolor": "#2a3f5f"
            },
            "type": "carpet"
           }
          ],
          "choropleth": [
           {
            "colorbar": {
             "outlinewidth": 0,
             "ticks": ""
            },
            "type": "choropleth"
           }
          ],
          "contour": [
           {
            "colorbar": {
             "outlinewidth": 0,
             "ticks": ""
            },
            "colorscale": [
             [
              0,
              "#0d0887"
             ],
             [
              0.1111111111111111,
              "#46039f"
             ],
             [
              0.2222222222222222,
              "#7201a8"
             ],
             [
              0.3333333333333333,
              "#9c179e"
             ],
             [
              0.4444444444444444,
              "#bd3786"
             ],
             [
              0.5555555555555556,
              "#d8576b"
             ],
             [
              0.6666666666666666,
              "#ed7953"
             ],
             [
              0.7777777777777778,
              "#fb9f3a"
             ],
             [
              0.8888888888888888,
              "#fdca26"
             ],
             [
              1,
              "#f0f921"
             ]
            ],
            "type": "contour"
           }
          ],
          "contourcarpet": [
           {
            "colorbar": {
             "outlinewidth": 0,
             "ticks": ""
            },
            "type": "contourcarpet"
           }
          ],
          "heatmap": [
           {
            "colorbar": {
             "outlinewidth": 0,
             "ticks": ""
            },
            "colorscale": [
             [
              0,
              "#0d0887"
             ],
             [
              0.1111111111111111,
              "#46039f"
             ],
             [
              0.2222222222222222,
              "#7201a8"
             ],
             [
              0.3333333333333333,
              "#9c179e"
             ],
             [
              0.4444444444444444,
              "#bd3786"
             ],
             [
              0.5555555555555556,
              "#d8576b"
             ],
             [
              0.6666666666666666,
              "#ed7953"
             ],
             [
              0.7777777777777778,
              "#fb9f3a"
             ],
             [
              0.8888888888888888,
              "#fdca26"
             ],
             [
              1,
              "#f0f921"
             ]
            ],
            "type": "heatmap"
           }
          ],
          "heatmapgl": [
           {
            "colorbar": {
             "outlinewidth": 0,
             "ticks": ""
            },
            "colorscale": [
             [
              0,
              "#0d0887"
             ],
             [
              0.1111111111111111,
              "#46039f"
             ],
             [
              0.2222222222222222,
              "#7201a8"
             ],
             [
              0.3333333333333333,
              "#9c179e"
             ],
             [
              0.4444444444444444,
              "#bd3786"
             ],
             [
              0.5555555555555556,
              "#d8576b"
             ],
             [
              0.6666666666666666,
              "#ed7953"
             ],
             [
              0.7777777777777778,
              "#fb9f3a"
             ],
             [
              0.8888888888888888,
              "#fdca26"
             ],
             [
              1,
              "#f0f921"
             ]
            ],
            "type": "heatmapgl"
           }
          ],
          "histogram": [
           {
            "marker": {
             "pattern": {
              "fillmode": "overlay",
              "size": 10,
              "solidity": 0.2
             }
            },
            "type": "histogram"
           }
          ],
          "histogram2d": [
           {
            "colorbar": {
             "outlinewidth": 0,
             "ticks": ""
            },
            "colorscale": [
             [
              0,
              "#0d0887"
             ],
             [
              0.1111111111111111,
              "#46039f"
             ],
             [
              0.2222222222222222,
              "#7201a8"
             ],
             [
              0.3333333333333333,
              "#9c179e"
             ],
             [
              0.4444444444444444,
              "#bd3786"
             ],
             [
              0.5555555555555556,
              "#d8576b"
             ],
             [
              0.6666666666666666,
              "#ed7953"
             ],
             [
              0.7777777777777778,
              "#fb9f3a"
             ],
             [
              0.8888888888888888,
              "#fdca26"
             ],
             [
              1,
              "#f0f921"
             ]
            ],
            "type": "histogram2d"
           }
          ],
          "histogram2dcontour": [
           {
            "colorbar": {
             "outlinewidth": 0,
             "ticks": ""
            },
            "colorscale": [
             [
              0,
              "#0d0887"
             ],
             [
              0.1111111111111111,
              "#46039f"
             ],
             [
              0.2222222222222222,
              "#7201a8"
             ],
             [
              0.3333333333333333,
              "#9c179e"
             ],
             [
              0.4444444444444444,
              "#bd3786"
             ],
             [
              0.5555555555555556,
              "#d8576b"
             ],
             [
              0.6666666666666666,
              "#ed7953"
             ],
             [
              0.7777777777777778,
              "#fb9f3a"
             ],
             [
              0.8888888888888888,
              "#fdca26"
             ],
             [
              1,
              "#f0f921"
             ]
            ],
            "type": "histogram2dcontour"
           }
          ],
          "mesh3d": [
           {
            "colorbar": {
             "outlinewidth": 0,
             "ticks": ""
            },
            "type": "mesh3d"
           }
          ],
          "parcoords": [
           {
            "line": {
             "colorbar": {
              "outlinewidth": 0,
              "ticks": ""
             }
            },
            "type": "parcoords"
           }
          ],
          "pie": [
           {
            "automargin": true,
            "type": "pie"
           }
          ],
          "scatter": [
           {
            "fillpattern": {
             "fillmode": "overlay",
             "size": 10,
             "solidity": 0.2
            },
            "type": "scatter"
           }
          ],
          "scatter3d": [
           {
            "line": {
             "colorbar": {
              "outlinewidth": 0,
              "ticks": ""
             }
            },
            "marker": {
             "colorbar": {
              "outlinewidth": 0,
              "ticks": ""
             }
            },
            "type": "scatter3d"
           }
          ],
          "scattercarpet": [
           {
            "marker": {
             "colorbar": {
              "outlinewidth": 0,
              "ticks": ""
             }
            },
            "type": "scattercarpet"
           }
          ],
          "scattergeo": [
           {
            "marker": {
             "colorbar": {
              "outlinewidth": 0,
              "ticks": ""
             }
            },
            "type": "scattergeo"
           }
          ],
          "scattergl": [
           {
            "marker": {
             "colorbar": {
              "outlinewidth": 0,
              "ticks": ""
             }
            },
            "type": "scattergl"
           }
          ],
          "scattermapbox": [
           {
            "marker": {
             "colorbar": {
              "outlinewidth": 0,
              "ticks": ""
             }
            },
            "type": "scattermapbox"
           }
          ],
          "scatterpolar": [
           {
            "marker": {
             "colorbar": {
              "outlinewidth": 0,
              "ticks": ""
             }
            },
            "type": "scatterpolar"
           }
          ],
          "scatterpolargl": [
           {
            "marker": {
             "colorbar": {
              "outlinewidth": 0,
              "ticks": ""
             }
            },
            "type": "scatterpolargl"
           }
          ],
          "scatterternary": [
           {
            "marker": {
             "colorbar": {
              "outlinewidth": 0,
              "ticks": ""
             }
            },
            "type": "scatterternary"
           }
          ],
          "surface": [
           {
            "colorbar": {
             "outlinewidth": 0,
             "ticks": ""
            },
            "colorscale": [
             [
              0,
              "#0d0887"
             ],
             [
              0.1111111111111111,
              "#46039f"
             ],
             [
              0.2222222222222222,
              "#7201a8"
             ],
             [
              0.3333333333333333,
              "#9c179e"
             ],
             [
              0.4444444444444444,
              "#bd3786"
             ],
             [
              0.5555555555555556,
              "#d8576b"
             ],
             [
              0.6666666666666666,
              "#ed7953"
             ],
             [
              0.7777777777777778,
              "#fb9f3a"
             ],
             [
              0.8888888888888888,
              "#fdca26"
             ],
             [
              1,
              "#f0f921"
             ]
            ],
            "type": "surface"
           }
          ],
          "table": [
           {
            "cells": {
             "fill": {
              "color": "#EBF0F8"
             },
             "line": {
              "color": "white"
             }
            },
            "header": {
             "fill": {
              "color": "#C8D4E3"
             },
             "line": {
              "color": "white"
             }
            },
            "type": "table"
           }
          ]
         },
         "layout": {
          "annotationdefaults": {
           "arrowcolor": "#2a3f5f",
           "arrowhead": 0,
           "arrowwidth": 1
          },
          "autotypenumbers": "strict",
          "coloraxis": {
           "colorbar": {
            "outlinewidth": 0,
            "ticks": ""
           }
          },
          "colorscale": {
           "diverging": [
            [
             0,
             "#8e0152"
            ],
            [
             0.1,
             "#c51b7d"
            ],
            [
             0.2,
             "#de77ae"
            ],
            [
             0.3,
             "#f1b6da"
            ],
            [
             0.4,
             "#fde0ef"
            ],
            [
             0.5,
             "#f7f7f7"
            ],
            [
             0.6,
             "#e6f5d0"
            ],
            [
             0.7,
             "#b8e186"
            ],
            [
             0.8,
             "#7fbc41"
            ],
            [
             0.9,
             "#4d9221"
            ],
            [
             1,
             "#276419"
            ]
           ],
           "sequential": [
            [
             0,
             "#0d0887"
            ],
            [
             0.1111111111111111,
             "#46039f"
            ],
            [
             0.2222222222222222,
             "#7201a8"
            ],
            [
             0.3333333333333333,
             "#9c179e"
            ],
            [
             0.4444444444444444,
             "#bd3786"
            ],
            [
             0.5555555555555556,
             "#d8576b"
            ],
            [
             0.6666666666666666,
             "#ed7953"
            ],
            [
             0.7777777777777778,
             "#fb9f3a"
            ],
            [
             0.8888888888888888,
             "#fdca26"
            ],
            [
             1,
             "#f0f921"
            ]
           ],
           "sequentialminus": [
            [
             0,
             "#0d0887"
            ],
            [
             0.1111111111111111,
             "#46039f"
            ],
            [
             0.2222222222222222,
             "#7201a8"
            ],
            [
             0.3333333333333333,
             "#9c179e"
            ],
            [
             0.4444444444444444,
             "#bd3786"
            ],
            [
             0.5555555555555556,
             "#d8576b"
            ],
            [
             0.6666666666666666,
             "#ed7953"
            ],
            [
             0.7777777777777778,
             "#fb9f3a"
            ],
            [
             0.8888888888888888,
             "#fdca26"
            ],
            [
             1,
             "#f0f921"
            ]
           ]
          },
          "colorway": [
           "#636efa",
           "#EF553B",
           "#00cc96",
           "#ab63fa",
           "#FFA15A",
           "#19d3f3",
           "#FF6692",
           "#B6E880",
           "#FF97FF",
           "#FECB52"
          ],
          "font": {
           "color": "#2a3f5f"
          },
          "geo": {
           "bgcolor": "white",
           "lakecolor": "white",
           "landcolor": "#E5ECF6",
           "showlakes": true,
           "showland": true,
           "subunitcolor": "white"
          },
          "hoverlabel": {
           "align": "left"
          },
          "hovermode": "closest",
          "mapbox": {
           "style": "light"
          },
          "paper_bgcolor": "white",
          "plot_bgcolor": "#E5ECF6",
          "polar": {
           "angularaxis": {
            "gridcolor": "white",
            "linecolor": "white",
            "ticks": ""
           },
           "bgcolor": "#E5ECF6",
           "radialaxis": {
            "gridcolor": "white",
            "linecolor": "white",
            "ticks": ""
           }
          },
          "scene": {
           "xaxis": {
            "backgroundcolor": "#E5ECF6",
            "gridcolor": "white",
            "gridwidth": 2,
            "linecolor": "white",
            "showbackground": true,
            "ticks": "",
            "zerolinecolor": "white"
           },
           "yaxis": {
            "backgroundcolor": "#E5ECF6",
            "gridcolor": "white",
            "gridwidth": 2,
            "linecolor": "white",
            "showbackground": true,
            "ticks": "",
            "zerolinecolor": "white"
           },
           "zaxis": {
            "backgroundcolor": "#E5ECF6",
            "gridcolor": "white",
            "gridwidth": 2,
            "linecolor": "white",
            "showbackground": true,
            "ticks": "",
            "zerolinecolor": "white"
           }
          },
          "shapedefaults": {
           "line": {
            "color": "#2a3f5f"
           }
          },
          "ternary": {
           "aaxis": {
            "gridcolor": "white",
            "linecolor": "white",
            "ticks": ""
           },
           "baxis": {
            "gridcolor": "white",
            "linecolor": "white",
            "ticks": ""
           },
           "bgcolor": "#E5ECF6",
           "caxis": {
            "gridcolor": "white",
            "linecolor": "white",
            "ticks": ""
           }
          },
          "title": {
           "x": 0.05
          },
          "xaxis": {
           "automargin": true,
           "gridcolor": "white",
           "linecolor": "white",
           "ticks": "",
           "title": {
            "standoff": 15
           },
           "zerolinecolor": "white",
           "zerolinewidth": 2
          },
          "yaxis": {
           "automargin": true,
           "gridcolor": "white",
           "linecolor": "white",
           "ticks": "",
           "title": {
            "standoff": 15
           },
           "zerolinecolor": "white",
           "zerolinewidth": 2
          }
         }
        },
        "title": {
         "text": "Boxplot Distribution of Time Spent Deliberating by Prime Minister (1994 - 2022)"
        },
        "xaxis": {
         "anchor": "y",
         "autorange": true,
         "categoryarray": [
          "Justin Trudeau",
          "Stephen Harper",
          "Paul Martin",
          "Jean Chrétien"
         ],
         "categoryorder": "array",
         "domain": [
          0,
          1
         ],
         "range": [
          -0.5,
          3.5
         ],
         "title": {
          "text": "Prime Minister"
         },
         "type": "category"
        },
        "yaxis": {
         "anchor": "x",
         "autorange": true,
         "domain": [
          0,
          1
         ],
         "range": [
          0,
          1358.9473684210527
         ],
         "rangemode": "nonnegative",
         "title": {
          "text": "Days Deliberated"
         },
         "type": "linear"
        }
       }
      },
      "image/png": "[encoded data removed]",
      "text/html": [
       "<div>                            <div id=\"51408e14-5b07-45e1-bea7-cc05c7f1a52e\" class=\"plotly-graph-div\" style=\"height:800px; width:100%;\"></div>            <script type=\"text/javascript\">                require([\"plotly\"], function(Plotly) {                    window.PLOTLYENV=window.PLOTLYENV || {};                                    if (document.getElementById(\"51408e14-5b07-45e1-bea7-cc05c7f1a52e\")) {                    Plotly.newPlot(                        \"51408e14-5b07-45e1-bea7-cc05c7f1a52e\",                        [{\"alignmentgroup\":\"True\",\"boxpoints\":\"outliers\",\"hovertemplate\":\"Prime Minister=%{x}<br>Days Deliberated=%{y}<extra></extra>\",\"legendgroup\":\"Justin Trudeau\",\"marker\":{\"color\":\"#636efa\"},\"name\":\"Justin Trudeau\",\"notched\":false,\"offsetgroup\":\"Justin Trudeau\",\"orientation\":\"v\",\"showlegend\":true,\"x\":[\"Justin Trudeau\",\"Justin Trudeau\",\"Justin Trudeau\",\"Justin Trudeau\",\"Justin Trudeau\",\"Justin Trudeau\",\"Justin Trudeau\",\"Justin Trudeau\",\"Justin Trudeau\",\"Justin Trudeau\",\"Justin Trudeau\",\"Justin Trudeau\",\"Justin Trudeau\",\"Justin Trudeau\",\"Justin Trudeau\",\"Justin Trudeau\",\"Justin Trudeau\",\"Justin Trudeau\",\"Justin Trudeau\",\"Justin Trudeau\",\"Justin Trudeau\",\"Justin Trudeau\",\"Justin Trudeau\",\"Justin Trudeau\",\"Justin Trudeau\",\"Justin Trudeau\",\"Justin Trudeau\",\"Justin Trudeau\",\"Justin Trudeau\",\"Justin Trudeau\",\"Justin Trudeau\",\"Justin Trudeau\",\"Justin Trudeau\",\"Justin Trudeau\",\"Justin Trudeau\",\"Justin Trudeau\",\"Justin Trudeau\",\"Justin Trudeau\",\"Justin Trudeau\",\"Justin Trudeau\",\"Justin Trudeau\",\"Justin Trudeau\",\"Justin Trudeau\",\"Justin Trudeau\",\"Justin Trudeau\",\"Justin Trudeau\",\"Justin Trudeau\",\"Justin Trudeau\",\"Justin Trudeau\",\"Justin Trudeau\",\"Justin Trudeau\",\"Justin Trudeau\",\"Justin Trudeau\",\"Justin Trudeau\",\"Justin Trudeau\",\"Justin Trudeau\",\"Justin Trudeau\",\"Justin Trudeau\",\"Justin Trudeau\",\"Justin Trudeau\",\"Justin Trudeau\",\"Justin Trudeau\",\"Justin Trudeau\",\"Justin Trudeau\",\"Justin Trudeau\",\"Justin Trudeau\",\"Justin Trudeau\",\"Justin Trudeau\",\"Justin Trudeau\",\"Justin Trudeau\",\"Justin Trudeau\",\"Justin Trudeau\",\"Justin Trudeau\",\"Justin Trudeau\",\"Justin Trudeau\",\"Justin Trudeau\",\"Justin Trudeau\",\"Justin Trudeau\",\"Justin Trudeau\",\"Justin Trudeau\",\"Justin Trudeau\",\"Justin Trudeau\",\"Justin Trudeau\",\"Justin Trudeau\",\"Justin Trudeau\",\"Justin Trudeau\",\"Justin Trudeau\",\"Justin Trudeau\",\"Justin Trudeau\",\"Justin Trudeau\",\"Justin Trudeau\",\"Justin Trudeau\",\"Justin Trudeau\",\"Justin Trudeau\",\"Justin Trudeau\",\"Justin Trudeau\",\"Justin Trudeau\",\"Justin Trudeau\",\"Justin Trudeau\",\"Justin Trudeau\",\"Justin Trudeau\",\"Justin Trudeau\",\"Justin Trudeau\",\"Justin Trudeau\",\"Justin Trudeau\",\"Justin Trudeau\",\"Justin Trudeau\",\"Justin Trudeau\",\"Justin Trudeau\",\"Justin Trudeau\",\"Justin Trudeau\",\"Justin Trudeau\",\"Justin Trudeau\",\"Justin Trudeau\",\"Justin Trudeau\",\"Justin Trudeau\",\"Justin Trudeau\",\"Justin Trudeau\",\"Justin Trudeau\",\"Justin Trudeau\",\"Justin Trudeau\",\"Justin Trudeau\",\"Justin Trudeau\",\"Justin Trudeau\",\"Justin Trudeau\",\"Justin Trudeau\",\"Justin Trudeau\",\"Justin Trudeau\",\"Justin Trudeau\",\"Justin Trudeau\",\"Justin Trudeau\",\"Justin Trudeau\",\"Justin Trudeau\",\"Justin Trudeau\",\"Justin Trudeau\",\"Justin Trudeau\",\"Justin Trudeau\",\"Justin Trudeau\",\"Justin Trudeau\",\"Justin Trudeau\",\"Justin Trudeau\",\"Justin Trudeau\",\"Justin Trudeau\",\"Justin Trudeau\",\"Justin Trudeau\",\"Justin Trudeau\",\"Justin Trudeau\",\"Justin Trudeau\",\"Justin Trudeau\",\"Justin Trudeau\",\"Justin Trudeau\",\"Justin Trudeau\",\"Justin Trudeau\",\"Justin Trudeau\",\"Justin Trudeau\",\"Justin Trudeau\",\"Justin Trudeau\",\"Justin Trudeau\",\"Justin Trudeau\",\"Justin Trudeau\",\"Justin Trudeau\",\"Justin Trudeau\",\"Justin Trudeau\",\"Justin Trudeau\",\"Justin Trudeau\",\"Justin Trudeau\",\"Justin Trudeau\",\"Justin Trudeau\",\"Justin Trudeau\",\"Justin Trudeau\",\"Justin Trudeau\",\"Justin Trudeau\",\"Justin Trudeau\",\"Justin Trudeau\",\"Justin Trudeau\",\"Justin Trudeau\"],\"x0\":\" \",\"xaxis\":\"x\",\"y\":[659,184,413,310,44,547,223,15,513,1291,329,525,926,735,854,386,386,113,532,330,479,193,300,139,36,176,23,1,371,21,223,0,8,3,44,507,345,246,9,479,163,466,176,241,3,17,3,32,0,89,0,89,23,222,0,1,242,91,154,0,63,7,199,2,62,7,3,2,397,3,554,97,9,374,56,9,7,7,7,910,370,542,16,20,631,16,579,4,69,4,6,3,50,28,60,196,58,209,41,4,4,13,7,370,156,8,8,71,433,433,608,769,371,385,554,7,7,710,619,731,730,69,69,405,47,485,351,204,7,499,497,42,457,7,7,85,448,226,406,394,133,7,365,365,247,245,215,44,224,4,7,135,112,111,1,2,73,15,2,145,201,741,874,131,131,436,200,482,311,110,482,560,440,629,516,557],\"y0\":\" \",\"yaxis\":\"y\",\"type\":\"box\"},{\"alignmentgroup\":\"True\",\"boxpoints\":\"outliers\",\"hovertemplate\":\"Prime Minister=%{x}<br>Days Deliberated=%{y}<extra></extra>\",\"legendgroup\":\"Stephen Harper\",\"marker\":{\"color\":\"#EF553B\"},\"name\":\"Stephen Harper\",\"notched\":false,\"offsetgroup\":\"Stephen Harper\",\"orientation\":\"v\",\"showlegend\":true,\"x\":[\"Stephen Harper\",\"Stephen Harper\",\"Stephen Harper\",\"Stephen Harper\",\"Stephen Harper\",\"Stephen Harper\",\"Stephen Harper\",\"Stephen Harper\",\"Stephen Harper\",\"Stephen Harper\",\"Stephen Harper\",\"Stephen Harper\",\"Stephen Harper\",\"Stephen Harper\",\"Stephen Harper\",\"Stephen Harper\",\"Stephen Harper\",\"Stephen Harper\",\"Stephen Harper\",\"Stephen Harper\",\"Stephen Harper\",\"Stephen Harper\",\"Stephen Harper\",\"Stephen Harper\",\"Stephen Harper\",\"Stephen Harper\",\"Stephen Harper\",\"Stephen Harper\",\"Stephen Harper\",\"Stephen Harper\",\"Stephen Harper\",\"Stephen Harper\",\"Stephen Harper\",\"Stephen Harper\",\"Stephen Harper\",\"Stephen Harper\",\"Stephen Harper\",\"Stephen Harper\",\"Stephen Harper\",\"Stephen Harper\",\"Stephen Harper\",\"Stephen Harper\",\"Stephen Harper\",\"Stephen Harper\",\"Stephen Harper\",\"Stephen Harper\",\"Stephen Harper\",\"Stephen Harper\",\"Stephen Harper\",\"Stephen Harper\",\"Stephen Harper\",\"Stephen Harper\",\"Stephen Harper\",\"Stephen Harper\",\"Stephen Harper\",\"Stephen Harper\",\"Stephen Harper\",\"Stephen Harper\",\"Stephen Harper\",\"Stephen Harper\",\"Stephen Harper\",\"Stephen Harper\",\"Stephen Harper\",\"Stephen Harper\",\"Stephen Harper\",\"Stephen Harper\",\"Stephen Harper\",\"Stephen Harper\",\"Stephen Harper\",\"Stephen Harper\",\"Stephen Harper\",\"Stephen Harper\",\"Stephen Harper\",\"Stephen Harper\",\"Stephen Harper\",\"Stephen Harper\",\"Stephen Harper\",\"Stephen Harper\",\"Stephen Harper\",\"Stephen Harper\",\"Stephen Harper\",\"Stephen Harper\",\"Stephen Harper\",\"Stephen Harper\",\"Stephen Harper\",\"Stephen Harper\",\"Stephen Harper\",\"Stephen Harper\",\"Stephen Harper\",\"Stephen Harper\",\"Stephen Harper\",\"Stephen Harper\",\"Stephen Harper\",\"Stephen Harper\",\"Stephen Harper\",\"Stephen Harper\",\"Stephen Harper\",\"Stephen Harper\",\"Stephen Harper\",\"Stephen Harper\",\"Stephen Harper\",\"Stephen Harper\",\"Stephen Harper\",\"Stephen Harper\",\"Stephen Harper\",\"Stephen Harper\",\"Stephen Harper\",\"Stephen Harper\",\"Stephen Harper\",\"Stephen Harper\",\"Stephen Harper\",\"Stephen Harper\",\"Stephen Harper\",\"Stephen Harper\",\"Stephen Harper\",\"Stephen Harper\",\"Stephen Harper\",\"Stephen Harper\",\"Stephen Harper\",\"Stephen Harper\",\"Stephen Harper\",\"Stephen Harper\",\"Stephen Harper\",\"Stephen Harper\",\"Stephen Harper\",\"Stephen Harper\",\"Stephen Harper\",\"Stephen Harper\",\"Stephen Harper\",\"Stephen Harper\",\"Stephen Harper\",\"Stephen Harper\",\"Stephen Harper\",\"Stephen Harper\",\"Stephen Harper\",\"Stephen Harper\",\"Stephen Harper\",\"Stephen Harper\",\"Stephen Harper\",\"Stephen Harper\",\"Stephen Harper\",\"Stephen Harper\",\"Stephen Harper\",\"Stephen Harper\",\"Stephen Harper\",\"Stephen Harper\",\"Stephen Harper\",\"Stephen Harper\",\"Stephen Harper\",\"Stephen Harper\",\"Stephen Harper\",\"Stephen Harper\",\"Stephen Harper\",\"Stephen Harper\",\"Stephen Harper\",\"Stephen Harper\",\"Stephen Harper\",\"Stephen Harper\",\"Stephen Harper\",\"Stephen Harper\",\"Stephen Harper\",\"Stephen Harper\",\"Stephen Harper\",\"Stephen Harper\",\"Stephen Harper\",\"Stephen Harper\",\"Stephen Harper\",\"Stephen Harper\",\"Stephen Harper\",\"Stephen Harper\",\"Stephen Harper\",\"Stephen Harper\",\"Stephen Harper\",\"Stephen Harper\",\"Stephen Harper\",\"Stephen Harper\",\"Stephen Harper\",\"Stephen Harper\",\"Stephen Harper\",\"Stephen Harper\",\"Stephen Harper\",\"Stephen Harper\",\"Stephen Harper\",\"Stephen Harper\",\"Stephen Harper\",\"Stephen Harper\",\"Stephen Harper\",\"Stephen Harper\",\"Stephen Harper\",\"Stephen Harper\",\"Stephen Harper\",\"Stephen Harper\",\"Stephen Harper\",\"Stephen Harper\",\"Stephen Harper\",\"Stephen Harper\",\"Stephen Harper\",\"Stephen Harper\",\"Stephen Harper\",\"Stephen Harper\",\"Stephen Harper\",\"Stephen Harper\",\"Stephen Harper\",\"Stephen Harper\",\"Stephen Harper\",\"Stephen Harper\",\"Stephen Harper\",\"Stephen Harper\",\"Stephen Harper\",\"Stephen Harper\",\"Stephen Harper\",\"Stephen Harper\",\"Stephen Harper\",\"Stephen Harper\",\"Stephen Harper\",\"Stephen Harper\",\"Stephen Harper\",\"Stephen Harper\",\"Stephen Harper\",\"Stephen Harper\",\"Stephen Harper\",\"Stephen Harper\",\"Stephen Harper\",\"Stephen Harper\",\"Stephen Harper\",\"Stephen Harper\",\"Stephen Harper\",\"Stephen Harper\",\"Stephen Harper\",\"Stephen Harper\",\"Stephen Harper\",\"Stephen Harper\",\"Stephen Harper\",\"Stephen Harper\",\"Stephen Harper\",\"Stephen Harper\",\"Stephen Harper\",\"Stephen Harper\",\"Stephen Harper\",\"Stephen Harper\",\"Stephen Harper\",\"Stephen Harper\",\"Stephen Harper\",\"Stephen Harper\",\"Stephen Harper\",\"Stephen Harper\",\"Stephen Harper\",\"Stephen Harper\",\"Stephen Harper\",\"Stephen Harper\",\"Stephen Harper\",\"Stephen Harper\",\"Stephen Harper\",\"Stephen Harper\",\"Stephen Harper\",\"Stephen Harper\",\"Stephen Harper\",\"Stephen Harper\",\"Stephen Harper\",\"Stephen Harper\",\"Stephen Harper\",\"Stephen Harper\",\"Stephen Harper\",\"Stephen Harper\",\"Stephen Harper\",\"Stephen Harper\",\"Stephen Harper\",\"Stephen Harper\",\"Stephen Harper\",\"Stephen Harper\",\"Stephen Harper\",\"Stephen Harper\",\"Stephen Harper\",\"Stephen Harper\",\"Stephen Harper\",\"Stephen Harper\",\"Stephen Harper\",\"Stephen Harper\",\"Stephen Harper\",\"Stephen Harper\",\"Stephen Harper\",\"Stephen Harper\",\"Stephen Harper\",\"Stephen Harper\",\"Stephen Harper\",\"Stephen Harper\",\"Stephen Harper\",\"Stephen Harper\",\"Stephen Harper\",\"Stephen Harper\",\"Stephen Harper\",\"Stephen Harper\",\"Stephen Harper\",\"Stephen Harper\",\"Stephen Harper\",\"Stephen Harper\",\"Stephen Harper\",\"Stephen Harper\",\"Stephen Harper\",\"Stephen Harper\",\"Stephen Harper\",\"Stephen Harper\",\"Stephen Harper\",\"Stephen Harper\",\"Stephen Harper\",\"Stephen Harper\",\"Stephen Harper\",\"Stephen Harper\",\"Stephen Harper\",\"Stephen Harper\",\"Stephen Harper\",\"Stephen Harper\",\"Stephen Harper\",\"Stephen Harper\",\"Stephen Harper\",\"Stephen Harper\",\"Stephen Harper\",\"Stephen Harper\",\"Stephen Harper\",\"Stephen Harper\",\"Stephen Harper\",\"Stephen Harper\",\"Stephen Harper\",\"Stephen Harper\",\"Stephen Harper\",\"Stephen Harper\",\"Stephen Harper\"],\"x0\":\" \",\"xaxis\":\"x\",\"y\":[605,630,273,134,58,339,603,61,267,106,339,437,224,206,216,127,343,71,380,337,59,225,435,476,449,199,168,134,127,105,534,184,394,246,461,281,390,365,225,266,213,363,378,92,293,174,18,240,15,45,608,12,110,91,133,244,416,11,278,134,115,283,50,146,17,237,106,232,376,5,8,47,8,145,406,4,122,8,163,4,105,100,136,392,365,174,34,273,91,134,108,414,586,15,46,410,383,71,78,212,42,136,341,117,403,111,620,46,35,88,52,106,338,334,49,197,442,57,101,42,379,2,162,182,141,49,448,323,3,218,391,24,320,3,134,226,215,13,132,394,48,84,85,113,223,209,70,476,218,209,391,489,2,482,203,45,23,126,2,9,45,63,295,204,82,132,196,203,241,384,494,135,2,17,206,51,14,22,203,20,406,14,287,8,154,273,188,157,12,420,129,122,8,63,9,1,14,8,2,9,14,313,21,154,73,199,63,21,3,3,253,363,278,31,192,53,363,177,84,12,3,12,56,12,191,12,54,79,224,75,112,216,168,4,2,70,4,2,7,4,50,96,7,138,196,76,118,196,85,54,6,6,43,127,42,6,6,13,46,6,42,13,21,57,12,15,20,19,14,18,11,14,13,17,13,6,9,9,7,245,196,392,425,117,406,280,210,274,401,246,545,226,401,140,635,441,634,624,268,268,437,631,623,482,621,553,245,420,390,230,386,245,568,226,205,286,226,344,498,311,245,343,320,567,441,434,272],\"y0\":\" \",\"yaxis\":\"y\",\"type\":\"box\"},{\"alignmentgroup\":\"True\",\"boxpoints\":\"outliers\",\"hovertemplate\":\"Prime Minister=%{x}<br>Days Deliberated=%{y}<extra></extra>\",\"legendgroup\":\"Paul Martin\",\"marker\":{\"color\":\"#00cc96\"},\"name\":\"Paul Martin\",\"notched\":false,\"offsetgroup\":\"Paul Martin\",\"orientation\":\"v\",\"showlegend\":true,\"x\":[\"Paul Martin\",\"Paul Martin\",\"Paul Martin\",\"Paul Martin\",\"Paul Martin\",\"Paul Martin\",\"Paul Martin\",\"Paul Martin\",\"Paul Martin\",\"Paul Martin\",\"Paul Martin\",\"Paul Martin\",\"Paul Martin\",\"Paul Martin\",\"Paul Martin\",\"Paul Martin\",\"Paul Martin\",\"Paul Martin\",\"Paul Martin\",\"Paul Martin\",\"Paul Martin\",\"Paul Martin\",\"Paul Martin\",\"Paul Martin\",\"Paul Martin\",\"Paul Martin\",\"Paul Martin\",\"Paul Martin\",\"Paul Martin\",\"Paul Martin\",\"Paul Martin\",\"Paul Martin\",\"Paul Martin\",\"Paul Martin\",\"Paul Martin\",\"Paul Martin\",\"Paul Martin\",\"Paul Martin\",\"Paul Martin\",\"Paul Martin\",\"Paul Martin\",\"Paul Martin\",\"Paul Martin\",\"Paul Martin\",\"Paul Martin\",\"Paul Martin\",\"Paul Martin\",\"Paul Martin\",\"Paul Martin\",\"Paul Martin\",\"Paul Martin\",\"Paul Martin\",\"Paul Martin\",\"Paul Martin\",\"Paul Martin\",\"Paul Martin\",\"Paul Martin\",\"Paul Martin\",\"Paul Martin\",\"Paul Martin\"],\"x0\":\" \",\"xaxis\":\"x\",\"y\":[212,415,58,147,240,99,176,191,190,157,285,258,139,68,166,139,195,258,223,413,217,216,118,205,142,141,246,246,107,367,345,360,153,139,156,6,6,76,347,169,44,69,2,2,96,23,75,197,179,177,175,17,172,9,50,23,387,87,85,409],\"y0\":\" \",\"yaxis\":\"y\",\"type\":\"box\"},{\"alignmentgroup\":\"True\",\"boxpoints\":\"outliers\",\"hovertemplate\":\"Prime Minister=%{x}<br>Days Deliberated=%{y}<extra></extra>\",\"legendgroup\":\"Jean Chr\\u00e9tien\",\"marker\":{\"color\":\"#ab63fa\"},\"name\":\"Jean Chr\\u00e9tien\",\"notched\":false,\"offsetgroup\":\"Jean Chr\\u00e9tien\",\"orientation\":\"v\",\"showlegend\":true,\"x\":[\"Jean Chr\\u00e9tien\",\"Jean Chr\\u00e9tien\",\"Jean Chr\\u00e9tien\",\"Jean Chr\\u00e9tien\",\"Jean Chr\\u00e9tien\",\"Jean Chr\\u00e9tien\",\"Jean Chr\\u00e9tien\",\"Jean Chr\\u00e9tien\",\"Jean Chr\\u00e9tien\",\"Jean Chr\\u00e9tien\",\"Jean Chr\\u00e9tien\",\"Jean Chr\\u00e9tien\",\"Jean Chr\\u00e9tien\",\"Jean Chr\\u00e9tien\",\"Jean Chr\\u00e9tien\",\"Jean Chr\\u00e9tien\",\"Jean Chr\\u00e9tien\",\"Jean Chr\\u00e9tien\",\"Jean Chr\\u00e9tien\",\"Jean Chr\\u00e9tien\",\"Jean Chr\\u00e9tien\",\"Jean Chr\\u00e9tien\",\"Jean Chr\\u00e9tien\",\"Jean Chr\\u00e9tien\",\"Jean Chr\\u00e9tien\",\"Jean Chr\\u00e9tien\",\"Jean Chr\\u00e9tien\",\"Jean Chr\\u00e9tien\",\"Jean Chr\\u00e9tien\",\"Jean Chr\\u00e9tien\",\"Jean Chr\\u00e9tien\",\"Jean Chr\\u00e9tien\",\"Jean Chr\\u00e9tien\",\"Jean Chr\\u00e9tien\",\"Jean Chr\\u00e9tien\",\"Jean Chr\\u00e9tien\",\"Jean Chr\\u00e9tien\",\"Jean Chr\\u00e9tien\",\"Jean Chr\\u00e9tien\",\"Jean Chr\\u00e9tien\",\"Jean Chr\\u00e9tien\",\"Jean Chr\\u00e9tien\",\"Jean Chr\\u00e9tien\",\"Jean Chr\\u00e9tien\",\"Jean Chr\\u00e9tien\",\"Jean Chr\\u00e9tien\",\"Jean Chr\\u00e9tien\",\"Jean Chr\\u00e9tien\",\"Jean Chr\\u00e9tien\",\"Jean Chr\\u00e9tien\",\"Jean Chr\\u00e9tien\",\"Jean Chr\\u00e9tien\",\"Jean Chr\\u00e9tien\",\"Jean Chr\\u00e9tien\",\"Jean Chr\\u00e9tien\",\"Jean Chr\\u00e9tien\",\"Jean Chr\\u00e9tien\",\"Jean Chr\\u00e9tien\",\"Jean Chr\\u00e9tien\",\"Jean Chr\\u00e9tien\",\"Jean Chr\\u00e9tien\",\"Jean Chr\\u00e9tien\",\"Jean Chr\\u00e9tien\",\"Jean Chr\\u00e9tien\",\"Jean Chr\\u00e9tien\",\"Jean Chr\\u00e9tien\",\"Jean Chr\\u00e9tien\",\"Jean Chr\\u00e9tien\",\"Jean Chr\\u00e9tien\",\"Jean Chr\\u00e9tien\",\"Jean Chr\\u00e9tien\",\"Jean Chr\\u00e9tien\",\"Jean Chr\\u00e9tien\",\"Jean Chr\\u00e9tien\",\"Jean Chr\\u00e9tien\",\"Jean Chr\\u00e9tien\",\"Jean Chr\\u00e9tien\",\"Jean Chr\\u00e9tien\",\"Jean Chr\\u00e9tien\",\"Jean Chr\\u00e9tien\",\"Jean Chr\\u00e9tien\",\"Jean Chr\\u00e9tien\",\"Jean Chr\\u00e9tien\",\"Jean Chr\\u00e9tien\",\"Jean Chr\\u00e9tien\",\"Jean Chr\\u00e9tien\",\"Jean Chr\\u00e9tien\",\"Jean Chr\\u00e9tien\",\"Jean Chr\\u00e9tien\",\"Jean Chr\\u00e9tien\",\"Jean Chr\\u00e9tien\",\"Jean Chr\\u00e9tien\",\"Jean Chr\\u00e9tien\",\"Jean Chr\\u00e9tien\",\"Jean Chr\\u00e9tien\",\"Jean Chr\\u00e9tien\",\"Jean Chr\\u00e9tien\",\"Jean Chr\\u00e9tien\",\"Jean Chr\\u00e9tien\",\"Jean Chr\\u00e9tien\",\"Jean Chr\\u00e9tien\",\"Jean Chr\\u00e9tien\",\"Jean Chr\\u00e9tien\",\"Jean Chr\\u00e9tien\",\"Jean Chr\\u00e9tien\",\"Jean Chr\\u00e9tien\",\"Jean Chr\\u00e9tien\",\"Jean Chr\\u00e9tien\",\"Jean Chr\\u00e9tien\",\"Jean Chr\\u00e9tien\",\"Jean Chr\\u00e9tien\",\"Jean Chr\\u00e9tien\",\"Jean Chr\\u00e9tien\",\"Jean Chr\\u00e9tien\",\"Jean Chr\\u00e9tien\",\"Jean Chr\\u00e9tien\",\"Jean Chr\\u00e9tien\",\"Jean Chr\\u00e9tien\",\"Jean Chr\\u00e9tien\",\"Jean Chr\\u00e9tien\",\"Jean Chr\\u00e9tien\",\"Jean Chr\\u00e9tien\",\"Jean Chr\\u00e9tien\",\"Jean Chr\\u00e9tien\",\"Jean Chr\\u00e9tien\",\"Jean Chr\\u00e9tien\",\"Jean Chr\\u00e9tien\",\"Jean Chr\\u00e9tien\",\"Jean Chr\\u00e9tien\",\"Jean Chr\\u00e9tien\",\"Jean Chr\\u00e9tien\",\"Jean Chr\\u00e9tien\",\"Jean Chr\\u00e9tien\",\"Jean Chr\\u00e9tien\",\"Jean Chr\\u00e9tien\",\"Jean Chr\\u00e9tien\",\"Jean Chr\\u00e9tien\",\"Jean Chr\\u00e9tien\",\"Jean Chr\\u00e9tien\",\"Jean Chr\\u00e9tien\",\"Jean Chr\\u00e9tien\",\"Jean Chr\\u00e9tien\",\"Jean Chr\\u00e9tien\",\"Jean Chr\\u00e9tien\",\"Jean Chr\\u00e9tien\",\"Jean Chr\\u00e9tien\",\"Jean Chr\\u00e9tien\",\"Jean Chr\\u00e9tien\",\"Jean Chr\\u00e9tien\",\"Jean Chr\\u00e9tien\",\"Jean Chr\\u00e9tien\",\"Jean Chr\\u00e9tien\",\"Jean Chr\\u00e9tien\",\"Jean Chr\\u00e9tien\",\"Jean Chr\\u00e9tien\",\"Jean Chr\\u00e9tien\",\"Jean Chr\\u00e9tien\",\"Jean Chr\\u00e9tien\",\"Jean Chr\\u00e9tien\",\"Jean Chr\\u00e9tien\",\"Jean Chr\\u00e9tien\",\"Jean Chr\\u00e9tien\",\"Jean Chr\\u00e9tien\",\"Jean Chr\\u00e9tien\",\"Jean Chr\\u00e9tien\",\"Jean Chr\\u00e9tien\",\"Jean Chr\\u00e9tien\",\"Jean Chr\\u00e9tien\",\"Jean Chr\\u00e9tien\",\"Jean Chr\\u00e9tien\",\"Jean Chr\\u00e9tien\",\"Jean Chr\\u00e9tien\",\"Jean Chr\\u00e9tien\",\"Jean Chr\\u00e9tien\",\"Jean Chr\\u00e9tien\",\"Jean Chr\\u00e9tien\",\"Jean Chr\\u00e9tien\",\"Jean Chr\\u00e9tien\",\"Jean Chr\\u00e9tien\",\"Jean Chr\\u00e9tien\",\"Jean Chr\\u00e9tien\",\"Jean Chr\\u00e9tien\",\"Jean Chr\\u00e9tien\",\"Jean Chr\\u00e9tien\",\"Jean Chr\\u00e9tien\",\"Jean Chr\\u00e9tien\",\"Jean Chr\\u00e9tien\",\"Jean Chr\\u00e9tien\",\"Jean Chr\\u00e9tien\",\"Jean Chr\\u00e9tien\",\"Jean Chr\\u00e9tien\",\"Jean Chr\\u00e9tien\",\"Jean Chr\\u00e9tien\",\"Jean Chr\\u00e9tien\",\"Jean Chr\\u00e9tien\",\"Jean Chr\\u00e9tien\",\"Jean Chr\\u00e9tien\",\"Jean Chr\\u00e9tien\",\"Jean Chr\\u00e9tien\",\"Jean Chr\\u00e9tien\",\"Jean Chr\\u00e9tien\",\"Jean Chr\\u00e9tien\",\"Jean Chr\\u00e9tien\",\"Jean Chr\\u00e9tien\",\"Jean Chr\\u00e9tien\",\"Jean Chr\\u00e9tien\",\"Jean Chr\\u00e9tien\",\"Jean Chr\\u00e9tien\",\"Jean Chr\\u00e9tien\",\"Jean Chr\\u00e9tien\",\"Jean Chr\\u00e9tien\",\"Jean Chr\\u00e9tien\",\"Jean Chr\\u00e9tien\",\"Jean Chr\\u00e9tien\",\"Jean Chr\\u00e9tien\",\"Jean Chr\\u00e9tien\",\"Jean Chr\\u00e9tien\",\"Jean Chr\\u00e9tien\",\"Jean Chr\\u00e9tien\",\"Jean Chr\\u00e9tien\",\"Jean Chr\\u00e9tien\",\"Jean Chr\\u00e9tien\",\"Jean Chr\\u00e9tien\",\"Jean Chr\\u00e9tien\",\"Jean Chr\\u00e9tien\",\"Jean Chr\\u00e9tien\",\"Jean Chr\\u00e9tien\",\"Jean Chr\\u00e9tien\",\"Jean Chr\\u00e9tien\",\"Jean Chr\\u00e9tien\",\"Jean Chr\\u00e9tien\",\"Jean Chr\\u00e9tien\",\"Jean Chr\\u00e9tien\",\"Jean Chr\\u00e9tien\",\"Jean Chr\\u00e9tien\",\"Jean Chr\\u00e9tien\",\"Jean Chr\\u00e9tien\",\"Jean Chr\\u00e9tien\",\"Jean Chr\\u00e9tien\",\"Jean Chr\\u00e9tien\",\"Jean Chr\\u00e9tien\",\"Jean Chr\\u00e9tien\",\"Jean Chr\\u00e9tien\",\"Jean Chr\\u00e9tien\",\"Jean Chr\\u00e9tien\",\"Jean Chr\\u00e9tien\",\"Jean Chr\\u00e9tien\",\"Jean Chr\\u00e9tien\",\"Jean Chr\\u00e9tien\",\"Jean Chr\\u00e9tien\",\"Jean Chr\\u00e9tien\",\"Jean Chr\\u00e9tien\",\"Jean Chr\\u00e9tien\",\"Jean Chr\\u00e9tien\",\"Jean Chr\\u00e9tien\",\"Jean Chr\\u00e9tien\",\"Jean Chr\\u00e9tien\",\"Jean Chr\\u00e9tien\",\"Jean Chr\\u00e9tien\",\"Jean Chr\\u00e9tien\",\"Jean Chr\\u00e9tien\",\"Jean Chr\\u00e9tien\",\"Jean Chr\\u00e9tien\",\"Jean Chr\\u00e9tien\",\"Jean Chr\\u00e9tien\",\"Jean Chr\\u00e9tien\",\"Jean Chr\\u00e9tien\",\"Jean Chr\\u00e9tien\",\"Jean Chr\\u00e9tien\",\"Jean Chr\\u00e9tien\",\"Jean Chr\\u00e9tien\",\"Jean Chr\\u00e9tien\",\"Jean Chr\\u00e9tien\",\"Jean Chr\\u00e9tien\",\"Jean Chr\\u00e9tien\",\"Jean Chr\\u00e9tien\",\"Jean Chr\\u00e9tien\",\"Jean Chr\\u00e9tien\",\"Jean Chr\\u00e9tien\",\"Jean Chr\\u00e9tien\",\"Jean Chr\\u00e9tien\",\"Jean Chr\\u00e9tien\",\"Jean Chr\\u00e9tien\",\"Jean Chr\\u00e9tien\",\"Jean Chr\\u00e9tien\",\"Jean Chr\\u00e9tien\",\"Jean Chr\\u00e9tien\",\"Jean Chr\\u00e9tien\",\"Jean Chr\\u00e9tien\",\"Jean Chr\\u00e9tien\",\"Jean Chr\\u00e9tien\",\"Jean Chr\\u00e9tien\",\"Jean Chr\\u00e9tien\",\"Jean Chr\\u00e9tien\",\"Jean Chr\\u00e9tien\",\"Jean Chr\\u00e9tien\",\"Jean Chr\\u00e9tien\",\"Jean Chr\\u00e9tien\",\"Jean Chr\\u00e9tien\",\"Jean Chr\\u00e9tien\",\"Jean Chr\\u00e9tien\",\"Jean Chr\\u00e9tien\",\"Jean Chr\\u00e9tien\",\"Jean Chr\\u00e9tien\",\"Jean Chr\\u00e9tien\",\"Jean Chr\\u00e9tien\",\"Jean Chr\\u00e9tien\",\"Jean Chr\\u00e9tien\",\"Jean Chr\\u00e9tien\",\"Jean Chr\\u00e9tien\",\"Jean Chr\\u00e9tien\",\"Jean Chr\\u00e9tien\",\"Jean Chr\\u00e9tien\",\"Jean Chr\\u00e9tien\",\"Jean Chr\\u00e9tien\",\"Jean Chr\\u00e9tien\",\"Jean Chr\\u00e9tien\",\"Jean Chr\\u00e9tien\",\"Jean Chr\\u00e9tien\",\"Jean Chr\\u00e9tien\",\"Jean Chr\\u00e9tien\",\"Jean Chr\\u00e9tien\",\"Jean Chr\\u00e9tien\",\"Jean Chr\\u00e9tien\",\"Jean Chr\\u00e9tien\",\"Jean Chr\\u00e9tien\",\"Jean Chr\\u00e9tien\",\"Jean Chr\\u00e9tien\",\"Jean Chr\\u00e9tien\",\"Jean Chr\\u00e9tien\",\"Jean Chr\\u00e9tien\",\"Jean Chr\\u00e9tien\",\"Jean Chr\\u00e9tien\",\"Jean Chr\\u00e9tien\",\"Jean Chr\\u00e9tien\",\"Jean Chr\\u00e9tien\",\"Jean Chr\\u00e9tien\",\"Jean Chr\\u00e9tien\",\"Jean Chr\\u00e9tien\",\"Jean Chr\\u00e9tien\",\"Jean Chr\\u00e9tien\",\"Jean Chr\\u00e9tien\",\"Jean Chr\\u00e9tien\",\"Jean Chr\\u00e9tien\",\"Jean Chr\\u00e9tien\",\"Jean Chr\\u00e9tien\",\"Jean Chr\\u00e9tien\",\"Jean Chr\\u00e9tien\",\"Jean Chr\\u00e9tien\",\"Jean Chr\\u00e9tien\",\"Jean Chr\\u00e9tien\",\"Jean Chr\\u00e9tien\",\"Jean Chr\\u00e9tien\",\"Jean Chr\\u00e9tien\",\"Jean Chr\\u00e9tien\",\"Jean Chr\\u00e9tien\",\"Jean Chr\\u00e9tien\",\"Jean Chr\\u00e9tien\",\"Jean Chr\\u00e9tien\",\"Jean Chr\\u00e9tien\",\"Jean Chr\\u00e9tien\",\"Jean Chr\\u00e9tien\",\"Jean Chr\\u00e9tien\",\"Jean Chr\\u00e9tien\",\"Jean Chr\\u00e9tien\",\"Jean Chr\\u00e9tien\",\"Jean Chr\\u00e9tien\",\"Jean Chr\\u00e9tien\",\"Jean Chr\\u00e9tien\",\"Jean Chr\\u00e9tien\",\"Jean Chr\\u00e9tien\",\"Jean Chr\\u00e9tien\",\"Jean Chr\\u00e9tien\",\"Jean Chr\\u00e9tien\",\"Jean Chr\\u00e9tien\",\"Jean Chr\\u00e9tien\",\"Jean Chr\\u00e9tien\",\"Jean Chr\\u00e9tien\",\"Jean Chr\\u00e9tien\",\"Jean Chr\\u00e9tien\",\"Jean Chr\\u00e9tien\",\"Jean Chr\\u00e9tien\",\"Jean Chr\\u00e9tien\",\"Jean Chr\\u00e9tien\",\"Jean Chr\\u00e9tien\",\"Jean Chr\\u00e9tien\",\"Jean Chr\\u00e9tien\",\"Jean Chr\\u00e9tien\",\"Jean Chr\\u00e9tien\",\"Jean Chr\\u00e9tien\",\"Jean Chr\\u00e9tien\",\"Jean Chr\\u00e9tien\",\"Jean Chr\\u00e9tien\",\"Jean Chr\\u00e9tien\",\"Jean Chr\\u00e9tien\",\"Jean Chr\\u00e9tien\",\"Jean Chr\\u00e9tien\",\"Jean Chr\\u00e9tien\",\"Jean Chr\\u00e9tien\",\"Jean Chr\\u00e9tien\",\"Jean Chr\\u00e9tien\",\"Jean Chr\\u00e9tien\",\"Jean Chr\\u00e9tien\",\"Jean Chr\\u00e9tien\",\"Jean Chr\\u00e9tien\",\"Jean Chr\\u00e9tien\",\"Jean Chr\\u00e9tien\",\"Jean Chr\\u00e9tien\",\"Jean Chr\\u00e9tien\",\"Jean Chr\\u00e9tien\",\"Jean Chr\\u00e9tien\",\"Jean Chr\\u00e9tien\",\"Jean Chr\\u00e9tien\",\"Jean Chr\\u00e9tien\",\"Jean Chr\\u00e9tien\",\"Jean Chr\\u00e9tien\",\"Jean Chr\\u00e9tien\",\"Jean Chr\\u00e9tien\",\"Jean Chr\\u00e9tien\",\"Jean Chr\\u00e9tien\",\"Jean Chr\\u00e9tien\"],\"x0\":\" \",\"xaxis\":\"x\",\"y\":[71,99,261,127,134,240,254,134,99,216,261,99,215,84,173,196,14,190,230,322,238,128,23,408,119,23,71,114,212,114,100,365,183,158,9,406,198,217,189,79,77,128,56,127,28,28,91,85,246,92,366,222,96,230,84,28,108,94,182,131,441,89,58,50,133,131,62,259,232,106,30,64,371,187,417,52,48,394,316,181,265,269,99,86,379,164,75,106,72,64,126,222,106,97,92,245,118,175,252,84,97,478,217,62,22,0,215,84,64,252,246,46,83,287,161,112,245,231,105,128,47,110,161,29,104,80,71,63,244,350,82,29,92,231,224,82,78,229,50,49,82,105,85,90,194,413,91,46,90,211,194,82,89,202,224,101,2,82,9,199,476,98,2,65,8,9,3,131,8,48,84,197,7,8,426,139,13,364,59,63,141,257,247,2,59,274,69,134,371,212,10,50,133,196,245,42,10,414,233,560,372,41,49,86,9,190,45,3,1,8,301,368,2,44,3,190,8,132,43,70,89,105,58,28,89,83,551,365,27,222,14,52,37,83,30,14,357,37,211,371,223,21,64,91,34,196,176,155,101,244,343,385,54,255,343,191,17,147,72,343,15,47,408,343,13,134,127,308,265,395,136,14,190,182,183,203,329,364,8,20,363,148,14,16,9,190,542,13,9,317,178,7,188,7,188,147,6,87,50,371,66,50,128,66,8,272,84,8,71,78,246,265,73,279,11,252,220,69,34,52,140,153,51,140,7,101,122,9,182,111,113,76,365,58,7,189,368,51,211,126,126,189,7,294,108,126,93,144,257,93,139,9,31,9,1,90,3,94,135,5,152,63,7,7,72,76,10,70,98,234,10,64,76,9,76,8,73,8,69,180,59,16,56,16,200,8,8,182,166,176,21,34,58,46,65,4,168,356,260,142,545,58,93,403,175,214,87,58,306,33,319,41,21,92,14,122,141,18,97,97,83],\"y0\":\" \",\"yaxis\":\"y\",\"type\":\"box\"}],                        {\"template\":{\"data\":{\"histogram2dcontour\":[{\"type\":\"histogram2dcontour\",\"colorbar\":{\"outlinewidth\":0,\"ticks\":\"\"},\"colorscale\":[[0.0,\"#0d0887\"],[0.1111111111111111,\"#46039f\"],[0.2222222222222222,\"#7201a8\"],[0.3333333333333333,\"#9c179e\"],[0.4444444444444444,\"#bd3786\"],[0.5555555555555556,\"#d8576b\"],[0.6666666666666666,\"#ed7953\"],[0.7777777777777778,\"#fb9f3a\"],[0.8888888888888888,\"#fdca26\"],[1.0,\"#f0f921\"]]}],\"choropleth\":[{\"type\":\"choropleth\",\"colorbar\":{\"outlinewidth\":0,\"ticks\":\"\"}}],\"histogram2d\":[{\"type\":\"histogram2d\",\"colorbar\":{\"outlinewidth\":0,\"ticks\":\"\"},\"colorscale\":[[0.0,\"#0d0887\"],[0.1111111111111111,\"#46039f\"],[0.2222222222222222,\"#7201a8\"],[0.3333333333333333,\"#9c179e\"],[0.4444444444444444,\"#bd3786\"],[0.5555555555555556,\"#d8576b\"],[0.6666666666666666,\"#ed7953\"],[0.7777777777777778,\"#fb9f3a\"],[0.8888888888888888,\"#fdca26\"],[1.0,\"#f0f921\"]]}],\"heatmap\":[{\"type\":\"heatmap\",\"colorbar\":{\"outlinewidth\":0,\"ticks\":\"\"},\"colorscale\":[[0.0,\"#0d0887\"],[0.1111111111111111,\"#46039f\"],[0.2222222222222222,\"#7201a8\"],[0.3333333333333333,\"#9c179e\"],[0.4444444444444444,\"#bd3786\"],[0.5555555555555556,\"#d8576b\"],[0.6666666666666666,\"#ed7953\"],[0.7777777777777778,\"#fb9f3a\"],[0.8888888888888888,\"#fdca26\"],[1.0,\"#f0f921\"]]}],\"heatmapgl\":[{\"type\":\"heatmapgl\",\"colorbar\":{\"outlinewidth\":0,\"ticks\":\"\"},\"colorscale\":[[0.0,\"#0d0887\"],[0.1111111111111111,\"#46039f\"],[0.2222222222222222,\"#7201a8\"],[0.3333333333333333,\"#9c179e\"],[0.4444444444444444,\"#bd3786\"],[0.5555555555555556,\"#d8576b\"],[0.6666666666666666,\"#ed7953\"],[0.7777777777777778,\"#fb9f3a\"],[0.8888888888888888,\"#fdca26\"],[1.0,\"#f0f921\"]]}],\"contourcarpet\":[{\"type\":\"contourcarpet\",\"colorbar\":{\"outlinewidth\":0,\"ticks\":\"\"}}],\"contour\":[{\"type\":\"contour\",\"colorbar\":{\"outlinewidth\":0,\"ticks\":\"\"},\"colorscale\":[[0.0,\"#0d0887\"],[0.1111111111111111,\"#46039f\"],[0.2222222222222222,\"#7201a8\"],[0.3333333333333333,\"#9c179e\"],[0.4444444444444444,\"#bd3786\"],[0.5555555555555556,\"#d8576b\"],[0.6666666666666666,\"#ed7953\"],[0.7777777777777778,\"#fb9f3a\"],[0.8888888888888888,\"#fdca26\"],[1.0,\"#f0f921\"]]}],\"surface\":[{\"type\":\"surface\",\"colorbar\":{\"outlinewidth\":0,\"ticks\":\"\"},\"colorscale\":[[0.0,\"#0d0887\"],[0.1111111111111111,\"#46039f\"],[0.2222222222222222,\"#7201a8\"],[0.3333333333333333,\"#9c179e\"],[0.4444444444444444,\"#bd3786\"],[0.5555555555555556,\"#d8576b\"],[0.6666666666666666,\"#ed7953\"],[0.7777777777777778,\"#fb9f3a\"],[0.8888888888888888,\"#fdca26\"],[1.0,\"#f0f921\"]]}],\"mesh3d\":[{\"type\":\"mesh3d\",\"colorbar\":{\"outlinewidth\":0,\"ticks\":\"\"}}],\"scatter\":[{\"fillpattern\":{\"fillmode\":\"overlay\",\"size\":10,\"solidity\":0.2},\"type\":\"scatter\"}],\"parcoords\":[{\"type\":\"parcoords\",\"line\":{\"colorbar\":{\"outlinewidth\":0,\"ticks\":\"\"}}}],\"scatterpolargl\":[{\"type\":\"scatterpolargl\",\"marker\":{\"colorbar\":{\"outlinewidth\":0,\"ticks\":\"\"}}}],\"bar\":[{\"error_x\":{\"color\":\"#2a3f5f\"},\"error_y\":{\"color\":\"#2a3f5f\"},\"marker\":{\"line\":{\"color\":\"#E5ECF6\",\"width\":0.5},\"pattern\":{\"fillmode\":\"overlay\",\"size\":10,\"solidity\":0.2}},\"type\":\"bar\"}],\"scattergeo\":[{\"type\":\"scattergeo\",\"marker\":{\"colorbar\":{\"outlinewidth\":0,\"ticks\":\"\"}}}],\"scatterpolar\":[{\"type\":\"scatterpolar\",\"marker\":{\"colorbar\":{\"outlinewidth\":0,\"ticks\":\"\"}}}],\"histogram\":[{\"marker\":{\"pattern\":{\"fillmode\":\"overlay\",\"size\":10,\"solidity\":0.2}},\"type\":\"histogram\"}],\"scattergl\":[{\"type\":\"scattergl\",\"marker\":{\"colorbar\":{\"outlinewidth\":0,\"ticks\":\"\"}}}],\"scatter3d\":[{\"type\":\"scatter3d\",\"line\":{\"colorbar\":{\"outlinewidth\":0,\"ticks\":\"\"}},\"marker\":{\"colorbar\":{\"outlinewidth\":0,\"ticks\":\"\"}}}],\"scattermapbox\":[{\"type\":\"scattermapbox\",\"marker\":{\"colorbar\":{\"outlinewidth\":0,\"ticks\":\"\"}}}],\"scatterternary\":[{\"type\":\"scatterternary\",\"marker\":{\"colorbar\":{\"outlinewidth\":0,\"ticks\":\"\"}}}],\"scattercarpet\":[{\"type\":\"scattercarpet\",\"marker\":{\"colorbar\":{\"outlinewidth\":0,\"ticks\":\"\"}}}],\"carpet\":[{\"aaxis\":{\"endlinecolor\":\"#2a3f5f\",\"gridcolor\":\"white\",\"linecolor\":\"white\",\"minorgridcolor\":\"white\",\"startlinecolor\":\"#2a3f5f\"},\"baxis\":{\"endlinecolor\":\"#2a3f5f\",\"gridcolor\":\"white\",\"linecolor\":\"white\",\"minorgridcolor\":\"white\",\"startlinecolor\":\"#2a3f5f\"},\"type\":\"carpet\"}],\"table\":[{\"cells\":{\"fill\":{\"color\":\"#EBF0F8\"},\"line\":{\"color\":\"white\"}},\"header\":{\"fill\":{\"color\":\"#C8D4E3\"},\"line\":{\"color\":\"white\"}},\"type\":\"table\"}],\"barpolar\":[{\"marker\":{\"line\":{\"color\":\"#E5ECF6\",\"width\":0.5},\"pattern\":{\"fillmode\":\"overlay\",\"size\":10,\"solidity\":0.2}},\"type\":\"barpolar\"}],\"pie\":[{\"automargin\":true,\"type\":\"pie\"}]},\"layout\":{\"autotypenumbers\":\"strict\",\"colorway\":[\"#636efa\",\"#EF553B\",\"#00cc96\",\"#ab63fa\",\"#FFA15A\",\"#19d3f3\",\"#FF6692\",\"#B6E880\",\"#FF97FF\",\"#FECB52\"],\"font\":{\"color\":\"#2a3f5f\"},\"hovermode\":\"closest\",\"hoverlabel\":{\"align\":\"left\"},\"paper_bgcolor\":\"white\",\"plot_bgcolor\":\"#E5ECF6\",\"polar\":{\"bgcolor\":\"#E5ECF6\",\"angularaxis\":{\"gridcolor\":\"white\",\"linecolor\":\"white\",\"ticks\":\"\"},\"radialaxis\":{\"gridcolor\":\"white\",\"linecolor\":\"white\",\"ticks\":\"\"}},\"ternary\":{\"bgcolor\":\"#E5ECF6\",\"aaxis\":{\"gridcolor\":\"white\",\"linecolor\":\"white\",\"ticks\":\"\"},\"baxis\":{\"gridcolor\":\"white\",\"linecolor\":\"white\",\"ticks\":\"\"},\"caxis\":{\"gridcolor\":\"white\",\"linecolor\":\"white\",\"ticks\":\"\"}},\"coloraxis\":{\"colorbar\":{\"outlinewidth\":0,\"ticks\":\"\"}},\"colorscale\":{\"sequential\":[[0.0,\"#0d0887\"],[0.1111111111111111,\"#46039f\"],[0.2222222222222222,\"#7201a8\"],[0.3333333333333333,\"#9c179e\"],[0.4444444444444444,\"#bd3786\"],[0.5555555555555556,\"#d8576b\"],[0.6666666666666666,\"#ed7953\"],[0.7777777777777778,\"#fb9f3a\"],[0.8888888888888888,\"#fdca26\"],[1.0,\"#f0f921\"]],\"sequentialminus\":[[0.0,\"#0d0887\"],[0.1111111111111111,\"#46039f\"],[0.2222222222222222,\"#7201a8\"],[0.3333333333333333,\"#9c179e\"],[0.4444444444444444,\"#bd3786\"],[0.5555555555555556,\"#d8576b\"],[0.6666666666666666,\"#ed7953\"],[0.7777777777777778,\"#fb9f3a\"],[0.8888888888888888,\"#fdca26\"],[1.0,\"#f0f921\"]],\"diverging\":[[0,\"#8e0152\"],[0.1,\"#c51b7d\"],[0.2,\"#de77ae\"],[0.3,\"#f1b6da\"],[0.4,\"#fde0ef\"],[0.5,\"#f7f7f7\"],[0.6,\"#e6f5d0\"],[0.7,\"#b8e186\"],[0.8,\"#7fbc41\"],[0.9,\"#4d9221\"],[1,\"#276419\"]]},\"xaxis\":{\"gridcolor\":\"white\",\"linecolor\":\"white\",\"ticks\":\"\",\"title\":{\"standoff\":15},\"zerolinecolor\":\"white\",\"automargin\":true,\"zerolinewidth\":2},\"yaxis\":{\"gridcolor\":\"white\",\"linecolor\":\"white\",\"ticks\":\"\",\"title\":{\"standoff\":15},\"zerolinecolor\":\"white\",\"automargin\":true,\"zerolinewidth\":2},\"scene\":{\"xaxis\":{\"backgroundcolor\":\"#E5ECF6\",\"gridcolor\":\"white\",\"linecolor\":\"white\",\"showbackground\":true,\"ticks\":\"\",\"zerolinecolor\":\"white\",\"gridwidth\":2},\"yaxis\":{\"backgroundcolor\":\"#E5ECF6\",\"gridcolor\":\"white\",\"linecolor\":\"white\",\"showbackground\":true,\"ticks\":\"\",\"zerolinecolor\":\"white\",\"gridwidth\":2},\"zaxis\":{\"backgroundcolor\":\"#E5ECF6\",\"gridcolor\":\"white\",\"linecolor\":\"white\",\"showbackground\":true,\"ticks\":\"\",\"zerolinecolor\":\"white\",\"gridwidth\":2}},\"shapedefaults\":{\"line\":{\"color\":\"#2a3f5f\"}},\"annotationdefaults\":{\"arrowcolor\":\"#2a3f5f\",\"arrowhead\":0,\"arrowwidth\":1},\"geo\":{\"bgcolor\":\"white\",\"landcolor\":\"#E5ECF6\",\"subunitcolor\":\"white\",\"showland\":true,\"showlakes\":true,\"lakecolor\":\"white\"},\"title\":{\"x\":0.05},\"mapbox\":{\"style\":\"light\"}}},\"xaxis\":{\"anchor\":\"y\",\"domain\":[0.0,1.0],\"title\":{\"text\":\"Prime Minister\"},\"categoryorder\":\"array\",\"categoryarray\":[\"Justin Trudeau\",\"Stephen Harper\",\"Paul Martin\",\"Jean Chr\\u00e9tien\"]},\"yaxis\":{\"anchor\":\"x\",\"domain\":[0.0,1.0],\"title\":{\"text\":\"Days Deliberated\"},\"rangemode\":\"nonnegative\"},\"legend\":{\"title\":{\"text\":\"Prime Minister\"},\"tracegroupgap\":0},\"title\":{\"text\":\"Boxplot Distribution of Time Spent Deliberating by Prime Minister (1994 - 2022)\"},\"boxmode\":\"overlay\",\"height\":800,\"showlegend\":false},                        {\"responsive\": true}                    ).then(function(){\n",
       "                            \n",
       "var gd = document.getElementById('51408e14-5b07-45e1-bea7-cc05c7f1a52e');\n",
       "var x = new MutationObserver(function (mutations, observer) {{\n",
       "        var display = window.getComputedStyle(gd).display;\n",
       "        if (!display || display === 'none') {{\n",
       "            console.log([gd, 'removed!']);\n",
       "            Plotly.purge(gd);\n",
       "            observer.disconnect();\n",
       "        }}\n",
       "}});\n",
       "\n",
       "// Listen for the removal of the full notebook cells\n",
       "var notebookContainer = gd.closest('#notebook-container');\n",
       "if (notebookContainer) {{\n",
       "    x.observe(notebookContainer, {childList: true});\n",
       "}}\n",
       "\n",
       "// Listen for the clearing of the current output cell\n",
       "var outputEl = gd.closest('.output');\n",
       "if (outputEl) {{\n",
       "    x.observe(outputEl, {childList: true});\n",
       "}}\n",
       "\n",
       "                        })                };                });            </script>        </div>"
      ]
     },
     "metadata": {},
     "output_type": "display_data"
    }
   ],
   "source": [
    "fig = px.box(\n",
    "    plot_4,\n",
    "    x = 'PrimeMinister',\n",
    "    y = 'TimeAlive',\n",
    "    color = 'PrimeMinister',\n",
    "    points = 'outliers',\n",
    "    title = \"Boxplot Distribution of Time Spent Deliberating by Prime Minister (1994 - 2022)\",\n",
    "    labels = {\n",
    "        'TimeAlive': 'Days Deliberated',\n",
    "        'PrimeMinister': 'Prime Minister'\n",
    "    },\n",
    "    height=800\n",
    ")\n",
    "\n",
    "fig.update_layout(\n",
    "    showlegend = False\n",
    ")\n",
    "\n",
    "fig.update_yaxes(rangemode = \"nonnegative\")\n",
    "fig.show()"
   ]
  },
  {
   "cell_type": "code",
   "execution_count": 515,
   "id": "b14e8db5-eec6-4498-bebe-0a5dee71d2c6",
   "metadata": {},
   "outputs": [
    {
     "data": {
      "text/html": [
       "<div>\n",
       "<style scoped>\n",
       "    .dataframe tbody tr th:only-of-type {\n",
       "        vertical-align: middle;\n",
       "    }\n",
       "\n",
       "    .dataframe tbody tr th {\n",
       "        vertical-align: top;\n",
       "    }\n",
       "\n",
       "    .dataframe thead th {\n",
       "        text-align: right;\n",
       "    }\n",
       "</style>\n",
       "<table border=\"1\" class=\"dataframe\">\n",
       "  <thead>\n",
       "    <tr style=\"text-align: right;\">\n",
       "      <th></th>\n",
       "      <th>Id</th>\n",
       "      <th>TimeAlive</th>\n",
       "      <th>Title</th>\n",
       "      <th>PrimeMinister</th>\n",
       "    </tr>\n",
       "  </thead>\n",
       "  <tbody>\n",
       "    <tr>\n",
       "      <th>216</th>\n",
       "      <td>42-1/S-203</td>\n",
       "      <td>1291</td>\n",
       "      <td>Ending the Captivity of Whales and Dolphins Act</td>\n",
       "      <td>Justin Trudeau</td>\n",
       "    </tr>\n",
       "    <tr>\n",
       "      <th>227</th>\n",
       "      <td>42-1/S-210</td>\n",
       "      <td>926</td>\n",
       "      <td>An Act to amend An Act to amend the Immigratio...</td>\n",
       "      <td>Justin Trudeau</td>\n",
       "    </tr>\n",
       "    <tr>\n",
       "      <th>243</th>\n",
       "      <td>42-1/S-218</td>\n",
       "      <td>854</td>\n",
       "      <td>Latin American Heritage Month Act</td>\n",
       "      <td>Justin Trudeau</td>\n",
       "    </tr>\n",
       "    <tr>\n",
       "      <th>808</th>\n",
       "      <td>42-1/C-21</td>\n",
       "      <td>910</td>\n",
       "      <td>An Act to amend the Customs Act</td>\n",
       "      <td>Justin Trudeau</td>\n",
       "    </tr>\n",
       "    <tr>\n",
       "      <th>1804</th>\n",
       "      <td>42-1/C-211</td>\n",
       "      <td>874</td>\n",
       "      <td>Federal Framework on Post-Traumatic Stress Dis...</td>\n",
       "      <td>Justin Trudeau</td>\n",
       "    </tr>\n",
       "  </tbody>\n",
       "</table>\n",
       "</div>"
      ],
      "text/plain": [
       "              Id  TimeAlive  \\\n",
       "216   42-1/S-203       1291   \n",
       "227   42-1/S-210        926   \n",
       "243   42-1/S-218        854   \n",
       "808    42-1/C-21        910   \n",
       "1804  42-1/C-211        874   \n",
       "\n",
       "                                                  Title   PrimeMinister  \n",
       "216     Ending the Captivity of Whales and Dolphins Act  Justin Trudeau  \n",
       "227   An Act to amend An Act to amend the Immigratio...  Justin Trudeau  \n",
       "243                   Latin American Heritage Month Act  Justin Trudeau  \n",
       "808                     An Act to amend the Customs Act  Justin Trudeau  \n",
       "1804  Federal Framework on Post-Traumatic Stress Dis...  Justin Trudeau  "
      ]
     },
     "metadata": {},
     "output_type": "display_data"
    }
   ],
   "source": [
    "# Bills\n",
    "display(plot_4.loc[plot_4['TimeAlive'] > 800, ['Id', 'TimeAlive', 'Title', 'PrimeMinister']])"
   ]
  },
  {
   "cell_type": "code",
   "execution_count": 516,
   "id": "336ced22-4304-4dcb-93a1-cade44c92ffc",
   "metadata": {},
   "outputs": [
    {
     "data": {
      "text/html": [
       "<div>\n",
       "<style scoped>\n",
       "    .dataframe tbody tr th:only-of-type {\n",
       "        vertical-align: middle;\n",
       "    }\n",
       "\n",
       "    .dataframe tbody tr th {\n",
       "        vertical-align: top;\n",
       "    }\n",
       "\n",
       "    .dataframe thead th {\n",
       "        text-align: right;\n",
       "    }\n",
       "</style>\n",
       "<table border=\"1\" class=\"dataframe\">\n",
       "  <thead>\n",
       "    <tr style=\"text-align: right;\">\n",
       "      <th></th>\n",
       "      <th>Id</th>\n",
       "      <th>TimeAlive</th>\n",
       "      <th>Title</th>\n",
       "      <th>PrimeMinister</th>\n",
       "    </tr>\n",
       "  </thead>\n",
       "  <tbody>\n",
       "    <tr>\n",
       "      <th>311</th>\n",
       "      <td>42-1/C-3</td>\n",
       "      <td>0</td>\n",
       "      <td>Appropriation Act No. 4, 2015-16</td>\n",
       "      <td>Justin Trudeau</td>\n",
       "    </tr>\n",
       "    <tr>\n",
       "      <th>513</th>\n",
       "      <td>43-1/C-10</td>\n",
       "      <td>0</td>\n",
       "      <td>Appropriation Act No. 4, 2019-20</td>\n",
       "      <td>Justin Trudeau</td>\n",
       "    </tr>\n",
       "    <tr>\n",
       "      <th>533</th>\n",
       "      <td>35-1/C-10</td>\n",
       "      <td>0</td>\n",
       "      <td>An Act to provide for the maintenance of west ...</td>\n",
       "      <td>Jean Chrétien</td>\n",
       "    </tr>\n",
       "    <tr>\n",
       "      <th>538</th>\n",
       "      <td>43-1/C-11</td>\n",
       "      <td>0</td>\n",
       "      <td>Appropriation Act No. 1, 2020-21</td>\n",
       "      <td>Justin Trudeau</td>\n",
       "    </tr>\n",
       "    <tr>\n",
       "      <th>574</th>\n",
       "      <td>43-1/C-12</td>\n",
       "      <td>0</td>\n",
       "      <td>An Act to amend the Financial Administration A...</td>\n",
       "      <td>Justin Trudeau</td>\n",
       "    </tr>\n",
       "    <tr>\n",
       "      <th>632</th>\n",
       "      <td>43-1/C-14</td>\n",
       "      <td>0</td>\n",
       "      <td>COVID-19 Emergency Response Act, No. 2</td>\n",
       "      <td>Justin Trudeau</td>\n",
       "    </tr>\n",
       "  </tbody>\n",
       "</table>\n",
       "</div>"
      ],
      "text/plain": [
       "            Id  TimeAlive                                              Title  \\\n",
       "311   42-1/C-3          0                   Appropriation Act No. 4, 2015-16   \n",
       "513  43-1/C-10          0                   Appropriation Act No. 4, 2019-20   \n",
       "533  35-1/C-10          0  An Act to provide for the maintenance of west ...   \n",
       "538  43-1/C-11          0                   Appropriation Act No. 1, 2020-21   \n",
       "574  43-1/C-12          0  An Act to amend the Financial Administration A...   \n",
       "632  43-1/C-14          0             COVID-19 Emergency Response Act, No. 2   \n",
       "\n",
       "      PrimeMinister  \n",
       "311  Justin Trudeau  \n",
       "513  Justin Trudeau  \n",
       "533   Jean Chrétien  \n",
       "538  Justin Trudeau  \n",
       "574  Justin Trudeau  \n",
       "632  Justin Trudeau  "
      ]
     },
     "metadata": {},
     "output_type": "display_data"
    }
   ],
   "source": [
    "display(plot_4.loc[plot_4['TimeAlive'] == 0, ['Id', 'TimeAlive', 'Title', 'PrimeMinister']])"
   ]
  },
  {
   "cell_type": "markdown",
   "id": "18eb6aad-f6eb-47ec-8d82-ed7dce6f0181",
   "metadata": {},
   "source": [
    "### Part 5: Bills by Political Affiliation"
   ]
  },
  {
   "cell_type": "code",
   "execution_count": 517,
   "id": "2642b394-1985-40ef-b9f9-561a1f08d282",
   "metadata": {},
   "outputs": [
    {
     "data": {
      "text/html": [
       "<div>\n",
       "<style scoped>\n",
       "    .dataframe tbody tr th:only-of-type {\n",
       "        vertical-align: middle;\n",
       "    }\n",
       "\n",
       "    .dataframe tbody tr th {\n",
       "        vertical-align: top;\n",
       "    }\n",
       "\n",
       "    .dataframe thead th {\n",
       "        text-align: right;\n",
       "    }\n",
       "</style>\n",
       "<table border=\"1\" class=\"dataframe\">\n",
       "  <thead>\n",
       "    <tr style=\"text-align: right;\">\n",
       "      <th></th>\n",
       "      <th>Id</th>\n",
       "      <th>SponsorName</th>\n",
       "      <th>SponsorTitle</th>\n",
       "      <th>Constituency</th>\n",
       "      <th>Political Affiliation</th>\n",
       "      <th>Code</th>\n",
       "      <th>Title</th>\n",
       "      <th>LatestStageName</th>\n",
       "      <th>ParliamentNumber</th>\n",
       "      <th>SessionNumber</th>\n",
       "      <th>BillType</th>\n",
       "      <th>ReceivedRoyalAssent</th>\n",
       "      <th>Ongoing</th>\n",
       "      <th>ReadingsPassed</th>\n",
       "      <th>BillOrigin</th>\n",
       "      <th>FirstStageDate</th>\n",
       "      <th>LastStageDate</th>\n",
       "      <th>TimeAlive</th>\n",
       "    </tr>\n",
       "  </thead>\n",
       "  <tbody>\n",
       "    <tr>\n",
       "      <th>0</th>\n",
       "      <td>44-1/S-1</td>\n",
       "      <td>Yuen Pau Woo</td>\n",
       "      <td>Senator</td>\n",
       "      <td>None</td>\n",
       "      <td>NaN</td>\n",
       "      <td>S-1</td>\n",
       "      <td>An Act relating to railways</td>\n",
       "      <td>First reading in the Senate</td>\n",
       "      <td>44</td>\n",
       "      <td>1</td>\n",
       "      <td>Senate Public Bill</td>\n",
       "      <td>False</td>\n",
       "      <td>True</td>\n",
       "      <td>1</td>\n",
       "      <td>IsSenateBill</td>\n",
       "      <td>2021-11-22</td>\n",
       "      <td>2021-11-22</td>\n",
       "      <td>0 days</td>\n",
       "    </tr>\n",
       "    <tr>\n",
       "      <th>1</th>\n",
       "      <td>43-2/S-1</td>\n",
       "      <td>Marc Gold</td>\n",
       "      <td>Senator</td>\n",
       "      <td>None</td>\n",
       "      <td>NaN</td>\n",
       "      <td>S-1</td>\n",
       "      <td>An Act relating to railways</td>\n",
       "      <td>First reading in the Senate</td>\n",
       "      <td>43</td>\n",
       "      <td>2</td>\n",
       "      <td>Senate Public Bill</td>\n",
       "      <td>False</td>\n",
       "      <td>False</td>\n",
       "      <td>1</td>\n",
       "      <td>IsSenateBill</td>\n",
       "      <td>2020-09-22</td>\n",
       "      <td>2020-09-22</td>\n",
       "      <td>0 days</td>\n",
       "    </tr>\n",
       "    <tr>\n",
       "      <th>2</th>\n",
       "      <td>43-1/S-1</td>\n",
       "      <td>Joseph Day</td>\n",
       "      <td>Senator</td>\n",
       "      <td>None</td>\n",
       "      <td>NaN</td>\n",
       "      <td>S-1</td>\n",
       "      <td>An Act relating to railways</td>\n",
       "      <td>First reading in the Senate</td>\n",
       "      <td>43</td>\n",
       "      <td>1</td>\n",
       "      <td>Senate Public Bill</td>\n",
       "      <td>False</td>\n",
       "      <td>False</td>\n",
       "      <td>1</td>\n",
       "      <td>IsSenateBill</td>\n",
       "      <td>2019-12-04</td>\n",
       "      <td>2019-12-04</td>\n",
       "      <td>0 days</td>\n",
       "    </tr>\n",
       "  </tbody>\n",
       "</table>\n",
       "</div>"
      ],
      "text/plain": [
       "         Id   SponsorName SponsorTitle Constituency Political Affiliation  \\\n",
       "0  44-1/S-1  Yuen Pau Woo      Senator         None                   NaN   \n",
       "1  43-2/S-1     Marc Gold      Senator         None                   NaN   \n",
       "2  43-1/S-1    Joseph Day      Senator         None                   NaN   \n",
       "\n",
       "  Code                        Title              LatestStageName  \\\n",
       "0  S-1  An Act relating to railways  First reading in the Senate   \n",
       "1  S-1  An Act relating to railways  First reading in the Senate   \n",
       "2  S-1  An Act relating to railways  First reading in the Senate   \n",
       "\n",
       "   ParliamentNumber  SessionNumber            BillType  ReceivedRoyalAssent  \\\n",
       "0                44              1  Senate Public Bill                False   \n",
       "1                43              2  Senate Public Bill                False   \n",
       "2                43              1  Senate Public Bill                False   \n",
       "\n",
       "   Ongoing  ReadingsPassed    BillOrigin FirstStageDate LastStageDate  \\\n",
       "0     True               1  IsSenateBill     2021-11-22    2021-11-22   \n",
       "1    False               1  IsSenateBill     2020-09-22    2020-09-22   \n",
       "2    False               1  IsSenateBill     2019-12-04    2019-12-04   \n",
       "\n",
       "  TimeAlive  \n",
       "0    0 days  \n",
       "1    0 days  \n",
       "2    0 days  "
      ]
     },
     "metadata": {},
     "output_type": "display_data"
    }
   ],
   "source": [
    "display(data.head(3))"
   ]
  },
  {
   "cell_type": "code",
   "execution_count": 546,
   "id": "d7b0f21b-13ad-42b3-a5d3-f01c4f874b71",
   "metadata": {},
   "outputs": [],
   "source": [
    "plot_5 = data.loc[\n",
    "    data['Political Affiliation'].notnull(), \n",
    "    ['Id', 'SponsorName', 'SponsorTitle', 'Title', 'Political Affiliation']\n",
    "]\n",
    "\n",
    "plot_5.rename(columns = {\n",
    "    'Political Affiliation': 'Party'\n",
    "}, inplace = True)\n",
    "\n",
    "def fixParties(party):\n",
    "    if party in ['Ind. CA', 'Independent Bloc Québécois', 'Independent Conservative', 'Conservative Independent']:\n",
    "        return 'Independent'\n",
    "    \n",
    "    if party == 'PC':\n",
    "        return 'Conservative'\n",
    "    \n",
    "    return party\n",
    "\n",
    "plot_5['Party'] = plot_5['Party'].apply(lambda x: fixParties(x))\n",
    "\n",
    "plot_5 = pd.DataFrame(plot_5['Party'].value_counts()).reset_index()"
   ]
  },
  {
   "cell_type": "code",
   "execution_count": 548,
   "id": "1b2c3a56-fc86-4e2f-87eb-55c770a128ba",
   "metadata": {},
   "outputs": [
    {
     "data": {
      "application/vnd.plotly.v1+json": {
       "config": {
        "plotlyServerURL": "https://plot.ly"
       },
       "data": [
        {
         "alignmentgroup": "True",
         "hovertemplate": "Party=%{x}<br>Count=%{y}<extra></extra>",
         "legendgroup": "NDP",
         "marker": {
          "color": "#636efa",
          "pattern": {
           "shape": ""
          }
         },
         "name": "NDP",
         "offsetgroup": "NDP",
         "orientation": "v",
         "showlegend": true,
         "textposition": "auto",
         "texttemplate": "%{y}",
         "type": "bar",
         "x": [
          "NDP"
         ],
         "xaxis": "x",
         "y": [
          1744
         ],
         "yaxis": "y"
        },
        {
         "alignmentgroup": "True",
         "hovertemplate": "Party=%{x}<br>Count=%{y}<extra></extra>",
         "legendgroup": "Liberal",
         "marker": {
          "color": "#EF553B",
          "pattern": {
           "shape": ""
          }
         },
         "name": "Liberal",
         "offsetgroup": "Liberal",
         "orientation": "v",
         "showlegend": true,
         "textposition": "auto",
         "texttemplate": "%{y}",
         "type": "bar",
         "x": [
          "Liberal"
         ],
         "xaxis": "x",
         "y": [
          1443
         ],
         "yaxis": "y"
        },
        {
         "alignmentgroup": "True",
         "hovertemplate": "Party=%{x}<br>Count=%{y}<extra></extra>",
         "legendgroup": "Conservative",
         "marker": {
          "color": "#00cc96",
          "pattern": {
           "shape": ""
          }
         },
         "name": "Conservative",
         "offsetgroup": "Conservative",
         "orientation": "v",
         "showlegend": true,
         "textposition": "auto",
         "texttemplate": "%{y}",
         "type": "bar",
         "x": [
          "Conservative"
         ],
         "xaxis": "x",
         "y": [
          1400
         ],
         "yaxis": "y"
        },
        {
         "alignmentgroup": "True",
         "hovertemplate": "Party=%{x}<br>Count=%{y}<extra></extra>",
         "legendgroup": "Bloc Québécois",
         "marker": {
          "color": "#ab63fa",
          "pattern": {
           "shape": ""
          }
         },
         "name": "Bloc Québécois",
         "offsetgroup": "Bloc Québécois",
         "orientation": "v",
         "showlegend": true,
         "textposition": "auto",
         "texttemplate": "%{y}",
         "type": "bar",
         "x": [
          "Bloc Québécois"
         ],
         "xaxis": "x",
         "y": [
          328
         ],
         "yaxis": "y"
        },
        {
         "alignmentgroup": "True",
         "hovertemplate": "Party=%{x}<br>Count=%{y}<extra></extra>",
         "legendgroup": "Independent",
         "marker": {
          "color": "#FFA15A",
          "pattern": {
           "shape": ""
          }
         },
         "name": "Independent",
         "offsetgroup": "Independent",
         "orientation": "v",
         "showlegend": true,
         "textposition": "auto",
         "texttemplate": "%{y}",
         "type": "bar",
         "x": [
          "Independent"
         ],
         "xaxis": "x",
         "y": [
          234
         ],
         "yaxis": "y"
        },
        {
         "alignmentgroup": "True",
         "hovertemplate": "Party=%{x}<br>Count=%{y}<extra></extra>",
         "legendgroup": "Green Party",
         "marker": {
          "color": "#19d3f3",
          "pattern": {
           "shape": ""
          }
         },
         "name": "Green Party",
         "offsetgroup": "Green Party",
         "orientation": "v",
         "showlegend": true,
         "textposition": "auto",
         "texttemplate": "%{y}",
         "type": "bar",
         "x": [
          "Green Party"
         ],
         "xaxis": "x",
         "y": [
          45
         ],
         "yaxis": "y"
        },
        {
         "alignmentgroup": "True",
         "hovertemplate": "Party=%{x}<br>Count=%{y}<extra></extra>",
         "legendgroup": "Canadian Alliance",
         "marker": {
          "color": "#FF6692",
          "pattern": {
           "shape": ""
          }
         },
         "name": "Canadian Alliance",
         "offsetgroup": "Canadian Alliance",
         "orientation": "v",
         "showlegend": true,
         "textposition": "auto",
         "texttemplate": "%{y}",
         "type": "bar",
         "x": [
          "Canadian Alliance"
         ],
         "xaxis": "x",
         "y": [
          28
         ],
         "yaxis": "y"
        },
        {
         "alignmentgroup": "True",
         "hovertemplate": "Party=%{x}<br>Count=%{y}<extra></extra>",
         "legendgroup": "People's Party",
         "marker": {
          "color": "#B6E880",
          "pattern": {
           "shape": ""
          }
         },
         "name": "People's Party",
         "offsetgroup": "People's Party",
         "orientation": "v",
         "showlegend": true,
         "textposition": "auto",
         "texttemplate": "%{y}",
         "type": "bar",
         "x": [
          "People's Party"
         ],
         "xaxis": "x",
         "y": [
          4
         ],
         "yaxis": "y"
        }
       ],
       "layout": {
        "autosize": true,
        "barmode": "relative",
        "legend": {
         "title": {
          "text": "Party"
         },
         "tracegroupgap": 0
        },
        "showlegend": false,
        "template": {
         "data": {
          "bar": [
           {
            "error_x": {
             "color": "#2a3f5f"
            },
            "error_y": {
             "color": "#2a3f5f"
            },
            "marker": {
             "line": {
              "color": "#E5ECF6",
              "width": 0.5
             },
             "pattern": {
              "fillmode": "overlay",
              "size": 10,
              "solidity": 0.2
             }
            },
            "type": "bar"
           }
          ],
          "barpolar": [
           {
            "marker": {
             "line": {
              "color": "#E5ECF6",
              "width": 0.5
             },
             "pattern": {
              "fillmode": "overlay",
              "size": 10,
              "solidity": 0.2
             }
            },
            "type": "barpolar"
           }
          ],
          "carpet": [
           {
            "aaxis": {
             "endlinecolor": "#2a3f5f",
             "gridcolor": "white",
             "linecolor": "white",
             "minorgridcolor": "white",
             "startlinecolor": "#2a3f5f"
            },
            "baxis": {
             "endlinecolor": "#2a3f5f",
             "gridcolor": "white",
             "linecolor": "white",
             "minorgridcolor": "white",
             "startlinecolor": "#2a3f5f"
            },
            "type": "carpet"
           }
          ],
          "choropleth": [
           {
            "colorbar": {
             "outlinewidth": 0,
             "ticks": ""
            },
            "type": "choropleth"
           }
          ],
          "contour": [
           {
            "colorbar": {
             "outlinewidth": 0,
             "ticks": ""
            },
            "colorscale": [
             [
              0,
              "#0d0887"
             ],
             [
              0.1111111111111111,
              "#46039f"
             ],
             [
              0.2222222222222222,
              "#7201a8"
             ],
             [
              0.3333333333333333,
              "#9c179e"
             ],
             [
              0.4444444444444444,
              "#bd3786"
             ],
             [
              0.5555555555555556,
              "#d8576b"
             ],
             [
              0.6666666666666666,
              "#ed7953"
             ],
             [
              0.7777777777777778,
              "#fb9f3a"
             ],
             [
              0.8888888888888888,
              "#fdca26"
             ],
             [
              1,
              "#f0f921"
             ]
            ],
            "type": "contour"
           }
          ],
          "contourcarpet": [
           {
            "colorbar": {
             "outlinewidth": 0,
             "ticks": ""
            },
            "type": "contourcarpet"
           }
          ],
          "heatmap": [
           {
            "colorbar": {
             "outlinewidth": 0,
             "ticks": ""
            },
            "colorscale": [
             [
              0,
              "#0d0887"
             ],
             [
              0.1111111111111111,
              "#46039f"
             ],
             [
              0.2222222222222222,
              "#7201a8"
             ],
             [
              0.3333333333333333,
              "#9c179e"
             ],
             [
              0.4444444444444444,
              "#bd3786"
             ],
             [
              0.5555555555555556,
              "#d8576b"
             ],
             [
              0.6666666666666666,
              "#ed7953"
             ],
             [
              0.7777777777777778,
              "#fb9f3a"
             ],
             [
              0.8888888888888888,
              "#fdca26"
             ],
             [
              1,
              "#f0f921"
             ]
            ],
            "type": "heatmap"
           }
          ],
          "heatmapgl": [
           {
            "colorbar": {
             "outlinewidth": 0,
             "ticks": ""
            },
            "colorscale": [
             [
              0,
              "#0d0887"
             ],
             [
              0.1111111111111111,
              "#46039f"
             ],
             [
              0.2222222222222222,
              "#7201a8"
             ],
             [
              0.3333333333333333,
              "#9c179e"
             ],
             [
              0.4444444444444444,
              "#bd3786"
             ],
             [
              0.5555555555555556,
              "#d8576b"
             ],
             [
              0.6666666666666666,
              "#ed7953"
             ],
             [
              0.7777777777777778,
              "#fb9f3a"
             ],
             [
              0.8888888888888888,
              "#fdca26"
             ],
             [
              1,
              "#f0f921"
             ]
            ],
            "type": "heatmapgl"
           }
          ],
          "histogram": [
           {
            "marker": {
             "pattern": {
              "fillmode": "overlay",
              "size": 10,
              "solidity": 0.2
             }
            },
            "type": "histogram"
           }
          ],
          "histogram2d": [
           {
            "colorbar": {
             "outlinewidth": 0,
             "ticks": ""
            },
            "colorscale": [
             [
              0,
              "#0d0887"
             ],
             [
              0.1111111111111111,
              "#46039f"
             ],
             [
              0.2222222222222222,
              "#7201a8"
             ],
             [
              0.3333333333333333,
              "#9c179e"
             ],
             [
              0.4444444444444444,
              "#bd3786"
             ],
             [
              0.5555555555555556,
              "#d8576b"
             ],
             [
              0.6666666666666666,
              "#ed7953"
             ],
             [
              0.7777777777777778,
              "#fb9f3a"
             ],
             [
              0.8888888888888888,
              "#fdca26"
             ],
             [
              1,
              "#f0f921"
             ]
            ],
            "type": "histogram2d"
           }
          ],
          "histogram2dcontour": [
           {
            "colorbar": {
             "outlinewidth": 0,
             "ticks": ""
            },
            "colorscale": [
             [
              0,
              "#0d0887"
             ],
             [
              0.1111111111111111,
              "#46039f"
             ],
             [
              0.2222222222222222,
              "#7201a8"
             ],
             [
              0.3333333333333333,
              "#9c179e"
             ],
             [
              0.4444444444444444,
              "#bd3786"
             ],
             [
              0.5555555555555556,
              "#d8576b"
             ],
             [
              0.6666666666666666,
              "#ed7953"
             ],
             [
              0.7777777777777778,
              "#fb9f3a"
             ],
             [
              0.8888888888888888,
              "#fdca26"
             ],
             [
              1,
              "#f0f921"
             ]
            ],
            "type": "histogram2dcontour"
           }
          ],
          "mesh3d": [
           {
            "colorbar": {
             "outlinewidth": 0,
             "ticks": ""
            },
            "type": "mesh3d"
           }
          ],
          "parcoords": [
           {
            "line": {
             "colorbar": {
              "outlinewidth": 0,
              "ticks": ""
             }
            },
            "type": "parcoords"
           }
          ],
          "pie": [
           {
            "automargin": true,
            "type": "pie"
           }
          ],
          "scatter": [
           {
            "fillpattern": {
             "fillmode": "overlay",
             "size": 10,
             "solidity": 0.2
            },
            "type": "scatter"
           }
          ],
          "scatter3d": [
           {
            "line": {
             "colorbar": {
              "outlinewidth": 0,
              "ticks": ""
             }
            },
            "marker": {
             "colorbar": {
              "outlinewidth": 0,
              "ticks": ""
             }
            },
            "type": "scatter3d"
           }
          ],
          "scattercarpet": [
           {
            "marker": {
             "colorbar": {
              "outlinewidth": 0,
              "ticks": ""
             }
            },
            "type": "scattercarpet"
           }
          ],
          "scattergeo": [
           {
            "marker": {
             "colorbar": {
              "outlinewidth": 0,
              "ticks": ""
             }
            },
            "type": "scattergeo"
           }
          ],
          "scattergl": [
           {
            "marker": {
             "colorbar": {
              "outlinewidth": 0,
              "ticks": ""
             }
            },
            "type": "scattergl"
           }
          ],
          "scattermapbox": [
           {
            "marker": {
             "colorbar": {
              "outlinewidth": 0,
              "ticks": ""
             }
            },
            "type": "scattermapbox"
           }
          ],
          "scatterpolar": [
           {
            "marker": {
             "colorbar": {
              "outlinewidth": 0,
              "ticks": ""
             }
            },
            "type": "scatterpolar"
           }
          ],
          "scatterpolargl": [
           {
            "marker": {
             "colorbar": {
              "outlinewidth": 0,
              "ticks": ""
             }
            },
            "type": "scatterpolargl"
           }
          ],
          "scatterternary": [
           {
            "marker": {
             "colorbar": {
              "outlinewidth": 0,
              "ticks": ""
             }
            },
            "type": "scatterternary"
           }
          ],
          "surface": [
           {
            "colorbar": {
             "outlinewidth": 0,
             "ticks": ""
            },
            "colorscale": [
             [
              0,
              "#0d0887"
             ],
             [
              0.1111111111111111,
              "#46039f"
             ],
             [
              0.2222222222222222,
              "#7201a8"
             ],
             [
              0.3333333333333333,
              "#9c179e"
             ],
             [
              0.4444444444444444,
              "#bd3786"
             ],
             [
              0.5555555555555556,
              "#d8576b"
             ],
             [
              0.6666666666666666,
              "#ed7953"
             ],
             [
              0.7777777777777778,
              "#fb9f3a"
             ],
             [
              0.8888888888888888,
              "#fdca26"
             ],
             [
              1,
              "#f0f921"
             ]
            ],
            "type": "surface"
           }
          ],
          "table": [
           {
            "cells": {
             "fill": {
              "color": "#EBF0F8"
             },
             "line": {
              "color": "white"
             }
            },
            "header": {
             "fill": {
              "color": "#C8D4E3"
             },
             "line": {
              "color": "white"
             }
            },
            "type": "table"
           }
          ]
         },
         "layout": {
          "annotationdefaults": {
           "arrowcolor": "#2a3f5f",
           "arrowhead": 0,
           "arrowwidth": 1
          },
          "autotypenumbers": "strict",
          "coloraxis": {
           "colorbar": {
            "outlinewidth": 0,
            "ticks": ""
           }
          },
          "colorscale": {
           "diverging": [
            [
             0,
             "#8e0152"
            ],
            [
             0.1,
             "#c51b7d"
            ],
            [
             0.2,
             "#de77ae"
            ],
            [
             0.3,
             "#f1b6da"
            ],
            [
             0.4,
             "#fde0ef"
            ],
            [
             0.5,
             "#f7f7f7"
            ],
            [
             0.6,
             "#e6f5d0"
            ],
            [
             0.7,
             "#b8e186"
            ],
            [
             0.8,
             "#7fbc41"
            ],
            [
             0.9,
             "#4d9221"
            ],
            [
             1,
             "#276419"
            ]
           ],
           "sequential": [
            [
             0,
             "#0d0887"
            ],
            [
             0.1111111111111111,
             "#46039f"
            ],
            [
             0.2222222222222222,
             "#7201a8"
            ],
            [
             0.3333333333333333,
             "#9c179e"
            ],
            [
             0.4444444444444444,
             "#bd3786"
            ],
            [
             0.5555555555555556,
             "#d8576b"
            ],
            [
             0.6666666666666666,
             "#ed7953"
            ],
            [
             0.7777777777777778,
             "#fb9f3a"
            ],
            [
             0.8888888888888888,
             "#fdca26"
            ],
            [
             1,
             "#f0f921"
            ]
           ],
           "sequentialminus": [
            [
             0,
             "#0d0887"
            ],
            [
             0.1111111111111111,
             "#46039f"
            ],
            [
             0.2222222222222222,
             "#7201a8"
            ],
            [
             0.3333333333333333,
             "#9c179e"
            ],
            [
             0.4444444444444444,
             "#bd3786"
            ],
            [
             0.5555555555555556,
             "#d8576b"
            ],
            [
             0.6666666666666666,
             "#ed7953"
            ],
            [
             0.7777777777777778,
             "#fb9f3a"
            ],
            [
             0.8888888888888888,
             "#fdca26"
            ],
            [
             1,
             "#f0f921"
            ]
           ]
          },
          "colorway": [
           "#636efa",
           "#EF553B",
           "#00cc96",
           "#ab63fa",
           "#FFA15A",
           "#19d3f3",
           "#FF6692",
           "#B6E880",
           "#FF97FF",
           "#FECB52"
          ],
          "font": {
           "color": "#2a3f5f"
          },
          "geo": {
           "bgcolor": "white",
           "lakecolor": "white",
           "landcolor": "#E5ECF6",
           "showlakes": true,
           "showland": true,
           "subunitcolor": "white"
          },
          "hoverlabel": {
           "align": "left"
          },
          "hovermode": "closest",
          "mapbox": {
           "style": "light"
          },
          "paper_bgcolor": "white",
          "plot_bgcolor": "#E5ECF6",
          "polar": {
           "angularaxis": {
            "gridcolor": "white",
            "linecolor": "white",
            "ticks": ""
           },
           "bgcolor": "#E5ECF6",
           "radialaxis": {
            "gridcolor": "white",
            "linecolor": "white",
            "ticks": ""
           }
          },
          "scene": {
           "xaxis": {
            "backgroundcolor": "#E5ECF6",
            "gridcolor": "white",
            "gridwidth": 2,
            "linecolor": "white",
            "showbackground": true,
            "ticks": "",
            "zerolinecolor": "white"
           },
           "yaxis": {
            "backgroundcolor": "#E5ECF6",
            "gridcolor": "white",
            "gridwidth": 2,
            "linecolor": "white",
            "showbackground": true,
            "ticks": "",
            "zerolinecolor": "white"
           },
           "zaxis": {
            "backgroundcolor": "#E5ECF6",
            "gridcolor": "white",
            "gridwidth": 2,
            "linecolor": "white",
            "showbackground": true,
            "ticks": "",
            "zerolinecolor": "white"
           }
          },
          "shapedefaults": {
           "line": {
            "color": "#2a3f5f"
           }
          },
          "ternary": {
           "aaxis": {
            "gridcolor": "white",
            "linecolor": "white",
            "ticks": ""
           },
           "baxis": {
            "gridcolor": "white",
            "linecolor": "white",
            "ticks": ""
           },
           "bgcolor": "#E5ECF6",
           "caxis": {
            "gridcolor": "white",
            "linecolor": "white",
            "ticks": ""
           }
          },
          "title": {
           "x": 0.05
          },
          "xaxis": {
           "automargin": true,
           "gridcolor": "white",
           "linecolor": "white",
           "ticks": "",
           "title": {
            "standoff": 15
           },
           "zerolinecolor": "white",
           "zerolinewidth": 2
          },
          "yaxis": {
           "automargin": true,
           "gridcolor": "white",
           "linecolor": "white",
           "ticks": "",
           "title": {
            "standoff": 15
           },
           "zerolinecolor": "white",
           "zerolinewidth": 2
          }
         }
        },
        "title": {
         "text": "Bills Proposed by Party in the Canadian Parliament (1994 - 2022)"
        },
        "xaxis": {
         "anchor": "y",
         "autorange": true,
         "categoryarray": [
          "NDP",
          "Liberal",
          "Conservative",
          "Bloc Québécois",
          "Independent",
          "Green Party",
          "Canadian Alliance",
          "People's Party"
         ],
         "categoryorder": "array",
         "domain": [
          0,
          1
         ],
         "range": [
          -0.5,
          7.5
         ],
         "title": {
          "text": "Party"
         },
         "type": "category"
        },
        "yaxis": {
         "anchor": "x",
         "autorange": true,
         "domain": [
          0,
          1
         ],
         "range": [
          0,
          1835.7894736842104
         ],
         "title": {
          "text": "Count"
         },
         "type": "linear"
        }
       }
      },
      "image/png": "[encoded data removed]",
      "text/html": [
       "<div>                            <div id=\"b49d304e-bad1-477f-9184-76126a58eca0\" class=\"plotly-graph-div\" style=\"height:600px; width:100%;\"></div>            <script type=\"text/javascript\">                require([\"plotly\"], function(Plotly) {                    window.PLOTLYENV=window.PLOTLYENV || {};                                    if (document.getElementById(\"b49d304e-bad1-477f-9184-76126a58eca0\")) {                    Plotly.newPlot(                        \"b49d304e-bad1-477f-9184-76126a58eca0\",                        [{\"alignmentgroup\":\"True\",\"hovertemplate\":\"Party=%{x}<br>Count=%{y}<extra></extra>\",\"legendgroup\":\"NDP\",\"marker\":{\"color\":\"#636efa\",\"pattern\":{\"shape\":\"\"}},\"name\":\"NDP\",\"offsetgroup\":\"NDP\",\"orientation\":\"v\",\"showlegend\":true,\"textposition\":\"auto\",\"texttemplate\":\"%{y}\",\"x\":[\"NDP\"],\"xaxis\":\"x\",\"y\":[1744],\"yaxis\":\"y\",\"type\":\"bar\"},{\"alignmentgroup\":\"True\",\"hovertemplate\":\"Party=%{x}<br>Count=%{y}<extra></extra>\",\"legendgroup\":\"Liberal\",\"marker\":{\"color\":\"#EF553B\",\"pattern\":{\"shape\":\"\"}},\"name\":\"Liberal\",\"offsetgroup\":\"Liberal\",\"orientation\":\"v\",\"showlegend\":true,\"textposition\":\"auto\",\"texttemplate\":\"%{y}\",\"x\":[\"Liberal\"],\"xaxis\":\"x\",\"y\":[1443],\"yaxis\":\"y\",\"type\":\"bar\"},{\"alignmentgroup\":\"True\",\"hovertemplate\":\"Party=%{x}<br>Count=%{y}<extra></extra>\",\"legendgroup\":\"Conservative\",\"marker\":{\"color\":\"#00cc96\",\"pattern\":{\"shape\":\"\"}},\"name\":\"Conservative\",\"offsetgroup\":\"Conservative\",\"orientation\":\"v\",\"showlegend\":true,\"textposition\":\"auto\",\"texttemplate\":\"%{y}\",\"x\":[\"Conservative\"],\"xaxis\":\"x\",\"y\":[1400],\"yaxis\":\"y\",\"type\":\"bar\"},{\"alignmentgroup\":\"True\",\"hovertemplate\":\"Party=%{x}<br>Count=%{y}<extra></extra>\",\"legendgroup\":\"Bloc Qu\\u00e9b\\u00e9cois\",\"marker\":{\"color\":\"#ab63fa\",\"pattern\":{\"shape\":\"\"}},\"name\":\"Bloc Qu\\u00e9b\\u00e9cois\",\"offsetgroup\":\"Bloc Qu\\u00e9b\\u00e9cois\",\"orientation\":\"v\",\"showlegend\":true,\"textposition\":\"auto\",\"texttemplate\":\"%{y}\",\"x\":[\"Bloc Qu\\u00e9b\\u00e9cois\"],\"xaxis\":\"x\",\"y\":[328],\"yaxis\":\"y\",\"type\":\"bar\"},{\"alignmentgroup\":\"True\",\"hovertemplate\":\"Party=%{x}<br>Count=%{y}<extra></extra>\",\"legendgroup\":\"Independent\",\"marker\":{\"color\":\"#FFA15A\",\"pattern\":{\"shape\":\"\"}},\"name\":\"Independent\",\"offsetgroup\":\"Independent\",\"orientation\":\"v\",\"showlegend\":true,\"textposition\":\"auto\",\"texttemplate\":\"%{y}\",\"x\":[\"Independent\"],\"xaxis\":\"x\",\"y\":[234],\"yaxis\":\"y\",\"type\":\"bar\"},{\"alignmentgroup\":\"True\",\"hovertemplate\":\"Party=%{x}<br>Count=%{y}<extra></extra>\",\"legendgroup\":\"Green Party\",\"marker\":{\"color\":\"#19d3f3\",\"pattern\":{\"shape\":\"\"}},\"name\":\"Green Party\",\"offsetgroup\":\"Green Party\",\"orientation\":\"v\",\"showlegend\":true,\"textposition\":\"auto\",\"texttemplate\":\"%{y}\",\"x\":[\"Green Party\"],\"xaxis\":\"x\",\"y\":[45],\"yaxis\":\"y\",\"type\":\"bar\"},{\"alignmentgroup\":\"True\",\"hovertemplate\":\"Party=%{x}<br>Count=%{y}<extra></extra>\",\"legendgroup\":\"Canadian Alliance\",\"marker\":{\"color\":\"#FF6692\",\"pattern\":{\"shape\":\"\"}},\"name\":\"Canadian Alliance\",\"offsetgroup\":\"Canadian Alliance\",\"orientation\":\"v\",\"showlegend\":true,\"textposition\":\"auto\",\"texttemplate\":\"%{y}\",\"x\":[\"Canadian Alliance\"],\"xaxis\":\"x\",\"y\":[28],\"yaxis\":\"y\",\"type\":\"bar\"},{\"alignmentgroup\":\"True\",\"hovertemplate\":\"Party=%{x}<br>Count=%{y}<extra></extra>\",\"legendgroup\":\"People's Party\",\"marker\":{\"color\":\"#B6E880\",\"pattern\":{\"shape\":\"\"}},\"name\":\"People's Party\",\"offsetgroup\":\"People's Party\",\"orientation\":\"v\",\"showlegend\":true,\"textposition\":\"auto\",\"texttemplate\":\"%{y}\",\"x\":[\"People's Party\"],\"xaxis\":\"x\",\"y\":[4],\"yaxis\":\"y\",\"type\":\"bar\"}],                        {\"template\":{\"data\":{\"histogram2dcontour\":[{\"type\":\"histogram2dcontour\",\"colorbar\":{\"outlinewidth\":0,\"ticks\":\"\"},\"colorscale\":[[0.0,\"#0d0887\"],[0.1111111111111111,\"#46039f\"],[0.2222222222222222,\"#7201a8\"],[0.3333333333333333,\"#9c179e\"],[0.4444444444444444,\"#bd3786\"],[0.5555555555555556,\"#d8576b\"],[0.6666666666666666,\"#ed7953\"],[0.7777777777777778,\"#fb9f3a\"],[0.8888888888888888,\"#fdca26\"],[1.0,\"#f0f921\"]]}],\"choropleth\":[{\"type\":\"choropleth\",\"colorbar\":{\"outlinewidth\":0,\"ticks\":\"\"}}],\"histogram2d\":[{\"type\":\"histogram2d\",\"colorbar\":{\"outlinewidth\":0,\"ticks\":\"\"},\"colorscale\":[[0.0,\"#0d0887\"],[0.1111111111111111,\"#46039f\"],[0.2222222222222222,\"#7201a8\"],[0.3333333333333333,\"#9c179e\"],[0.4444444444444444,\"#bd3786\"],[0.5555555555555556,\"#d8576b\"],[0.6666666666666666,\"#ed7953\"],[0.7777777777777778,\"#fb9f3a\"],[0.8888888888888888,\"#fdca26\"],[1.0,\"#f0f921\"]]}],\"heatmap\":[{\"type\":\"heatmap\",\"colorbar\":{\"outlinewidth\":0,\"ticks\":\"\"},\"colorscale\":[[0.0,\"#0d0887\"],[0.1111111111111111,\"#46039f\"],[0.2222222222222222,\"#7201a8\"],[0.3333333333333333,\"#9c179e\"],[0.4444444444444444,\"#bd3786\"],[0.5555555555555556,\"#d8576b\"],[0.6666666666666666,\"#ed7953\"],[0.7777777777777778,\"#fb9f3a\"],[0.8888888888888888,\"#fdca26\"],[1.0,\"#f0f921\"]]}],\"heatmapgl\":[{\"type\":\"heatmapgl\",\"colorbar\":{\"outlinewidth\":0,\"ticks\":\"\"},\"colorscale\":[[0.0,\"#0d0887\"],[0.1111111111111111,\"#46039f\"],[0.2222222222222222,\"#7201a8\"],[0.3333333333333333,\"#9c179e\"],[0.4444444444444444,\"#bd3786\"],[0.5555555555555556,\"#d8576b\"],[0.6666666666666666,\"#ed7953\"],[0.7777777777777778,\"#fb9f3a\"],[0.8888888888888888,\"#fdca26\"],[1.0,\"#f0f921\"]]}],\"contourcarpet\":[{\"type\":\"contourcarpet\",\"colorbar\":{\"outlinewidth\":0,\"ticks\":\"\"}}],\"contour\":[{\"type\":\"contour\",\"colorbar\":{\"outlinewidth\":0,\"ticks\":\"\"},\"colorscale\":[[0.0,\"#0d0887\"],[0.1111111111111111,\"#46039f\"],[0.2222222222222222,\"#7201a8\"],[0.3333333333333333,\"#9c179e\"],[0.4444444444444444,\"#bd3786\"],[0.5555555555555556,\"#d8576b\"],[0.6666666666666666,\"#ed7953\"],[0.7777777777777778,\"#fb9f3a\"],[0.8888888888888888,\"#fdca26\"],[1.0,\"#f0f921\"]]}],\"surface\":[{\"type\":\"surface\",\"colorbar\":{\"outlinewidth\":0,\"ticks\":\"\"},\"colorscale\":[[0.0,\"#0d0887\"],[0.1111111111111111,\"#46039f\"],[0.2222222222222222,\"#7201a8\"],[0.3333333333333333,\"#9c179e\"],[0.4444444444444444,\"#bd3786\"],[0.5555555555555556,\"#d8576b\"],[0.6666666666666666,\"#ed7953\"],[0.7777777777777778,\"#fb9f3a\"],[0.8888888888888888,\"#fdca26\"],[1.0,\"#f0f921\"]]}],\"mesh3d\":[{\"type\":\"mesh3d\",\"colorbar\":{\"outlinewidth\":0,\"ticks\":\"\"}}],\"scatter\":[{\"fillpattern\":{\"fillmode\":\"overlay\",\"size\":10,\"solidity\":0.2},\"type\":\"scatter\"}],\"parcoords\":[{\"type\":\"parcoords\",\"line\":{\"colorbar\":{\"outlinewidth\":0,\"ticks\":\"\"}}}],\"scatterpolargl\":[{\"type\":\"scatterpolargl\",\"marker\":{\"colorbar\":{\"outlinewidth\":0,\"ticks\":\"\"}}}],\"bar\":[{\"error_x\":{\"color\":\"#2a3f5f\"},\"error_y\":{\"color\":\"#2a3f5f\"},\"marker\":{\"line\":{\"color\":\"#E5ECF6\",\"width\":0.5},\"pattern\":{\"fillmode\":\"overlay\",\"size\":10,\"solidity\":0.2}},\"type\":\"bar\"}],\"scattergeo\":[{\"type\":\"scattergeo\",\"marker\":{\"colorbar\":{\"outlinewidth\":0,\"ticks\":\"\"}}}],\"scatterpolar\":[{\"type\":\"scatterpolar\",\"marker\":{\"colorbar\":{\"outlinewidth\":0,\"ticks\":\"\"}}}],\"histogram\":[{\"marker\":{\"pattern\":{\"fillmode\":\"overlay\",\"size\":10,\"solidity\":0.2}},\"type\":\"histogram\"}],\"scattergl\":[{\"type\":\"scattergl\",\"marker\":{\"colorbar\":{\"outlinewidth\":0,\"ticks\":\"\"}}}],\"scatter3d\":[{\"type\":\"scatter3d\",\"line\":{\"colorbar\":{\"outlinewidth\":0,\"ticks\":\"\"}},\"marker\":{\"colorbar\":{\"outlinewidth\":0,\"ticks\":\"\"}}}],\"scattermapbox\":[{\"type\":\"scattermapbox\",\"marker\":{\"colorbar\":{\"outlinewidth\":0,\"ticks\":\"\"}}}],\"scatterternary\":[{\"type\":\"scatterternary\",\"marker\":{\"colorbar\":{\"outlinewidth\":0,\"ticks\":\"\"}}}],\"scattercarpet\":[{\"type\":\"scattercarpet\",\"marker\":{\"colorbar\":{\"outlinewidth\":0,\"ticks\":\"\"}}}],\"carpet\":[{\"aaxis\":{\"endlinecolor\":\"#2a3f5f\",\"gridcolor\":\"white\",\"linecolor\":\"white\",\"minorgridcolor\":\"white\",\"startlinecolor\":\"#2a3f5f\"},\"baxis\":{\"endlinecolor\":\"#2a3f5f\",\"gridcolor\":\"white\",\"linecolor\":\"white\",\"minorgridcolor\":\"white\",\"startlinecolor\":\"#2a3f5f\"},\"type\":\"carpet\"}],\"table\":[{\"cells\":{\"fill\":{\"color\":\"#EBF0F8\"},\"line\":{\"color\":\"white\"}},\"header\":{\"fill\":{\"color\":\"#C8D4E3\"},\"line\":{\"color\":\"white\"}},\"type\":\"table\"}],\"barpolar\":[{\"marker\":{\"line\":{\"color\":\"#E5ECF6\",\"width\":0.5},\"pattern\":{\"fillmode\":\"overlay\",\"size\":10,\"solidity\":0.2}},\"type\":\"barpolar\"}],\"pie\":[{\"automargin\":true,\"type\":\"pie\"}]},\"layout\":{\"autotypenumbers\":\"strict\",\"colorway\":[\"#636efa\",\"#EF553B\",\"#00cc96\",\"#ab63fa\",\"#FFA15A\",\"#19d3f3\",\"#FF6692\",\"#B6E880\",\"#FF97FF\",\"#FECB52\"],\"font\":{\"color\":\"#2a3f5f\"},\"hovermode\":\"closest\",\"hoverlabel\":{\"align\":\"left\"},\"paper_bgcolor\":\"white\",\"plot_bgcolor\":\"#E5ECF6\",\"polar\":{\"bgcolor\":\"#E5ECF6\",\"angularaxis\":{\"gridcolor\":\"white\",\"linecolor\":\"white\",\"ticks\":\"\"},\"radialaxis\":{\"gridcolor\":\"white\",\"linecolor\":\"white\",\"ticks\":\"\"}},\"ternary\":{\"bgcolor\":\"#E5ECF6\",\"aaxis\":{\"gridcolor\":\"white\",\"linecolor\":\"white\",\"ticks\":\"\"},\"baxis\":{\"gridcolor\":\"white\",\"linecolor\":\"white\",\"ticks\":\"\"},\"caxis\":{\"gridcolor\":\"white\",\"linecolor\":\"white\",\"ticks\":\"\"}},\"coloraxis\":{\"colorbar\":{\"outlinewidth\":0,\"ticks\":\"\"}},\"colorscale\":{\"sequential\":[[0.0,\"#0d0887\"],[0.1111111111111111,\"#46039f\"],[0.2222222222222222,\"#7201a8\"],[0.3333333333333333,\"#9c179e\"],[0.4444444444444444,\"#bd3786\"],[0.5555555555555556,\"#d8576b\"],[0.6666666666666666,\"#ed7953\"],[0.7777777777777778,\"#fb9f3a\"],[0.8888888888888888,\"#fdca26\"],[1.0,\"#f0f921\"]],\"sequentialminus\":[[0.0,\"#0d0887\"],[0.1111111111111111,\"#46039f\"],[0.2222222222222222,\"#7201a8\"],[0.3333333333333333,\"#9c179e\"],[0.4444444444444444,\"#bd3786\"],[0.5555555555555556,\"#d8576b\"],[0.6666666666666666,\"#ed7953\"],[0.7777777777777778,\"#fb9f3a\"],[0.8888888888888888,\"#fdca26\"],[1.0,\"#f0f921\"]],\"diverging\":[[0,\"#8e0152\"],[0.1,\"#c51b7d\"],[0.2,\"#de77ae\"],[0.3,\"#f1b6da\"],[0.4,\"#fde0ef\"],[0.5,\"#f7f7f7\"],[0.6,\"#e6f5d0\"],[0.7,\"#b8e186\"],[0.8,\"#7fbc41\"],[0.9,\"#4d9221\"],[1,\"#276419\"]]},\"xaxis\":{\"gridcolor\":\"white\",\"linecolor\":\"white\",\"ticks\":\"\",\"title\":{\"standoff\":15},\"zerolinecolor\":\"white\",\"automargin\":true,\"zerolinewidth\":2},\"yaxis\":{\"gridcolor\":\"white\",\"linecolor\":\"white\",\"ticks\":\"\",\"title\":{\"standoff\":15},\"zerolinecolor\":\"white\",\"automargin\":true,\"zerolinewidth\":2},\"scene\":{\"xaxis\":{\"backgroundcolor\":\"#E5ECF6\",\"gridcolor\":\"white\",\"linecolor\":\"white\",\"showbackground\":true,\"ticks\":\"\",\"zerolinecolor\":\"white\",\"gridwidth\":2},\"yaxis\":{\"backgroundcolor\":\"#E5ECF6\",\"gridcolor\":\"white\",\"linecolor\":\"white\",\"showbackground\":true,\"ticks\":\"\",\"zerolinecolor\":\"white\",\"gridwidth\":2},\"zaxis\":{\"backgroundcolor\":\"#E5ECF6\",\"gridcolor\":\"white\",\"linecolor\":\"white\",\"showbackground\":true,\"ticks\":\"\",\"zerolinecolor\":\"white\",\"gridwidth\":2}},\"shapedefaults\":{\"line\":{\"color\":\"#2a3f5f\"}},\"annotationdefaults\":{\"arrowcolor\":\"#2a3f5f\",\"arrowhead\":0,\"arrowwidth\":1},\"geo\":{\"bgcolor\":\"white\",\"landcolor\":\"#E5ECF6\",\"subunitcolor\":\"white\",\"showland\":true,\"showlakes\":true,\"lakecolor\":\"white\"},\"title\":{\"x\":0.05},\"mapbox\":{\"style\":\"light\"}}},\"xaxis\":{\"anchor\":\"y\",\"domain\":[0.0,1.0],\"title\":{\"text\":\"Party\"},\"categoryorder\":\"array\",\"categoryarray\":[\"NDP\",\"Liberal\",\"Conservative\",\"Bloc Qu\\u00e9b\\u00e9cois\",\"Independent\",\"Green Party\",\"Canadian Alliance\",\"People's Party\"]},\"yaxis\":{\"anchor\":\"x\",\"domain\":[0.0,1.0],\"title\":{\"text\":\"Count\"}},\"legend\":{\"title\":{\"text\":\"Party\"},\"tracegroupgap\":0},\"title\":{\"text\":\"Bills Proposed by Party in the Canadian Parliament (1994 - 2022)\"},\"barmode\":\"relative\",\"height\":600,\"showlegend\":false},                        {\"responsive\": true}                    ).then(function(){\n",
       "                            \n",
       "var gd = document.getElementById('b49d304e-bad1-477f-9184-76126a58eca0');\n",
       "var x = new MutationObserver(function (mutations, observer) {{\n",
       "        var display = window.getComputedStyle(gd).display;\n",
       "        if (!display || display === 'none') {{\n",
       "            console.log([gd, 'removed!']);\n",
       "            Plotly.purge(gd);\n",
       "            observer.disconnect();\n",
       "        }}\n",
       "}});\n",
       "\n",
       "// Listen for the removal of the full notebook cells\n",
       "var notebookContainer = gd.closest('#notebook-container');\n",
       "if (notebookContainer) {{\n",
       "    x.observe(notebookContainer, {childList: true});\n",
       "}}\n",
       "\n",
       "// Listen for the clearing of the current output cell\n",
       "var outputEl = gd.closest('.output');\n",
       "if (outputEl) {{\n",
       "    x.observe(outputEl, {childList: true});\n",
       "}}\n",
       "\n",
       "                        })                };                });            </script>        </div>"
      ]
     },
     "metadata": {},
     "output_type": "display_data"
    }
   ],
   "source": [
    "fig = px.bar(\n",
    "    plot_5,\n",
    "    x = 'index',\n",
    "    y = 'Party',\n",
    "    color = 'index',\n",
    "    title = 'Bills Proposed by Party in the Canadian Parliament (1994 - 2022)',\n",
    "    labels = {\n",
    "        'Party': 'Count',\n",
    "        'index': 'Party'\n",
    "    },\n",
    "    text_auto = True,\n",
    "    height=600\n",
    ")\n",
    "\n",
    "fig.update_layout(\n",
    "    showlegend = False\n",
    ")\n",
    "\n",
    "fig.show()"
   ]
  }
 ],
 "metadata": {
  "kernelspec": {
   "display_name": "Python 3 (ipykernel)",
   "language": "python",
   "name": "python3"
  },
  "language_info": {
   "codemirror_mode": {
    "name": "ipython",
    "version": 3
   },
   "file_extension": ".py",
   "mimetype": "text/x-python",
   "name": "python",
   "nbconvert_exporter": "python",
   "pygments_lexer": "ipython3",
   "version": "3.10.8"
  }
 },
 "nbformat": 4,
 "nbformat_minor": 5
}
